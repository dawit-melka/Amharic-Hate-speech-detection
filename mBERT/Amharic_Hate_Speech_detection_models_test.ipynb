{
  "cells": [
    {
      "cell_type": "markdown",
      "metadata": {
        "id": "view-in-github",
        "colab_type": "text"
      },
      "source": [
        "<a href=\"https://colab.research.google.com/github/dawit-melka/Amharic-Hate-speech-detection/blob/main/mBERT/Amharic_Hate_Speech_detection_models_test.ipynb\" target=\"_parent\"><img src=\"https://colab.research.google.com/assets/colab-badge.svg\" alt=\"Open In Colab\"/></a>"
      ]
    },
    {
      "cell_type": "markdown",
      "source": [
        "**Install the necessary packages**"
      ],
      "metadata": {
        "id": "adtDHQuH8iQG"
      }
    },
    {
      "cell_type": "code",
      "execution_count": null,
      "metadata": {
        "colab": {
          "base_uri": "https://localhost:8080/"
        },
        "id": "BNsNbBRTsfRi",
        "outputId": "416fd201-f111-4966-ea89-680dc4d485b1"
      },
      "outputs": [
        {
          "output_type": "stream",
          "name": "stdout",
          "text": [
            "Requirement already satisfied: transformers in /usr/local/lib/python3.10/dist-packages (4.47.0)\n",
            "Requirement already satisfied: filelock in /usr/local/lib/python3.10/dist-packages (from transformers) (3.16.1)\n",
            "Requirement already satisfied: huggingface-hub<1.0,>=0.24.0 in /usr/local/lib/python3.10/dist-packages (from transformers) (0.27.0)\n",
            "Requirement already satisfied: numpy>=1.17 in /usr/local/lib/python3.10/dist-packages (from transformers) (1.26.4)\n",
            "Requirement already satisfied: packaging>=20.0 in /usr/local/lib/python3.10/dist-packages (from transformers) (24.2)\n",
            "Requirement already satisfied: pyyaml>=5.1 in /usr/local/lib/python3.10/dist-packages (from transformers) (6.0.2)\n",
            "Requirement already satisfied: regex!=2019.12.17 in /usr/local/lib/python3.10/dist-packages (from transformers) (2024.11.6)\n",
            "Requirement already satisfied: requests in /usr/local/lib/python3.10/dist-packages (from transformers) (2.32.3)\n",
            "Requirement already satisfied: tokenizers<0.22,>=0.21 in /usr/local/lib/python3.10/dist-packages (from transformers) (0.21.0)\n",
            "Requirement already satisfied: safetensors>=0.4.1 in /usr/local/lib/python3.10/dist-packages (from transformers) (0.4.5)\n",
            "Requirement already satisfied: tqdm>=4.27 in /usr/local/lib/python3.10/dist-packages (from transformers) (4.67.1)\n",
            "Requirement already satisfied: fsspec>=2023.5.0 in /usr/local/lib/python3.10/dist-packages (from huggingface-hub<1.0,>=0.24.0->transformers) (2024.10.0)\n",
            "Requirement already satisfied: typing-extensions>=3.7.4.3 in /usr/local/lib/python3.10/dist-packages (from huggingface-hub<1.0,>=0.24.0->transformers) (4.12.2)\n",
            "Requirement already satisfied: charset-normalizer<4,>=2 in /usr/local/lib/python3.10/dist-packages (from requests->transformers) (3.4.0)\n",
            "Requirement already satisfied: idna<4,>=2.5 in /usr/local/lib/python3.10/dist-packages (from requests->transformers) (3.10)\n",
            "Requirement already satisfied: urllib3<3,>=1.21.1 in /usr/local/lib/python3.10/dist-packages (from requests->transformers) (2.2.3)\n",
            "Requirement already satisfied: certifi>=2017.4.17 in /usr/local/lib/python3.10/dist-packages (from requests->transformers) (2024.12.14)\n"
          ]
        }
      ],
      "source": [
        "#installing the transformers package\n",
        "!pip install transformers"
      ]
    },
    {
      "cell_type": "code",
      "execution_count": null,
      "metadata": {
        "colab": {
          "base_uri": "https://localhost:8080/"
        },
        "id": "f2Kr3hxFH-Y2",
        "outputId": "ec37c9a2-f6e3-49cc-8532-1590442cde63"
      },
      "outputs": [
        {
          "output_type": "stream",
          "name": "stdout",
          "text": [
            "Collecting datasets\n",
            "  Downloading datasets-3.2.0-py3-none-any.whl.metadata (20 kB)\n",
            "Requirement already satisfied: filelock in /usr/local/lib/python3.10/dist-packages (from datasets) (3.16.1)\n",
            "Requirement already satisfied: numpy>=1.17 in /usr/local/lib/python3.10/dist-packages (from datasets) (1.26.4)\n",
            "Requirement already satisfied: pyarrow>=15.0.0 in /usr/local/lib/python3.10/dist-packages (from datasets) (17.0.0)\n",
            "Collecting dill<0.3.9,>=0.3.0 (from datasets)\n",
            "  Downloading dill-0.3.8-py3-none-any.whl.metadata (10 kB)\n",
            "Requirement already satisfied: pandas in /usr/local/lib/python3.10/dist-packages (from datasets) (2.2.2)\n",
            "Requirement already satisfied: requests>=2.32.2 in /usr/local/lib/python3.10/dist-packages (from datasets) (2.32.3)\n",
            "Requirement already satisfied: tqdm>=4.66.3 in /usr/local/lib/python3.10/dist-packages (from datasets) (4.67.1)\n",
            "Collecting xxhash (from datasets)\n",
            "  Downloading xxhash-3.5.0-cp310-cp310-manylinux_2_17_x86_64.manylinux2014_x86_64.whl.metadata (12 kB)\n",
            "Collecting multiprocess<0.70.17 (from datasets)\n",
            "  Downloading multiprocess-0.70.16-py310-none-any.whl.metadata (7.2 kB)\n",
            "Collecting fsspec<=2024.9.0,>=2023.1.0 (from fsspec[http]<=2024.9.0,>=2023.1.0->datasets)\n",
            "  Downloading fsspec-2024.9.0-py3-none-any.whl.metadata (11 kB)\n",
            "Requirement already satisfied: aiohttp in /usr/local/lib/python3.10/dist-packages (from datasets) (3.11.10)\n",
            "Requirement already satisfied: huggingface-hub>=0.23.0 in /usr/local/lib/python3.10/dist-packages (from datasets) (0.27.0)\n",
            "Requirement already satisfied: packaging in /usr/local/lib/python3.10/dist-packages (from datasets) (24.2)\n",
            "Requirement already satisfied: pyyaml>=5.1 in /usr/local/lib/python3.10/dist-packages (from datasets) (6.0.2)\n",
            "Requirement already satisfied: aiohappyeyeballs>=2.3.0 in /usr/local/lib/python3.10/dist-packages (from aiohttp->datasets) (2.4.4)\n",
            "Requirement already satisfied: aiosignal>=1.1.2 in /usr/local/lib/python3.10/dist-packages (from aiohttp->datasets) (1.3.2)\n",
            "Requirement already satisfied: async-timeout<6.0,>=4.0 in /usr/local/lib/python3.10/dist-packages (from aiohttp->datasets) (4.0.3)\n",
            "Requirement already satisfied: attrs>=17.3.0 in /usr/local/lib/python3.10/dist-packages (from aiohttp->datasets) (24.3.0)\n",
            "Requirement already satisfied: frozenlist>=1.1.1 in /usr/local/lib/python3.10/dist-packages (from aiohttp->datasets) (1.5.0)\n",
            "Requirement already satisfied: multidict<7.0,>=4.5 in /usr/local/lib/python3.10/dist-packages (from aiohttp->datasets) (6.1.0)\n",
            "Requirement already satisfied: propcache>=0.2.0 in /usr/local/lib/python3.10/dist-packages (from aiohttp->datasets) (0.2.1)\n",
            "Requirement already satisfied: yarl<2.0,>=1.17.0 in /usr/local/lib/python3.10/dist-packages (from aiohttp->datasets) (1.18.3)\n",
            "Requirement already satisfied: typing-extensions>=3.7.4.3 in /usr/local/lib/python3.10/dist-packages (from huggingface-hub>=0.23.0->datasets) (4.12.2)\n",
            "Requirement already satisfied: charset-normalizer<4,>=2 in /usr/local/lib/python3.10/dist-packages (from requests>=2.32.2->datasets) (3.4.0)\n",
            "Requirement already satisfied: idna<4,>=2.5 in /usr/local/lib/python3.10/dist-packages (from requests>=2.32.2->datasets) (3.10)\n",
            "Requirement already satisfied: urllib3<3,>=1.21.1 in /usr/local/lib/python3.10/dist-packages (from requests>=2.32.2->datasets) (2.2.3)\n",
            "Requirement already satisfied: certifi>=2017.4.17 in /usr/local/lib/python3.10/dist-packages (from requests>=2.32.2->datasets) (2024.12.14)\n",
            "Requirement already satisfied: python-dateutil>=2.8.2 in /usr/local/lib/python3.10/dist-packages (from pandas->datasets) (2.8.2)\n",
            "Requirement already satisfied: pytz>=2020.1 in /usr/local/lib/python3.10/dist-packages (from pandas->datasets) (2024.2)\n",
            "Requirement already satisfied: tzdata>=2022.7 in /usr/local/lib/python3.10/dist-packages (from pandas->datasets) (2024.2)\n",
            "Requirement already satisfied: six>=1.5 in /usr/local/lib/python3.10/dist-packages (from python-dateutil>=2.8.2->pandas->datasets) (1.17.0)\n",
            "Downloading datasets-3.2.0-py3-none-any.whl (480 kB)\n",
            "\u001b[2K   \u001b[90m━━━━━━━━━━━━━━━━━━━━━━━━━━━━━━━━━━━━━━━━\u001b[0m \u001b[32m480.6/480.6 kB\u001b[0m \u001b[31m25.4 MB/s\u001b[0m eta \u001b[36m0:00:00\u001b[0m\n",
            "\u001b[?25hDownloading dill-0.3.8-py3-none-any.whl (116 kB)\n",
            "\u001b[2K   \u001b[90m━━━━━━━━━━━━━━━━━━━━━━━━━━━━━━━━━━━━━━━━\u001b[0m \u001b[32m116.3/116.3 kB\u001b[0m \u001b[31m9.0 MB/s\u001b[0m eta \u001b[36m0:00:00\u001b[0m\n",
            "\u001b[?25hDownloading fsspec-2024.9.0-py3-none-any.whl (179 kB)\n",
            "\u001b[2K   \u001b[90m━━━━━━━━━━━━━━━━━━━━━━━━━━━━━━━━━━━━━━━━\u001b[0m \u001b[32m179.3/179.3 kB\u001b[0m \u001b[31m13.2 MB/s\u001b[0m eta \u001b[36m0:00:00\u001b[0m\n",
            "\u001b[?25hDownloading multiprocess-0.70.16-py310-none-any.whl (134 kB)\n",
            "\u001b[2K   \u001b[90m━━━━━━━━━━━━━━━━━━━━━━━━━━━━━━━━━━━━━━━━\u001b[0m \u001b[32m134.8/134.8 kB\u001b[0m \u001b[31m10.5 MB/s\u001b[0m eta \u001b[36m0:00:00\u001b[0m\n",
            "\u001b[?25hDownloading xxhash-3.5.0-cp310-cp310-manylinux_2_17_x86_64.manylinux2014_x86_64.whl (194 kB)\n",
            "\u001b[2K   \u001b[90m━━━━━━━━━━━━━━━━━━━━━━━━━━━━━━━━━━━━━━━━\u001b[0m \u001b[32m194.1/194.1 kB\u001b[0m \u001b[31m13.9 MB/s\u001b[0m eta \u001b[36m0:00:00\u001b[0m\n",
            "\u001b[?25hInstalling collected packages: xxhash, fsspec, dill, multiprocess, datasets\n",
            "  Attempting uninstall: fsspec\n",
            "    Found existing installation: fsspec 2024.10.0\n",
            "    Uninstalling fsspec-2024.10.0:\n",
            "      Successfully uninstalled fsspec-2024.10.0\n",
            "\u001b[31mERROR: pip's dependency resolver does not currently take into account all the packages that are installed. This behaviour is the source of the following dependency conflicts.\n",
            "gcsfs 2024.10.0 requires fsspec==2024.10.0, but you have fsspec 2024.9.0 which is incompatible.\u001b[0m\u001b[31m\n",
            "\u001b[0mSuccessfully installed datasets-3.2.0 dill-0.3.8 fsspec-2024.9.0 multiprocess-0.70.16 xxhash-3.5.0\n"
          ]
        }
      ],
      "source": [
        "#installing the datasets package\n",
        "!pip install datasets"
      ]
    },
    {
      "cell_type": "code",
      "source": [
        "!pip install evaluate"
      ],
      "metadata": {
        "id": "NFuGC3HcC-Io",
        "outputId": "ab1d9c4c-e63a-4ef2-add5-2960607edc13",
        "colab": {
          "base_uri": "https://localhost:8080/"
        }
      },
      "execution_count": null,
      "outputs": [
        {
          "output_type": "stream",
          "name": "stdout",
          "text": [
            "Collecting evaluate\n",
            "  Downloading evaluate-0.4.3-py3-none-any.whl.metadata (9.2 kB)\n",
            "Requirement already satisfied: datasets>=2.0.0 in /usr/local/lib/python3.10/dist-packages (from evaluate) (3.2.0)\n",
            "Requirement already satisfied: numpy>=1.17 in /usr/local/lib/python3.10/dist-packages (from evaluate) (1.26.4)\n",
            "Requirement already satisfied: dill in /usr/local/lib/python3.10/dist-packages (from evaluate) (0.3.8)\n",
            "Requirement already satisfied: pandas in /usr/local/lib/python3.10/dist-packages (from evaluate) (2.2.2)\n",
            "Requirement already satisfied: requests>=2.19.0 in /usr/local/lib/python3.10/dist-packages (from evaluate) (2.32.3)\n",
            "Requirement already satisfied: tqdm>=4.62.1 in /usr/local/lib/python3.10/dist-packages (from evaluate) (4.67.1)\n",
            "Requirement already satisfied: xxhash in /usr/local/lib/python3.10/dist-packages (from evaluate) (3.5.0)\n",
            "Requirement already satisfied: multiprocess in /usr/local/lib/python3.10/dist-packages (from evaluate) (0.70.16)\n",
            "Requirement already satisfied: fsspec>=2021.05.0 in /usr/local/lib/python3.10/dist-packages (from fsspec[http]>=2021.05.0->evaluate) (2024.9.0)\n",
            "Requirement already satisfied: huggingface-hub>=0.7.0 in /usr/local/lib/python3.10/dist-packages (from evaluate) (0.27.0)\n",
            "Requirement already satisfied: packaging in /usr/local/lib/python3.10/dist-packages (from evaluate) (24.2)\n",
            "Requirement already satisfied: filelock in /usr/local/lib/python3.10/dist-packages (from datasets>=2.0.0->evaluate) (3.16.1)\n",
            "Requirement already satisfied: pyarrow>=15.0.0 in /usr/local/lib/python3.10/dist-packages (from datasets>=2.0.0->evaluate) (17.0.0)\n",
            "Requirement already satisfied: aiohttp in /usr/local/lib/python3.10/dist-packages (from datasets>=2.0.0->evaluate) (3.11.10)\n",
            "Requirement already satisfied: pyyaml>=5.1 in /usr/local/lib/python3.10/dist-packages (from datasets>=2.0.0->evaluate) (6.0.2)\n",
            "Requirement already satisfied: typing-extensions>=3.7.4.3 in /usr/local/lib/python3.10/dist-packages (from huggingface-hub>=0.7.0->evaluate) (4.12.2)\n",
            "Requirement already satisfied: charset-normalizer<4,>=2 in /usr/local/lib/python3.10/dist-packages (from requests>=2.19.0->evaluate) (3.4.0)\n",
            "Requirement already satisfied: idna<4,>=2.5 in /usr/local/lib/python3.10/dist-packages (from requests>=2.19.0->evaluate) (3.10)\n",
            "Requirement already satisfied: urllib3<3,>=1.21.1 in /usr/local/lib/python3.10/dist-packages (from requests>=2.19.0->evaluate) (2.2.3)\n",
            "Requirement already satisfied: certifi>=2017.4.17 in /usr/local/lib/python3.10/dist-packages (from requests>=2.19.0->evaluate) (2024.12.14)\n",
            "Requirement already satisfied: python-dateutil>=2.8.2 in /usr/local/lib/python3.10/dist-packages (from pandas->evaluate) (2.8.2)\n",
            "Requirement already satisfied: pytz>=2020.1 in /usr/local/lib/python3.10/dist-packages (from pandas->evaluate) (2024.2)\n",
            "Requirement already satisfied: tzdata>=2022.7 in /usr/local/lib/python3.10/dist-packages (from pandas->evaluate) (2024.2)\n",
            "Requirement already satisfied: aiohappyeyeballs>=2.3.0 in /usr/local/lib/python3.10/dist-packages (from aiohttp->datasets>=2.0.0->evaluate) (2.4.4)\n",
            "Requirement already satisfied: aiosignal>=1.1.2 in /usr/local/lib/python3.10/dist-packages (from aiohttp->datasets>=2.0.0->evaluate) (1.3.2)\n",
            "Requirement already satisfied: async-timeout<6.0,>=4.0 in /usr/local/lib/python3.10/dist-packages (from aiohttp->datasets>=2.0.0->evaluate) (4.0.3)\n",
            "Requirement already satisfied: attrs>=17.3.0 in /usr/local/lib/python3.10/dist-packages (from aiohttp->datasets>=2.0.0->evaluate) (24.3.0)\n",
            "Requirement already satisfied: frozenlist>=1.1.1 in /usr/local/lib/python3.10/dist-packages (from aiohttp->datasets>=2.0.0->evaluate) (1.5.0)\n",
            "Requirement already satisfied: multidict<7.0,>=4.5 in /usr/local/lib/python3.10/dist-packages (from aiohttp->datasets>=2.0.0->evaluate) (6.1.0)\n",
            "Requirement already satisfied: propcache>=0.2.0 in /usr/local/lib/python3.10/dist-packages (from aiohttp->datasets>=2.0.0->evaluate) (0.2.1)\n",
            "Requirement already satisfied: yarl<2.0,>=1.17.0 in /usr/local/lib/python3.10/dist-packages (from aiohttp->datasets>=2.0.0->evaluate) (1.18.3)\n",
            "Requirement already satisfied: six>=1.5 in /usr/local/lib/python3.10/dist-packages (from python-dateutil>=2.8.2->pandas->evaluate) (1.17.0)\n",
            "Downloading evaluate-0.4.3-py3-none-any.whl (84 kB)\n",
            "\u001b[2K   \u001b[90m━━━━━━━━━━━━━━━━━━━━━━━━━━━━━━━━━━━━━━━━\u001b[0m \u001b[32m84.0/84.0 kB\u001b[0m \u001b[31m7.6 MB/s\u001b[0m eta \u001b[36m0:00:00\u001b[0m\n",
            "\u001b[?25hInstalling collected packages: evaluate\n",
            "Successfully installed evaluate-0.4.3\n"
          ]
        }
      ]
    },
    {
      "cell_type": "markdown",
      "source": [
        "**Import the necessay libraries from the installed packages**"
      ],
      "metadata": {
        "id": "R2U8OEAX9I9E"
      }
    },
    {
      "cell_type": "code",
      "execution_count": null,
      "metadata": {
        "id": "Bnfla8DsyBhM"
      },
      "outputs": [],
      "source": [
        "#importing the datasets package\n",
        "from datasets import Dataset\n",
        "import datasets\n",
        "#import load metric for model evaluation\n",
        "from evaluate import load"
      ]
    },
    {
      "cell_type": "code",
      "execution_count": null,
      "metadata": {
        "id": "sfB-ohyp3pA6"
      },
      "outputs": [],
      "source": [
        "#import numpy and pandas for mathematical computation and data manipulation respectively\n",
        "import numpy as np\n",
        "import pandas as pd\n",
        "#import drive package to connect this colab file with the drive where the data will be retrived from\n",
        "from google.colab import drive\n",
        "#import the pipeline of transformers\n",
        "from transformers import pipeline\n",
        "#import AutoTokenizer for tokenization purposes\n",
        "from transformers import AutoTokenizer\n"
      ]
    },
    {
      "cell_type": "code",
      "execution_count": null,
      "metadata": {
        "id": "E9HwjYvqBz7S"
      },
      "outputs": [],
      "source": [
        "#import torch\n",
        "import torch\n",
        "#import Data loader from torch\n",
        "from torch.utils.data import DataLoader\n",
        "#import an optimizer\n",
        "from torch.optim import AdamW\n",
        "#import tqdm for a progress bar\n",
        "from tqdm.auto import tqdm\n",
        "#Load auto mode classifier from the pretrained model\n",
        "from transformers import AutoModelForSequenceClassification"
      ]
    },
    {
      "cell_type": "code",
      "execution_count": null,
      "metadata": {
        "id": "aECkq4Fguzfb"
      },
      "outputs": [],
      "source": [
        "from sklearn.model_selection import train_test_split"
      ]
    },
    {
      "cell_type": "code",
      "execution_count": null,
      "metadata": {
        "colab": {
          "base_uri": "https://localhost:8080/"
        },
        "id": "X-Yp1xAuWgXQ",
        "outputId": "d593124f-6d15-4509-fcd4-6e561169487b"
      },
      "outputs": [
        {
          "output_type": "stream",
          "name": "stdout",
          "text": [
            "Mounted at /content/drive\n"
          ]
        }
      ],
      "source": [
        "#mount google drive to access the dataset directly from the drive\n",
        "drive.mount('/content/drive')"
      ]
    },
    {
      "cell_type": "markdown",
      "source": [
        "## **Test the model with different dataset**"
      ],
      "metadata": {
        "id": "5Ew6tB9vI4Xn"
      }
    },
    {
      "cell_type": "code",
      "source": [
        "def read_file(file_path):\n",
        "    # Read with explicit handling of quotes and delimiters\n",
        "    df = pd.read_csv(\n",
        "        file_path,\n",
        "        quotechar='\"',\n",
        "        skipinitialspace=True,\n",
        "        on_bad_lines=\"skip\",\n",
        "        sep=\",\"\n",
        "    )\n",
        "    # Check the structure of the loaded DataFrame\n",
        "    print(f\"First few rows:\\n{df.head()}\\n\")\n",
        "    print(f\"Loaded {file_path} with shape: {df.shape}\\n\")\n",
        "    print(f\"Columns: {df.columns}\\n\\n\")\n",
        "    # Split the single column if needed\n",
        "    if len(df.columns) == 1 and \"Content,Label\" in df.columns[0]:\n",
        "        print(f\"Splitting the single column...\\n\")\n",
        "        df = df[df.columns[0]].str.split(\",\", n=1, expand=True)\n",
        "        df.columns = [\"Content\", \"Label\"]\n",
        "        print(f\"After splitting:\\n{df.head()}\\n\")\n",
        "        print(f\"Loaded {file_path} with shape: {df.shape}\")\n",
        "    elif len(df.columns) != 2:\n",
        "        raise ValueError(f\"Unexpected number of columns in {file_path}.\")\n",
        "    df['Content'] = df['Content'].str.strip()\n",
        "    df['Label'] = df['Label'].str.strip()\n",
        "    return df\n"
      ],
      "metadata": {
        "id": "Vj4_JkKWJS7f"
      },
      "execution_count": null,
      "outputs": []
    },
    {
      "cell_type": "code",
      "source": [
        "# Truncate or split long texts\n",
        "def process_text(text, tokenizer, max_length=512):\n",
        "    # Tokenize and check length\n",
        "    tokens = tokenizer.encode(text, add_special_tokens=True)\n",
        "\n",
        "    # If tokens are too long, truncate\n",
        "    if len(tokens) > max_length:\n",
        "        tokens = tokens[:max_length]\n",
        "        text = tokenizer.decode(tokens)\n",
        "\n",
        "    return text"
      ],
      "metadata": {
        "id": "FDiGspY7V9zo"
      },
      "execution_count": null,
      "outputs": []
    },
    {
      "cell_type": "code",
      "source": [
        "# Paths to files\n",
        "train_path = '/content/drive/MyDrive/Hate speech dataset/AMHSDataTrain.csv'\n",
        "test_path = '/content/drive/MyDrive/Hate speech dataset/AMHSDataTest.csv'\n",
        "\n",
        "# Read datasets\n",
        "train_df = read_file(train_path)\n",
        "test_df = read_file(test_path)\n",
        "\n",
        "# Combine datasets\n",
        "combined_df = pd.concat([train_df, test_df], ignore_index=True)"
      ],
      "metadata": {
        "colab": {
          "base_uri": "https://localhost:8080/"
        },
        "id": "ZcA32D8zMIf2",
        "outputId": "72723f5d-653b-4af6-a4f3-a2d6c2948d62"
      },
      "execution_count": null,
      "outputs": [
        {
          "output_type": "stream",
          "name": "stdout",
          "text": [
            "First few rows:\n",
            "                                       Content,Label\n",
            "0  ሌቦች የአብይን ፎቶ ከጀርባህ ለጥፈህ ትለፈልፋለህ አብይ ላይ ያለንም እም...\n",
            "1              ህዝቤ አንድ ቀን ትግሬን ይበቀላል ጊዜ ዳኛው ቶሎ ና,ጥላቻ\n",
            "2                               ህዝብን የጨርስህ ጅብ ነህ,ጥላቻ\n",
            "3               ህገ መንግስታችን ይከበር ምድረ ጅቦች ሰው በላ ሁላ,ጥላቻ\n",
            "4                                        ሆዳም ባንዳ,ጥላቻ\n",
            "\n",
            "Loaded /content/drive/MyDrive/Hate speech dataset/AMHSDataTrain.csv with shape: (1600, 1)\n",
            "\n",
            "Columns: Index(['Content,Label'], dtype='object')\n",
            "\n",
            "\n",
            "Splitting the single column...\n",
            "\n",
            "After splitting:\n",
            "                                             Content Label\n",
            "0  ሌቦች የአብይን ፎቶ ከጀርባህ ለጥፈህ ትለፈልፋለህ አብይ ላይ ያለንም እም...   ጥላቻ\n",
            "1                  ህዝቤ አንድ ቀን ትግሬን ይበቀላል ጊዜ ዳኛው ቶሎ ና   ጥላቻ\n",
            "2                                   ህዝብን የጨርስህ ጅብ ነህ   ጥላቻ\n",
            "3                   ህገ መንግስታችን ይከበር ምድረ ጅቦች ሰው በላ ሁላ   ጥላቻ\n",
            "4                                            ሆዳም ባንዳ   ጥላቻ\n",
            "\n",
            "Loaded /content/drive/MyDrive/Hate speech dataset/AMHSDataTrain.csv with shape: (1600, 2)\n",
            "First few rows:\n",
            "                                       Content,Label\n",
            "0  ዘረኛ ሰው ነው ስለሌላ ዘር ቀን ከለሊት ሲለፈልፍ የሚውለው  ዘረኛ መሆን...\n",
            "1  ዘፈኑ ጥሩ ነው አንድ ሆዳም አማራ ግን የትግራይን የሽንት ጨርቅ በረጅም ...\n",
            "2  ዛሬ ቅማላም ትግሬዎች በህዝባችን የተተፉና በገጀራ ዋጋቸውን የሚያገኙበት ...\n",
            "3  ዝባዝንኬ አንዳንድ ኤፍ ኤም ሬድዮ ጣቢያዎች ላይ የሚተላለፉ ሸርሙጣ ሸርሙ...\n",
            "4  የሀበሻ ምግብ ሂጄ ቅማላም ትግሬዎች ሲንጫጩ አበሸቁኝ እኛ በስንት ቀን አ...\n",
            "\n",
            "Loaded /content/drive/MyDrive/Hate speech dataset/AMHSDataTest.csv with shape: (400, 1)\n",
            "\n",
            "Columns: Index(['Content,Label'], dtype='object')\n",
            "\n",
            "\n",
            "Splitting the single column...\n",
            "\n",
            "After splitting:\n",
            "                                             Content Label\n",
            "0  ዘረኛ ሰው ነው ስለሌላ ዘር ቀን ከለሊት ሲለፈልፍ የሚውለው  ዘረኛ መሆን...   ጥላቻ\n",
            "1  ዘፈኑ ጥሩ ነው አንድ ሆዳም አማራ ግን የትግራይን የሽንት ጨርቅ በረጅም ...   ጥላቻ\n",
            "2  ዛሬ ቅማላም ትግሬዎች በህዝባችን የተተፉና በገጀራ ዋጋቸውን የሚያገኙበት ...   ጥላቻ\n",
            "3  ዝባዝንኬ አንዳንድ ኤፍ ኤም ሬድዮ ጣቢያዎች ላይ የሚተላለፉ ሸርሙጣ ሸርሙ...   ጥላቻ\n",
            "4  የሀበሻ ምግብ ሂጄ ቅማላም ትግሬዎች ሲንጫጩ አበሸቁኝ እኛ በስንት ቀን አ...   ጥላቻ\n",
            "\n",
            "Loaded /content/drive/MyDrive/Hate speech dataset/AMHSDataTest.csv with shape: (400, 2)\n"
          ]
        }
      ]
    },
    {
      "cell_type": "code",
      "source": [
        "test_df['Label'].unique()"
      ],
      "metadata": {
        "colab": {
          "base_uri": "https://localhost:8080/"
        },
        "id": "R6MjbOrrM8Jx",
        "outputId": "ca2b5624-8e56-4d9a-e239-780b8d04fb6b"
      },
      "execution_count": null,
      "outputs": [
        {
          "output_type": "execute_result",
          "data": {
            "text/plain": [
              "array(['ጥላቻ', 'መልካም'], dtype=object)"
            ]
          },
          "metadata": {},
          "execution_count": 17
        }
      ]
    },
    {
      "cell_type": "code",
      "source": [
        "print(combined_df.head())\n",
        "combined_df.shape"
      ],
      "metadata": {
        "colab": {
          "base_uri": "https://localhost:8080/"
        },
        "id": "-tKMwdpDS6tz",
        "outputId": "fe7e8114-9e74-4be9-9ce1-e08176798b54"
      },
      "execution_count": null,
      "outputs": [
        {
          "output_type": "stream",
          "name": "stdout",
          "text": [
            "                                             Content Label\n",
            "0  ሌቦች የአብይን ፎቶ ከጀርባህ ለጥፈህ ትለፈልፋለህ አብይ ላይ ያለንም እም...   ጥላቻ\n",
            "1                  ህዝቤ አንድ ቀን ትግሬን ይበቀላል ጊዜ ዳኛው ቶሎ ና   ጥላቻ\n",
            "2                                   ህዝብን የጨርስህ ጅብ ነህ   ጥላቻ\n",
            "3                   ህገ መንግስታችን ይከበር ምድረ ጅቦች ሰው በላ ሁላ   ጥላቻ\n",
            "4                                            ሆዳም ባንዳ   ጥላቻ\n"
          ]
        },
        {
          "output_type": "execute_result",
          "data": {
            "text/plain": [
              "(2000, 2)"
            ]
          },
          "metadata": {},
          "execution_count": 18
        }
      ]
    },
    {
      "cell_type": "code",
      "source": [
        "# Load model and tokenizer\n",
        "# model_name = \"amengemeda/amharic-hate-speech-detection-mBERT\"\n",
        "# model_name = \"shuaibam/amharic-hate-speech-detection-mBERT\"\n",
        "model_name = \"DawitMelka/amharic-hate-speech-detection-mBERT\"\n",
        "#model_name = \"indominyus/amharic-hate-speech-detection-mBERT\"\n",
        "tokenizer = AutoTokenizer.from_pretrained(model_name)\n",
        "model = AutoModelForSequenceClassification.from_pretrained(model_name)"
      ],
      "metadata": {
        "colab": {
          "base_uri": "https://localhost:8080/",
          "height": 333,
          "referenced_widgets": [
            "64c78aaf4c1646f89c7271c37db4fe54",
            "4ffe1996454f40d09754e7a5f949e6ac",
            "e8fdac6a49e54ea5bf0932adcb7d05bb",
            "f331bb7e204347008bf1df5eb09f6b4b",
            "a383bcfd09ff41f99e3de96e60c599db",
            "172a99958bb34e42952cf59942905585",
            "7070ad6634834465a0d0f90386ae1916",
            "dbbf1820f2864aab8eea7b16ca37acfd",
            "ff1a3f3c20be4957b830a716576f6cc1",
            "cff678a05435482c92a2b3cb505390ad",
            "ed67d422df7545809df1259eff42656c",
            "85b14d5513b743afac159e5d3e7353c3",
            "1885af1bc6db46bcb557c30afac01cff",
            "f5952402cb7c46459606dd5024c1303d",
            "43c101b507c84d06897eaf46d538f6ea",
            "0f05068c36f9454ebbc6ec687752835c",
            "e93a81166a1a48fea3465f3240aed71f",
            "6fc1c4a7d49746f48f6336a2e2772875",
            "f26de186e5674f0897186558e502c5aa",
            "6f2af7bbd99c493aa9f0f2cfb2a6c9c3",
            "a03ffe0a39804a36841202849e05cda7",
            "afd302b9e6b64969814e3a929ca0893c",
            "5ce9f7598b7c425da6c90aae83623121",
            "770467d9956241ceafd54907893a55ae",
            "eafdcb92c2f24400a581eafd1b680724",
            "cb37b5c25ead4f50b3371c21dc6a4785",
            "2b55f13d958a49e6a27f81d9674a61df",
            "7be63e5191154a808a75c2b231f669a3",
            "66c6844c3c104ab1ac7a067ed926969a",
            "1362f2aadd784e0c84870af660f34590",
            "402788c7bc2242fdbf7bc5d53d23f3ca",
            "fcaeb1f5637d49ff84e0ac48cacb3587",
            "9c7737d64c7740eaa18a76bdf7c35673",
            "2dda85ab2c7049958e1bf733e57f9eb9",
            "29b366ff4d41498793b6ae7d31051906",
            "4636ffb62ac849f2b4a270666c29ab1e",
            "8233a66046e2488cbb5df1976de7cc71",
            "26727c0f473b4c12bbe04f6e7599f395",
            "1f36b44007154a949ae56399935149d0",
            "1b6116e44826468abd9b08883cf3eede",
            "7f959da9867b4dbb825e81481d68a77e",
            "fdd0cc79aa5348cd9b9608e886540595",
            "c214dfa5eb5345e38add3c9238a1e313",
            "21dd3ddc62ce4fc1998a3018b906bbe1",
            "0dc7bf2c597640cd9bd96867b92928ac",
            "f4239d2ef9254594b335bf8522acf0d2",
            "cd2dfb5b384b46f6bc8cd32ba0fae166",
            "6c45e61b72ca45b19d47c86e9aa64089",
            "d30e9e17d977429d879a4d68fa686e20",
            "a585745c1700460491696c0f187fab7b",
            "28007ec356ab4d00bfd9b400e1ab0a89",
            "b7a02f9f8b5c4ae7b5c8ff1385eee0be",
            "17f2c7ff758a408fb90158e4ce9ecaba",
            "da5d1c7c880147f0b1bae2ec6054c76e",
            "b04b1ad43ac54efd9ab99e909a071da4",
            "bbbb2952b80243169e35fa8394819075",
            "05667d92ec9148fc98e081dd27beb388",
            "58881b0d149f4752853daa3771213ce8",
            "c26285dbe11a4a419208ae8bc08702db",
            "fbfb356ce56f44888a5b50665b665647",
            "155b7b5f88884805a4f981a381b3ffa9",
            "a21d3807b2cd407c805bd32b95b178a8",
            "2af5867b44b34c8cbeb4485347afec5f",
            "e59fcd509fc044fb952c3dcb59734b14",
            "21553eae10ca40509912d636c970d5ea",
            "0ad99554adb04a458ec9888e48a2b98e"
          ]
        },
        "id": "OJdblIeATgrj",
        "outputId": "fe846824-21dc-44ad-85ff-38c87151e193"
      },
      "execution_count": null,
      "outputs": [
        {
          "output_type": "stream",
          "name": "stderr",
          "text": [
            "/usr/local/lib/python3.10/dist-packages/huggingface_hub/utils/_auth.py:94: UserWarning: \n",
            "The secret `HF_TOKEN` does not exist in your Colab secrets.\n",
            "To authenticate with the Hugging Face Hub, create a token in your settings tab (https://huggingface.co/settings/tokens), set it as secret in your Google Colab and restart your session.\n",
            "You will be able to reuse this secret in all of your notebooks.\n",
            "Please note that authentication is recommended but still optional to access public models or datasets.\n",
            "  warnings.warn(\n"
          ]
        },
        {
          "output_type": "display_data",
          "data": {
            "text/plain": [
              "tokenizer_config.json:   0%|          | 0.00/1.24k [00:00<?, ?B/s]"
            ],
            "application/vnd.jupyter.widget-view+json": {
              "version_major": 2,
              "version_minor": 0,
              "model_id": "64c78aaf4c1646f89c7271c37db4fe54"
            }
          },
          "metadata": {}
        },
        {
          "output_type": "display_data",
          "data": {
            "text/plain": [
              "vocab.txt:   0%|          | 0.00/1.55M [00:00<?, ?B/s]"
            ],
            "application/vnd.jupyter.widget-view+json": {
              "version_major": 2,
              "version_minor": 0,
              "model_id": "85b14d5513b743afac159e5d3e7353c3"
            }
          },
          "metadata": {}
        },
        {
          "output_type": "display_data",
          "data": {
            "text/plain": [
              "tokenizer.json:   0%|          | 0.00/3.48M [00:00<?, ?B/s]"
            ],
            "application/vnd.jupyter.widget-view+json": {
              "version_major": 2,
              "version_minor": 0,
              "model_id": "5ce9f7598b7c425da6c90aae83623121"
            }
          },
          "metadata": {}
        },
        {
          "output_type": "display_data",
          "data": {
            "text/plain": [
              "special_tokens_map.json:   0%|          | 0.00/695 [00:00<?, ?B/s]"
            ],
            "application/vnd.jupyter.widget-view+json": {
              "version_major": 2,
              "version_minor": 0,
              "model_id": "2dda85ab2c7049958e1bf733e57f9eb9"
            }
          },
          "metadata": {}
        },
        {
          "output_type": "display_data",
          "data": {
            "text/plain": [
              "config.json:   0%|          | 0.00/932 [00:00<?, ?B/s]"
            ],
            "application/vnd.jupyter.widget-view+json": {
              "version_major": 2,
              "version_minor": 0,
              "model_id": "0dc7bf2c597640cd9bd96867b92928ac"
            }
          },
          "metadata": {}
        },
        {
          "output_type": "display_data",
          "data": {
            "text/plain": [
              "model.safetensors:   0%|          | 0.00/711M [00:00<?, ?B/s]"
            ],
            "application/vnd.jupyter.widget-view+json": {
              "version_major": 2,
              "version_minor": 0,
              "model_id": "bbbb2952b80243169e35fa8394819075"
            }
          },
          "metadata": {}
        }
      ]
    },
    {
      "cell_type": "code",
      "source": [
        "# Create classification pipeline\n",
        "classifier = pipeline(\"text-classification\", model=model, tokenizer=tokenizer)\n"
      ],
      "metadata": {
        "id": "lITHGJRWUnRM",
        "colab": {
          "base_uri": "https://localhost:8080/"
        },
        "outputId": "76cb3471-6fe1-4638-c70a-9987e468542c"
      },
      "execution_count": null,
      "outputs": [
        {
          "output_type": "stream",
          "name": "stderr",
          "text": [
            "Device set to use cuda:0\n"
          ]
        }
      ]
    },
    {
      "cell_type": "code",
      "source": [
        "# Manual prediction function\n",
        "import torch\n",
        "\n",
        "def predict_hate_speech(texts, model, tokenizer, max_length=128, threshold=0.6):\n",
        "    device = torch.device(\"cuda\" if torch.cuda.is_available() else \"cpu\")\n",
        "    model = model.to(device)\n",
        "\n",
        "    predictions = []\n",
        "    for text in texts:\n",
        "        # Tokenize and prepare inputs\n",
        "        inputs = tokenizer(text, return_tensors=\"pt\", padding=True, truncation=True, max_length=max_length)\n",
        "        inputs = {key: value.to(device) for key, value in inputs.items()}\n",
        "\n",
        "        # Predict\n",
        "        with torch.no_grad():\n",
        "            outputs = model(**inputs)\n",
        "            pred_probs = torch.softmax(outputs.logits, dim=1)\n",
        "\n",
        "            # Use custom threshold for the \"hate speech\" class\n",
        "            hate_speech_prob = pred_probs[0][1].item()  # Assuming class 1 is \"hate speech\"\n",
        "            print(hate_speech_prob)\n",
        "            if hate_speech_prob > threshold:\n",
        "                predictions.append(1)  # Hate speech\n",
        "            else:\n",
        "                predictions.append(0)  # Not hate speech\n",
        "\n",
        "    return predictions\n",
        "\n"
      ],
      "metadata": {
        "id": "h_VUlkW8X4jF"
      },
      "execution_count": null,
      "outputs": []
    },
    {
      "cell_type": "code",
      "source": [
        "# Predict\n",
        "combined_df['Predicted_Label'] = predict_hate_speech(combined_df['Content'], model, tokenizer)"
      ],
      "metadata": {
        "id": "WpdAN3beX7XM"
      },
      "execution_count": null,
      "outputs": []
    },
    {
      "cell_type": "code",
      "source": [
        "combined_df['Predicted_Label'] = combined_df['Predicted_Label'].replace([0, 1], ['መልካም', 'ጥላቻ'])"
      ],
      "metadata": {
        "id": "8wc_byQ0GjgN"
      },
      "execution_count": null,
      "outputs": []
    },
    {
      "cell_type": "code",
      "source": [
        "combined_df['Label'].head()"
      ],
      "metadata": {
        "colab": {
          "base_uri": "https://localhost:8080/",
          "height": 241
        },
        "id": "ZnFIP2NERgue",
        "outputId": "e95a7ece-5869-439d-f490-18cbaee28a62"
      },
      "execution_count": null,
      "outputs": [
        {
          "output_type": "execute_result",
          "data": {
            "text/plain": [
              "0    normal\n",
              "1    normal\n",
              "2    normal\n",
              "3      hate\n",
              "4      hate\n",
              "Name: Label, dtype: object"
            ],
            "text/html": [
              "<div>\n",
              "<style scoped>\n",
              "    .dataframe tbody tr th:only-of-type {\n",
              "        vertical-align: middle;\n",
              "    }\n",
              "\n",
              "    .dataframe tbody tr th {\n",
              "        vertical-align: top;\n",
              "    }\n",
              "\n",
              "    .dataframe thead th {\n",
              "        text-align: right;\n",
              "    }\n",
              "</style>\n",
              "<table border=\"1\" class=\"dataframe\">\n",
              "  <thead>\n",
              "    <tr style=\"text-align: right;\">\n",
              "      <th></th>\n",
              "      <th>Label</th>\n",
              "    </tr>\n",
              "  </thead>\n",
              "  <tbody>\n",
              "    <tr>\n",
              "      <th>0</th>\n",
              "      <td>normal</td>\n",
              "    </tr>\n",
              "    <tr>\n",
              "      <th>1</th>\n",
              "      <td>normal</td>\n",
              "    </tr>\n",
              "    <tr>\n",
              "      <th>2</th>\n",
              "      <td>normal</td>\n",
              "    </tr>\n",
              "    <tr>\n",
              "      <th>3</th>\n",
              "      <td>hate</td>\n",
              "    </tr>\n",
              "    <tr>\n",
              "      <th>4</th>\n",
              "      <td>hate</td>\n",
              "    </tr>\n",
              "  </tbody>\n",
              "</table>\n",
              "</div><br><label><b>dtype:</b> object</label>"
            ]
          },
          "metadata": {},
          "execution_count": 36
        }
      ]
    },
    {
      "cell_type": "code",
      "source": [
        "combined_df['Label'].unique()"
      ],
      "metadata": {
        "colab": {
          "base_uri": "https://localhost:8080/"
        },
        "id": "bmxriho4R2l2",
        "outputId": "0015a0c9-a7ce-4109-c658-0f7f84a7cc61"
      },
      "execution_count": null,
      "outputs": [
        {
          "output_type": "execute_result",
          "data": {
            "text/plain": [
              "array(['መልካም', 'ጥላቻ'], dtype=object)"
            ]
          },
          "metadata": {},
          "execution_count": 41
        }
      ]
    },
    {
      "cell_type": "code",
      "source": [
        "# Analyze predictions\n",
        "total_samples = len(combined_df)\n",
        "correct_predictions = (combined_df['Label'] == combined_df['Predicted_Label']).sum()\n",
        "accuracy = correct_predictions / total_samples * 100\n",
        "\n",
        "# Confusion matrix\n",
        "confusion = pd.crosstab(combined_df['Label'], combined_df['Predicted_Label'])\n",
        "\n",
        "# False Positives and False Negatives\n",
        "TP = confusion.loc['መልካም', 'መልካም']\n",
        "FN = confusion.loc['መልካም', 'ጥላቻ']\n",
        "FP = confusion.loc['ጥላቻ', 'መልካም']\n",
        "TN = confusion.loc['ጥላቻ', 'ጥላቻ']\n",
        "precision = TP / (TP + FP)\n",
        "recall = TP / (TP + FN)\n",
        "f1_score = 2 * (precision * recall) / (precision + recall)"
      ],
      "metadata": {
        "id": "TfVUQWRmYW_5"
      },
      "execution_count": null,
      "outputs": []
    },
    {
      "cell_type": "markdown",
      "source": [
        "**Test Result for:**\n",
        "- amengemeda/amharic-hate-speech-detection-mBERT"
      ],
      "metadata": {
        "id": "x6AAfjoeizTD"
      }
    },
    {
      "cell_type": "code",
      "source": [
        "# Detailed results\n",
        "print(\"Total Samples:\", total_samples)\n",
        "print(\"Accuracy: {:.2f}%\".format(accuracy))\n",
        "print(\"\\nConfusion Matrix:\")\n",
        "print(confusion)"
      ],
      "metadata": {
        "colab": {
          "base_uri": "https://localhost:8080/"
        },
        "id": "dlmO0xRvYR57",
        "outputId": "9fed494b-8fcd-472d-b5d8-c1814cbcd322"
      },
      "execution_count": null,
      "outputs": [
        {
          "output_type": "stream",
          "name": "stdout",
          "text": [
            "Total Samples: 2000\n",
            "Accuracy: 66.35%\n",
            "\n",
            "Confusion Matrix:\n",
            "Predicted_Label  መልካም  ጥላቻ\n",
            "Label                     \n",
            "መልካም              506  493\n",
            "መልካም                1    0\n",
            "ጥላቻ               179  821\n"
          ]
        }
      ]
    },
    {
      "cell_type": "markdown",
      "source": [
        "**Test Result for:**\n",
        "- shuaibam/amharic-hate-speech-detection-mBERT\n",
        "\n",
        "This one is finetuned with the dataset we used for testing"
      ],
      "metadata": {
        "id": "UQEf5R5Ev8pU"
      }
    },
    {
      "cell_type": "code",
      "source": [
        "# Detailed results\n",
        "print(\"Total Samples:\", total_samples)\n",
        "print(\"Accuracy: {:.2f}%\".format(accuracy))\n",
        "print(\"Precision: {:.2f}%\".format(precision))\n",
        "print(\"Recall: {:.2f}%\".format(recall))\n",
        "print(\"F1 Score: {:.2f}%\".format(f1_score))\n",
        "\n",
        "print(f\"\\nTrue Positives (TP): {TP}\")\n",
        "print(f\"False Negatives (FN): {FN}\")\n",
        "print(f\"False Positives (FP): {FP}\")\n",
        "print(f\"True Negatives (TN): {TN}\\n\")\n",
        "\n",
        "print(\"\\nConfusion Matrix:\")\n",
        "print(confusion)"
      ],
      "metadata": {
        "colab": {
          "base_uri": "https://localhost:8080/"
        },
        "id": "ogM6zF4xmVNi",
        "outputId": "dd4196c4-d7f2-402d-b3bc-62a0e3721acd"
      },
      "execution_count": null,
      "outputs": [
        {
          "output_type": "stream",
          "name": "stdout",
          "text": [
            "Total Samples: 2000\n",
            "Accuracy: 95.05%\n",
            "Precision: 0.95%\n",
            "Recall: 0.95%\n",
            "F1 Score: 0.95%\n",
            "\n",
            "True Positives (TP): 949\n",
            "False Negatives (FN): 50\n",
            "False Positives (FP): 48\n",
            "True Negatives (TN): 952\n",
            "\n",
            "\n",
            "Confusion Matrix:\n",
            "Predicted_Label  መልካም  ጥላቻ\n",
            "Label                     \n",
            "መልካም              949   50\n",
            "መልካም                1    0\n",
            "ጥላቻ                48  952\n"
          ]
        }
      ]
    },
    {
      "cell_type": "markdown",
      "source": [
        "**Test Result for:**\n",
        "- shuaibam/amharic-hate-speech-detection-mBERT\n",
        "The dataset used for testing\n",
        "- https://huggingface.co/datasets/uhhlt/amharichatespeechranlp"
      ],
      "metadata": {
        "id": "sW65FguWyIC8"
      }
    },
    {
      "cell_type": "code",
      "source": [
        "# Analyze predictions\n",
        "total_samples = len(combined_df)\n",
        "combined_df\n",
        "correct_predictions = (combined_df['Label'] == combined_df['Predicted_Label']).sum()\n",
        "accuracy = correct_predictions / total_samples * 100\n",
        "\n",
        "# Confusion matrix\n",
        "confusion = pd.crosstab(combined_df['Label'], combined_df['Predicted_Label'])\n",
        "\n",
        "# False Positives and False Negatives\n",
        "TP = confusion.loc['free', 'free']\n",
        "FN = confusion.loc['free', 'hate']\n",
        "FP = confusion.loc['hate', 'free']\n",
        "TN = confusion.loc['hate', 'hate']\n",
        "precision = TP / (TP + FP)\n",
        "recall = TP / (TP + FN)\n",
        "f1_score = 2 * (precision * recall) / (precision + recall)"
      ],
      "metadata": {
        "id": "FVbHeb0rwQ41"
      },
      "execution_count": null,
      "outputs": []
    },
    {
      "cell_type": "code",
      "source": [
        "# Detailed results\n",
        "print(\"Total Samples:\", total_samples)\n",
        "print(\"Accuracy: {:.2f}%\".format(accuracy))\n",
        "print(\"Precision: {:.2f}%\".format(precision))\n",
        "print(\"Recall: {:.2f}%\".format(recall))\n",
        "print(\"F1 Score: {:.2f}%\".format(f1_score))\n",
        "\n",
        "print(f\"\\nTrue Positives (TP): {TP}\")\n",
        "print(f\"False Negatives (FN): {FN}\")\n",
        "print(f\"False Positives (FP): {FP}\")\n",
        "print(f\"True Negatives (TN): {TN}\\n\")\n",
        "\n",
        "print(\"\\nConfusion Matrix:\")\n",
        "print(confusion)"
      ],
      "metadata": {
        "colab": {
          "base_uri": "https://localhost:8080/"
        },
        "id": "vq6zzMR6xnl8",
        "outputId": "6749aeb6-d1c6-4259-bbc2-626ba85b68b8"
      },
      "execution_count": null,
      "outputs": [
        {
          "output_type": "stream",
          "name": "stdout",
          "text": [
            "Total Samples: 12218\n",
            "Accuracy: 52.59%\n",
            "Precision: 0.49%\n",
            "Recall: 0.86%\n",
            "F1 Score: 0.62%\n",
            "\n",
            "True Positives (TP): 4795\n",
            "False Negatives (FN): 759\n",
            "False Positives (FP): 5033\n",
            "True Negatives (TN): 1631\n",
            "\n",
            "\n",
            "Confusion Matrix:\n",
            "Predicted_Label  free  hate\n",
            "Label                      \n",
            "free             4795   759\n",
            "hate             5033  1631\n"
          ]
        }
      ]
    },
    {
      "cell_type": "markdown",
      "source": [
        "Test Result for\n",
        "- indominyus/amharic-hate-speech-detection-mBERT"
      ],
      "metadata": {
        "id": "llmF_VCaHbYq"
      }
    },
    {
      "cell_type": "code",
      "source": [
        "# Detailed results\n",
        "print(\"Total Samples:\", total_samples)\n",
        "print(\"Accuracy: {:.2f}%\".format(accuracy))\n",
        "print(\"Precision: {:.2f}%\".format(precision))\n",
        "print(\"Recall: {:.2f}%\".format(recall))\n",
        "print(\"F1 Score: {:.2f}%\".format(f1_score))\n",
        "\n",
        "print(f\"\\nTrue Positives (TP): {TP}\")\n",
        "print(f\"False Negatives (FN): {FN}\")\n",
        "print(f\"False Positives (FP): {FP}\")\n",
        "print(f\"True Negatives (TN): {TN}\\n\")\n",
        "\n",
        "print(\"\\nConfusion Matrix:\")\n",
        "print(confusion)"
      ],
      "metadata": {
        "colab": {
          "base_uri": "https://localhost:8080/"
        },
        "id": "tSWW0UrbHGZi",
        "outputId": "e0c24120-9ede-40f6-d27b-fc51fe22bbca"
      },
      "execution_count": null,
      "outputs": [
        {
          "output_type": "stream",
          "name": "stdout",
          "text": [
            "Total Samples: 2000\n",
            "Accuracy: 75.20%\n",
            "Precision: 0.90%\n",
            "Recall: 0.57%\n",
            "F1 Score: 0.70%\n",
            "\n",
            "True Positives (TP): 569\n",
            "False Negatives (FN): 430\n",
            "False Positives (FP): 65\n",
            "True Negatives (TN): 935\n",
            "\n",
            "\n",
            "Confusion Matrix:\n",
            "Predicted_Label  መልካም  ጥላቻ\n",
            "Label                     \n",
            "መልካም              569  430\n",
            "መልካም                1    0\n",
            "ጥላቻ                65  935\n"
          ]
        }
      ]
    },
    {
      "cell_type": "markdown",
      "source": [
        "Test Result for\n",
        "- DawitMelka/amharic-hate-speech-detection-mBERT\n",
        "\n",
        "after finetuning it with https://github.com/Usmaelabdureman/hate-speech-api/tree/main/data"
      ],
      "metadata": {
        "id": "bFSMygS6OazC"
      }
    },
    {
      "cell_type": "code",
      "source": [
        "# Detailed results\n",
        "print(\"Total Samples:\", total_samples)\n",
        "print(\"Accuracy: {:.2f}%\".format(accuracy))\n",
        "print(\"Precision: {:.2f}%\".format(precision))\n",
        "print(\"Recall: {:.2f}%\".format(recall))\n",
        "print(\"F1 Score: {:.2f}%\".format(f1_score))\n",
        "\n",
        "print(f\"\\nTrue Positives (TP): {TP}\")\n",
        "print(f\"False Negatives (FN): {FN}\")\n",
        "print(f\"False Positives (FP): {FP}\")\n",
        "print(f\"True Negatives (TN): {TN}\\n\")\n",
        "\n",
        "print(\"\\nConfusion Matrix:\")\n",
        "print(confusion)"
      ],
      "metadata": {
        "colab": {
          "base_uri": "https://localhost:8080/"
        },
        "id": "5lUY7HMgJJ74",
        "outputId": "8b304516-a90d-4172-a711-f0e67cc68c2a"
      },
      "execution_count": null,
      "outputs": [
        {
          "output_type": "stream",
          "name": "stdout",
          "text": [
            "Total Samples: 2000\n",
            "Accuracy: 74.55%\n",
            "Precision: 0.82%\n",
            "Recall: 0.63%\n",
            "F1 Score: 0.71%\n",
            "\n",
            "True Positives (TP): 626\n",
            "False Negatives (FN): 373\n",
            "False Positives (FP): 135\n",
            "True Negatives (TN): 865\n",
            "\n",
            "\n",
            "Confusion Matrix:\n",
            "Predicted_Label  መልካም  ጥላቻ\n",
            "Label                     \n",
            "መልካም              626  373\n",
            "መልካም                1    0\n",
            "ጥላቻ               135  865\n"
          ]
        }
      ]
    },
    {
      "cell_type": "markdown",
      "source": [
        "Test Result for\n",
        "- DawitMelka/amharic-hate-speech-detection-mBERT\n",
        "\n",
        "after finetuning it with https://zenodo.org/records/5036437"
      ],
      "metadata": {
        "id": "sbTE23P6PuIp"
      }
    },
    {
      "cell_type": "code",
      "source": [
        "# Detailed results\n",
        "print(\"Total Samples:\", total_samples)\n",
        "print(\"Accuracy: {:.2f}%\".format(accuracy))\n",
        "print(\"Precision: {:.2f}%\".format(precision))\n",
        "print(\"Recall: {:.2f}%\".format(recall))\n",
        "print(\"F1 Score: {:.2f}%\".format(f1_score))\n",
        "\n",
        "print(f\"\\nTrue Positives (TP): {TP}\")\n",
        "print(f\"False Negatives (FN): {FN}\")\n",
        "print(f\"False Positives (FP): {FP}\")\n",
        "print(f\"True Negatives (TN): {TN}\\n\")\n",
        "\n",
        "print(\"\\nConfusion Matrix:\")\n",
        "print(confusion)"
      ],
      "metadata": {
        "colab": {
          "base_uri": "https://localhost:8080/"
        },
        "id": "fTD5HsVHOK5R",
        "outputId": "3eea9600-7b60-48f0-de4e-e8db193c4e28"
      },
      "execution_count": null,
      "outputs": [
        {
          "output_type": "stream",
          "name": "stdout",
          "text": [
            "Total Samples: 2000\n",
            "Accuracy: 96.10%\n",
            "Precision: 0.97%\n",
            "Recall: 0.95%\n",
            "F1 Score: 0.96%\n",
            "\n",
            "True Positives (TP): 948\n",
            "False Negatives (FN): 52\n",
            "False Positives (FP): 26\n",
            "True Negatives (TN): 974\n",
            "\n",
            "\n",
            "Confusion Matrix:\n",
            "Predicted_Label  መልካም  ጥላቻ\n",
            "Label                     \n",
            "መልካም              948   52\n",
            "ጥላቻ                26  974\n"
          ]
        }
      ]
    },
    {
      "cell_type": "markdown",
      "source": [
        "Tested result for\n",
        "- DawitMelka/amharic-hate-speech-detection-mBERT\n",
        "\n",
        "tested with 12,000 rows dataset\n",
        "https://huggingface.co/uhhlt/amharic-hate-speech"
      ],
      "metadata": {
        "id": "An09cLmXSMme"
      }
    },
    {
      "cell_type": "code",
      "source": [
        "# Detailed results\n",
        "print(\"Total Samples:\", total_samples)\n",
        "print(\"Accuracy: {:.2f}%\".format(accuracy))\n",
        "print(\"Precision: {:.2f}%\".format(precision))\n",
        "print(\"Recall: {:.2f}%\".format(recall))\n",
        "print(\"F1 Score: {:.2f}%\".format(f1_score))\n",
        "\n",
        "print(f\"\\nTrue Positives (TP): {TP}\")\n",
        "print(f\"False Negatives (FN): {FN}\")\n",
        "print(f\"False Positives (FP): {FP}\")\n",
        "print(f\"True Negatives (TN): {TN}\\n\")\n",
        "\n",
        "print(\"\\nConfusion Matrix:\")\n",
        "print(confusion)"
      ],
      "metadata": {
        "colab": {
          "base_uri": "https://localhost:8080/"
        },
        "id": "gr7hg6HxSLKh",
        "outputId": "1d8fbfe3-ed9e-4447-f129-612cbfd6a92d"
      },
      "execution_count": null,
      "outputs": [
        {
          "output_type": "stream",
          "name": "stdout",
          "text": [
            "Total Samples: 12218\n",
            "Accuracy: 92.03%\n",
            "Precision: 0.86%\n",
            "Recall: 0.99%\n",
            "F1 Score: 0.92%\n",
            "\n",
            "True Positives (TP): 5498\n",
            "False Negatives (FN): 56\n",
            "False Positives (FP): 918\n",
            "True Negatives (TN): 5746\n",
            "\n",
            "\n",
            "Confusion Matrix:\n",
            "Predicted_Label  መልካም   ጥላቻ\n",
            "Label                      \n",
            "መልካም             5498    56\n",
            "ጥላቻ               918  5746\n"
          ]
        }
      ]
    },
    {
      "cell_type": "code",
      "source": [
        "# False Positives and False Negatives\n",
        "false_positives = combined_df[(combined_df['Label'] == 'መልካም') & (combined_df['Predicted_Label'] == 'ጥላቻ')]\n",
        "false_negatives = combined_df[(combined_df['Label'] == 'ጥላቻ') & (combined_df['Predicted_Label'] == 'መልካም')]\n",
        "\n",
        "# Save results\n",
        "\n",
        "false_positives.to_csv('/content/drive/MyDrive/Hate speech dataset/false_positives_full.csv', index=False)\n",
        "false_negatives.to_csv('/content/drive/MyDrive/Hate speech dataset/false_negatives_full.csv', index=False)\n"
      ],
      "metadata": {
        "id": "DM-Q-mXAYh-z"
      },
      "execution_count": null,
      "outputs": []
    },
    {
      "cell_type": "code",
      "source": [
        "def read_file(file_path):\n",
        "    # Read with explicit handling of quotes and delimiters\n",
        "    df = pd.read_csv(\n",
        "        file_path,\n",
        "        quotechar='\"',\n",
        "        skipinitialspace=True,\n",
        "        on_bad_lines=\"skip\",\n",
        "        sep=\"\\t\",\n",
        "        header=None  # No header in the dataset\n",
        "    )\n",
        "    # Rename columns to \"Label\" and \"Content\"\n",
        "    df.columns = [\"Label\", \"Content\"]\n",
        "    print(f\"Loaded file: {file_path}\")\n",
        "    print(f\"Shape: {df.shape}\")\n",
        "    print(f\"Number of rows: {len(df)}\")\n",
        "    print(f\"First few rows:\\n{df.head()}\\n\")\n",
        "    return df\n"
      ],
      "metadata": {
        "id": "22hN_tZSzKtB"
      },
      "execution_count": null,
      "outputs": []
    },
    {
      "cell_type": "code",
      "source": [
        "import re\n",
        "def preprocess_text(text):\n",
        "    # Remove '@USER' mentions\n",
        "    text = re.sub(r\"@USER\", \"\", text)\n",
        "    # Replace multiple spaces with a single space\n",
        "    text = re.sub(r\"\\s+\", \" \", text).strip()\n",
        "    return text\n",
        "\n",
        "def preprocess_and_filter(df):\n",
        "    # Filter for 'normal' and 'hate' labels only\n",
        "    df = df[df['Label'].isin(['normal', 'hate'])]\n",
        "\n",
        "    df['Content'] = df['Content'].apply(preprocess_text)\n",
        "    print(f\"Shape after preprocessing: {df.shape}\")\n",
        "    print(f\"Number of rows after preprocessing: {len(df)}\")\n",
        "    print(f\"First few rows after preprocessing:\\n{df.head()}\\n\")\n",
        "    return df"
      ],
      "metadata": {
        "id": "GHgV4E7s0z_1"
      },
      "execution_count": null,
      "outputs": []
    },
    {
      "cell_type": "code",
      "source": [
        "train_df = read_file('/content/drive/MyDrive/Hate speech dataset/uhhlt/train.tsv')\n",
        "test_df = read_file('/content/drive/MyDrive/Hate speech dataset/uhhlt/test.tsv')\n",
        "dev_df = read_file('/content/drive/MyDrive/Hate speech dataset/uhhlt/dev.tsv')"
      ],
      "metadata": {
        "id": "Q1yDqZfE3--Z",
        "outputId": "95d960be-d252-4c16-c4c7-111022b6098d",
        "colab": {
          "base_uri": "https://localhost:8080/"
        }
      },
      "execution_count": null,
      "outputs": [
        {
          "output_type": "stream",
          "name": "stdout",
          "text": [
            "Loaded file: /content/drive/MyDrive/Hate speech dataset/uhhlt/train.tsv\n",
            "Shape: (12000, 2)\n",
            "Number of rows: 12000\n",
            "First few rows:\n",
            "       Label                                            Content\n",
            "0  offensive  @USER እዚያው እየተላላክ ዳቦህን ብላ። ምነው ሠፊ ነው ካልክ ሀገር ቤ...\n",
            "1     normal       የበረራ እቅድ አላ ልዟይተ ልካአ ህድቅእየ ምን እያደረገልኝ ነው ውወተ\n",
            "2     normal  @USER @USER የምን ጠላ ጠላ ፥ የምን ጠጅ ጠጅ ጠላትን መጋበዝ ፥ ...\n",
            "3     normal     @USER @USER @USER @USER ይመስገን ዞላ ምርመራው ላይ አለበት\n",
            "4  offensive  @USER @USER ተራ ያልተማረ ደደብ ፋሽስት ያንተው ቅል ራስ መለስ መ...\n",
            "\n",
            "Loaded file: /content/drive/MyDrive/Hate speech dataset/uhhlt/test.tsv\n",
            "Shape: (1501, 2)\n",
            "Number of rows: 1501\n",
            "First few rows:\n",
            "       Label                                            Content\n",
            "0       hate  @USER መግደል ቂም ፈጥሮ በበቀል ግድያ ሌላ ግድያ ይጋብዛል፡፡ ግን አ...\n",
            "1     normal  @USER እንደ ትንሿ ወር ልክ እንደ ጳጉሜ . ይጠርልሽ ትግራይ የሀዘንሽ...\n",
            "2  offensive  @USER እንዲህ አይነት አስተያየትም ሆነ ወቀሳ የመስጠት የሞራል ብቃት ...\n",
            "3  offensive  ወረኛ ሲጠላህ እማይልህ የለም። ካናቢስ እያስጠቀመ ውግያ ያስገባል ሲልህ ...\n",
            "4       hate  ብዙ ኢትዮጵያውያን ለፌደራል መከላከያ ሰራዊት የትግራይ ህዝብ ስለ ጨፈጨፈ...\n",
            "\n",
            "Loaded file: /content/drive/MyDrive/Hate speech dataset/uhhlt/dev.tsv\n",
            "Shape: (1500, 2)\n",
            "Number of rows: 1500\n",
            "First few rows:\n",
            "       Label                                            Content\n",
            "0       hate  @USER አብይና ቤተሰቡ ይገነባሉ። ጁዋር እና ተላላኪዎቹ የተሰራን ያፈር...\n",
            "1     normal         @USER @USER ማንን ይሆን ያልሽው ?? ስራ ፈቱ ማን ይሆን??\n",
            "2       hate  ድርድር ፈርቶ፣ ጦርነት። በጠረጴዛ ዙርያ መወያየት እንደዚህ አስፈሪ አይመ...\n",
            "3  offensive  @USER አንደበትህ ሁሌም ጉራማይል ይናገራል። መልካምም ክፋም!በተለይ ለ...\n",
            "4       hate                    @USER የኢትዮጵያ ሰይጣን አይተኛም ማለትህ ነው\n",
            "\n"
          ]
        }
      ]
    },
    {
      "cell_type": "code",
      "source": [
        "train_df = preprocess_and_filter(train_df)\n",
        "test_df = preprocess_and_filter(test_df)\n",
        "dev_df = preprocess_and_filter(dev_df)"
      ],
      "metadata": {
        "id": "Yj7w4x7C4RlP",
        "outputId": "4ae332d3-feb3-4717-9297-9299ed27173d",
        "colab": {
          "base_uri": "https://localhost:8080/"
        }
      },
      "execution_count": null,
      "outputs": [
        {
          "output_type": "stream",
          "name": "stdout",
          "text": [
            "Shape after preprocessing: (9760, 2)\n",
            "Number of rows after preprocessing: 9760\n",
            "First few rows after preprocessing:\n",
            "    Label                                            Content\n",
            "1  normal       የበረራ እቅድ አላ ልዟይተ ልካአ ህድቅእየ ምን እያደረገልኝ ነው ውወተ\n",
            "2  normal  የምን ጠላ ጠላ ፥ የምን ጠጅ ጠጅ ጠላትን መጋበዝ ፥ ቡን አርጎ ነው እን...\n",
            "3  normal                             ይመስገን ዞላ ምርመራው ላይ አለበት\n",
            "5    hate  አዴፓን አትመን፤የሴራው አካል ናቸው። ትኩረታቸው አሁንም ህወሃት እና የት...\n",
            "6    hate  በማንነታቸው ብቻ ተለይተው የተጨፈጨፉ አማሮችን ሽፋን ላለመስጠት አንድ ሴ...\n",
            "\n",
            "Shape after preprocessing: (1237, 2)\n",
            "Number of rows after preprocessing: 1237\n",
            "First few rows after preprocessing:\n",
            "    Label                                            Content\n",
            "0    hate  መግደል ቂም ፈጥሮ በበቀል ግድያ ሌላ ግድያ ይጋብዛል፡፡ ግን አረመኔው ረ...\n",
            "1  normal  እንደ ትንሿ ወር ልክ እንደ ጳጉሜ . ይጠርልሽ ትግራይ የሀዘንሽ እድሜ #...\n",
            "4    hate  ብዙ ኢትዮጵያውያን ለፌደራል መከላከያ ሰራዊት የትግራይ ህዝብ ስለ ጨፈጨፈ...\n",
            "6  normal                     ማሻአሏህ መብሩክ መልካም የስራ ዘመን ምኞቴ ነው\n",
            "7  normal                          አረ ኣንተ ሰውየው ኣጥፋው የተሳሳተ ነው\n",
            "\n",
            "Shape after preprocessing: (1221, 2)\n",
            "Number of rows after preprocessing: 1221\n",
            "First few rows after preprocessing:\n",
            "    Label                                            Content\n",
            "0    hate  አብይና ቤተሰቡ ይገነባሉ። ጁዋር እና ተላላኪዎቹ የተሰራን ያፈርሳሉ። ብዙ...\n",
            "1  normal                     ማንን ይሆን ያልሽው ?? ስራ ፈቱ ማን ይሆን??\n",
            "2    hate  ድርድር ፈርቶ፣ ጦርነት። በጠረጴዛ ዙርያ መወያየት እንደዚህ አስፈሪ አይመ...\n",
            "4    hate                          የኢትዮጵያ ሰይጣን አይተኛም ማለትህ ነው\n",
            "5  normal                  ጠንቀቅ ነቃ በሉ። ለሆድ ብሎ ህሊና ሚሸጥ አይጠፋም።\n",
            "\n"
          ]
        },
        {
          "output_type": "stream",
          "name": "stderr",
          "text": [
            "<ipython-input-27-a88bfd1637eb>:13: SettingWithCopyWarning: \n",
            "A value is trying to be set on a copy of a slice from a DataFrame.\n",
            "Try using .loc[row_indexer,col_indexer] = value instead\n",
            "\n",
            "See the caveats in the documentation: https://pandas.pydata.org/pandas-docs/stable/user_guide/indexing.html#returning-a-view-versus-a-copy\n",
            "  df['Content'] = df['Content'].apply(preprocess_text)\n",
            "<ipython-input-27-a88bfd1637eb>:13: SettingWithCopyWarning: \n",
            "A value is trying to be set on a copy of a slice from a DataFrame.\n",
            "Try using .loc[row_indexer,col_indexer] = value instead\n",
            "\n",
            "See the caveats in the documentation: https://pandas.pydata.org/pandas-docs/stable/user_guide/indexing.html#returning-a-view-versus-a-copy\n",
            "  df['Content'] = df['Content'].apply(preprocess_text)\n",
            "<ipython-input-27-a88bfd1637eb>:13: SettingWithCopyWarning: \n",
            "A value is trying to be set on a copy of a slice from a DataFrame.\n",
            "Try using .loc[row_indexer,col_indexer] = value instead\n",
            "\n",
            "See the caveats in the documentation: https://pandas.pydata.org/pandas-docs/stable/user_guide/indexing.html#returning-a-view-versus-a-copy\n",
            "  df['Content'] = df['Content'].apply(preprocess_text)\n"
          ]
        }
      ]
    },
    {
      "cell_type": "code",
      "source": [
        "# Combine datasets\n",
        "combined_df = pd.concat([train_df, test_df, dev_df], ignore_index=True)"
      ],
      "metadata": {
        "id": "R3FKjontoAUE"
      },
      "execution_count": null,
      "outputs": []
    },
    {
      "cell_type": "code",
      "source": [
        "combined_df.head()"
      ],
      "metadata": {
        "colab": {
          "base_uri": "https://localhost:8080/",
          "height": 206
        },
        "id": "LdddCPGXoPXT",
        "outputId": "2312ea74-40a4-4eb3-c941-32c6e11522ba"
      },
      "execution_count": null,
      "outputs": [
        {
          "output_type": "execute_result",
          "data": {
            "text/plain": [
              "    Label                                            Content\n",
              "0  normal       የበረራ እቅድ አላ ልዟይተ ልካአ ህድቅእየ ምን እያደረገልኝ ነው ውወተ\n",
              "1  normal  የምን ጠላ ጠላ ፥ የምን ጠጅ ጠጅ ጠላትን መጋበዝ ፥ ቡን አርጎ ነው እን...\n",
              "2  normal                             ይመስገን ዞላ ምርመራው ላይ አለበት\n",
              "3    hate  አዴፓን አትመን፤የሴራው አካል ናቸው። ትኩረታቸው አሁንም ህወሃት እና የት...\n",
              "4    hate  በማንነታቸው ብቻ ተለይተው የተጨፈጨፉ አማሮችን ሽፋን ላለመስጠት አንድ ሴ..."
            ],
            "text/html": [
              "\n",
              "  <div id=\"df-0dcf7c18-8319-427b-af5b-dd20ef749385\" class=\"colab-df-container\">\n",
              "    <div>\n",
              "<style scoped>\n",
              "    .dataframe tbody tr th:only-of-type {\n",
              "        vertical-align: middle;\n",
              "    }\n",
              "\n",
              "    .dataframe tbody tr th {\n",
              "        vertical-align: top;\n",
              "    }\n",
              "\n",
              "    .dataframe thead th {\n",
              "        text-align: right;\n",
              "    }\n",
              "</style>\n",
              "<table border=\"1\" class=\"dataframe\">\n",
              "  <thead>\n",
              "    <tr style=\"text-align: right;\">\n",
              "      <th></th>\n",
              "      <th>Label</th>\n",
              "      <th>Content</th>\n",
              "    </tr>\n",
              "  </thead>\n",
              "  <tbody>\n",
              "    <tr>\n",
              "      <th>0</th>\n",
              "      <td>normal</td>\n",
              "      <td>የበረራ እቅድ አላ ልዟይተ ልካአ ህድቅእየ ምን እያደረገልኝ ነው ውወተ</td>\n",
              "    </tr>\n",
              "    <tr>\n",
              "      <th>1</th>\n",
              "      <td>normal</td>\n",
              "      <td>የምን ጠላ ጠላ ፥ የምን ጠጅ ጠጅ ጠላትን መጋበዝ ፥ ቡን አርጎ ነው እን...</td>\n",
              "    </tr>\n",
              "    <tr>\n",
              "      <th>2</th>\n",
              "      <td>normal</td>\n",
              "      <td>ይመስገን ዞላ ምርመራው ላይ አለበት</td>\n",
              "    </tr>\n",
              "    <tr>\n",
              "      <th>3</th>\n",
              "      <td>hate</td>\n",
              "      <td>አዴፓን አትመን፤የሴራው አካል ናቸው። ትኩረታቸው አሁንም ህወሃት እና የት...</td>\n",
              "    </tr>\n",
              "    <tr>\n",
              "      <th>4</th>\n",
              "      <td>hate</td>\n",
              "      <td>በማንነታቸው ብቻ ተለይተው የተጨፈጨፉ አማሮችን ሽፋን ላለመስጠት አንድ ሴ...</td>\n",
              "    </tr>\n",
              "  </tbody>\n",
              "</table>\n",
              "</div>\n",
              "    <div class=\"colab-df-buttons\">\n",
              "\n",
              "  <div class=\"colab-df-container\">\n",
              "    <button class=\"colab-df-convert\" onclick=\"convertToInteractive('df-0dcf7c18-8319-427b-af5b-dd20ef749385')\"\n",
              "            title=\"Convert this dataframe to an interactive table.\"\n",
              "            style=\"display:none;\">\n",
              "\n",
              "  <svg xmlns=\"http://www.w3.org/2000/svg\" height=\"24px\" viewBox=\"0 -960 960 960\">\n",
              "    <path d=\"M120-120v-720h720v720H120Zm60-500h600v-160H180v160Zm220 220h160v-160H400v160Zm0 220h160v-160H400v160ZM180-400h160v-160H180v160Zm440 0h160v-160H620v160ZM180-180h160v-160H180v160Zm440 0h160v-160H620v160Z\"/>\n",
              "  </svg>\n",
              "    </button>\n",
              "\n",
              "  <style>\n",
              "    .colab-df-container {\n",
              "      display:flex;\n",
              "      gap: 12px;\n",
              "    }\n",
              "\n",
              "    .colab-df-convert {\n",
              "      background-color: #E8F0FE;\n",
              "      border: none;\n",
              "      border-radius: 50%;\n",
              "      cursor: pointer;\n",
              "      display: none;\n",
              "      fill: #1967D2;\n",
              "      height: 32px;\n",
              "      padding: 0 0 0 0;\n",
              "      width: 32px;\n",
              "    }\n",
              "\n",
              "    .colab-df-convert:hover {\n",
              "      background-color: #E2EBFA;\n",
              "      box-shadow: 0px 1px 2px rgba(60, 64, 67, 0.3), 0px 1px 3px 1px rgba(60, 64, 67, 0.15);\n",
              "      fill: #174EA6;\n",
              "    }\n",
              "\n",
              "    .colab-df-buttons div {\n",
              "      margin-bottom: 4px;\n",
              "    }\n",
              "\n",
              "    [theme=dark] .colab-df-convert {\n",
              "      background-color: #3B4455;\n",
              "      fill: #D2E3FC;\n",
              "    }\n",
              "\n",
              "    [theme=dark] .colab-df-convert:hover {\n",
              "      background-color: #434B5C;\n",
              "      box-shadow: 0px 1px 3px 1px rgba(0, 0, 0, 0.15);\n",
              "      filter: drop-shadow(0px 1px 2px rgba(0, 0, 0, 0.3));\n",
              "      fill: #FFFFFF;\n",
              "    }\n",
              "  </style>\n",
              "\n",
              "    <script>\n",
              "      const buttonEl =\n",
              "        document.querySelector('#df-0dcf7c18-8319-427b-af5b-dd20ef749385 button.colab-df-convert');\n",
              "      buttonEl.style.display =\n",
              "        google.colab.kernel.accessAllowed ? 'block' : 'none';\n",
              "\n",
              "      async function convertToInteractive(key) {\n",
              "        const element = document.querySelector('#df-0dcf7c18-8319-427b-af5b-dd20ef749385');\n",
              "        const dataTable =\n",
              "          await google.colab.kernel.invokeFunction('convertToInteractive',\n",
              "                                                    [key], {});\n",
              "        if (!dataTable) return;\n",
              "\n",
              "        const docLinkHtml = 'Like what you see? Visit the ' +\n",
              "          '<a target=\"_blank\" href=https://colab.research.google.com/notebooks/data_table.ipynb>data table notebook</a>'\n",
              "          + ' to learn more about interactive tables.';\n",
              "        element.innerHTML = '';\n",
              "        dataTable['output_type'] = 'display_data';\n",
              "        await google.colab.output.renderOutput(dataTable, element);\n",
              "        const docLink = document.createElement('div');\n",
              "        docLink.innerHTML = docLinkHtml;\n",
              "        element.appendChild(docLink);\n",
              "      }\n",
              "    </script>\n",
              "  </div>\n",
              "\n",
              "\n",
              "<div id=\"df-a74b9ea5-96e8-459a-86dd-8764fbb74712\">\n",
              "  <button class=\"colab-df-quickchart\" onclick=\"quickchart('df-a74b9ea5-96e8-459a-86dd-8764fbb74712')\"\n",
              "            title=\"Suggest charts\"\n",
              "            style=\"display:none;\">\n",
              "\n",
              "<svg xmlns=\"http://www.w3.org/2000/svg\" height=\"24px\"viewBox=\"0 0 24 24\"\n",
              "     width=\"24px\">\n",
              "    <g>\n",
              "        <path d=\"M19 3H5c-1.1 0-2 .9-2 2v14c0 1.1.9 2 2 2h14c1.1 0 2-.9 2-2V5c0-1.1-.9-2-2-2zM9 17H7v-7h2v7zm4 0h-2V7h2v10zm4 0h-2v-4h2v4z\"/>\n",
              "    </g>\n",
              "</svg>\n",
              "  </button>\n",
              "\n",
              "<style>\n",
              "  .colab-df-quickchart {\n",
              "      --bg-color: #E8F0FE;\n",
              "      --fill-color: #1967D2;\n",
              "      --hover-bg-color: #E2EBFA;\n",
              "      --hover-fill-color: #174EA6;\n",
              "      --disabled-fill-color: #AAA;\n",
              "      --disabled-bg-color: #DDD;\n",
              "  }\n",
              "\n",
              "  [theme=dark] .colab-df-quickchart {\n",
              "      --bg-color: #3B4455;\n",
              "      --fill-color: #D2E3FC;\n",
              "      --hover-bg-color: #434B5C;\n",
              "      --hover-fill-color: #FFFFFF;\n",
              "      --disabled-bg-color: #3B4455;\n",
              "      --disabled-fill-color: #666;\n",
              "  }\n",
              "\n",
              "  .colab-df-quickchart {\n",
              "    background-color: var(--bg-color);\n",
              "    border: none;\n",
              "    border-radius: 50%;\n",
              "    cursor: pointer;\n",
              "    display: none;\n",
              "    fill: var(--fill-color);\n",
              "    height: 32px;\n",
              "    padding: 0;\n",
              "    width: 32px;\n",
              "  }\n",
              "\n",
              "  .colab-df-quickchart:hover {\n",
              "    background-color: var(--hover-bg-color);\n",
              "    box-shadow: 0 1px 2px rgba(60, 64, 67, 0.3), 0 1px 3px 1px rgba(60, 64, 67, 0.15);\n",
              "    fill: var(--button-hover-fill-color);\n",
              "  }\n",
              "\n",
              "  .colab-df-quickchart-complete:disabled,\n",
              "  .colab-df-quickchart-complete:disabled:hover {\n",
              "    background-color: var(--disabled-bg-color);\n",
              "    fill: var(--disabled-fill-color);\n",
              "    box-shadow: none;\n",
              "  }\n",
              "\n",
              "  .colab-df-spinner {\n",
              "    border: 2px solid var(--fill-color);\n",
              "    border-color: transparent;\n",
              "    border-bottom-color: var(--fill-color);\n",
              "    animation:\n",
              "      spin 1s steps(1) infinite;\n",
              "  }\n",
              "\n",
              "  @keyframes spin {\n",
              "    0% {\n",
              "      border-color: transparent;\n",
              "      border-bottom-color: var(--fill-color);\n",
              "      border-left-color: var(--fill-color);\n",
              "    }\n",
              "    20% {\n",
              "      border-color: transparent;\n",
              "      border-left-color: var(--fill-color);\n",
              "      border-top-color: var(--fill-color);\n",
              "    }\n",
              "    30% {\n",
              "      border-color: transparent;\n",
              "      border-left-color: var(--fill-color);\n",
              "      border-top-color: var(--fill-color);\n",
              "      border-right-color: var(--fill-color);\n",
              "    }\n",
              "    40% {\n",
              "      border-color: transparent;\n",
              "      border-right-color: var(--fill-color);\n",
              "      border-top-color: var(--fill-color);\n",
              "    }\n",
              "    60% {\n",
              "      border-color: transparent;\n",
              "      border-right-color: var(--fill-color);\n",
              "    }\n",
              "    80% {\n",
              "      border-color: transparent;\n",
              "      border-right-color: var(--fill-color);\n",
              "      border-bottom-color: var(--fill-color);\n",
              "    }\n",
              "    90% {\n",
              "      border-color: transparent;\n",
              "      border-bottom-color: var(--fill-color);\n",
              "    }\n",
              "  }\n",
              "</style>\n",
              "\n",
              "  <script>\n",
              "    async function quickchart(key) {\n",
              "      const quickchartButtonEl =\n",
              "        document.querySelector('#' + key + ' button');\n",
              "      quickchartButtonEl.disabled = true;  // To prevent multiple clicks.\n",
              "      quickchartButtonEl.classList.add('colab-df-spinner');\n",
              "      try {\n",
              "        const charts = await google.colab.kernel.invokeFunction(\n",
              "            'suggestCharts', [key], {});\n",
              "      } catch (error) {\n",
              "        console.error('Error during call to suggestCharts:', error);\n",
              "      }\n",
              "      quickchartButtonEl.classList.remove('colab-df-spinner');\n",
              "      quickchartButtonEl.classList.add('colab-df-quickchart-complete');\n",
              "    }\n",
              "    (() => {\n",
              "      let quickchartButtonEl =\n",
              "        document.querySelector('#df-a74b9ea5-96e8-459a-86dd-8764fbb74712 button');\n",
              "      quickchartButtonEl.style.display =\n",
              "        google.colab.kernel.accessAllowed ? 'block' : 'none';\n",
              "    })();\n",
              "  </script>\n",
              "</div>\n",
              "\n",
              "    </div>\n",
              "  </div>\n"
            ],
            "application/vnd.google.colaboratory.intrinsic+json": {
              "type": "dataframe",
              "variable_name": "combined_df",
              "summary": "{\n  \"name\": \"combined_df\",\n  \"rows\": 12218,\n  \"fields\": [\n    {\n      \"column\": \"Label\",\n      \"properties\": {\n        \"dtype\": \"category\",\n        \"num_unique_values\": 2,\n        \"samples\": [\n          \"hate\",\n          \"normal\"\n        ],\n        \"semantic_type\": \"\",\n        \"description\": \"\"\n      }\n    },\n    {\n      \"column\": \"Content\",\n      \"properties\": {\n        \"dtype\": \"string\",\n        \"num_unique_values\": 12212,\n        \"samples\": [\n          \"\\u1260\\u1275\\u130d\\u122b\\u12ed \\u12ad\\u120d\\u120d \\u12e8\\u1270\\u12a8\\u1230\\u1270\\u12cd\\u1295 \\u12e8\\u1260\\u1228\\u1200 \\u12a0\\u1295\\u1260\\u1323 \\u1208\\u1218\\u12a8\\u120b\\u12a8\\u120d \\u130a\\u12dc\\u12eb\\u12ca \\u12e8\\u12f5\\u130b\\u134d \\u12a0\\u1230\\u1263\\u1233\\u1262 \\u12ae\\u121a\\u1274 \\u1270\\u124b\\u124b\\u1218\",\n          \"\\u1208\\u1290\\u1308\\u1229 \\u1230\\u12ed\\u1323\\u1295\\u121d \\u12a5\\u12ae \\u1218\\u120b\\u12d5\\u12ad\\u1275\\u1295 \\u12a3\\u12ed\\u12c8\\u12f5\\u121d \\u1208\\u12db \\u1290\\u12cd \\u12a5\\u1290 \\u12a3\\u1265\\u12ec\\u1275 \\u12a5\\u1293 \\u12cd\\u1273\\u134d \\u1290\\u1243\\u12ec\\u1279 \\u1230\\u12ed\\u1323\\u1293\\u1276\\u127d \\u1235\\u1208\\u1206\\u1293\\u127a\\u1201 \\u1218\\u120b\\u12d5\\u12ad \\u12a3\\u12ed\\u1273\\u12ec\\u127a\\u1201\\u121d\"\n        ],\n        \"semantic_type\": \"\",\n        \"description\": \"\"\n      }\n    }\n  ]\n}"
            }
          },
          "metadata": {},
          "execution_count": 32
        }
      ]
    },
    {
      "cell_type": "code",
      "source": [
        "combined_df['Label'].unique()"
      ],
      "metadata": {
        "colab": {
          "base_uri": "https://localhost:8080/"
        },
        "id": "o9aQ_3QlQShu",
        "outputId": "872d4190-9858-465b-ab0a-a3d288a45a49"
      },
      "execution_count": null,
      "outputs": [
        {
          "output_type": "execute_result",
          "data": {
            "text/plain": [
              "array(['normal', 'hate'], dtype=object)"
            ]
          },
          "metadata": {},
          "execution_count": 33
        }
      ]
    },
    {
      "source": [
        "# @title Distribution of Speech Types\n",
        "\n",
        "import matplotlib.pyplot as plt\n",
        "\n",
        "# Count the occurrences of each label\n",
        "label_counts = combined_df['Label'].value_counts()\n",
        "\n",
        "# Create a pie chart\n",
        "plt.figure(figsize=(6, 6))\n",
        "plt.pie(label_counts, labels=label_counts.index, autopct='%1.1f%%', startangle=90)\n",
        "_ = plt.title('Distribution of Speech Types')\n"
      ],
      "cell_type": "code",
      "execution_count": null,
      "outputs": [
        {
          "output_type": "display_data",
          "data": {
            "text/plain": [
              "<Figure size 600x600 with 1 Axes>"
            ],
            "image/png": "[encoded data removed]"
          },
          "metadata": {}
        }
      ],
      "metadata": {
        "cellView": "form",
        "colab": {
          "base_uri": "https://localhost:8080/",
          "height": 521
        },
        "id": "28zM7HppwF2V",
        "outputId": "fe1c1cde-34b6-4002-dc18-6ba85abfa85f"
      }
    },
    {
      "cell_type": "code",
      "source": [
        "combined_df['Label'] = combined_df['Label'].replace(['normal', 'hate'], ['መልካም', 'ጥላቻ'])"
      ],
      "metadata": {
        "id": "ydVjQuj5RmET"
      },
      "execution_count": null,
      "outputs": []
    },
    {
      "cell_type": "code",
      "source": [
        "# Predict\n",
        "combined_df['Predicted_Label'] = predict_hate_speech(combined_df['Content'], model, tokenizer)"
      ],
      "metadata": {
        "id": "iCLK8Sudoj8O"
      },
      "execution_count": null,
      "outputs": []
    },
    {
      "source": [
        "# @title Label\n",
        "\n",
        "from matplotlib import pyplot as plt\n",
        "Merged['Label'].plot(kind='hist', bins=20, title='Label')\n",
        "plt.gca().spines[['top', 'right',]].set_visible(False)"
      ],
      "cell_type": "code",
      "execution_count": null,
      "outputs": [
        {
          "output_type": "display_data",
          "data": {
            "text/plain": [
              "<Figure size 640x480 with 1 Axes>"
            ],
            "image/png": "[encoded data removed]"
          },
          "metadata": {}
        }
      ],
      "metadata": {
        "cellView": "form",
        "colab": {
          "base_uri": "https://localhost:8080/",
          "height": 452
        },
        "id": "fIUBnx_AHp3J",
        "outputId": "307e9a4c-acb0-4dfd-dbff-fd70fe93f73b"
      }
    }
  ],
  "metadata": {
    "accelerator": "GPU",
    "colab": {
      "provenance": [],
      "gpuType": "T4",
      "include_colab_link": true
    },
    "kernelspec": {
      "display_name": "Python 3",
      "name": "python3"
    },
    "language_info": {
      "name": "python"
    },
    "widgets": {
      "application/vnd.jupyter.widget-state+json": {
        "64c78aaf4c1646f89c7271c37db4fe54": {
          "model_module": "@jupyter-widgets/controls",
          "model_name": "HBoxModel",
          "model_module_version": "1.5.0",
          "state": {
            "_dom_classes": [],
            "_model_module": "@jupyter-widgets/controls",
            "_model_module_version": "1.5.0",
            "_model_name": "HBoxModel",
            "_view_count": null,
            "_view_module": "@jupyter-widgets/controls",
            "_view_module_version": "1.5.0",
            "_view_name": "HBoxView",
            "box_style": "",
            "children": [
              "IPY_MODEL_4ffe1996454f40d09754e7a5f949e6ac",
              "IPY_MODEL_e8fdac6a49e54ea5bf0932adcb7d05bb",
              "IPY_MODEL_f331bb7e204347008bf1df5eb09f6b4b"
            ],
            "layout": "IPY_MODEL_a383bcfd09ff41f99e3de96e60c599db"
          }
        },
        "4ffe1996454f40d09754e7a5f949e6ac": {
          "model_module": "@jupyter-widgets/controls",
          "model_name": "HTMLModel",
          "model_module_version": "1.5.0",
          "state": {
            "_dom_classes": [],
            "_model_module": "@jupyter-widgets/controls",
            "_model_module_version": "1.5.0",
            "_model_name": "HTMLModel",
            "_view_count": null,
            "_view_module": "@jupyter-widgets/controls",
            "_view_module_version": "1.5.0",
            "_view_name": "HTMLView",
            "description": "",
            "description_tooltip": null,
            "layout": "IPY_MODEL_172a99958bb34e42952cf59942905585",
            "placeholder": "​",
            "style": "IPY_MODEL_7070ad6634834465a0d0f90386ae1916",
            "value": "tokenizer_config.json: 100%"
          }
        },
        "e8fdac6a49e54ea5bf0932adcb7d05bb": {
          "model_module": "@jupyter-widgets/controls",
          "model_name": "FloatProgressModel",
          "model_module_version": "1.5.0",
          "state": {
            "_dom_classes": [],
            "_model_module": "@jupyter-widgets/controls",
            "_model_module_version": "1.5.0",
            "_model_name": "FloatProgressModel",
            "_view_count": null,
            "_view_module": "@jupyter-widgets/controls",
            "_view_module_version": "1.5.0",
            "_view_name": "ProgressView",
            "bar_style": "success",
            "description": "",
            "description_tooltip": null,
            "layout": "IPY_MODEL_dbbf1820f2864aab8eea7b16ca37acfd",
            "max": 1235,
            "min": 0,
            "orientation": "horizontal",
            "style": "IPY_MODEL_ff1a3f3c20be4957b830a716576f6cc1",
            "value": 1235
          }
        },
        "f331bb7e204347008bf1df5eb09f6b4b": {
          "model_module": "@jupyter-widgets/controls",
          "model_name": "HTMLModel",
          "model_module_version": "1.5.0",
          "state": {
            "_dom_classes": [],
            "_model_module": "@jupyter-widgets/controls",
            "_model_module_version": "1.5.0",
            "_model_name": "HTMLModel",
            "_view_count": null,
            "_view_module": "@jupyter-widgets/controls",
            "_view_module_version": "1.5.0",
            "_view_name": "HTMLView",
            "description": "",
            "description_tooltip": null,
            "layout": "IPY_MODEL_cff678a05435482c92a2b3cb505390ad",
            "placeholder": "​",
            "style": "IPY_MODEL_ed67d422df7545809df1259eff42656c",
            "value": " 1.24k/1.24k [00:00&lt;00:00, 89.8kB/s]"
          }
        },
        "a383bcfd09ff41f99e3de96e60c599db": {
          "model_module": "@jupyter-widgets/base",
          "model_name": "LayoutModel",
          "model_module_version": "1.2.0",
          "state": {
            "_model_module": "@jupyter-widgets/base",
            "_model_module_version": "1.2.0",
            "_model_name": "LayoutModel",
            "_view_count": null,
            "_view_module": "@jupyter-widgets/base",
            "_view_module_version": "1.2.0",
            "_view_name": "LayoutView",
            "align_content": null,
            "align_items": null,
            "align_self": null,
            "border": null,
            "bottom": null,
            "display": null,
            "flex": null,
            "flex_flow": null,
            "grid_area": null,
            "grid_auto_columns": null,
            "grid_auto_flow": null,
            "grid_auto_rows": null,
            "grid_column": null,
            "grid_gap": null,
            "grid_row": null,
            "grid_template_areas": null,
            "grid_template_columns": null,
            "grid_template_rows": null,
            "height": null,
            "justify_content": null,
            "justify_items": null,
            "left": null,
            "margin": null,
            "max_height": null,
            "max_width": null,
            "min_height": null,
            "min_width": null,
            "object_fit": null,
            "object_position": null,
            "order": null,
            "overflow": null,
            "overflow_x": null,
            "overflow_y": null,
            "padding": null,
            "right": null,
            "top": null,
            "visibility": null,
            "width": null
          }
        },
        "172a99958bb34e42952cf59942905585": {
          "model_module": "@jupyter-widgets/base",
          "model_name": "LayoutModel",
          "model_module_version": "1.2.0",
          "state": {
            "_model_module": "@jupyter-widgets/base",
            "_model_module_version": "1.2.0",
            "_model_name": "LayoutModel",
            "_view_count": null,
            "_view_module": "@jupyter-widgets/base",
            "_view_module_version": "1.2.0",
            "_view_name": "LayoutView",
            "align_content": null,
            "align_items": null,
            "align_self": null,
            "border": null,
            "bottom": null,
            "display": null,
            "flex": null,
            "flex_flow": null,
            "grid_area": null,
            "grid_auto_columns": null,
            "grid_auto_flow": null,
            "grid_auto_rows": null,
            "grid_column": null,
            "grid_gap": null,
            "grid_row": null,
            "grid_template_areas": null,
            "grid_template_columns": null,
            "grid_template_rows": null,
            "height": null,
            "justify_content": null,
            "justify_items": null,
            "left": null,
            "margin": null,
            "max_height": null,
            "max_width": null,
            "min_height": null,
            "min_width": null,
            "object_fit": null,
            "object_position": null,
            "order": null,
            "overflow": null,
            "overflow_x": null,
            "overflow_y": null,
            "padding": null,
            "right": null,
            "top": null,
            "visibility": null,
            "width": null
          }
        },
        "7070ad6634834465a0d0f90386ae1916": {
          "model_module": "@jupyter-widgets/controls",
          "model_name": "DescriptionStyleModel",
          "model_module_version": "1.5.0",
          "state": {
            "_model_module": "@jupyter-widgets/controls",
            "_model_module_version": "1.5.0",
            "_model_name": "DescriptionStyleModel",
            "_view_count": null,
            "_view_module": "@jupyter-widgets/base",
            "_view_module_version": "1.2.0",
            "_view_name": "StyleView",
            "description_width": ""
          }
        },
        "dbbf1820f2864aab8eea7b16ca37acfd": {
          "model_module": "@jupyter-widgets/base",
          "model_name": "LayoutModel",
          "model_module_version": "1.2.0",
          "state": {
            "_model_module": "@jupyter-widgets/base",
            "_model_module_version": "1.2.0",
            "_model_name": "LayoutModel",
            "_view_count": null,
            "_view_module": "@jupyter-widgets/base",
            "_view_module_version": "1.2.0",
            "_view_name": "LayoutView",
            "align_content": null,
            "align_items": null,
            "align_self": null,
            "border": null,
            "bottom": null,
            "display": null,
            "flex": null,
            "flex_flow": null,
            "grid_area": null,
            "grid_auto_columns": null,
            "grid_auto_flow": null,
            "grid_auto_rows": null,
            "grid_column": null,
            "grid_gap": null,
            "grid_row": null,
            "grid_template_areas": null,
            "grid_template_columns": null,
            "grid_template_rows": null,
            "height": null,
            "justify_content": null,
            "justify_items": null,
            "left": null,
            "margin": null,
            "max_height": null,
            "max_width": null,
            "min_height": null,
            "min_width": null,
            "object_fit": null,
            "object_position": null,
            "order": null,
            "overflow": null,
            "overflow_x": null,
            "overflow_y": null,
            "padding": null,
            "right": null,
            "top": null,
            "visibility": null,
            "width": null
          }
        },
        "ff1a3f3c20be4957b830a716576f6cc1": {
          "model_module": "@jupyter-widgets/controls",
          "model_name": "ProgressStyleModel",
          "model_module_version": "1.5.0",
          "state": {
            "_model_module": "@jupyter-widgets/controls",
            "_model_module_version": "1.5.0",
            "_model_name": "ProgressStyleModel",
            "_view_count": null,
            "_view_module": "@jupyter-widgets/base",
            "_view_module_version": "1.2.0",
            "_view_name": "StyleView",
            "bar_color": null,
            "description_width": ""
          }
        },
        "cff678a05435482c92a2b3cb505390ad": {
          "model_module": "@jupyter-widgets/base",
          "model_name": "LayoutModel",
          "model_module_version": "1.2.0",
          "state": {
            "_model_module": "@jupyter-widgets/base",
            "_model_module_version": "1.2.0",
            "_model_name": "LayoutModel",
            "_view_count": null,
            "_view_module": "@jupyter-widgets/base",
            "_view_module_version": "1.2.0",
            "_view_name": "LayoutView",
            "align_content": null,
            "align_items": null,
            "align_self": null,
            "border": null,
            "bottom": null,
            "display": null,
            "flex": null,
            "flex_flow": null,
            "grid_area": null,
            "grid_auto_columns": null,
            "grid_auto_flow": null,
            "grid_auto_rows": null,
            "grid_column": null,
            "grid_gap": null,
            "grid_row": null,
            "grid_template_areas": null,
            "grid_template_columns": null,
            "grid_template_rows": null,
            "height": null,
            "justify_content": null,
            "justify_items": null,
            "left": null,
            "margin": null,
            "max_height": null,
            "max_width": null,
            "min_height": null,
            "min_width": null,
            "object_fit": null,
            "object_position": null,
            "order": null,
            "overflow": null,
            "overflow_x": null,
            "overflow_y": null,
            "padding": null,
            "right": null,
            "top": null,
            "visibility": null,
            "width": null
          }
        },
        "ed67d422df7545809df1259eff42656c": {
          "model_module": "@jupyter-widgets/controls",
          "model_name": "DescriptionStyleModel",
          "model_module_version": "1.5.0",
          "state": {
            "_model_module": "@jupyter-widgets/controls",
            "_model_module_version": "1.5.0",
            "_model_name": "DescriptionStyleModel",
            "_view_count": null,
            "_view_module": "@jupyter-widgets/base",
            "_view_module_version": "1.2.0",
            "_view_name": "StyleView",
            "description_width": ""
          }
        },
        "85b14d5513b743afac159e5d3e7353c3": {
          "model_module": "@jupyter-widgets/controls",
          "model_name": "HBoxModel",
          "model_module_version": "1.5.0",
          "state": {
            "_dom_classes": [],
            "_model_module": "@jupyter-widgets/controls",
            "_model_module_version": "1.5.0",
            "_model_name": "HBoxModel",
            "_view_count": null,
            "_view_module": "@jupyter-widgets/controls",
            "_view_module_version": "1.5.0",
            "_view_name": "HBoxView",
            "box_style": "",
            "children": [
              "IPY_MODEL_1885af1bc6db46bcb557c30afac01cff",
              "IPY_MODEL_f5952402cb7c46459606dd5024c1303d",
              "IPY_MODEL_43c101b507c84d06897eaf46d538f6ea"
            ],
            "layout": "IPY_MODEL_0f05068c36f9454ebbc6ec687752835c"
          }
        },
        "1885af1bc6db46bcb557c30afac01cff": {
          "model_module": "@jupyter-widgets/controls",
          "model_name": "HTMLModel",
          "model_module_version": "1.5.0",
          "state": {
            "_dom_classes": [],
            "_model_module": "@jupyter-widgets/controls",
            "_model_module_version": "1.5.0",
            "_model_name": "HTMLModel",
            "_view_count": null,
            "_view_module": "@jupyter-widgets/controls",
            "_view_module_version": "1.5.0",
            "_view_name": "HTMLView",
            "description": "",
            "description_tooltip": null,
            "layout": "IPY_MODEL_e93a81166a1a48fea3465f3240aed71f",
            "placeholder": "​",
            "style": "IPY_MODEL_6fc1c4a7d49746f48f6336a2e2772875",
            "value": "vocab.txt: 100%"
          }
        },
        "f5952402cb7c46459606dd5024c1303d": {
          "model_module": "@jupyter-widgets/controls",
          "model_name": "FloatProgressModel",
          "model_module_version": "1.5.0",
          "state": {
            "_dom_classes": [],
            "_model_module": "@jupyter-widgets/controls",
            "_model_module_version": "1.5.0",
            "_model_name": "FloatProgressModel",
            "_view_count": null,
            "_view_module": "@jupyter-widgets/controls",
            "_view_module_version": "1.5.0",
            "_view_name": "ProgressView",
            "bar_style": "success",
            "description": "",
            "description_tooltip": null,
            "layout": "IPY_MODEL_f26de186e5674f0897186558e502c5aa",
            "max": 1552337,
            "min": 0,
            "orientation": "horizontal",
            "style": "IPY_MODEL_6f2af7bbd99c493aa9f0f2cfb2a6c9c3",
            "value": 1552337
          }
        },
        "43c101b507c84d06897eaf46d538f6ea": {
          "model_module": "@jupyter-widgets/controls",
          "model_name": "HTMLModel",
          "model_module_version": "1.5.0",
          "state": {
            "_dom_classes": [],
            "_model_module": "@jupyter-widgets/controls",
            "_model_module_version": "1.5.0",
            "_model_name": "HTMLModel",
            "_view_count": null,
            "_view_module": "@jupyter-widgets/controls",
            "_view_module_version": "1.5.0",
            "_view_name": "HTMLView",
            "description": "",
            "description_tooltip": null,
            "layout": "IPY_MODEL_a03ffe0a39804a36841202849e05cda7",
            "placeholder": "​",
            "style": "IPY_MODEL_afd302b9e6b64969814e3a929ca0893c",
            "value": " 1.55M/1.55M [00:00&lt;00:00, 24.4MB/s]"
          }
        },
        "0f05068c36f9454ebbc6ec687752835c": {
          "model_module": "@jupyter-widgets/base",
          "model_name": "LayoutModel",
          "model_module_version": "1.2.0",
          "state": {
            "_model_module": "@jupyter-widgets/base",
            "_model_module_version": "1.2.0",
            "_model_name": "LayoutModel",
            "_view_count": null,
            "_view_module": "@jupyter-widgets/base",
            "_view_module_version": "1.2.0",
            "_view_name": "LayoutView",
            "align_content": null,
            "align_items": null,
            "align_self": null,
            "border": null,
            "bottom": null,
            "display": null,
            "flex": null,
            "flex_flow": null,
            "grid_area": null,
            "grid_auto_columns": null,
            "grid_auto_flow": null,
            "grid_auto_rows": null,
            "grid_column": null,
            "grid_gap": null,
            "grid_row": null,
            "grid_template_areas": null,
            "grid_template_columns": null,
            "grid_template_rows": null,
            "height": null,
            "justify_content": null,
            "justify_items": null,
            "left": null,
            "margin": null,
            "max_height": null,
            "max_width": null,
            "min_height": null,
            "min_width": null,
            "object_fit": null,
            "object_position": null,
            "order": null,
            "overflow": null,
            "overflow_x": null,
            "overflow_y": null,
            "padding": null,
            "right": null,
            "top": null,
            "visibility": null,
            "width": null
          }
        },
        "e93a81166a1a48fea3465f3240aed71f": {
          "model_module": "@jupyter-widgets/base",
          "model_name": "LayoutModel",
          "model_module_version": "1.2.0",
          "state": {
            "_model_module": "@jupyter-widgets/base",
            "_model_module_version": "1.2.0",
            "_model_name": "LayoutModel",
            "_view_count": null,
            "_view_module": "@jupyter-widgets/base",
            "_view_module_version": "1.2.0",
            "_view_name": "LayoutView",
            "align_content": null,
            "align_items": null,
            "align_self": null,
            "border": null,
            "bottom": null,
            "display": null,
            "flex": null,
            "flex_flow": null,
            "grid_area": null,
            "grid_auto_columns": null,
            "grid_auto_flow": null,
            "grid_auto_rows": null,
            "grid_column": null,
            "grid_gap": null,
            "grid_row": null,
            "grid_template_areas": null,
            "grid_template_columns": null,
            "grid_template_rows": null,
            "height": null,
            "justify_content": null,
            "justify_items": null,
            "left": null,
            "margin": null,
            "max_height": null,
            "max_width": null,
            "min_height": null,
            "min_width": null,
            "object_fit": null,
            "object_position": null,
            "order": null,
            "overflow": null,
            "overflow_x": null,
            "overflow_y": null,
            "padding": null,
            "right": null,
            "top": null,
            "visibility": null,
            "width": null
          }
        },
        "6fc1c4a7d49746f48f6336a2e2772875": {
          "model_module": "@jupyter-widgets/controls",
          "model_name": "DescriptionStyleModel",
          "model_module_version": "1.5.0",
          "state": {
            "_model_module": "@jupyter-widgets/controls",
            "_model_module_version": "1.5.0",
            "_model_name": "DescriptionStyleModel",
            "_view_count": null,
            "_view_module": "@jupyter-widgets/base",
            "_view_module_version": "1.2.0",
            "_view_name": "StyleView",
            "description_width": ""
          }
        },
        "f26de186e5674f0897186558e502c5aa": {
          "model_module": "@jupyter-widgets/base",
          "model_name": "LayoutModel",
          "model_module_version": "1.2.0",
          "state": {
            "_model_module": "@jupyter-widgets/base",
            "_model_module_version": "1.2.0",
            "_model_name": "LayoutModel",
            "_view_count": null,
            "_view_module": "@jupyter-widgets/base",
            "_view_module_version": "1.2.0",
            "_view_name": "LayoutView",
            "align_content": null,
            "align_items": null,
            "align_self": null,
            "border": null,
            "bottom": null,
            "display": null,
            "flex": null,
            "flex_flow": null,
            "grid_area": null,
            "grid_auto_columns": null,
            "grid_auto_flow": null,
            "grid_auto_rows": null,
            "grid_column": null,
            "grid_gap": null,
            "grid_row": null,
            "grid_template_areas": null,
            "grid_template_columns": null,
            "grid_template_rows": null,
            "height": null,
            "justify_content": null,
            "justify_items": null,
            "left": null,
            "margin": null,
            "max_height": null,
            "max_width": null,
            "min_height": null,
            "min_width": null,
            "object_fit": null,
            "object_position": null,
            "order": null,
            "overflow": null,
            "overflow_x": null,
            "overflow_y": null,
            "padding": null,
            "right": null,
            "top": null,
            "visibility": null,
            "width": null
          }
        },
        "6f2af7bbd99c493aa9f0f2cfb2a6c9c3": {
          "model_module": "@jupyter-widgets/controls",
          "model_name": "ProgressStyleModel",
          "model_module_version": "1.5.0",
          "state": {
            "_model_module": "@jupyter-widgets/controls",
            "_model_module_version": "1.5.0",
            "_model_name": "ProgressStyleModel",
            "_view_count": null,
            "_view_module": "@jupyter-widgets/base",
            "_view_module_version": "1.2.0",
            "_view_name": "StyleView",
            "bar_color": null,
            "description_width": ""
          }
        },
        "a03ffe0a39804a36841202849e05cda7": {
          "model_module": "@jupyter-widgets/base",
          "model_name": "LayoutModel",
          "model_module_version": "1.2.0",
          "state": {
            "_model_module": "@jupyter-widgets/base",
            "_model_module_version": "1.2.0",
            "_model_name": "LayoutModel",
            "_view_count": null,
            "_view_module": "@jupyter-widgets/base",
            "_view_module_version": "1.2.0",
            "_view_name": "LayoutView",
            "align_content": null,
            "align_items": null,
            "align_self": null,
            "border": null,
            "bottom": null,
            "display": null,
            "flex": null,
            "flex_flow": null,
            "grid_area": null,
            "grid_auto_columns": null,
            "grid_auto_flow": null,
            "grid_auto_rows": null,
            "grid_column": null,
            "grid_gap": null,
            "grid_row": null,
            "grid_template_areas": null,
            "grid_template_columns": null,
            "grid_template_rows": null,
            "height": null,
            "justify_content": null,
            "justify_items": null,
            "left": null,
            "margin": null,
            "max_height": null,
            "max_width": null,
            "min_height": null,
            "min_width": null,
            "object_fit": null,
            "object_position": null,
            "order": null,
            "overflow": null,
            "overflow_x": null,
            "overflow_y": null,
            "padding": null,
            "right": null,
            "top": null,
            "visibility": null,
            "width": null
          }
        },
        "afd302b9e6b64969814e3a929ca0893c": {
          "model_module": "@jupyter-widgets/controls",
          "model_name": "DescriptionStyleModel",
          "model_module_version": "1.5.0",
          "state": {
            "_model_module": "@jupyter-widgets/controls",
            "_model_module_version": "1.5.0",
            "_model_name": "DescriptionStyleModel",
            "_view_count": null,
            "_view_module": "@jupyter-widgets/base",
            "_view_module_version": "1.2.0",
            "_view_name": "StyleView",
            "description_width": ""
          }
        },
        "5ce9f7598b7c425da6c90aae83623121": {
          "model_module": "@jupyter-widgets/controls",
          "model_name": "HBoxModel",
          "model_module_version": "1.5.0",
          "state": {
            "_dom_classes": [],
            "_model_module": "@jupyter-widgets/controls",
            "_model_module_version": "1.5.0",
            "_model_name": "HBoxModel",
            "_view_count": null,
            "_view_module": "@jupyter-widgets/controls",
            "_view_module_version": "1.5.0",
            "_view_name": "HBoxView",
            "box_style": "",
            "children": [
              "IPY_MODEL_770467d9956241ceafd54907893a55ae",
              "IPY_MODEL_eafdcb92c2f24400a581eafd1b680724",
              "IPY_MODEL_cb37b5c25ead4f50b3371c21dc6a4785"
            ],
            "layout": "IPY_MODEL_2b55f13d958a49e6a27f81d9674a61df"
          }
        },
        "770467d9956241ceafd54907893a55ae": {
          "model_module": "@jupyter-widgets/controls",
          "model_name": "HTMLModel",
          "model_module_version": "1.5.0",
          "state": {
            "_dom_classes": [],
            "_model_module": "@jupyter-widgets/controls",
            "_model_module_version": "1.5.0",
            "_model_name": "HTMLModel",
            "_view_count": null,
            "_view_module": "@jupyter-widgets/controls",
            "_view_module_version": "1.5.0",
            "_view_name": "HTMLView",
            "description": "",
            "description_tooltip": null,
            "layout": "IPY_MODEL_7be63e5191154a808a75c2b231f669a3",
            "placeholder": "​",
            "style": "IPY_MODEL_66c6844c3c104ab1ac7a067ed926969a",
            "value": "tokenizer.json: 100%"
          }
        },
        "eafdcb92c2f24400a581eafd1b680724": {
          "model_module": "@jupyter-widgets/controls",
          "model_name": "FloatProgressModel",
          "model_module_version": "1.5.0",
          "state": {
            "_dom_classes": [],
            "_model_module": "@jupyter-widgets/controls",
            "_model_module_version": "1.5.0",
            "_model_name": "FloatProgressModel",
            "_view_count": null,
            "_view_module": "@jupyter-widgets/controls",
            "_view_module_version": "1.5.0",
            "_view_name": "ProgressView",
            "bar_style": "success",
            "description": "",
            "description_tooltip": null,
            "layout": "IPY_MODEL_1362f2aadd784e0c84870af660f34590",
            "max": 3476297,
            "min": 0,
            "orientation": "horizontal",
            "style": "IPY_MODEL_402788c7bc2242fdbf7bc5d53d23f3ca",
            "value": 3476297
          }
        },
        "cb37b5c25ead4f50b3371c21dc6a4785": {
          "model_module": "@jupyter-widgets/controls",
          "model_name": "HTMLModel",
          "model_module_version": "1.5.0",
          "state": {
            "_dom_classes": [],
            "_model_module": "@jupyter-widgets/controls",
            "_model_module_version": "1.5.0",
            "_model_name": "HTMLModel",
            "_view_count": null,
            "_view_module": "@jupyter-widgets/controls",
            "_view_module_version": "1.5.0",
            "_view_name": "HTMLView",
            "description": "",
            "description_tooltip": null,
            "layout": "IPY_MODEL_fcaeb1f5637d49ff84e0ac48cacb3587",
            "placeholder": "​",
            "style": "IPY_MODEL_9c7737d64c7740eaa18a76bdf7c35673",
            "value": " 3.48M/3.48M [00:02&lt;00:00, 1.25MB/s]"
          }
        },
        "2b55f13d958a49e6a27f81d9674a61df": {
          "model_module": "@jupyter-widgets/base",
          "model_name": "LayoutModel",
          "model_module_version": "1.2.0",
          "state": {
            "_model_module": "@jupyter-widgets/base",
            "_model_module_version": "1.2.0",
            "_model_name": "LayoutModel",
            "_view_count": null,
            "_view_module": "@jupyter-widgets/base",
            "_view_module_version": "1.2.0",
            "_view_name": "LayoutView",
            "align_content": null,
            "align_items": null,
            "align_self": null,
            "border": null,
            "bottom": null,
            "display": null,
            "flex": null,
            "flex_flow": null,
            "grid_area": null,
            "grid_auto_columns": null,
            "grid_auto_flow": null,
            "grid_auto_rows": null,
            "grid_column": null,
            "grid_gap": null,
            "grid_row": null,
            "grid_template_areas": null,
            "grid_template_columns": null,
            "grid_template_rows": null,
            "height": null,
            "justify_content": null,
            "justify_items": null,
            "left": null,
            "margin": null,
            "max_height": null,
            "max_width": null,
            "min_height": null,
            "min_width": null,
            "object_fit": null,
            "object_position": null,
            "order": null,
            "overflow": null,
            "overflow_x": null,
            "overflow_y": null,
            "padding": null,
            "right": null,
            "top": null,
            "visibility": null,
            "width": null
          }
        },
        "7be63e5191154a808a75c2b231f669a3": {
          "model_module": "@jupyter-widgets/base",
          "model_name": "LayoutModel",
          "model_module_version": "1.2.0",
          "state": {
            "_model_module": "@jupyter-widgets/base",
            "_model_module_version": "1.2.0",
            "_model_name": "LayoutModel",
            "_view_count": null,
            "_view_module": "@jupyter-widgets/base",
            "_view_module_version": "1.2.0",
            "_view_name": "LayoutView",
            "align_content": null,
            "align_items": null,
            "align_self": null,
            "border": null,
            "bottom": null,
            "display": null,
            "flex": null,
            "flex_flow": null,
            "grid_area": null,
            "grid_auto_columns": null,
            "grid_auto_flow": null,
            "grid_auto_rows": null,
            "grid_column": null,
            "grid_gap": null,
            "grid_row": null,
            "grid_template_areas": null,
            "grid_template_columns": null,
            "grid_template_rows": null,
            "height": null,
            "justify_content": null,
            "justify_items": null,
            "left": null,
            "margin": null,
            "max_height": null,
            "max_width": null,
            "min_height": null,
            "min_width": null,
            "object_fit": null,
            "object_position": null,
            "order": null,
            "overflow": null,
            "overflow_x": null,
            "overflow_y": null,
            "padding": null,
            "right": null,
            "top": null,
            "visibility": null,
            "width": null
          }
        },
        "66c6844c3c104ab1ac7a067ed926969a": {
          "model_module": "@jupyter-widgets/controls",
          "model_name": "DescriptionStyleModel",
          "model_module_version": "1.5.0",
          "state": {
            "_model_module": "@jupyter-widgets/controls",
            "_model_module_version": "1.5.0",
            "_model_name": "DescriptionStyleModel",
            "_view_count": null,
            "_view_module": "@jupyter-widgets/base",
            "_view_module_version": "1.2.0",
            "_view_name": "StyleView",
            "description_width": ""
          }
        },
        "1362f2aadd784e0c84870af660f34590": {
          "model_module": "@jupyter-widgets/base",
          "model_name": "LayoutModel",
          "model_module_version": "1.2.0",
          "state": {
            "_model_module": "@jupyter-widgets/base",
            "_model_module_version": "1.2.0",
            "_model_name": "LayoutModel",
            "_view_count": null,
            "_view_module": "@jupyter-widgets/base",
            "_view_module_version": "1.2.0",
            "_view_name": "LayoutView",
            "align_content": null,
            "align_items": null,
            "align_self": null,
            "border": null,
            "bottom": null,
            "display": null,
            "flex": null,
            "flex_flow": null,
            "grid_area": null,
            "grid_auto_columns": null,
            "grid_auto_flow": null,
            "grid_auto_rows": null,
            "grid_column": null,
            "grid_gap": null,
            "grid_row": null,
            "grid_template_areas": null,
            "grid_template_columns": null,
            "grid_template_rows": null,
            "height": null,
            "justify_content": null,
            "justify_items": null,
            "left": null,
            "margin": null,
            "max_height": null,
            "max_width": null,
            "min_height": null,
            "min_width": null,
            "object_fit": null,
            "object_position": null,
            "order": null,
            "overflow": null,
            "overflow_x": null,
            "overflow_y": null,
            "padding": null,
            "right": null,
            "top": null,
            "visibility": null,
            "width": null
          }
        },
        "402788c7bc2242fdbf7bc5d53d23f3ca": {
          "model_module": "@jupyter-widgets/controls",
          "model_name": "ProgressStyleModel",
          "model_module_version": "1.5.0",
          "state": {
            "_model_module": "@jupyter-widgets/controls",
            "_model_module_version": "1.5.0",
            "_model_name": "ProgressStyleModel",
            "_view_count": null,
            "_view_module": "@jupyter-widgets/base",
            "_view_module_version": "1.2.0",
            "_view_name": "StyleView",
            "bar_color": null,
            "description_width": ""
          }
        },
        "fcaeb1f5637d49ff84e0ac48cacb3587": {
          "model_module": "@jupyter-widgets/base",
          "model_name": "LayoutModel",
          "model_module_version": "1.2.0",
          "state": {
            "_model_module": "@jupyter-widgets/base",
            "_model_module_version": "1.2.0",
            "_model_name": "LayoutModel",
            "_view_count": null,
            "_view_module": "@jupyter-widgets/base",
            "_view_module_version": "1.2.0",
            "_view_name": "LayoutView",
            "align_content": null,
            "align_items": null,
            "align_self": null,
            "border": null,
            "bottom": null,
            "display": null,
            "flex": null,
            "flex_flow": null,
            "grid_area": null,
            "grid_auto_columns": null,
            "grid_auto_flow": null,
            "grid_auto_rows": null,
            "grid_column": null,
            "grid_gap": null,
            "grid_row": null,
            "grid_template_areas": null,
            "grid_template_columns": null,
            "grid_template_rows": null,
            "height": null,
            "justify_content": null,
            "justify_items": null,
            "left": null,
            "margin": null,
            "max_height": null,
            "max_width": null,
            "min_height": null,
            "min_width": null,
            "object_fit": null,
            "object_position": null,
            "order": null,
            "overflow": null,
            "overflow_x": null,
            "overflow_y": null,
            "padding": null,
            "right": null,
            "top": null,
            "visibility": null,
            "width": null
          }
        },
        "9c7737d64c7740eaa18a76bdf7c35673": {
          "model_module": "@jupyter-widgets/controls",
          "model_name": "DescriptionStyleModel",
          "model_module_version": "1.5.0",
          "state": {
            "_model_module": "@jupyter-widgets/controls",
            "_model_module_version": "1.5.0",
            "_model_name": "DescriptionStyleModel",
            "_view_count": null,
            "_view_module": "@jupyter-widgets/base",
            "_view_module_version": "1.2.0",
            "_view_name": "StyleView",
            "description_width": ""
          }
        },
        "2dda85ab2c7049958e1bf733e57f9eb9": {
          "model_module": "@jupyter-widgets/controls",
          "model_name": "HBoxModel",
          "model_module_version": "1.5.0",
          "state": {
            "_dom_classes": [],
            "_model_module": "@jupyter-widgets/controls",
            "_model_module_version": "1.5.0",
            "_model_name": "HBoxModel",
            "_view_count": null,
            "_view_module": "@jupyter-widgets/controls",
            "_view_module_version": "1.5.0",
            "_view_name": "HBoxView",
            "box_style": "",
            "children": [
              "IPY_MODEL_29b366ff4d41498793b6ae7d31051906",
              "IPY_MODEL_4636ffb62ac849f2b4a270666c29ab1e",
              "IPY_MODEL_8233a66046e2488cbb5df1976de7cc71"
            ],
            "layout": "IPY_MODEL_26727c0f473b4c12bbe04f6e7599f395"
          }
        },
        "29b366ff4d41498793b6ae7d31051906": {
          "model_module": "@jupyter-widgets/controls",
          "model_name": "HTMLModel",
          "model_module_version": "1.5.0",
          "state": {
            "_dom_classes": [],
            "_model_module": "@jupyter-widgets/controls",
            "_model_module_version": "1.5.0",
            "_model_name": "HTMLModel",
            "_view_count": null,
            "_view_module": "@jupyter-widgets/controls",
            "_view_module_version": "1.5.0",
            "_view_name": "HTMLView",
            "description": "",
            "description_tooltip": null,
            "layout": "IPY_MODEL_1f36b44007154a949ae56399935149d0",
            "placeholder": "​",
            "style": "IPY_MODEL_1b6116e44826468abd9b08883cf3eede",
            "value": "special_tokens_map.json: 100%"
          }
        },
        "4636ffb62ac849f2b4a270666c29ab1e": {
          "model_module": "@jupyter-widgets/controls",
          "model_name": "FloatProgressModel",
          "model_module_version": "1.5.0",
          "state": {
            "_dom_classes": [],
            "_model_module": "@jupyter-widgets/controls",
            "_model_module_version": "1.5.0",
            "_model_name": "FloatProgressModel",
            "_view_count": null,
            "_view_module": "@jupyter-widgets/controls",
            "_view_module_version": "1.5.0",
            "_view_name": "ProgressView",
            "bar_style": "success",
            "description": "",
            "description_tooltip": null,
            "layout": "IPY_MODEL_7f959da9867b4dbb825e81481d68a77e",
            "max": 695,
            "min": 0,
            "orientation": "horizontal",
            "style": "IPY_MODEL_fdd0cc79aa5348cd9b9608e886540595",
            "value": 695
          }
        },
        "8233a66046e2488cbb5df1976de7cc71": {
          "model_module": "@jupyter-widgets/controls",
          "model_name": "HTMLModel",
          "model_module_version": "1.5.0",
          "state": {
            "_dom_classes": [],
            "_model_module": "@jupyter-widgets/controls",
            "_model_module_version": "1.5.0",
            "_model_name": "HTMLModel",
            "_view_count": null,
            "_view_module": "@jupyter-widgets/controls",
            "_view_module_version": "1.5.0",
            "_view_name": "HTMLView",
            "description": "",
            "description_tooltip": null,
            "layout": "IPY_MODEL_c214dfa5eb5345e38add3c9238a1e313",
            "placeholder": "​",
            "style": "IPY_MODEL_21dd3ddc62ce4fc1998a3018b906bbe1",
            "value": " 695/695 [00:00&lt;00:00, 49.9kB/s]"
          }
        },
        "26727c0f473b4c12bbe04f6e7599f395": {
          "model_module": "@jupyter-widgets/base",
          "model_name": "LayoutModel",
          "model_module_version": "1.2.0",
          "state": {
            "_model_module": "@jupyter-widgets/base",
            "_model_module_version": "1.2.0",
            "_model_name": "LayoutModel",
            "_view_count": null,
            "_view_module": "@jupyter-widgets/base",
            "_view_module_version": "1.2.0",
            "_view_name": "LayoutView",
            "align_content": null,
            "align_items": null,
            "align_self": null,
            "border": null,
            "bottom": null,
            "display": null,
            "flex": null,
            "flex_flow": null,
            "grid_area": null,
            "grid_auto_columns": null,
            "grid_auto_flow": null,
            "grid_auto_rows": null,
            "grid_column": null,
            "grid_gap": null,
            "grid_row": null,
            "grid_template_areas": null,
            "grid_template_columns": null,
            "grid_template_rows": null,
            "height": null,
            "justify_content": null,
            "justify_items": null,
            "left": null,
            "margin": null,
            "max_height": null,
            "max_width": null,
            "min_height": null,
            "min_width": null,
            "object_fit": null,
            "object_position": null,
            "order": null,
            "overflow": null,
            "overflow_x": null,
            "overflow_y": null,
            "padding": null,
            "right": null,
            "top": null,
            "visibility": null,
            "width": null
          }
        },
        "1f36b44007154a949ae56399935149d0": {
          "model_module": "@jupyter-widgets/base",
          "model_name": "LayoutModel",
          "model_module_version": "1.2.0",
          "state": {
            "_model_module": "@jupyter-widgets/base",
            "_model_module_version": "1.2.0",
            "_model_name": "LayoutModel",
            "_view_count": null,
            "_view_module": "@jupyter-widgets/base",
            "_view_module_version": "1.2.0",
            "_view_name": "LayoutView",
            "align_content": null,
            "align_items": null,
            "align_self": null,
            "border": null,
            "bottom": null,
            "display": null,
            "flex": null,
            "flex_flow": null,
            "grid_area": null,
            "grid_auto_columns": null,
            "grid_auto_flow": null,
            "grid_auto_rows": null,
            "grid_column": null,
            "grid_gap": null,
            "grid_row": null,
            "grid_template_areas": null,
            "grid_template_columns": null,
            "grid_template_rows": null,
            "height": null,
            "justify_content": null,
            "justify_items": null,
            "left": null,
            "margin": null,
            "max_height": null,
            "max_width": null,
            "min_height": null,
            "min_width": null,
            "object_fit": null,
            "object_position": null,
            "order": null,
            "overflow": null,
            "overflow_x": null,
            "overflow_y": null,
            "padding": null,
            "right": null,
            "top": null,
            "visibility": null,
            "width": null
          }
        },
        "1b6116e44826468abd9b08883cf3eede": {
          "model_module": "@jupyter-widgets/controls",
          "model_name": "DescriptionStyleModel",
          "model_module_version": "1.5.0",
          "state": {
            "_model_module": "@jupyter-widgets/controls",
            "_model_module_version": "1.5.0",
            "_model_name": "DescriptionStyleModel",
            "_view_count": null,
            "_view_module": "@jupyter-widgets/base",
            "_view_module_version": "1.2.0",
            "_view_name": "StyleView",
            "description_width": ""
          }
        },
        "7f959da9867b4dbb825e81481d68a77e": {
          "model_module": "@jupyter-widgets/base",
          "model_name": "LayoutModel",
          "model_module_version": "1.2.0",
          "state": {
            "_model_module": "@jupyter-widgets/base",
            "_model_module_version": "1.2.0",
            "_model_name": "LayoutModel",
            "_view_count": null,
            "_view_module": "@jupyter-widgets/base",
            "_view_module_version": "1.2.0",
            "_view_name": "LayoutView",
            "align_content": null,
            "align_items": null,
            "align_self": null,
            "border": null,
            "bottom": null,
            "display": null,
            "flex": null,
            "flex_flow": null,
            "grid_area": null,
            "grid_auto_columns": null,
            "grid_auto_flow": null,
            "grid_auto_rows": null,
            "grid_column": null,
            "grid_gap": null,
            "grid_row": null,
            "grid_template_areas": null,
            "grid_template_columns": null,
            "grid_template_rows": null,
            "height": null,
            "justify_content": null,
            "justify_items": null,
            "left": null,
            "margin": null,
            "max_height": null,
            "max_width": null,
            "min_height": null,
            "min_width": null,
            "object_fit": null,
            "object_position": null,
            "order": null,
            "overflow": null,
            "overflow_x": null,
            "overflow_y": null,
            "padding": null,
            "right": null,
            "top": null,
            "visibility": null,
            "width": null
          }
        },
        "fdd0cc79aa5348cd9b9608e886540595": {
          "model_module": "@jupyter-widgets/controls",
          "model_name": "ProgressStyleModel",
          "model_module_version": "1.5.0",
          "state": {
            "_model_module": "@jupyter-widgets/controls",
            "_model_module_version": "1.5.0",
            "_model_name": "ProgressStyleModel",
            "_view_count": null,
            "_view_module": "@jupyter-widgets/base",
            "_view_module_version": "1.2.0",
            "_view_name": "StyleView",
            "bar_color": null,
            "description_width": ""
          }
        },
        "c214dfa5eb5345e38add3c9238a1e313": {
          "model_module": "@jupyter-widgets/base",
          "model_name": "LayoutModel",
          "model_module_version": "1.2.0",
          "state": {
            "_model_module": "@jupyter-widgets/base",
            "_model_module_version": "1.2.0",
            "_model_name": "LayoutModel",
            "_view_count": null,
            "_view_module": "@jupyter-widgets/base",
            "_view_module_version": "1.2.0",
            "_view_name": "LayoutView",
            "align_content": null,
            "align_items": null,
            "align_self": null,
            "border": null,
            "bottom": null,
            "display": null,
            "flex": null,
            "flex_flow": null,
            "grid_area": null,
            "grid_auto_columns": null,
            "grid_auto_flow": null,
            "grid_auto_rows": null,
            "grid_column": null,
            "grid_gap": null,
            "grid_row": null,
            "grid_template_areas": null,
            "grid_template_columns": null,
            "grid_template_rows": null,
            "height": null,
            "justify_content": null,
            "justify_items": null,
            "left": null,
            "margin": null,
            "max_height": null,
            "max_width": null,
            "min_height": null,
            "min_width": null,
            "object_fit": null,
            "object_position": null,
            "order": null,
            "overflow": null,
            "overflow_x": null,
            "overflow_y": null,
            "padding": null,
            "right": null,
            "top": null,
            "visibility": null,
            "width": null
          }
        },
        "21dd3ddc62ce4fc1998a3018b906bbe1": {
          "model_module": "@jupyter-widgets/controls",
          "model_name": "DescriptionStyleModel",
          "model_module_version": "1.5.0",
          "state": {
            "_model_module": "@jupyter-widgets/controls",
            "_model_module_version": "1.5.0",
            "_model_name": "DescriptionStyleModel",
            "_view_count": null,
            "_view_module": "@jupyter-widgets/base",
            "_view_module_version": "1.2.0",
            "_view_name": "StyleView",
            "description_width": ""
          }
        },
        "0dc7bf2c597640cd9bd96867b92928ac": {
          "model_module": "@jupyter-widgets/controls",
          "model_name": "HBoxModel",
          "model_module_version": "1.5.0",
          "state": {
            "_dom_classes": [],
            "_model_module": "@jupyter-widgets/controls",
            "_model_module_version": "1.5.0",
            "_model_name": "HBoxModel",
            "_view_count": null,
            "_view_module": "@jupyter-widgets/controls",
            "_view_module_version": "1.5.0",
            "_view_name": "HBoxView",
            "box_style": "",
            "children": [
              "IPY_MODEL_f4239d2ef9254594b335bf8522acf0d2",
              "IPY_MODEL_cd2dfb5b384b46f6bc8cd32ba0fae166",
              "IPY_MODEL_6c45e61b72ca45b19d47c86e9aa64089"
            ],
            "layout": "IPY_MODEL_d30e9e17d977429d879a4d68fa686e20"
          }
        },
        "f4239d2ef9254594b335bf8522acf0d2": {
          "model_module": "@jupyter-widgets/controls",
          "model_name": "HTMLModel",
          "model_module_version": "1.5.0",
          "state": {
            "_dom_classes": [],
            "_model_module": "@jupyter-widgets/controls",
            "_model_module_version": "1.5.0",
            "_model_name": "HTMLModel",
            "_view_count": null,
            "_view_module": "@jupyter-widgets/controls",
            "_view_module_version": "1.5.0",
            "_view_name": "HTMLView",
            "description": "",
            "description_tooltip": null,
            "layout": "IPY_MODEL_a585745c1700460491696c0f187fab7b",
            "placeholder": "​",
            "style": "IPY_MODEL_28007ec356ab4d00bfd9b400e1ab0a89",
            "value": "config.json: 100%"
          }
        },
        "cd2dfb5b384b46f6bc8cd32ba0fae166": {
          "model_module": "@jupyter-widgets/controls",
          "model_name": "FloatProgressModel",
          "model_module_version": "1.5.0",
          "state": {
            "_dom_classes": [],
            "_model_module": "@jupyter-widgets/controls",
            "_model_module_version": "1.5.0",
            "_model_name": "FloatProgressModel",
            "_view_count": null,
            "_view_module": "@jupyter-widgets/controls",
            "_view_module_version": "1.5.0",
            "_view_name": "ProgressView",
            "bar_style": "success",
            "description": "",
            "description_tooltip": null,
            "layout": "IPY_MODEL_b7a02f9f8b5c4ae7b5c8ff1385eee0be",
            "max": 932,
            "min": 0,
            "orientation": "horizontal",
            "style": "IPY_MODEL_17f2c7ff758a408fb90158e4ce9ecaba",
            "value": 932
          }
        },
        "6c45e61b72ca45b19d47c86e9aa64089": {
          "model_module": "@jupyter-widgets/controls",
          "model_name": "HTMLModel",
          "model_module_version": "1.5.0",
          "state": {
            "_dom_classes": [],
            "_model_module": "@jupyter-widgets/controls",
            "_model_module_version": "1.5.0",
            "_model_name": "HTMLModel",
            "_view_count": null,
            "_view_module": "@jupyter-widgets/controls",
            "_view_module_version": "1.5.0",
            "_view_name": "HTMLView",
            "description": "",
            "description_tooltip": null,
            "layout": "IPY_MODEL_da5d1c7c880147f0b1bae2ec6054c76e",
            "placeholder": "​",
            "style": "IPY_MODEL_b04b1ad43ac54efd9ab99e909a071da4",
            "value": " 932/932 [00:00&lt;00:00, 72.6kB/s]"
          }
        },
        "d30e9e17d977429d879a4d68fa686e20": {
          "model_module": "@jupyter-widgets/base",
          "model_name": "LayoutModel",
          "model_module_version": "1.2.0",
          "state": {
            "_model_module": "@jupyter-widgets/base",
            "_model_module_version": "1.2.0",
            "_model_name": "LayoutModel",
            "_view_count": null,
            "_view_module": "@jupyter-widgets/base",
            "_view_module_version": "1.2.0",
            "_view_name": "LayoutView",
            "align_content": null,
            "align_items": null,
            "align_self": null,
            "border": null,
            "bottom": null,
            "display": null,
            "flex": null,
            "flex_flow": null,
            "grid_area": null,
            "grid_auto_columns": null,
            "grid_auto_flow": null,
            "grid_auto_rows": null,
            "grid_column": null,
            "grid_gap": null,
            "grid_row": null,
            "grid_template_areas": null,
            "grid_template_columns": null,
            "grid_template_rows": null,
            "height": null,
            "justify_content": null,
            "justify_items": null,
            "left": null,
            "margin": null,
            "max_height": null,
            "max_width": null,
            "min_height": null,
            "min_width": null,
            "object_fit": null,
            "object_position": null,
            "order": null,
            "overflow": null,
            "overflow_x": null,
            "overflow_y": null,
            "padding": null,
            "right": null,
            "top": null,
            "visibility": null,
            "width": null
          }
        },
        "a585745c1700460491696c0f187fab7b": {
          "model_module": "@jupyter-widgets/base",
          "model_name": "LayoutModel",
          "model_module_version": "1.2.0",
          "state": {
            "_model_module": "@jupyter-widgets/base",
            "_model_module_version": "1.2.0",
            "_model_name": "LayoutModel",
            "_view_count": null,
            "_view_module": "@jupyter-widgets/base",
            "_view_module_version": "1.2.0",
            "_view_name": "LayoutView",
            "align_content": null,
            "align_items": null,
            "align_self": null,
            "border": null,
            "bottom": null,
            "display": null,
            "flex": null,
            "flex_flow": null,
            "grid_area": null,
            "grid_auto_columns": null,
            "grid_auto_flow": null,
            "grid_auto_rows": null,
            "grid_column": null,
            "grid_gap": null,
            "grid_row": null,
            "grid_template_areas": null,
            "grid_template_columns": null,
            "grid_template_rows": null,
            "height": null,
            "justify_content": null,
            "justify_items": null,
            "left": null,
            "margin": null,
            "max_height": null,
            "max_width": null,
            "min_height": null,
            "min_width": null,
            "object_fit": null,
            "object_position": null,
            "order": null,
            "overflow": null,
            "overflow_x": null,
            "overflow_y": null,
            "padding": null,
            "right": null,
            "top": null,
            "visibility": null,
            "width": null
          }
        },
        "28007ec356ab4d00bfd9b400e1ab0a89": {
          "model_module": "@jupyter-widgets/controls",
          "model_name": "DescriptionStyleModel",
          "model_module_version": "1.5.0",
          "state": {
            "_model_module": "@jupyter-widgets/controls",
            "_model_module_version": "1.5.0",
            "_model_name": "DescriptionStyleModel",
            "_view_count": null,
            "_view_module": "@jupyter-widgets/base",
            "_view_module_version": "1.2.0",
            "_view_name": "StyleView",
            "description_width": ""
          }
        },
        "b7a02f9f8b5c4ae7b5c8ff1385eee0be": {
          "model_module": "@jupyter-widgets/base",
          "model_name": "LayoutModel",
          "model_module_version": "1.2.0",
          "state": {
            "_model_module": "@jupyter-widgets/base",
            "_model_module_version": "1.2.0",
            "_model_name": "LayoutModel",
            "_view_count": null,
            "_view_module": "@jupyter-widgets/base",
            "_view_module_version": "1.2.0",
            "_view_name": "LayoutView",
            "align_content": null,
            "align_items": null,
            "align_self": null,
            "border": null,
            "bottom": null,
            "display": null,
            "flex": null,
            "flex_flow": null,
            "grid_area": null,
            "grid_auto_columns": null,
            "grid_auto_flow": null,
            "grid_auto_rows": null,
            "grid_column": null,
            "grid_gap": null,
            "grid_row": null,
            "grid_template_areas": null,
            "grid_template_columns": null,
            "grid_template_rows": null,
            "height": null,
            "justify_content": null,
            "justify_items": null,
            "left": null,
            "margin": null,
            "max_height": null,
            "max_width": null,
            "min_height": null,
            "min_width": null,
            "object_fit": null,
            "object_position": null,
            "order": null,
            "overflow": null,
            "overflow_x": null,
            "overflow_y": null,
            "padding": null,
            "right": null,
            "top": null,
            "visibility": null,
            "width": null
          }
        },
        "17f2c7ff758a408fb90158e4ce9ecaba": {
          "model_module": "@jupyter-widgets/controls",
          "model_name": "ProgressStyleModel",
          "model_module_version": "1.5.0",
          "state": {
            "_model_module": "@jupyter-widgets/controls",
            "_model_module_version": "1.5.0",
            "_model_name": "ProgressStyleModel",
            "_view_count": null,
            "_view_module": "@jupyter-widgets/base",
            "_view_module_version": "1.2.0",
            "_view_name": "StyleView",
            "bar_color": null,
            "description_width": ""
          }
        },
        "da5d1c7c880147f0b1bae2ec6054c76e": {
          "model_module": "@jupyter-widgets/base",
          "model_name": "LayoutModel",
          "model_module_version": "1.2.0",
          "state": {
            "_model_module": "@jupyter-widgets/base",
            "_model_module_version": "1.2.0",
            "_model_name": "LayoutModel",
            "_view_count": null,
            "_view_module": "@jupyter-widgets/base",
            "_view_module_version": "1.2.0",
            "_view_name": "LayoutView",
            "align_content": null,
            "align_items": null,
            "align_self": null,
            "border": null,
            "bottom": null,
            "display": null,
            "flex": null,
            "flex_flow": null,
            "grid_area": null,
            "grid_auto_columns": null,
            "grid_auto_flow": null,
            "grid_auto_rows": null,
            "grid_column": null,
            "grid_gap": null,
            "grid_row": null,
            "grid_template_areas": null,
            "grid_template_columns": null,
            "grid_template_rows": null,
            "height": null,
            "justify_content": null,
            "justify_items": null,
            "left": null,
            "margin": null,
            "max_height": null,
            "max_width": null,
            "min_height": null,
            "min_width": null,
            "object_fit": null,
            "object_position": null,
            "order": null,
            "overflow": null,
            "overflow_x": null,
            "overflow_y": null,
            "padding": null,
            "right": null,
            "top": null,
            "visibility": null,
            "width": null
          }
        },
        "b04b1ad43ac54efd9ab99e909a071da4": {
          "model_module": "@jupyter-widgets/controls",
          "model_name": "DescriptionStyleModel",
          "model_module_version": "1.5.0",
          "state": {
            "_model_module": "@jupyter-widgets/controls",
            "_model_module_version": "1.5.0",
            "_model_name": "DescriptionStyleModel",
            "_view_count": null,
            "_view_module": "@jupyter-widgets/base",
            "_view_module_version": "1.2.0",
            "_view_name": "StyleView",
            "description_width": ""
          }
        },
        "bbbb2952b80243169e35fa8394819075": {
          "model_module": "@jupyter-widgets/controls",
          "model_name": "HBoxModel",
          "model_module_version": "1.5.0",
          "state": {
            "_dom_classes": [],
            "_model_module": "@jupyter-widgets/controls",
            "_model_module_version": "1.5.0",
            "_model_name": "HBoxModel",
            "_view_count": null,
            "_view_module": "@jupyter-widgets/controls",
            "_view_module_version": "1.5.0",
            "_view_name": "HBoxView",
            "box_style": "",
            "children": [
              "IPY_MODEL_05667d92ec9148fc98e081dd27beb388",
              "IPY_MODEL_58881b0d149f4752853daa3771213ce8",
              "IPY_MODEL_c26285dbe11a4a419208ae8bc08702db"
            ],
            "layout": "IPY_MODEL_fbfb356ce56f44888a5b50665b665647"
          }
        },
        "05667d92ec9148fc98e081dd27beb388": {
          "model_module": "@jupyter-widgets/controls",
          "model_name": "HTMLModel",
          "model_module_version": "1.5.0",
          "state": {
            "_dom_classes": [],
            "_model_module": "@jupyter-widgets/controls",
            "_model_module_version": "1.5.0",
            "_model_name": "HTMLModel",
            "_view_count": null,
            "_view_module": "@jupyter-widgets/controls",
            "_view_module_version": "1.5.0",
            "_view_name": "HTMLView",
            "description": "",
            "description_tooltip": null,
            "layout": "IPY_MODEL_155b7b5f88884805a4f981a381b3ffa9",
            "placeholder": "​",
            "style": "IPY_MODEL_a21d3807b2cd407c805bd32b95b178a8",
            "value": "model.safetensors: 100%"
          }
        },
        "58881b0d149f4752853daa3771213ce8": {
          "model_module": "@jupyter-widgets/controls",
          "model_name": "FloatProgressModel",
          "model_module_version": "1.5.0",
          "state": {
            "_dom_classes": [],
            "_model_module": "@jupyter-widgets/controls",
            "_model_module_version": "1.5.0",
            "_model_name": "FloatProgressModel",
            "_view_count": null,
            "_view_module": "@jupyter-widgets/controls",
            "_view_module_version": "1.5.0",
            "_view_name": "ProgressView",
            "bar_style": "success",
            "description": "",
            "description_tooltip": null,
            "layout": "IPY_MODEL_2af5867b44b34c8cbeb4485347afec5f",
            "max": 711443456,
            "min": 0,
            "orientation": "horizontal",
            "style": "IPY_MODEL_e59fcd509fc044fb952c3dcb59734b14",
            "value": 711443456
          }
        },
        "c26285dbe11a4a419208ae8bc08702db": {
          "model_module": "@jupyter-widgets/controls",
          "model_name": "HTMLModel",
          "model_module_version": "1.5.0",
          "state": {
            "_dom_classes": [],
            "_model_module": "@jupyter-widgets/controls",
            "_model_module_version": "1.5.0",
            "_model_name": "HTMLModel",
            "_view_count": null,
            "_view_module": "@jupyter-widgets/controls",
            "_view_module_version": "1.5.0",
            "_view_name": "HTMLView",
            "description": "",
            "description_tooltip": null,
            "layout": "IPY_MODEL_21553eae10ca40509912d636c970d5ea",
            "placeholder": "​",
            "style": "IPY_MODEL_0ad99554adb04a458ec9888e48a2b98e",
            "value": " 711M/711M [00:29&lt;00:00, 24.2MB/s]"
          }
        },
        "fbfb356ce56f44888a5b50665b665647": {
          "model_module": "@jupyter-widgets/base",
          "model_name": "LayoutModel",
          "model_module_version": "1.2.0",
          "state": {
            "_model_module": "@jupyter-widgets/base",
            "_model_module_version": "1.2.0",
            "_model_name": "LayoutModel",
            "_view_count": null,
            "_view_module": "@jupyter-widgets/base",
            "_view_module_version": "1.2.0",
            "_view_name": "LayoutView",
            "align_content": null,
            "align_items": null,
            "align_self": null,
            "border": null,
            "bottom": null,
            "display": null,
            "flex": null,
            "flex_flow": null,
            "grid_area": null,
            "grid_auto_columns": null,
            "grid_auto_flow": null,
            "grid_auto_rows": null,
            "grid_column": null,
            "grid_gap": null,
            "grid_row": null,
            "grid_template_areas": null,
            "grid_template_columns": null,
            "grid_template_rows": null,
            "height": null,
            "justify_content": null,
            "justify_items": null,
            "left": null,
            "margin": null,
            "max_height": null,
            "max_width": null,
            "min_height": null,
            "min_width": null,
            "object_fit": null,
            "object_position": null,
            "order": null,
            "overflow": null,
            "overflow_x": null,
            "overflow_y": null,
            "padding": null,
            "right": null,
            "top": null,
            "visibility": null,
            "width": null
          }
        },
        "155b7b5f88884805a4f981a381b3ffa9": {
          "model_module": "@jupyter-widgets/base",
          "model_name": "LayoutModel",
          "model_module_version": "1.2.0",
          "state": {
            "_model_module": "@jupyter-widgets/base",
            "_model_module_version": "1.2.0",
            "_model_name": "LayoutModel",
            "_view_count": null,
            "_view_module": "@jupyter-widgets/base",
            "_view_module_version": "1.2.0",
            "_view_name": "LayoutView",
            "align_content": null,
            "align_items": null,
            "align_self": null,
            "border": null,
            "bottom": null,
            "display": null,
            "flex": null,
            "flex_flow": null,
            "grid_area": null,
            "grid_auto_columns": null,
            "grid_auto_flow": null,
            "grid_auto_rows": null,
            "grid_column": null,
            "grid_gap": null,
            "grid_row": null,
            "grid_template_areas": null,
            "grid_template_columns": null,
            "grid_template_rows": null,
            "height": null,
            "justify_content": null,
            "justify_items": null,
            "left": null,
            "margin": null,
            "max_height": null,
            "max_width": null,
            "min_height": null,
            "min_width": null,
            "object_fit": null,
            "object_position": null,
            "order": null,
            "overflow": null,
            "overflow_x": null,
            "overflow_y": null,
            "padding": null,
            "right": null,
            "top": null,
            "visibility": null,
            "width": null
          }
        },
        "a21d3807b2cd407c805bd32b95b178a8": {
          "model_module": "@jupyter-widgets/controls",
          "model_name": "DescriptionStyleModel",
          "model_module_version": "1.5.0",
          "state": {
            "_model_module": "@jupyter-widgets/controls",
            "_model_module_version": "1.5.0",
            "_model_name": "DescriptionStyleModel",
            "_view_count": null,
            "_view_module": "@jupyter-widgets/base",
            "_view_module_version": "1.2.0",
            "_view_name": "StyleView",
            "description_width": ""
          }
        },
        "2af5867b44b34c8cbeb4485347afec5f": {
          "model_module": "@jupyter-widgets/base",
          "model_name": "LayoutModel",
          "model_module_version": "1.2.0",
          "state": {
            "_model_module": "@jupyter-widgets/base",
            "_model_module_version": "1.2.0",
            "_model_name": "LayoutModel",
            "_view_count": null,
            "_view_module": "@jupyter-widgets/base",
            "_view_module_version": "1.2.0",
            "_view_name": "LayoutView",
            "align_content": null,
            "align_items": null,
            "align_self": null,
            "border": null,
            "bottom": null,
            "display": null,
            "flex": null,
            "flex_flow": null,
            "grid_area": null,
            "grid_auto_columns": null,
            "grid_auto_flow": null,
            "grid_auto_rows": null,
            "grid_column": null,
            "grid_gap": null,
            "grid_row": null,
            "grid_template_areas": null,
            "grid_template_columns": null,
            "grid_template_rows": null,
            "height": null,
            "justify_content": null,
            "justify_items": null,
            "left": null,
            "margin": null,
            "max_height": null,
            "max_width": null,
            "min_height": null,
            "min_width": null,
            "object_fit": null,
            "object_position": null,
            "order": null,
            "overflow": null,
            "overflow_x": null,
            "overflow_y": null,
            "padding": null,
            "right": null,
            "top": null,
            "visibility": null,
            "width": null
          }
        },
        "e59fcd509fc044fb952c3dcb59734b14": {
          "model_module": "@jupyter-widgets/controls",
          "model_name": "ProgressStyleModel",
          "model_module_version": "1.5.0",
          "state": {
            "_model_module": "@jupyter-widgets/controls",
            "_model_module_version": "1.5.0",
            "_model_name": "ProgressStyleModel",
            "_view_count": null,
            "_view_module": "@jupyter-widgets/base",
            "_view_module_version": "1.2.0",
            "_view_name": "StyleView",
            "bar_color": null,
            "description_width": ""
          }
        },
        "21553eae10ca40509912d636c970d5ea": {
          "model_module": "@jupyter-widgets/base",
          "model_name": "LayoutModel",
          "model_module_version": "1.2.0",
          "state": {
            "_model_module": "@jupyter-widgets/base",
            "_model_module_version": "1.2.0",
            "_model_name": "LayoutModel",
            "_view_count": null,
            "_view_module": "@jupyter-widgets/base",
            "_view_module_version": "1.2.0",
            "_view_name": "LayoutView",
            "align_content": null,
            "align_items": null,
            "align_self": null,
            "border": null,
            "bottom": null,
            "display": null,
            "flex": null,
            "flex_flow": null,
            "grid_area": null,
            "grid_auto_columns": null,
            "grid_auto_flow": null,
            "grid_auto_rows": null,
            "grid_column": null,
            "grid_gap": null,
            "grid_row": null,
            "grid_template_areas": null,
            "grid_template_columns": null,
            "grid_template_rows": null,
            "height": null,
            "justify_content": null,
            "justify_items": null,
            "left": null,
            "margin": null,
            "max_height": null,
            "max_width": null,
            "min_height": null,
            "min_width": null,
            "object_fit": null,
            "object_position": null,
            "order": null,
            "overflow": null,
            "overflow_x": null,
            "overflow_y": null,
            "padding": null,
            "right": null,
            "top": null,
            "visibility": null,
            "width": null
          }
        },
        "0ad99554adb04a458ec9888e48a2b98e": {
          "model_module": "@jupyter-widgets/controls",
          "model_name": "DescriptionStyleModel",
          "model_module_version": "1.5.0",
          "state": {
            "_model_module": "@jupyter-widgets/controls",
            "_model_module_version": "1.5.0",
            "_model_name": "DescriptionStyleModel",
            "_view_count": null,
            "_view_module": "@jupyter-widgets/base",
            "_view_module_version": "1.2.0",
            "_view_name": "StyleView",
            "description_width": ""
          }
        }
      }
    }
  },
  "nbformat": 4,
  "nbformat_minor": 0
}