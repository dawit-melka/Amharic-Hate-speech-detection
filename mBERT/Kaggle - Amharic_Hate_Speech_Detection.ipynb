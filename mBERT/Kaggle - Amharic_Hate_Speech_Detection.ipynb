{
  "metadata": {
    "kernelspec": {
      "name": "python3",
      "display_name": "Python 3",
      "language": "python"
    },
    "language_info": {
      "name": "python",
      "version": "3.10.12",
      "mimetype": "text/x-python",
      "codemirror_mode": {
        "name": "ipython",
        "version": 3
      },
      "pygments_lexer": "ipython3",
      "nbconvert_exporter": "python",
      "file_extension": ".py"
    },
    "accelerator": "GPU",
    "colab": {
      "provenance": [],
      "name": "Amharic Hate Speech Detection",
      "include_colab_link": true
    },
    "gpuClass": "standard",
    "widgets": {
      "application/vnd.jupyter.widget-state+json": {
        "9bce1f7370fd4790850d7727207eb334": {
          "model_module": "@jupyter-widgets/controls",
          "model_name": "VBoxModel",
          "model_module_version": "1.5.0",
          "state": {
            "_dom_classes": [],
            "_model_module": "@jupyter-widgets/controls",
            "_model_module_version": "1.5.0",
            "_model_name": "VBoxModel",
            "_view_count": null,
            "_view_module": "@jupyter-widgets/controls",
            "_view_module_version": "1.5.0",
            "_view_name": "VBoxView",
            "box_style": "",
            "children": [
              "IPY_MODEL_63f40be1b8c0418e82ba302a5f22cb36",
              "IPY_MODEL_1cc463575aee4549884458edbe49e1f4",
              "IPY_MODEL_917a6c1cc0b2473bb92547b64213b901",
              "IPY_MODEL_6bbe45d6c08f4a2e81f88367ca65d05a",
              "IPY_MODEL_02fc02628b4c4fa899a810dd3e5239aa"
            ],
            "layout": "IPY_MODEL_3e8305e73dea44db9bb4b555242f9b03"
          }
        },
        "63f40be1b8c0418e82ba302a5f22cb36": {
          "model_module": "@jupyter-widgets/controls",
          "model_name": "HTMLModel",
          "model_module_version": "1.5.0",
          "state": {
            "_dom_classes": [],
            "_model_module": "@jupyter-widgets/controls",
            "_model_module_version": "1.5.0",
            "_model_name": "HTMLModel",
            "_view_count": null,
            "_view_module": "@jupyter-widgets/controls",
            "_view_module_version": "1.5.0",
            "_view_name": "HTMLView",
            "description": "",
            "description_tooltip": null,
            "layout": "IPY_MODEL_c04e9851447a4f2092d920a32067339c",
            "placeholder": "​",
            "style": "IPY_MODEL_ba9a6349f2d9414195103dd1b164594e",
            "value": "<center> <img\nsrc=https://huggingface.co/front/assets/huggingface_logo-noborder.svg\nalt='Hugging Face'> <br> Copy a token from <a\nhref=\"https://huggingface.co/settings/tokens\" target=\"_blank\">your Hugging Face\ntokens page</a> and paste it below. <br> Immediately click login after copying\nyour token or it might be stored in plain text in this notebook file. </center>"
          }
        },
        "1cc463575aee4549884458edbe49e1f4": {
          "model_module": "@jupyter-widgets/controls",
          "model_name": "PasswordModel",
          "model_module_version": "1.5.0",
          "state": {
            "_dom_classes": [],
            "_model_module": "@jupyter-widgets/controls",
            "_model_module_version": "1.5.0",
            "_model_name": "PasswordModel",
            "_view_count": null,
            "_view_module": "@jupyter-widgets/controls",
            "_view_module_version": "1.5.0",
            "_view_name": "PasswordView",
            "continuous_update": true,
            "description": "Token:",
            "description_tooltip": null,
            "disabled": false,
            "layout": "IPY_MODEL_ae572d6d518d4b2085ca987062a207b0",
            "placeholder": "​",
            "style": "IPY_MODEL_5611628cd27e41b4a7c58f983a0fe97e",
            "value": ""
          }
        },
        "917a6c1cc0b2473bb92547b64213b901": {
          "model_module": "@jupyter-widgets/controls",
          "model_name": "CheckboxModel",
          "model_module_version": "1.5.0",
          "state": {
            "_dom_classes": [],
            "_model_module": "@jupyter-widgets/controls",
            "_model_module_version": "1.5.0",
            "_model_name": "CheckboxModel",
            "_view_count": null,
            "_view_module": "@jupyter-widgets/controls",
            "_view_module_version": "1.5.0",
            "_view_name": "CheckboxView",
            "description": "Add token as git credential?",
            "description_tooltip": null,
            "disabled": false,
            "indent": true,
            "layout": "IPY_MODEL_01d1ee171dd245cfb1bb8cd52a084915",
            "style": "IPY_MODEL_dfd61cff5f104898baa3ebcb199ea3bd",
            "value": true
          }
        },
        "6bbe45d6c08f4a2e81f88367ca65d05a": {
          "model_module": "@jupyter-widgets/controls",
          "model_name": "ButtonModel",
          "model_module_version": "1.5.0",
          "state": {
            "_dom_classes": [],
            "_model_module": "@jupyter-widgets/controls",
            "_model_module_version": "1.5.0",
            "_model_name": "ButtonModel",
            "_view_count": null,
            "_view_module": "@jupyter-widgets/controls",
            "_view_module_version": "1.5.0",
            "_view_name": "ButtonView",
            "button_style": "",
            "description": "Login",
            "disabled": false,
            "icon": "",
            "layout": "IPY_MODEL_0e4dbba6c175477d94572b75de1cb27c",
            "style": "IPY_MODEL_eb1b0813dbb243ae9ab99fb9ca04f51f",
            "tooltip": ""
          }
        },
        "02fc02628b4c4fa899a810dd3e5239aa": {
          "model_module": "@jupyter-widgets/controls",
          "model_name": "HTMLModel",
          "model_module_version": "1.5.0",
          "state": {
            "_dom_classes": [],
            "_model_module": "@jupyter-widgets/controls",
            "_model_module_version": "1.5.0",
            "_model_name": "HTMLModel",
            "_view_count": null,
            "_view_module": "@jupyter-widgets/controls",
            "_view_module_version": "1.5.0",
            "_view_name": "HTMLView",
            "description": "",
            "description_tooltip": null,
            "layout": "IPY_MODEL_36f9d970ba5741d0941db47597324d95",
            "placeholder": "​",
            "style": "IPY_MODEL_b13694e633f04f8ea9b397a812d88fd4",
            "value": "\n<b>Pro Tip:</b> If you don't already have one, you can create a dedicated\n'notebooks' token with 'write' access, that you can then easily reuse for all\nnotebooks. </center>"
          }
        },
        "3e8305e73dea44db9bb4b555242f9b03": {
          "model_module": "@jupyter-widgets/base",
          "model_name": "LayoutModel",
          "model_module_version": "1.2.0",
          "state": {
            "_model_module": "@jupyter-widgets/base",
            "_model_module_version": "1.2.0",
            "_model_name": "LayoutModel",
            "_view_count": null,
            "_view_module": "@jupyter-widgets/base",
            "_view_module_version": "1.2.0",
            "_view_name": "LayoutView",
            "align_content": null,
            "align_items": "center",
            "align_self": null,
            "border": null,
            "bottom": null,
            "display": "flex",
            "flex": null,
            "flex_flow": "column",
            "grid_area": null,
            "grid_auto_columns": null,
            "grid_auto_flow": null,
            "grid_auto_rows": null,
            "grid_column": null,
            "grid_gap": null,
            "grid_row": null,
            "grid_template_areas": null,
            "grid_template_columns": null,
            "grid_template_rows": null,
            "height": null,
            "justify_content": null,
            "justify_items": null,
            "left": null,
            "margin": null,
            "max_height": null,
            "max_width": null,
            "min_height": null,
            "min_width": null,
            "object_fit": null,
            "object_position": null,
            "order": null,
            "overflow": null,
            "overflow_x": null,
            "overflow_y": null,
            "padding": null,
            "right": null,
            "top": null,
            "visibility": null,
            "width": "50%"
          }
        },
        "c04e9851447a4f2092d920a32067339c": {
          "model_module": "@jupyter-widgets/base",
          "model_name": "LayoutModel",
          "model_module_version": "1.2.0",
          "state": {
            "_model_module": "@jupyter-widgets/base",
            "_model_module_version": "1.2.0",
            "_model_name": "LayoutModel",
            "_view_count": null,
            "_view_module": "@jupyter-widgets/base",
            "_view_module_version": "1.2.0",
            "_view_name": "LayoutView",
            "align_content": null,
            "align_items": null,
            "align_self": null,
            "border": null,
            "bottom": null,
            "display": null,
            "flex": null,
            "flex_flow": null,
            "grid_area": null,
            "grid_auto_columns": null,
            "grid_auto_flow": null,
            "grid_auto_rows": null,
            "grid_column": null,
            "grid_gap": null,
            "grid_row": null,
            "grid_template_areas": null,
            "grid_template_columns": null,
            "grid_template_rows": null,
            "height": null,
            "justify_content": null,
            "justify_items": null,
            "left": null,
            "margin": null,
            "max_height": null,
            "max_width": null,
            "min_height": null,
            "min_width": null,
            "object_fit": null,
            "object_position": null,
            "order": null,
            "overflow": null,
            "overflow_x": null,
            "overflow_y": null,
            "padding": null,
            "right": null,
            "top": null,
            "visibility": null,
            "width": null
          }
        },
        "ba9a6349f2d9414195103dd1b164594e": {
          "model_module": "@jupyter-widgets/controls",
          "model_name": "DescriptionStyleModel",
          "model_module_version": "1.5.0",
          "state": {
            "_model_module": "@jupyter-widgets/controls",
            "_model_module_version": "1.5.0",
            "_model_name": "DescriptionStyleModel",
            "_view_count": null,
            "_view_module": "@jupyter-widgets/base",
            "_view_module_version": "1.2.0",
            "_view_name": "StyleView",
            "description_width": ""
          }
        },
        "ae572d6d518d4b2085ca987062a207b0": {
          "model_module": "@jupyter-widgets/base",
          "model_name": "LayoutModel",
          "model_module_version": "1.2.0",
          "state": {
            "_model_module": "@jupyter-widgets/base",
            "_model_module_version": "1.2.0",
            "_model_name": "LayoutModel",
            "_view_count": null,
            "_view_module": "@jupyter-widgets/base",
            "_view_module_version": "1.2.0",
            "_view_name": "LayoutView",
            "align_content": null,
            "align_items": null,
            "align_self": null,
            "border": null,
            "bottom": null,
            "display": null,
            "flex": null,
            "flex_flow": null,
            "grid_area": null,
            "grid_auto_columns": null,
            "grid_auto_flow": null,
            "grid_auto_rows": null,
            "grid_column": null,
            "grid_gap": null,
            "grid_row": null,
            "grid_template_areas": null,
            "grid_template_columns": null,
            "grid_template_rows": null,
            "height": null,
            "justify_content": null,
            "justify_items": null,
            "left": null,
            "margin": null,
            "max_height": null,
            "max_width": null,
            "min_height": null,
            "min_width": null,
            "object_fit": null,
            "object_position": null,
            "order": null,
            "overflow": null,
            "overflow_x": null,
            "overflow_y": null,
            "padding": null,
            "right": null,
            "top": null,
            "visibility": null,
            "width": null
          }
        },
        "5611628cd27e41b4a7c58f983a0fe97e": {
          "model_module": "@jupyter-widgets/controls",
          "model_name": "DescriptionStyleModel",
          "model_module_version": "1.5.0",
          "state": {
            "_model_module": "@jupyter-widgets/controls",
            "_model_module_version": "1.5.0",
            "_model_name": "DescriptionStyleModel",
            "_view_count": null,
            "_view_module": "@jupyter-widgets/base",
            "_view_module_version": "1.2.0",
            "_view_name": "StyleView",
            "description_width": ""
          }
        },
        "01d1ee171dd245cfb1bb8cd52a084915": {
          "model_module": "@jupyter-widgets/base",
          "model_name": "LayoutModel",
          "model_module_version": "1.2.0",
          "state": {
            "_model_module": "@jupyter-widgets/base",
            "_model_module_version": "1.2.0",
            "_model_name": "LayoutModel",
            "_view_count": null,
            "_view_module": "@jupyter-widgets/base",
            "_view_module_version": "1.2.0",
            "_view_name": "LayoutView",
            "align_content": null,
            "align_items": null,
            "align_self": null,
            "border": null,
            "bottom": null,
            "display": null,
            "flex": null,
            "flex_flow": null,
            "grid_area": null,
            "grid_auto_columns": null,
            "grid_auto_flow": null,
            "grid_auto_rows": null,
            "grid_column": null,
            "grid_gap": null,
            "grid_row": null,
            "grid_template_areas": null,
            "grid_template_columns": null,
            "grid_template_rows": null,
            "height": null,
            "justify_content": null,
            "justify_items": null,
            "left": null,
            "margin": null,
            "max_height": null,
            "max_width": null,
            "min_height": null,
            "min_width": null,
            "object_fit": null,
            "object_position": null,
            "order": null,
            "overflow": null,
            "overflow_x": null,
            "overflow_y": null,
            "padding": null,
            "right": null,
            "top": null,
            "visibility": null,
            "width": null
          }
        },
        "dfd61cff5f104898baa3ebcb199ea3bd": {
          "model_module": "@jupyter-widgets/controls",
          "model_name": "DescriptionStyleModel",
          "model_module_version": "1.5.0",
          "state": {
            "_model_module": "@jupyter-widgets/controls",
            "_model_module_version": "1.5.0",
            "_model_name": "DescriptionStyleModel",
            "_view_count": null,
            "_view_module": "@jupyter-widgets/base",
            "_view_module_version": "1.2.0",
            "_view_name": "StyleView",
            "description_width": ""
          }
        },
        "0e4dbba6c175477d94572b75de1cb27c": {
          "model_module": "@jupyter-widgets/base",
          "model_name": "LayoutModel",
          "model_module_version": "1.2.0",
          "state": {
            "_model_module": "@jupyter-widgets/base",
            "_model_module_version": "1.2.0",
            "_model_name": "LayoutModel",
            "_view_count": null,
            "_view_module": "@jupyter-widgets/base",
            "_view_module_version": "1.2.0",
            "_view_name": "LayoutView",
            "align_content": null,
            "align_items": null,
            "align_self": null,
            "border": null,
            "bottom": null,
            "display": null,
            "flex": null,
            "flex_flow": null,
            "grid_area": null,
            "grid_auto_columns": null,
            "grid_auto_flow": null,
            "grid_auto_rows": null,
            "grid_column": null,
            "grid_gap": null,
            "grid_row": null,
            "grid_template_areas": null,
            "grid_template_columns": null,
            "grid_template_rows": null,
            "height": null,
            "justify_content": null,
            "justify_items": null,
            "left": null,
            "margin": null,
            "max_height": null,
            "max_width": null,
            "min_height": null,
            "min_width": null,
            "object_fit": null,
            "object_position": null,
            "order": null,
            "overflow": null,
            "overflow_x": null,
            "overflow_y": null,
            "padding": null,
            "right": null,
            "top": null,
            "visibility": null,
            "width": null
          }
        },
        "eb1b0813dbb243ae9ab99fb9ca04f51f": {
          "model_module": "@jupyter-widgets/controls",
          "model_name": "ButtonStyleModel",
          "model_module_version": "1.5.0",
          "state": {
            "_model_module": "@jupyter-widgets/controls",
            "_model_module_version": "1.5.0",
            "_model_name": "ButtonStyleModel",
            "_view_count": null,
            "_view_module": "@jupyter-widgets/base",
            "_view_module_version": "1.2.0",
            "_view_name": "StyleView",
            "button_color": null,
            "font_weight": ""
          }
        },
        "36f9d970ba5741d0941db47597324d95": {
          "model_module": "@jupyter-widgets/base",
          "model_name": "LayoutModel",
          "model_module_version": "1.2.0",
          "state": {
            "_model_module": "@jupyter-widgets/base",
            "_model_module_version": "1.2.0",
            "_model_name": "LayoutModel",
            "_view_count": null,
            "_view_module": "@jupyter-widgets/base",
            "_view_module_version": "1.2.0",
            "_view_name": "LayoutView",
            "align_content": null,
            "align_items": null,
            "align_self": null,
            "border": null,
            "bottom": null,
            "display": null,
            "flex": null,
            "flex_flow": null,
            "grid_area": null,
            "grid_auto_columns": null,
            "grid_auto_flow": null,
            "grid_auto_rows": null,
            "grid_column": null,
            "grid_gap": null,
            "grid_row": null,
            "grid_template_areas": null,
            "grid_template_columns": null,
            "grid_template_rows": null,
            "height": null,
            "justify_content": null,
            "justify_items": null,
            "left": null,
            "margin": null,
            "max_height": null,
            "max_width": null,
            "min_height": null,
            "min_width": null,
            "object_fit": null,
            "object_position": null,
            "order": null,
            "overflow": null,
            "overflow_x": null,
            "overflow_y": null,
            "padding": null,
            "right": null,
            "top": null,
            "visibility": null,
            "width": null
          }
        },
        "b13694e633f04f8ea9b397a812d88fd4": {
          "model_module": "@jupyter-widgets/controls",
          "model_name": "DescriptionStyleModel",
          "model_module_version": "1.5.0",
          "state": {
            "_model_module": "@jupyter-widgets/controls",
            "_model_module_version": "1.5.0",
            "_model_name": "DescriptionStyleModel",
            "_view_count": null,
            "_view_module": "@jupyter-widgets/base",
            "_view_module_version": "1.2.0",
            "_view_name": "StyleView",
            "description_width": ""
          }
        },
        "56346ee2666e4596bc7b45c2c72b5233": {
          "model_module": "@jupyter-widgets/controls",
          "model_name": "HBoxModel",
          "model_module_version": "1.5.0",
          "state": {
            "_dom_classes": [],
            "_model_module": "@jupyter-widgets/controls",
            "_model_module_version": "1.5.0",
            "_model_name": "HBoxModel",
            "_view_count": null,
            "_view_module": "@jupyter-widgets/controls",
            "_view_module_version": "1.5.0",
            "_view_name": "HBoxView",
            "box_style": "",
            "children": [
              "IPY_MODEL_a02a7657549e498d97b04d542b27124b",
              "IPY_MODEL_32435fbc9a07462bbb95994130921e74",
              "IPY_MODEL_babb965cb4e24d989f22ad41ee3f6731"
            ],
            "layout": "IPY_MODEL_b782becffa954c1c961565671b7316f1"
          }
        },
        "a02a7657549e498d97b04d542b27124b": {
          "model_module": "@jupyter-widgets/controls",
          "model_name": "HTMLModel",
          "model_module_version": "1.5.0",
          "state": {
            "_dom_classes": [],
            "_model_module": "@jupyter-widgets/controls",
            "_model_module_version": "1.5.0",
            "_model_name": "HTMLModel",
            "_view_count": null,
            "_view_module": "@jupyter-widgets/controls",
            "_view_module_version": "1.5.0",
            "_view_name": "HTMLView",
            "description": "",
            "description_tooltip": null,
            "layout": "IPY_MODEL_8350178c611449ed85f846d741d28f05",
            "placeholder": "​",
            "style": "IPY_MODEL_cd2a6f4a0997486b9e40546d441759b5",
            "value": "Downloading: 100%"
          }
        },
        "32435fbc9a07462bbb95994130921e74": {
          "model_module": "@jupyter-widgets/controls",
          "model_name": "FloatProgressModel",
          "model_module_version": "1.5.0",
          "state": {
            "_dom_classes": [],
            "_model_module": "@jupyter-widgets/controls",
            "_model_module_version": "1.5.0",
            "_model_name": "FloatProgressModel",
            "_view_count": null,
            "_view_module": "@jupyter-widgets/controls",
            "_view_module_version": "1.5.0",
            "_view_name": "ProgressView",
            "bar_style": "success",
            "description": "",
            "description_tooltip": null,
            "layout": "IPY_MODEL_7c13afe2543b489d8d983a0e9eee61a5",
            "max": 335,
            "min": 0,
            "orientation": "horizontal",
            "style": "IPY_MODEL_844f94d61a5f4726aad6d5496e73ce33",
            "value": 335
          }
        },
        "babb965cb4e24d989f22ad41ee3f6731": {
          "model_module": "@jupyter-widgets/controls",
          "model_name": "HTMLModel",
          "model_module_version": "1.5.0",
          "state": {
            "_dom_classes": [],
            "_model_module": "@jupyter-widgets/controls",
            "_model_module_version": "1.5.0",
            "_model_name": "HTMLModel",
            "_view_count": null,
            "_view_module": "@jupyter-widgets/controls",
            "_view_module_version": "1.5.0",
            "_view_name": "HTMLView",
            "description": "",
            "description_tooltip": null,
            "layout": "IPY_MODEL_22b2fa7175c7420eaf5fde7c28f95828",
            "placeholder": "​",
            "style": "IPY_MODEL_761455b006e748549496e1dd6e66a02d",
            "value": " 335/335 [00:00&lt;00:00, 10.3kB/s]"
          }
        },
        "b782becffa954c1c961565671b7316f1": {
          "model_module": "@jupyter-widgets/base",
          "model_name": "LayoutModel",
          "model_module_version": "1.2.0",
          "state": {
            "_model_module": "@jupyter-widgets/base",
            "_model_module_version": "1.2.0",
            "_model_name": "LayoutModel",
            "_view_count": null,
            "_view_module": "@jupyter-widgets/base",
            "_view_module_version": "1.2.0",
            "_view_name": "LayoutView",
            "align_content": null,
            "align_items": null,
            "align_self": null,
            "border": null,
            "bottom": null,
            "display": null,
            "flex": null,
            "flex_flow": null,
            "grid_area": null,
            "grid_auto_columns": null,
            "grid_auto_flow": null,
            "grid_auto_rows": null,
            "grid_column": null,
            "grid_gap": null,
            "grid_row": null,
            "grid_template_areas": null,
            "grid_template_columns": null,
            "grid_template_rows": null,
            "height": null,
            "justify_content": null,
            "justify_items": null,
            "left": null,
            "margin": null,
            "max_height": null,
            "max_width": null,
            "min_height": null,
            "min_width": null,
            "object_fit": null,
            "object_position": null,
            "order": null,
            "overflow": null,
            "overflow_x": null,
            "overflow_y": null,
            "padding": null,
            "right": null,
            "top": null,
            "visibility": null,
            "width": null
          }
        },
        "8350178c611449ed85f846d741d28f05": {
          "model_module": "@jupyter-widgets/base",
          "model_name": "LayoutModel",
          "model_module_version": "1.2.0",
          "state": {
            "_model_module": "@jupyter-widgets/base",
            "_model_module_version": "1.2.0",
            "_model_name": "LayoutModel",
            "_view_count": null,
            "_view_module": "@jupyter-widgets/base",
            "_view_module_version": "1.2.0",
            "_view_name": "LayoutView",
            "align_content": null,
            "align_items": null,
            "align_self": null,
            "border": null,
            "bottom": null,
            "display": null,
            "flex": null,
            "flex_flow": null,
            "grid_area": null,
            "grid_auto_columns": null,
            "grid_auto_flow": null,
            "grid_auto_rows": null,
            "grid_column": null,
            "grid_gap": null,
            "grid_row": null,
            "grid_template_areas": null,
            "grid_template_columns": null,
            "grid_template_rows": null,
            "height": null,
            "justify_content": null,
            "justify_items": null,
            "left": null,
            "margin": null,
            "max_height": null,
            "max_width": null,
            "min_height": null,
            "min_width": null,
            "object_fit": null,
            "object_position": null,
            "order": null,
            "overflow": null,
            "overflow_x": null,
            "overflow_y": null,
            "padding": null,
            "right": null,
            "top": null,
            "visibility": null,
            "width": null
          }
        },
        "cd2a6f4a0997486b9e40546d441759b5": {
          "model_module": "@jupyter-widgets/controls",
          "model_name": "DescriptionStyleModel",
          "model_module_version": "1.5.0",
          "state": {
            "_model_module": "@jupyter-widgets/controls",
            "_model_module_version": "1.5.0",
            "_model_name": "DescriptionStyleModel",
            "_view_count": null,
            "_view_module": "@jupyter-widgets/base",
            "_view_module_version": "1.2.0",
            "_view_name": "StyleView",
            "description_width": ""
          }
        },
        "7c13afe2543b489d8d983a0e9eee61a5": {
          "model_module": "@jupyter-widgets/base",
          "model_name": "LayoutModel",
          "model_module_version": "1.2.0",
          "state": {
            "_model_module": "@jupyter-widgets/base",
            "_model_module_version": "1.2.0",
            "_model_name": "LayoutModel",
            "_view_count": null,
            "_view_module": "@jupyter-widgets/base",
            "_view_module_version": "1.2.0",
            "_view_name": "LayoutView",
            "align_content": null,
            "align_items": null,
            "align_self": null,
            "border": null,
            "bottom": null,
            "display": null,
            "flex": null,
            "flex_flow": null,
            "grid_area": null,
            "grid_auto_columns": null,
            "grid_auto_flow": null,
            "grid_auto_rows": null,
            "grid_column": null,
            "grid_gap": null,
            "grid_row": null,
            "grid_template_areas": null,
            "grid_template_columns": null,
            "grid_template_rows": null,
            "height": null,
            "justify_content": null,
            "justify_items": null,
            "left": null,
            "margin": null,
            "max_height": null,
            "max_width": null,
            "min_height": null,
            "min_width": null,
            "object_fit": null,
            "object_position": null,
            "order": null,
            "overflow": null,
            "overflow_x": null,
            "overflow_y": null,
            "padding": null,
            "right": null,
            "top": null,
            "visibility": null,
            "width": null
          }
        },
        "844f94d61a5f4726aad6d5496e73ce33": {
          "model_module": "@jupyter-widgets/controls",
          "model_name": "ProgressStyleModel",
          "model_module_version": "1.5.0",
          "state": {
            "_model_module": "@jupyter-widgets/controls",
            "_model_module_version": "1.5.0",
            "_model_name": "ProgressStyleModel",
            "_view_count": null,
            "_view_module": "@jupyter-widgets/base",
            "_view_module_version": "1.2.0",
            "_view_name": "StyleView",
            "bar_color": null,
            "description_width": ""
          }
        },
        "22b2fa7175c7420eaf5fde7c28f95828": {
          "model_module": "@jupyter-widgets/base",
          "model_name": "LayoutModel",
          "model_module_version": "1.2.0",
          "state": {
            "_model_module": "@jupyter-widgets/base",
            "_model_module_version": "1.2.0",
            "_model_name": "LayoutModel",
            "_view_count": null,
            "_view_module": "@jupyter-widgets/base",
            "_view_module_version": "1.2.0",
            "_view_name": "LayoutView",
            "align_content": null,
            "align_items": null,
            "align_self": null,
            "border": null,
            "bottom": null,
            "display": null,
            "flex": null,
            "flex_flow": null,
            "grid_area": null,
            "grid_auto_columns": null,
            "grid_auto_flow": null,
            "grid_auto_rows": null,
            "grid_column": null,
            "grid_gap": null,
            "grid_row": null,
            "grid_template_areas": null,
            "grid_template_columns": null,
            "grid_template_rows": null,
            "height": null,
            "justify_content": null,
            "justify_items": null,
            "left": null,
            "margin": null,
            "max_height": null,
            "max_width": null,
            "min_height": null,
            "min_width": null,
            "object_fit": null,
            "object_position": null,
            "order": null,
            "overflow": null,
            "overflow_x": null,
            "overflow_y": null,
            "padding": null,
            "right": null,
            "top": null,
            "visibility": null,
            "width": null
          }
        },
        "761455b006e748549496e1dd6e66a02d": {
          "model_module": "@jupyter-widgets/controls",
          "model_name": "DescriptionStyleModel",
          "model_module_version": "1.5.0",
          "state": {
            "_model_module": "@jupyter-widgets/controls",
            "_model_module_version": "1.5.0",
            "_model_name": "DescriptionStyleModel",
            "_view_count": null,
            "_view_module": "@jupyter-widgets/base",
            "_view_module_version": "1.2.0",
            "_view_name": "StyleView",
            "description_width": ""
          }
        },
        "e1db0815256344b49d83ef813b698b1d": {
          "model_module": "@jupyter-widgets/controls",
          "model_name": "HBoxModel",
          "model_module_version": "1.5.0",
          "state": {
            "_dom_classes": [],
            "_model_module": "@jupyter-widgets/controls",
            "_model_module_version": "1.5.0",
            "_model_name": "HBoxModel",
            "_view_count": null,
            "_view_module": "@jupyter-widgets/controls",
            "_view_module_version": "1.5.0",
            "_view_name": "HBoxView",
            "box_style": "",
            "children": [
              "IPY_MODEL_b65a8e7ab41145f1ba4d456e4e55bf04",
              "IPY_MODEL_fd2b2aaa82c4401bb941de7f4433aa8a",
              "IPY_MODEL_d5a482d6eb604b6e932af725b3d30729"
            ],
            "layout": "IPY_MODEL_588f3b07c1c148068249db9e835996a5"
          }
        },
        "b65a8e7ab41145f1ba4d456e4e55bf04": {
          "model_module": "@jupyter-widgets/controls",
          "model_name": "HTMLModel",
          "model_module_version": "1.5.0",
          "state": {
            "_dom_classes": [],
            "_model_module": "@jupyter-widgets/controls",
            "_model_module_version": "1.5.0",
            "_model_name": "HTMLModel",
            "_view_count": null,
            "_view_module": "@jupyter-widgets/controls",
            "_view_module_version": "1.5.0",
            "_view_name": "HTMLView",
            "description": "",
            "description_tooltip": null,
            "layout": "IPY_MODEL_475cf1368162485d9851bc6ab54b7006",
            "placeholder": "​",
            "style": "IPY_MODEL_96a970f23f334a8cb994a9d991aaa4a3",
            "value": "Downloading: 100%"
          }
        },
        "fd2b2aaa82c4401bb941de7f4433aa8a": {
          "model_module": "@jupyter-widgets/controls",
          "model_name": "FloatProgressModel",
          "model_module_version": "1.5.0",
          "state": {
            "_dom_classes": [],
            "_model_module": "@jupyter-widgets/controls",
            "_model_module_version": "1.5.0",
            "_model_name": "FloatProgressModel",
            "_view_count": null,
            "_view_module": "@jupyter-widgets/controls",
            "_view_module_version": "1.5.0",
            "_view_name": "ProgressView",
            "bar_style": "success",
            "description": "",
            "description_tooltip": null,
            "layout": "IPY_MODEL_e96ae23433c747ff8e0aa3a5bf0de09c",
            "max": 798,
            "min": 0,
            "orientation": "horizontal",
            "style": "IPY_MODEL_4ea4a14465734e5791b3ec21976d9c1b",
            "value": 798
          }
        },
        "d5a482d6eb604b6e932af725b3d30729": {
          "model_module": "@jupyter-widgets/controls",
          "model_name": "HTMLModel",
          "model_module_version": "1.5.0",
          "state": {
            "_dom_classes": [],
            "_model_module": "@jupyter-widgets/controls",
            "_model_module_version": "1.5.0",
            "_model_name": "HTMLModel",
            "_view_count": null,
            "_view_module": "@jupyter-widgets/controls",
            "_view_module_version": "1.5.0",
            "_view_name": "HTMLView",
            "description": "",
            "description_tooltip": null,
            "layout": "IPY_MODEL_fedc15b2ef9d452b95aa601f25293962",
            "placeholder": "​",
            "style": "IPY_MODEL_7306c00419ce4ea4b618d141f6d930e5",
            "value": " 798/798 [00:00&lt;00:00, 23.5kB/s]"
          }
        },
        "588f3b07c1c148068249db9e835996a5": {
          "model_module": "@jupyter-widgets/base",
          "model_name": "LayoutModel",
          "model_module_version": "1.2.0",
          "state": {
            "_model_module": "@jupyter-widgets/base",
            "_model_module_version": "1.2.0",
            "_model_name": "LayoutModel",
            "_view_count": null,
            "_view_module": "@jupyter-widgets/base",
            "_view_module_version": "1.2.0",
            "_view_name": "LayoutView",
            "align_content": null,
            "align_items": null,
            "align_self": null,
            "border": null,
            "bottom": null,
            "display": null,
            "flex": null,
            "flex_flow": null,
            "grid_area": null,
            "grid_auto_columns": null,
            "grid_auto_flow": null,
            "grid_auto_rows": null,
            "grid_column": null,
            "grid_gap": null,
            "grid_row": null,
            "grid_template_areas": null,
            "grid_template_columns": null,
            "grid_template_rows": null,
            "height": null,
            "justify_content": null,
            "justify_items": null,
            "left": null,
            "margin": null,
            "max_height": null,
            "max_width": null,
            "min_height": null,
            "min_width": null,
            "object_fit": null,
            "object_position": null,
            "order": null,
            "overflow": null,
            "overflow_x": null,
            "overflow_y": null,
            "padding": null,
            "right": null,
            "top": null,
            "visibility": null,
            "width": null
          }
        },
        "475cf1368162485d9851bc6ab54b7006": {
          "model_module": "@jupyter-widgets/base",
          "model_name": "LayoutModel",
          "model_module_version": "1.2.0",
          "state": {
            "_model_module": "@jupyter-widgets/base",
            "_model_module_version": "1.2.0",
            "_model_name": "LayoutModel",
            "_view_count": null,
            "_view_module": "@jupyter-widgets/base",
            "_view_module_version": "1.2.0",
            "_view_name": "LayoutView",
            "align_content": null,
            "align_items": null,
            "align_self": null,
            "border": null,
            "bottom": null,
            "display": null,
            "flex": null,
            "flex_flow": null,
            "grid_area": null,
            "grid_auto_columns": null,
            "grid_auto_flow": null,
            "grid_auto_rows": null,
            "grid_column": null,
            "grid_gap": null,
            "grid_row": null,
            "grid_template_areas": null,
            "grid_template_columns": null,
            "grid_template_rows": null,
            "height": null,
            "justify_content": null,
            "justify_items": null,
            "left": null,
            "margin": null,
            "max_height": null,
            "max_width": null,
            "min_height": null,
            "min_width": null,
            "object_fit": null,
            "object_position": null,
            "order": null,
            "overflow": null,
            "overflow_x": null,
            "overflow_y": null,
            "padding": null,
            "right": null,
            "top": null,
            "visibility": null,
            "width": null
          }
        },
        "96a970f23f334a8cb994a9d991aaa4a3": {
          "model_module": "@jupyter-widgets/controls",
          "model_name": "DescriptionStyleModel",
          "model_module_version": "1.5.0",
          "state": {
            "_model_module": "@jupyter-widgets/controls",
            "_model_module_version": "1.5.0",
            "_model_name": "DescriptionStyleModel",
            "_view_count": null,
            "_view_module": "@jupyter-widgets/base",
            "_view_module_version": "1.2.0",
            "_view_name": "StyleView",
            "description_width": ""
          }
        },
        "e96ae23433c747ff8e0aa3a5bf0de09c": {
          "model_module": "@jupyter-widgets/base",
          "model_name": "LayoutModel",
          "model_module_version": "1.2.0",
          "state": {
            "_model_module": "@jupyter-widgets/base",
            "_model_module_version": "1.2.0",
            "_model_name": "LayoutModel",
            "_view_count": null,
            "_view_module": "@jupyter-widgets/base",
            "_view_module_version": "1.2.0",
            "_view_name": "LayoutView",
            "align_content": null,
            "align_items": null,
            "align_self": null,
            "border": null,
            "bottom": null,
            "display": null,
            "flex": null,
            "flex_flow": null,
            "grid_area": null,
            "grid_auto_columns": null,
            "grid_auto_flow": null,
            "grid_auto_rows": null,
            "grid_column": null,
            "grid_gap": null,
            "grid_row": null,
            "grid_template_areas": null,
            "grid_template_columns": null,
            "grid_template_rows": null,
            "height": null,
            "justify_content": null,
            "justify_items": null,
            "left": null,
            "margin": null,
            "max_height": null,
            "max_width": null,
            "min_height": null,
            "min_width": null,
            "object_fit": null,
            "object_position": null,
            "order": null,
            "overflow": null,
            "overflow_x": null,
            "overflow_y": null,
            "padding": null,
            "right": null,
            "top": null,
            "visibility": null,
            "width": null
          }
        },
        "4ea4a14465734e5791b3ec21976d9c1b": {
          "model_module": "@jupyter-widgets/controls",
          "model_name": "ProgressStyleModel",
          "model_module_version": "1.5.0",
          "state": {
            "_model_module": "@jupyter-widgets/controls",
            "_model_module_version": "1.5.0",
            "_model_name": "ProgressStyleModel",
            "_view_count": null,
            "_view_module": "@jupyter-widgets/base",
            "_view_module_version": "1.2.0",
            "_view_name": "StyleView",
            "bar_color": null,
            "description_width": ""
          }
        },
        "fedc15b2ef9d452b95aa601f25293962": {
          "model_module": "@jupyter-widgets/base",
          "model_name": "LayoutModel",
          "model_module_version": "1.2.0",
          "state": {
            "_model_module": "@jupyter-widgets/base",
            "_model_module_version": "1.2.0",
            "_model_name": "LayoutModel",
            "_view_count": null,
            "_view_module": "@jupyter-widgets/base",
            "_view_module_version": "1.2.0",
            "_view_name": "LayoutView",
            "align_content": null,
            "align_items": null,
            "align_self": null,
            "border": null,
            "bottom": null,
            "display": null,
            "flex": null,
            "flex_flow": null,
            "grid_area": null,
            "grid_auto_columns": null,
            "grid_auto_flow": null,
            "grid_auto_rows": null,
            "grid_column": null,
            "grid_gap": null,
            "grid_row": null,
            "grid_template_areas": null,
            "grid_template_columns": null,
            "grid_template_rows": null,
            "height": null,
            "justify_content": null,
            "justify_items": null,
            "left": null,
            "margin": null,
            "max_height": null,
            "max_width": null,
            "min_height": null,
            "min_width": null,
            "object_fit": null,
            "object_position": null,
            "order": null,
            "overflow": null,
            "overflow_x": null,
            "overflow_y": null,
            "padding": null,
            "right": null,
            "top": null,
            "visibility": null,
            "width": null
          }
        },
        "7306c00419ce4ea4b618d141f6d930e5": {
          "model_module": "@jupyter-widgets/controls",
          "model_name": "DescriptionStyleModel",
          "model_module_version": "1.5.0",
          "state": {
            "_model_module": "@jupyter-widgets/controls",
            "_model_module_version": "1.5.0",
            "_model_name": "DescriptionStyleModel",
            "_view_count": null,
            "_view_module": "@jupyter-widgets/base",
            "_view_module_version": "1.2.0",
            "_view_name": "StyleView",
            "description_width": ""
          }
        },
        "3d9adeae36db4ba2a6a6896307020da4": {
          "model_module": "@jupyter-widgets/controls",
          "model_name": "HBoxModel",
          "model_module_version": "1.5.0",
          "state": {
            "_dom_classes": [],
            "_model_module": "@jupyter-widgets/controls",
            "_model_module_version": "1.5.0",
            "_model_name": "HBoxModel",
            "_view_count": null,
            "_view_module": "@jupyter-widgets/controls",
            "_view_module_version": "1.5.0",
            "_view_name": "HBoxView",
            "box_style": "",
            "children": [
              "IPY_MODEL_8742835e675c4904883940a785a7dcf0",
              "IPY_MODEL_f2fcff40d89f4781a0a38d15956ce7ff",
              "IPY_MODEL_983f0f2b1cea4ecca5e9db19fa65c74d"
            ],
            "layout": "IPY_MODEL_073eccea008c4b0ea164d930d2f86b4e"
          }
        },
        "8742835e675c4904883940a785a7dcf0": {
          "model_module": "@jupyter-widgets/controls",
          "model_name": "HTMLModel",
          "model_module_version": "1.5.0",
          "state": {
            "_dom_classes": [],
            "_model_module": "@jupyter-widgets/controls",
            "_model_module_version": "1.5.0",
            "_model_name": "HTMLModel",
            "_view_count": null,
            "_view_module": "@jupyter-widgets/controls",
            "_view_module_version": "1.5.0",
            "_view_name": "HTMLView",
            "description": "",
            "description_tooltip": null,
            "layout": "IPY_MODEL_a3d6717f2b834e27875d07468a5f33d7",
            "placeholder": "​",
            "style": "IPY_MODEL_fd434947dbb9411b8ab6b532c72b574d",
            "value": "Downloading: 100%"
          }
        },
        "f2fcff40d89f4781a0a38d15956ce7ff": {
          "model_module": "@jupyter-widgets/controls",
          "model_name": "FloatProgressModel",
          "model_module_version": "1.5.0",
          "state": {
            "_dom_classes": [],
            "_model_module": "@jupyter-widgets/controls",
            "_model_module_version": "1.5.0",
            "_model_name": "FloatProgressModel",
            "_view_count": null,
            "_view_module": "@jupyter-widgets/controls",
            "_view_module_version": "1.5.0",
            "_view_name": "ProgressView",
            "bar_style": "success",
            "description": "",
            "description_tooltip": null,
            "layout": "IPY_MODEL_60029155fff74334852fbd239ff58441",
            "max": 1552337,
            "min": 0,
            "orientation": "horizontal",
            "style": "IPY_MODEL_dca7c4a042384ff8983eedd242d9d86d",
            "value": 1552337
          }
        },
        "983f0f2b1cea4ecca5e9db19fa65c74d": {
          "model_module": "@jupyter-widgets/controls",
          "model_name": "HTMLModel",
          "model_module_version": "1.5.0",
          "state": {
            "_dom_classes": [],
            "_model_module": "@jupyter-widgets/controls",
            "_model_module_version": "1.5.0",
            "_model_name": "HTMLModel",
            "_view_count": null,
            "_view_module": "@jupyter-widgets/controls",
            "_view_module_version": "1.5.0",
            "_view_name": "HTMLView",
            "description": "",
            "description_tooltip": null,
            "layout": "IPY_MODEL_3260c199050142af8f0467138acceea8",
            "placeholder": "​",
            "style": "IPY_MODEL_9f935017a48f40c7801afc917e23fe3f",
            "value": " 1.55M/1.55M [00:01&lt;00:00, 1.08MB/s]"
          }
        },
        "073eccea008c4b0ea164d930d2f86b4e": {
          "model_module": "@jupyter-widgets/base",
          "model_name": "LayoutModel",
          "model_module_version": "1.2.0",
          "state": {
            "_model_module": "@jupyter-widgets/base",
            "_model_module_version": "1.2.0",
            "_model_name": "LayoutModel",
            "_view_count": null,
            "_view_module": "@jupyter-widgets/base",
            "_view_module_version": "1.2.0",
            "_view_name": "LayoutView",
            "align_content": null,
            "align_items": null,
            "align_self": null,
            "border": null,
            "bottom": null,
            "display": null,
            "flex": null,
            "flex_flow": null,
            "grid_area": null,
            "grid_auto_columns": null,
            "grid_auto_flow": null,
            "grid_auto_rows": null,
            "grid_column": null,
            "grid_gap": null,
            "grid_row": null,
            "grid_template_areas": null,
            "grid_template_columns": null,
            "grid_template_rows": null,
            "height": null,
            "justify_content": null,
            "justify_items": null,
            "left": null,
            "margin": null,
            "max_height": null,
            "max_width": null,
            "min_height": null,
            "min_width": null,
            "object_fit": null,
            "object_position": null,
            "order": null,
            "overflow": null,
            "overflow_x": null,
            "overflow_y": null,
            "padding": null,
            "right": null,
            "top": null,
            "visibility": null,
            "width": null
          }
        },
        "a3d6717f2b834e27875d07468a5f33d7": {
          "model_module": "@jupyter-widgets/base",
          "model_name": "LayoutModel",
          "model_module_version": "1.2.0",
          "state": {
            "_model_module": "@jupyter-widgets/base",
            "_model_module_version": "1.2.0",
            "_model_name": "LayoutModel",
            "_view_count": null,
            "_view_module": "@jupyter-widgets/base",
            "_view_module_version": "1.2.0",
            "_view_name": "LayoutView",
            "align_content": null,
            "align_items": null,
            "align_self": null,
            "border": null,
            "bottom": null,
            "display": null,
            "flex": null,
            "flex_flow": null,
            "grid_area": null,
            "grid_auto_columns": null,
            "grid_auto_flow": null,
            "grid_auto_rows": null,
            "grid_column": null,
            "grid_gap": null,
            "grid_row": null,
            "grid_template_areas": null,
            "grid_template_columns": null,
            "grid_template_rows": null,
            "height": null,
            "justify_content": null,
            "justify_items": null,
            "left": null,
            "margin": null,
            "max_height": null,
            "max_width": null,
            "min_height": null,
            "min_width": null,
            "object_fit": null,
            "object_position": null,
            "order": null,
            "overflow": null,
            "overflow_x": null,
            "overflow_y": null,
            "padding": null,
            "right": null,
            "top": null,
            "visibility": null,
            "width": null
          }
        },
        "fd434947dbb9411b8ab6b532c72b574d": {
          "model_module": "@jupyter-widgets/controls",
          "model_name": "DescriptionStyleModel",
          "model_module_version": "1.5.0",
          "state": {
            "_model_module": "@jupyter-widgets/controls",
            "_model_module_version": "1.5.0",
            "_model_name": "DescriptionStyleModel",
            "_view_count": null,
            "_view_module": "@jupyter-widgets/base",
            "_view_module_version": "1.2.0",
            "_view_name": "StyleView",
            "description_width": ""
          }
        },
        "60029155fff74334852fbd239ff58441": {
          "model_module": "@jupyter-widgets/base",
          "model_name": "LayoutModel",
          "model_module_version": "1.2.0",
          "state": {
            "_model_module": "@jupyter-widgets/base",
            "_model_module_version": "1.2.0",
            "_model_name": "LayoutModel",
            "_view_count": null,
            "_view_module": "@jupyter-widgets/base",
            "_view_module_version": "1.2.0",
            "_view_name": "LayoutView",
            "align_content": null,
            "align_items": null,
            "align_self": null,
            "border": null,
            "bottom": null,
            "display": null,
            "flex": null,
            "flex_flow": null,
            "grid_area": null,
            "grid_auto_columns": null,
            "grid_auto_flow": null,
            "grid_auto_rows": null,
            "grid_column": null,
            "grid_gap": null,
            "grid_row": null,
            "grid_template_areas": null,
            "grid_template_columns": null,
            "grid_template_rows": null,
            "height": null,
            "justify_content": null,
            "justify_items": null,
            "left": null,
            "margin": null,
            "max_height": null,
            "max_width": null,
            "min_height": null,
            "min_width": null,
            "object_fit": null,
            "object_position": null,
            "order": null,
            "overflow": null,
            "overflow_x": null,
            "overflow_y": null,
            "padding": null,
            "right": null,
            "top": null,
            "visibility": null,
            "width": null
          }
        },
        "dca7c4a042384ff8983eedd242d9d86d": {
          "model_module": "@jupyter-widgets/controls",
          "model_name": "ProgressStyleModel",
          "model_module_version": "1.5.0",
          "state": {
            "_model_module": "@jupyter-widgets/controls",
            "_model_module_version": "1.5.0",
            "_model_name": "ProgressStyleModel",
            "_view_count": null,
            "_view_module": "@jupyter-widgets/base",
            "_view_module_version": "1.2.0",
            "_view_name": "StyleView",
            "bar_color": null,
            "description_width": ""
          }
        },
        "3260c199050142af8f0467138acceea8": {
          "model_module": "@jupyter-widgets/base",
          "model_name": "LayoutModel",
          "model_module_version": "1.2.0",
          "state": {
            "_model_module": "@jupyter-widgets/base",
            "_model_module_version": "1.2.0",
            "_model_name": "LayoutModel",
            "_view_count": null,
            "_view_module": "@jupyter-widgets/base",
            "_view_module_version": "1.2.0",
            "_view_name": "LayoutView",
            "align_content": null,
            "align_items": null,
            "align_self": null,
            "border": null,
            "bottom": null,
            "display": null,
            "flex": null,
            "flex_flow": null,
            "grid_area": null,
            "grid_auto_columns": null,
            "grid_auto_flow": null,
            "grid_auto_rows": null,
            "grid_column": null,
            "grid_gap": null,
            "grid_row": null,
            "grid_template_areas": null,
            "grid_template_columns": null,
            "grid_template_rows": null,
            "height": null,
            "justify_content": null,
            "justify_items": null,
            "left": null,
            "margin": null,
            "max_height": null,
            "max_width": null,
            "min_height": null,
            "min_width": null,
            "object_fit": null,
            "object_position": null,
            "order": null,
            "overflow": null,
            "overflow_x": null,
            "overflow_y": null,
            "padding": null,
            "right": null,
            "top": null,
            "visibility": null,
            "width": null
          }
        },
        "9f935017a48f40c7801afc917e23fe3f": {
          "model_module": "@jupyter-widgets/controls",
          "model_name": "DescriptionStyleModel",
          "model_module_version": "1.5.0",
          "state": {
            "_model_module": "@jupyter-widgets/controls",
            "_model_module_version": "1.5.0",
            "_model_name": "DescriptionStyleModel",
            "_view_count": null,
            "_view_module": "@jupyter-widgets/base",
            "_view_module_version": "1.2.0",
            "_view_name": "StyleView",
            "description_width": ""
          }
        },
        "91841de6a11f486bbe87b780a642a52a": {
          "model_module": "@jupyter-widgets/controls",
          "model_name": "HBoxModel",
          "model_module_version": "1.5.0",
          "state": {
            "_dom_classes": [],
            "_model_module": "@jupyter-widgets/controls",
            "_model_module_version": "1.5.0",
            "_model_name": "HBoxModel",
            "_view_count": null,
            "_view_module": "@jupyter-widgets/controls",
            "_view_module_version": "1.5.0",
            "_view_name": "HBoxView",
            "box_style": "",
            "children": [
              "IPY_MODEL_d7efe103797c4c7c908d71b82bee6bc9",
              "IPY_MODEL_026f5705e9924a3aa0a3dfe0b1d787b2",
              "IPY_MODEL_0ec248e223a64c0da4afb929c1c1501c"
            ],
            "layout": "IPY_MODEL_5f4ea39444b94484a037afd36d8606f8"
          }
        },
        "d7efe103797c4c7c908d71b82bee6bc9": {
          "model_module": "@jupyter-widgets/controls",
          "model_name": "HTMLModel",
          "model_module_version": "1.5.0",
          "state": {
            "_dom_classes": [],
            "_model_module": "@jupyter-widgets/controls",
            "_model_module_version": "1.5.0",
            "_model_name": "HTMLModel",
            "_view_count": null,
            "_view_module": "@jupyter-widgets/controls",
            "_view_module_version": "1.5.0",
            "_view_name": "HTMLView",
            "description": "",
            "description_tooltip": null,
            "layout": "IPY_MODEL_2fe8aabb634e458dae32a3e777d0a3a2",
            "placeholder": "​",
            "style": "IPY_MODEL_2115e20450944569921835068396c96d",
            "value": "Downloading: 100%"
          }
        },
        "026f5705e9924a3aa0a3dfe0b1d787b2": {
          "model_module": "@jupyter-widgets/controls",
          "model_name": "FloatProgressModel",
          "model_module_version": "1.5.0",
          "state": {
            "_dom_classes": [],
            "_model_module": "@jupyter-widgets/controls",
            "_model_module_version": "1.5.0",
            "_model_name": "FloatProgressModel",
            "_view_count": null,
            "_view_module": "@jupyter-widgets/controls",
            "_view_module_version": "1.5.0",
            "_view_name": "ProgressView",
            "bar_style": "success",
            "description": "",
            "description_tooltip": null,
            "layout": "IPY_MODEL_29490f210b9a43a4b9c67f2ce2523235",
            "max": 112,
            "min": 0,
            "orientation": "horizontal",
            "style": "IPY_MODEL_a6ae0253de634c54917ec98d5443ea11",
            "value": 112
          }
        },
        "0ec248e223a64c0da4afb929c1c1501c": {
          "model_module": "@jupyter-widgets/controls",
          "model_name": "HTMLModel",
          "model_module_version": "1.5.0",
          "state": {
            "_dom_classes": [],
            "_model_module": "@jupyter-widgets/controls",
            "_model_module_version": "1.5.0",
            "_model_name": "HTMLModel",
            "_view_count": null,
            "_view_module": "@jupyter-widgets/controls",
            "_view_module_version": "1.5.0",
            "_view_name": "HTMLView",
            "description": "",
            "description_tooltip": null,
            "layout": "IPY_MODEL_c0f55360987447a795a4bdda989b9831",
            "placeholder": "​",
            "style": "IPY_MODEL_ede2c445980a4f7bb1b09eef306634fb",
            "value": " 112/112 [00:00&lt;00:00, 3.56kB/s]"
          }
        },
        "5f4ea39444b94484a037afd36d8606f8": {
          "model_module": "@jupyter-widgets/base",
          "model_name": "LayoutModel",
          "model_module_version": "1.2.0",
          "state": {
            "_model_module": "@jupyter-widgets/base",
            "_model_module_version": "1.2.0",
            "_model_name": "LayoutModel",
            "_view_count": null,
            "_view_module": "@jupyter-widgets/base",
            "_view_module_version": "1.2.0",
            "_view_name": "LayoutView",
            "align_content": null,
            "align_items": null,
            "align_self": null,
            "border": null,
            "bottom": null,
            "display": null,
            "flex": null,
            "flex_flow": null,
            "grid_area": null,
            "grid_auto_columns": null,
            "grid_auto_flow": null,
            "grid_auto_rows": null,
            "grid_column": null,
            "grid_gap": null,
            "grid_row": null,
            "grid_template_areas": null,
            "grid_template_columns": null,
            "grid_template_rows": null,
            "height": null,
            "justify_content": null,
            "justify_items": null,
            "left": null,
            "margin": null,
            "max_height": null,
            "max_width": null,
            "min_height": null,
            "min_width": null,
            "object_fit": null,
            "object_position": null,
            "order": null,
            "overflow": null,
            "overflow_x": null,
            "overflow_y": null,
            "padding": null,
            "right": null,
            "top": null,
            "visibility": null,
            "width": null
          }
        },
        "2fe8aabb634e458dae32a3e777d0a3a2": {
          "model_module": "@jupyter-widgets/base",
          "model_name": "LayoutModel",
          "model_module_version": "1.2.0",
          "state": {
            "_model_module": "@jupyter-widgets/base",
            "_model_module_version": "1.2.0",
            "_model_name": "LayoutModel",
            "_view_count": null,
            "_view_module": "@jupyter-widgets/base",
            "_view_module_version": "1.2.0",
            "_view_name": "LayoutView",
            "align_content": null,
            "align_items": null,
            "align_self": null,
            "border": null,
            "bottom": null,
            "display": null,
            "flex": null,
            "flex_flow": null,
            "grid_area": null,
            "grid_auto_columns": null,
            "grid_auto_flow": null,
            "grid_auto_rows": null,
            "grid_column": null,
            "grid_gap": null,
            "grid_row": null,
            "grid_template_areas": null,
            "grid_template_columns": null,
            "grid_template_rows": null,
            "height": null,
            "justify_content": null,
            "justify_items": null,
            "left": null,
            "margin": null,
            "max_height": null,
            "max_width": null,
            "min_height": null,
            "min_width": null,
            "object_fit": null,
            "object_position": null,
            "order": null,
            "overflow": null,
            "overflow_x": null,
            "overflow_y": null,
            "padding": null,
            "right": null,
            "top": null,
            "visibility": null,
            "width": null
          }
        },
        "2115e20450944569921835068396c96d": {
          "model_module": "@jupyter-widgets/controls",
          "model_name": "DescriptionStyleModel",
          "model_module_version": "1.5.0",
          "state": {
            "_model_module": "@jupyter-widgets/controls",
            "_model_module_version": "1.5.0",
            "_model_name": "DescriptionStyleModel",
            "_view_count": null,
            "_view_module": "@jupyter-widgets/base",
            "_view_module_version": "1.2.0",
            "_view_name": "StyleView",
            "description_width": ""
          }
        },
        "29490f210b9a43a4b9c67f2ce2523235": {
          "model_module": "@jupyter-widgets/base",
          "model_name": "LayoutModel",
          "model_module_version": "1.2.0",
          "state": {
            "_model_module": "@jupyter-widgets/base",
            "_model_module_version": "1.2.0",
            "_model_name": "LayoutModel",
            "_view_count": null,
            "_view_module": "@jupyter-widgets/base",
            "_view_module_version": "1.2.0",
            "_view_name": "LayoutView",
            "align_content": null,
            "align_items": null,
            "align_self": null,
            "border": null,
            "bottom": null,
            "display": null,
            "flex": null,
            "flex_flow": null,
            "grid_area": null,
            "grid_auto_columns": null,
            "grid_auto_flow": null,
            "grid_auto_rows": null,
            "grid_column": null,
            "grid_gap": null,
            "grid_row": null,
            "grid_template_areas": null,
            "grid_template_columns": null,
            "grid_template_rows": null,
            "height": null,
            "justify_content": null,
            "justify_items": null,
            "left": null,
            "margin": null,
            "max_height": null,
            "max_width": null,
            "min_height": null,
            "min_width": null,
            "object_fit": null,
            "object_position": null,
            "order": null,
            "overflow": null,
            "overflow_x": null,
            "overflow_y": null,
            "padding": null,
            "right": null,
            "top": null,
            "visibility": null,
            "width": null
          }
        },
        "a6ae0253de634c54917ec98d5443ea11": {
          "model_module": "@jupyter-widgets/controls",
          "model_name": "ProgressStyleModel",
          "model_module_version": "1.5.0",
          "state": {
            "_model_module": "@jupyter-widgets/controls",
            "_model_module_version": "1.5.0",
            "_model_name": "ProgressStyleModel",
            "_view_count": null,
            "_view_module": "@jupyter-widgets/base",
            "_view_module_version": "1.2.0",
            "_view_name": "StyleView",
            "bar_color": null,
            "description_width": ""
          }
        },
        "c0f55360987447a795a4bdda989b9831": {
          "model_module": "@jupyter-widgets/base",
          "model_name": "LayoutModel",
          "model_module_version": "1.2.0",
          "state": {
            "_model_module": "@jupyter-widgets/base",
            "_model_module_version": "1.2.0",
            "_model_name": "LayoutModel",
            "_view_count": null,
            "_view_module": "@jupyter-widgets/base",
            "_view_module_version": "1.2.0",
            "_view_name": "LayoutView",
            "align_content": null,
            "align_items": null,
            "align_self": null,
            "border": null,
            "bottom": null,
            "display": null,
            "flex": null,
            "flex_flow": null,
            "grid_area": null,
            "grid_auto_columns": null,
            "grid_auto_flow": null,
            "grid_auto_rows": null,
            "grid_column": null,
            "grid_gap": null,
            "grid_row": null,
            "grid_template_areas": null,
            "grid_template_columns": null,
            "grid_template_rows": null,
            "height": null,
            "justify_content": null,
            "justify_items": null,
            "left": null,
            "margin": null,
            "max_height": null,
            "max_width": null,
            "min_height": null,
            "min_width": null,
            "object_fit": null,
            "object_position": null,
            "order": null,
            "overflow": null,
            "overflow_x": null,
            "overflow_y": null,
            "padding": null,
            "right": null,
            "top": null,
            "visibility": null,
            "width": null
          }
        },
        "ede2c445980a4f7bb1b09eef306634fb": {
          "model_module": "@jupyter-widgets/controls",
          "model_name": "DescriptionStyleModel",
          "model_module_version": "1.5.0",
          "state": {
            "_model_module": "@jupyter-widgets/controls",
            "_model_module_version": "1.5.0",
            "_model_name": "DescriptionStyleModel",
            "_view_count": null,
            "_view_module": "@jupyter-widgets/base",
            "_view_module_version": "1.2.0",
            "_view_name": "StyleView",
            "description_width": ""
          }
        },
        "fec7b5d2bb564a7ebf09e04bea82cfc8": {
          "model_module": "@jupyter-widgets/controls",
          "model_name": "HBoxModel",
          "model_module_version": "1.5.0",
          "state": {
            "_dom_classes": [],
            "_model_module": "@jupyter-widgets/controls",
            "_model_module_version": "1.5.0",
            "_model_name": "HBoxModel",
            "_view_count": null,
            "_view_module": "@jupyter-widgets/controls",
            "_view_module_version": "1.5.0",
            "_view_name": "HBoxView",
            "box_style": "",
            "children": [
              "IPY_MODEL_84f36bbc18e2416ca1142115dc5caa7d",
              "IPY_MODEL_49c4f54a284d493bbb6ea82e1136e571",
              "IPY_MODEL_9ed7ce4564014aedbaf801f9c1f210e3"
            ],
            "layout": "IPY_MODEL_bd998dca8e3d433fb2d3d7a437202b18"
          }
        },
        "84f36bbc18e2416ca1142115dc5caa7d": {
          "model_module": "@jupyter-widgets/controls",
          "model_name": "HTMLModel",
          "model_module_version": "1.5.0",
          "state": {
            "_dom_classes": [],
            "_model_module": "@jupyter-widgets/controls",
            "_model_module_version": "1.5.0",
            "_model_name": "HTMLModel",
            "_view_count": null,
            "_view_module": "@jupyter-widgets/controls",
            "_view_module_version": "1.5.0",
            "_view_name": "HTMLView",
            "description": "",
            "description_tooltip": null,
            "layout": "IPY_MODEL_7f7bea9cbd9a46d685b44702dc7e12f2",
            "placeholder": "​",
            "style": "IPY_MODEL_56d59a6e5ffb422eaccabe110ebb91d5",
            "value": "tokenizer_config.json: 100%"
          }
        },
        "49c4f54a284d493bbb6ea82e1136e571": {
          "model_module": "@jupyter-widgets/controls",
          "model_name": "FloatProgressModel",
          "model_module_version": "1.5.0",
          "state": {
            "_dom_classes": [],
            "_model_module": "@jupyter-widgets/controls",
            "_model_module_version": "1.5.0",
            "_model_name": "FloatProgressModel",
            "_view_count": null,
            "_view_module": "@jupyter-widgets/controls",
            "_view_module_version": "1.5.0",
            "_view_name": "ProgressView",
            "bar_style": "success",
            "description": "",
            "description_tooltip": null,
            "layout": "IPY_MODEL_776e50bd2351469a8baa9c5dee61e47a",
            "max": 335,
            "min": 0,
            "orientation": "horizontal",
            "style": "IPY_MODEL_f372b1c21f974e0981a0ab190aa1a644",
            "value": 335
          }
        },
        "9ed7ce4564014aedbaf801f9c1f210e3": {
          "model_module": "@jupyter-widgets/controls",
          "model_name": "HTMLModel",
          "model_module_version": "1.5.0",
          "state": {
            "_dom_classes": [],
            "_model_module": "@jupyter-widgets/controls",
            "_model_module_version": "1.5.0",
            "_model_name": "HTMLModel",
            "_view_count": null,
            "_view_module": "@jupyter-widgets/controls",
            "_view_module_version": "1.5.0",
            "_view_name": "HTMLView",
            "description": "",
            "description_tooltip": null,
            "layout": "IPY_MODEL_7d70f3625b7044ffadb191008cc0d837",
            "placeholder": "​",
            "style": "IPY_MODEL_a0fa196ecdf843a5ba319435af497502",
            "value": " 335/335 [00:00&lt;00:00, 13.4kB/s]"
          }
        },
        "bd998dca8e3d433fb2d3d7a437202b18": {
          "model_module": "@jupyter-widgets/base",
          "model_name": "LayoutModel",
          "model_module_version": "1.2.0",
          "state": {
            "_model_module": "@jupyter-widgets/base",
            "_model_module_version": "1.2.0",
            "_model_name": "LayoutModel",
            "_view_count": null,
            "_view_module": "@jupyter-widgets/base",
            "_view_module_version": "1.2.0",
            "_view_name": "LayoutView",
            "align_content": null,
            "align_items": null,
            "align_self": null,
            "border": null,
            "bottom": null,
            "display": null,
            "flex": null,
            "flex_flow": null,
            "grid_area": null,
            "grid_auto_columns": null,
            "grid_auto_flow": null,
            "grid_auto_rows": null,
            "grid_column": null,
            "grid_gap": null,
            "grid_row": null,
            "grid_template_areas": null,
            "grid_template_columns": null,
            "grid_template_rows": null,
            "height": null,
            "justify_content": null,
            "justify_items": null,
            "left": null,
            "margin": null,
            "max_height": null,
            "max_width": null,
            "min_height": null,
            "min_width": null,
            "object_fit": null,
            "object_position": null,
            "order": null,
            "overflow": null,
            "overflow_x": null,
            "overflow_y": null,
            "padding": null,
            "right": null,
            "top": null,
            "visibility": null,
            "width": null
          }
        },
        "7f7bea9cbd9a46d685b44702dc7e12f2": {
          "model_module": "@jupyter-widgets/base",
          "model_name": "LayoutModel",
          "model_module_version": "1.2.0",
          "state": {
            "_model_module": "@jupyter-widgets/base",
            "_model_module_version": "1.2.0",
            "_model_name": "LayoutModel",
            "_view_count": null,
            "_view_module": "@jupyter-widgets/base",
            "_view_module_version": "1.2.0",
            "_view_name": "LayoutView",
            "align_content": null,
            "align_items": null,
            "align_self": null,
            "border": null,
            "bottom": null,
            "display": null,
            "flex": null,
            "flex_flow": null,
            "grid_area": null,
            "grid_auto_columns": null,
            "grid_auto_flow": null,
            "grid_auto_rows": null,
            "grid_column": null,
            "grid_gap": null,
            "grid_row": null,
            "grid_template_areas": null,
            "grid_template_columns": null,
            "grid_template_rows": null,
            "height": null,
            "justify_content": null,
            "justify_items": null,
            "left": null,
            "margin": null,
            "max_height": null,
            "max_width": null,
            "min_height": null,
            "min_width": null,
            "object_fit": null,
            "object_position": null,
            "order": null,
            "overflow": null,
            "overflow_x": null,
            "overflow_y": null,
            "padding": null,
            "right": null,
            "top": null,
            "visibility": null,
            "width": null
          }
        },
        "56d59a6e5ffb422eaccabe110ebb91d5": {
          "model_module": "@jupyter-widgets/controls",
          "model_name": "DescriptionStyleModel",
          "model_module_version": "1.5.0",
          "state": {
            "_model_module": "@jupyter-widgets/controls",
            "_model_module_version": "1.5.0",
            "_model_name": "DescriptionStyleModel",
            "_view_count": null,
            "_view_module": "@jupyter-widgets/base",
            "_view_module_version": "1.2.0",
            "_view_name": "StyleView",
            "description_width": ""
          }
        },
        "776e50bd2351469a8baa9c5dee61e47a": {
          "model_module": "@jupyter-widgets/base",
          "model_name": "LayoutModel",
          "model_module_version": "1.2.0",
          "state": {
            "_model_module": "@jupyter-widgets/base",
            "_model_module_version": "1.2.0",
            "_model_name": "LayoutModel",
            "_view_count": null,
            "_view_module": "@jupyter-widgets/base",
            "_view_module_version": "1.2.0",
            "_view_name": "LayoutView",
            "align_content": null,
            "align_items": null,
            "align_self": null,
            "border": null,
            "bottom": null,
            "display": null,
            "flex": null,
            "flex_flow": null,
            "grid_area": null,
            "grid_auto_columns": null,
            "grid_auto_flow": null,
            "grid_auto_rows": null,
            "grid_column": null,
            "grid_gap": null,
            "grid_row": null,
            "grid_template_areas": null,
            "grid_template_columns": null,
            "grid_template_rows": null,
            "height": null,
            "justify_content": null,
            "justify_items": null,
            "left": null,
            "margin": null,
            "max_height": null,
            "max_width": null,
            "min_height": null,
            "min_width": null,
            "object_fit": null,
            "object_position": null,
            "order": null,
            "overflow": null,
            "overflow_x": null,
            "overflow_y": null,
            "padding": null,
            "right": null,
            "top": null,
            "visibility": null,
            "width": null
          }
        },
        "f372b1c21f974e0981a0ab190aa1a644": {
          "model_module": "@jupyter-widgets/controls",
          "model_name": "ProgressStyleModel",
          "model_module_version": "1.5.0",
          "state": {
            "_model_module": "@jupyter-widgets/controls",
            "_model_module_version": "1.5.0",
            "_model_name": "ProgressStyleModel",
            "_view_count": null,
            "_view_module": "@jupyter-widgets/base",
            "_view_module_version": "1.2.0",
            "_view_name": "StyleView",
            "bar_color": null,
            "description_width": ""
          }
        },
        "7d70f3625b7044ffadb191008cc0d837": {
          "model_module": "@jupyter-widgets/base",
          "model_name": "LayoutModel",
          "model_module_version": "1.2.0",
          "state": {
            "_model_module": "@jupyter-widgets/base",
            "_model_module_version": "1.2.0",
            "_model_name": "LayoutModel",
            "_view_count": null,
            "_view_module": "@jupyter-widgets/base",
            "_view_module_version": "1.2.0",
            "_view_name": "LayoutView",
            "align_content": null,
            "align_items": null,
            "align_self": null,
            "border": null,
            "bottom": null,
            "display": null,
            "flex": null,
            "flex_flow": null,
            "grid_area": null,
            "grid_auto_columns": null,
            "grid_auto_flow": null,
            "grid_auto_rows": null,
            "grid_column": null,
            "grid_gap": null,
            "grid_row": null,
            "grid_template_areas": null,
            "grid_template_columns": null,
            "grid_template_rows": null,
            "height": null,
            "justify_content": null,
            "justify_items": null,
            "left": null,
            "margin": null,
            "max_height": null,
            "max_width": null,
            "min_height": null,
            "min_width": null,
            "object_fit": null,
            "object_position": null,
            "order": null,
            "overflow": null,
            "overflow_x": null,
            "overflow_y": null,
            "padding": null,
            "right": null,
            "top": null,
            "visibility": null,
            "width": null
          }
        },
        "a0fa196ecdf843a5ba319435af497502": {
          "model_module": "@jupyter-widgets/controls",
          "model_name": "DescriptionStyleModel",
          "model_module_version": "1.5.0",
          "state": {
            "_model_module": "@jupyter-widgets/controls",
            "_model_module_version": "1.5.0",
            "_model_name": "DescriptionStyleModel",
            "_view_count": null,
            "_view_module": "@jupyter-widgets/base",
            "_view_module_version": "1.2.0",
            "_view_name": "StyleView",
            "description_width": ""
          }
        },
        "d30d3316faa54b06a78e25b5856ed250": {
          "model_module": "@jupyter-widgets/controls",
          "model_name": "HBoxModel",
          "model_module_version": "1.5.0",
          "state": {
            "_dom_classes": [],
            "_model_module": "@jupyter-widgets/controls",
            "_model_module_version": "1.5.0",
            "_model_name": "HBoxModel",
            "_view_count": null,
            "_view_module": "@jupyter-widgets/controls",
            "_view_module_version": "1.5.0",
            "_view_name": "HBoxView",
            "box_style": "",
            "children": [
              "IPY_MODEL_9c41cb73bbff4cfbaa29d97bca9b457c",
              "IPY_MODEL_ee47fab1288a4659a2de0b64437c4ea4",
              "IPY_MODEL_09b36004af78407ea37e55d849738ef1"
            ],
            "layout": "IPY_MODEL_70ee63d880874d4cac14ba589fd57eb9"
          }
        },
        "9c41cb73bbff4cfbaa29d97bca9b457c": {
          "model_module": "@jupyter-widgets/controls",
          "model_name": "HTMLModel",
          "model_module_version": "1.5.0",
          "state": {
            "_dom_classes": [],
            "_model_module": "@jupyter-widgets/controls",
            "_model_module_version": "1.5.0",
            "_model_name": "HTMLModel",
            "_view_count": null,
            "_view_module": "@jupyter-widgets/controls",
            "_view_module_version": "1.5.0",
            "_view_name": "HTMLView",
            "description": "",
            "description_tooltip": null,
            "layout": "IPY_MODEL_79e037f9708645299bbc677603433e4f",
            "placeholder": "​",
            "style": "IPY_MODEL_67f48572b44542978c30788a3f8a838c",
            "value": "config.json: 100%"
          }
        },
        "ee47fab1288a4659a2de0b64437c4ea4": {
          "model_module": "@jupyter-widgets/controls",
          "model_name": "FloatProgressModel",
          "model_module_version": "1.5.0",
          "state": {
            "_dom_classes": [],
            "_model_module": "@jupyter-widgets/controls",
            "_model_module_version": "1.5.0",
            "_model_name": "FloatProgressModel",
            "_view_count": null,
            "_view_module": "@jupyter-widgets/controls",
            "_view_module_version": "1.5.0",
            "_view_name": "ProgressView",
            "bar_style": "success",
            "description": "",
            "description_tooltip": null,
            "layout": "IPY_MODEL_602c3639f9a14f77abd92ba7bed3972e",
            "max": 798,
            "min": 0,
            "orientation": "horizontal",
            "style": "IPY_MODEL_155c4acf56c94c53b6af01d98fee06f9",
            "value": 798
          }
        },
        "09b36004af78407ea37e55d849738ef1": {
          "model_module": "@jupyter-widgets/controls",
          "model_name": "HTMLModel",
          "model_module_version": "1.5.0",
          "state": {
            "_dom_classes": [],
            "_model_module": "@jupyter-widgets/controls",
            "_model_module_version": "1.5.0",
            "_model_name": "HTMLModel",
            "_view_count": null,
            "_view_module": "@jupyter-widgets/controls",
            "_view_module_version": "1.5.0",
            "_view_name": "HTMLView",
            "description": "",
            "description_tooltip": null,
            "layout": "IPY_MODEL_6572f48d2b824b97ae5b6436773eb091",
            "placeholder": "​",
            "style": "IPY_MODEL_73a2d6a2cdf04c878397851325868a83",
            "value": " 798/798 [00:00&lt;00:00, 54.2kB/s]"
          }
        },
        "70ee63d880874d4cac14ba589fd57eb9": {
          "model_module": "@jupyter-widgets/base",
          "model_name": "LayoutModel",
          "model_module_version": "1.2.0",
          "state": {
            "_model_module": "@jupyter-widgets/base",
            "_model_module_version": "1.2.0",
            "_model_name": "LayoutModel",
            "_view_count": null,
            "_view_module": "@jupyter-widgets/base",
            "_view_module_version": "1.2.0",
            "_view_name": "LayoutView",
            "align_content": null,
            "align_items": null,
            "align_self": null,
            "border": null,
            "bottom": null,
            "display": null,
            "flex": null,
            "flex_flow": null,
            "grid_area": null,
            "grid_auto_columns": null,
            "grid_auto_flow": null,
            "grid_auto_rows": null,
            "grid_column": null,
            "grid_gap": null,
            "grid_row": null,
            "grid_template_areas": null,
            "grid_template_columns": null,
            "grid_template_rows": null,
            "height": null,
            "justify_content": null,
            "justify_items": null,
            "left": null,
            "margin": null,
            "max_height": null,
            "max_width": null,
            "min_height": null,
            "min_width": null,
            "object_fit": null,
            "object_position": null,
            "order": null,
            "overflow": null,
            "overflow_x": null,
            "overflow_y": null,
            "padding": null,
            "right": null,
            "top": null,
            "visibility": null,
            "width": null
          }
        },
        "79e037f9708645299bbc677603433e4f": {
          "model_module": "@jupyter-widgets/base",
          "model_name": "LayoutModel",
          "model_module_version": "1.2.0",
          "state": {
            "_model_module": "@jupyter-widgets/base",
            "_model_module_version": "1.2.0",
            "_model_name": "LayoutModel",
            "_view_count": null,
            "_view_module": "@jupyter-widgets/base",
            "_view_module_version": "1.2.0",
            "_view_name": "LayoutView",
            "align_content": null,
            "align_items": null,
            "align_self": null,
            "border": null,
            "bottom": null,
            "display": null,
            "flex": null,
            "flex_flow": null,
            "grid_area": null,
            "grid_auto_columns": null,
            "grid_auto_flow": null,
            "grid_auto_rows": null,
            "grid_column": null,
            "grid_gap": null,
            "grid_row": null,
            "grid_template_areas": null,
            "grid_template_columns": null,
            "grid_template_rows": null,
            "height": null,
            "justify_content": null,
            "justify_items": null,
            "left": null,
            "margin": null,
            "max_height": null,
            "max_width": null,
            "min_height": null,
            "min_width": null,
            "object_fit": null,
            "object_position": null,
            "order": null,
            "overflow": null,
            "overflow_x": null,
            "overflow_y": null,
            "padding": null,
            "right": null,
            "top": null,
            "visibility": null,
            "width": null
          }
        },
        "67f48572b44542978c30788a3f8a838c": {
          "model_module": "@jupyter-widgets/controls",
          "model_name": "DescriptionStyleModel",
          "model_module_version": "1.5.0",
          "state": {
            "_model_module": "@jupyter-widgets/controls",
            "_model_module_version": "1.5.0",
            "_model_name": "DescriptionStyleModel",
            "_view_count": null,
            "_view_module": "@jupyter-widgets/base",
            "_view_module_version": "1.2.0",
            "_view_name": "StyleView",
            "description_width": ""
          }
        },
        "602c3639f9a14f77abd92ba7bed3972e": {
          "model_module": "@jupyter-widgets/base",
          "model_name": "LayoutModel",
          "model_module_version": "1.2.0",
          "state": {
            "_model_module": "@jupyter-widgets/base",
            "_model_module_version": "1.2.0",
            "_model_name": "LayoutModel",
            "_view_count": null,
            "_view_module": "@jupyter-widgets/base",
            "_view_module_version": "1.2.0",
            "_view_name": "LayoutView",
            "align_content": null,
            "align_items": null,
            "align_self": null,
            "border": null,
            "bottom": null,
            "display": null,
            "flex": null,
            "flex_flow": null,
            "grid_area": null,
            "grid_auto_columns": null,
            "grid_auto_flow": null,
            "grid_auto_rows": null,
            "grid_column": null,
            "grid_gap": null,
            "grid_row": null,
            "grid_template_areas": null,
            "grid_template_columns": null,
            "grid_template_rows": null,
            "height": null,
            "justify_content": null,
            "justify_items": null,
            "left": null,
            "margin": null,
            "max_height": null,
            "max_width": null,
            "min_height": null,
            "min_width": null,
            "object_fit": null,
            "object_position": null,
            "order": null,
            "overflow": null,
            "overflow_x": null,
            "overflow_y": null,
            "padding": null,
            "right": null,
            "top": null,
            "visibility": null,
            "width": null
          }
        },
        "155c4acf56c94c53b6af01d98fee06f9": {
          "model_module": "@jupyter-widgets/controls",
          "model_name": "ProgressStyleModel",
          "model_module_version": "1.5.0",
          "state": {
            "_model_module": "@jupyter-widgets/controls",
            "_model_module_version": "1.5.0",
            "_model_name": "ProgressStyleModel",
            "_view_count": null,
            "_view_module": "@jupyter-widgets/base",
            "_view_module_version": "1.2.0",
            "_view_name": "StyleView",
            "bar_color": null,
            "description_width": ""
          }
        },
        "6572f48d2b824b97ae5b6436773eb091": {
          "model_module": "@jupyter-widgets/base",
          "model_name": "LayoutModel",
          "model_module_version": "1.2.0",
          "state": {
            "_model_module": "@jupyter-widgets/base",
            "_model_module_version": "1.2.0",
            "_model_name": "LayoutModel",
            "_view_count": null,
            "_view_module": "@jupyter-widgets/base",
            "_view_module_version": "1.2.0",
            "_view_name": "LayoutView",
            "align_content": null,
            "align_items": null,
            "align_self": null,
            "border": null,
            "bottom": null,
            "display": null,
            "flex": null,
            "flex_flow": null,
            "grid_area": null,
            "grid_auto_columns": null,
            "grid_auto_flow": null,
            "grid_auto_rows": null,
            "grid_column": null,
            "grid_gap": null,
            "grid_row": null,
            "grid_template_areas": null,
            "grid_template_columns": null,
            "grid_template_rows": null,
            "height": null,
            "justify_content": null,
            "justify_items": null,
            "left": null,
            "margin": null,
            "max_height": null,
            "max_width": null,
            "min_height": null,
            "min_width": null,
            "object_fit": null,
            "object_position": null,
            "order": null,
            "overflow": null,
            "overflow_x": null,
            "overflow_y": null,
            "padding": null,
            "right": null,
            "top": null,
            "visibility": null,
            "width": null
          }
        },
        "73a2d6a2cdf04c878397851325868a83": {
          "model_module": "@jupyter-widgets/controls",
          "model_name": "DescriptionStyleModel",
          "model_module_version": "1.5.0",
          "state": {
            "_model_module": "@jupyter-widgets/controls",
            "_model_module_version": "1.5.0",
            "_model_name": "DescriptionStyleModel",
            "_view_count": null,
            "_view_module": "@jupyter-widgets/base",
            "_view_module_version": "1.2.0",
            "_view_name": "StyleView",
            "description_width": ""
          }
        },
        "6c50b8c218fe4c25a6ce5791d77b0f0b": {
          "model_module": "@jupyter-widgets/controls",
          "model_name": "HBoxModel",
          "model_module_version": "1.5.0",
          "state": {
            "_dom_classes": [],
            "_model_module": "@jupyter-widgets/controls",
            "_model_module_version": "1.5.0",
            "_model_name": "HBoxModel",
            "_view_count": null,
            "_view_module": "@jupyter-widgets/controls",
            "_view_module_version": "1.5.0",
            "_view_name": "HBoxView",
            "box_style": "",
            "children": [
              "IPY_MODEL_591dbaac37a2494b9b3beb74c911c479",
              "IPY_MODEL_a960ab6bd3ed4201a48c7787f82a1837",
              "IPY_MODEL_37eaf59be6df428885795ccd09dae1c0"
            ],
            "layout": "IPY_MODEL_c40469878f8f45f9b96fd9ea8bf3de74"
          }
        },
        "591dbaac37a2494b9b3beb74c911c479": {
          "model_module": "@jupyter-widgets/controls",
          "model_name": "HTMLModel",
          "model_module_version": "1.5.0",
          "state": {
            "_dom_classes": [],
            "_model_module": "@jupyter-widgets/controls",
            "_model_module_version": "1.5.0",
            "_model_name": "HTMLModel",
            "_view_count": null,
            "_view_module": "@jupyter-widgets/controls",
            "_view_module_version": "1.5.0",
            "_view_name": "HTMLView",
            "description": "",
            "description_tooltip": null,
            "layout": "IPY_MODEL_377f2777de9040d5b89fde273a45f5f4",
            "placeholder": "​",
            "style": "IPY_MODEL_ad3ecd284d6248808282ceefa4325d4e",
            "value": "vocab.txt: 100%"
          }
        },
        "a960ab6bd3ed4201a48c7787f82a1837": {
          "model_module": "@jupyter-widgets/controls",
          "model_name": "FloatProgressModel",
          "model_module_version": "1.5.0",
          "state": {
            "_dom_classes": [],
            "_model_module": "@jupyter-widgets/controls",
            "_model_module_version": "1.5.0",
            "_model_name": "FloatProgressModel",
            "_view_count": null,
            "_view_module": "@jupyter-widgets/controls",
            "_view_module_version": "1.5.0",
            "_view_name": "ProgressView",
            "bar_style": "success",
            "description": "",
            "description_tooltip": null,
            "layout": "IPY_MODEL_94ba0cdcab7a40998b79a22afd07a126",
            "max": 1552337,
            "min": 0,
            "orientation": "horizontal",
            "style": "IPY_MODEL_abfc467650bd4f6dac4c280c2b6536be",
            "value": 1552337
          }
        },
        "37eaf59be6df428885795ccd09dae1c0": {
          "model_module": "@jupyter-widgets/controls",
          "model_name": "HTMLModel",
          "model_module_version": "1.5.0",
          "state": {
            "_dom_classes": [],
            "_model_module": "@jupyter-widgets/controls",
            "_model_module_version": "1.5.0",
            "_model_name": "HTMLModel",
            "_view_count": null,
            "_view_module": "@jupyter-widgets/controls",
            "_view_module_version": "1.5.0",
            "_view_name": "HTMLView",
            "description": "",
            "description_tooltip": null,
            "layout": "IPY_MODEL_918e316222fd48bd8f289c006795b7a4",
            "placeholder": "​",
            "style": "IPY_MODEL_2cb5c00b4d0e4fab9c5d03932185972a",
            "value": " 1.55M/1.55M [00:01&lt;00:00, 1.43MB/s]"
          }
        },
        "c40469878f8f45f9b96fd9ea8bf3de74": {
          "model_module": "@jupyter-widgets/base",
          "model_name": "LayoutModel",
          "model_module_version": "1.2.0",
          "state": {
            "_model_module": "@jupyter-widgets/base",
            "_model_module_version": "1.2.0",
            "_model_name": "LayoutModel",
            "_view_count": null,
            "_view_module": "@jupyter-widgets/base",
            "_view_module_version": "1.2.0",
            "_view_name": "LayoutView",
            "align_content": null,
            "align_items": null,
            "align_self": null,
            "border": null,
            "bottom": null,
            "display": null,
            "flex": null,
            "flex_flow": null,
            "grid_area": null,
            "grid_auto_columns": null,
            "grid_auto_flow": null,
            "grid_auto_rows": null,
            "grid_column": null,
            "grid_gap": null,
            "grid_row": null,
            "grid_template_areas": null,
            "grid_template_columns": null,
            "grid_template_rows": null,
            "height": null,
            "justify_content": null,
            "justify_items": null,
            "left": null,
            "margin": null,
            "max_height": null,
            "max_width": null,
            "min_height": null,
            "min_width": null,
            "object_fit": null,
            "object_position": null,
            "order": null,
            "overflow": null,
            "overflow_x": null,
            "overflow_y": null,
            "padding": null,
            "right": null,
            "top": null,
            "visibility": null,
            "width": null
          }
        },
        "377f2777de9040d5b89fde273a45f5f4": {
          "model_module": "@jupyter-widgets/base",
          "model_name": "LayoutModel",
          "model_module_version": "1.2.0",
          "state": {
            "_model_module": "@jupyter-widgets/base",
            "_model_module_version": "1.2.0",
            "_model_name": "LayoutModel",
            "_view_count": null,
            "_view_module": "@jupyter-widgets/base",
            "_view_module_version": "1.2.0",
            "_view_name": "LayoutView",
            "align_content": null,
            "align_items": null,
            "align_self": null,
            "border": null,
            "bottom": null,
            "display": null,
            "flex": null,
            "flex_flow": null,
            "grid_area": null,
            "grid_auto_columns": null,
            "grid_auto_flow": null,
            "grid_auto_rows": null,
            "grid_column": null,
            "grid_gap": null,
            "grid_row": null,
            "grid_template_areas": null,
            "grid_template_columns": null,
            "grid_template_rows": null,
            "height": null,
            "justify_content": null,
            "justify_items": null,
            "left": null,
            "margin": null,
            "max_height": null,
            "max_width": null,
            "min_height": null,
            "min_width": null,
            "object_fit": null,
            "object_position": null,
            "order": null,
            "overflow": null,
            "overflow_x": null,
            "overflow_y": null,
            "padding": null,
            "right": null,
            "top": null,
            "visibility": null,
            "width": null
          }
        },
        "ad3ecd284d6248808282ceefa4325d4e": {
          "model_module": "@jupyter-widgets/controls",
          "model_name": "DescriptionStyleModel",
          "model_module_version": "1.5.0",
          "state": {
            "_model_module": "@jupyter-widgets/controls",
            "_model_module_version": "1.5.0",
            "_model_name": "DescriptionStyleModel",
            "_view_count": null,
            "_view_module": "@jupyter-widgets/base",
            "_view_module_version": "1.2.0",
            "_view_name": "StyleView",
            "description_width": ""
          }
        },
        "94ba0cdcab7a40998b79a22afd07a126": {
          "model_module": "@jupyter-widgets/base",
          "model_name": "LayoutModel",
          "model_module_version": "1.2.0",
          "state": {
            "_model_module": "@jupyter-widgets/base",
            "_model_module_version": "1.2.0",
            "_model_name": "LayoutModel",
            "_view_count": null,
            "_view_module": "@jupyter-widgets/base",
            "_view_module_version": "1.2.0",
            "_view_name": "LayoutView",
            "align_content": null,
            "align_items": null,
            "align_self": null,
            "border": null,
            "bottom": null,
            "display": null,
            "flex": null,
            "flex_flow": null,
            "grid_area": null,
            "grid_auto_columns": null,
            "grid_auto_flow": null,
            "grid_auto_rows": null,
            "grid_column": null,
            "grid_gap": null,
            "grid_row": null,
            "grid_template_areas": null,
            "grid_template_columns": null,
            "grid_template_rows": null,
            "height": null,
            "justify_content": null,
            "justify_items": null,
            "left": null,
            "margin": null,
            "max_height": null,
            "max_width": null,
            "min_height": null,
            "min_width": null,
            "object_fit": null,
            "object_position": null,
            "order": null,
            "overflow": null,
            "overflow_x": null,
            "overflow_y": null,
            "padding": null,
            "right": null,
            "top": null,
            "visibility": null,
            "width": null
          }
        },
        "abfc467650bd4f6dac4c280c2b6536be": {
          "model_module": "@jupyter-widgets/controls",
          "model_name": "ProgressStyleModel",
          "model_module_version": "1.5.0",
          "state": {
            "_model_module": "@jupyter-widgets/controls",
            "_model_module_version": "1.5.0",
            "_model_name": "ProgressStyleModel",
            "_view_count": null,
            "_view_module": "@jupyter-widgets/base",
            "_view_module_version": "1.2.0",
            "_view_name": "StyleView",
            "bar_color": null,
            "description_width": ""
          }
        },
        "918e316222fd48bd8f289c006795b7a4": {
          "model_module": "@jupyter-widgets/base",
          "model_name": "LayoutModel",
          "model_module_version": "1.2.0",
          "state": {
            "_model_module": "@jupyter-widgets/base",
            "_model_module_version": "1.2.0",
            "_model_name": "LayoutModel",
            "_view_count": null,
            "_view_module": "@jupyter-widgets/base",
            "_view_module_version": "1.2.0",
            "_view_name": "LayoutView",
            "align_content": null,
            "align_items": null,
            "align_self": null,
            "border": null,
            "bottom": null,
            "display": null,
            "flex": null,
            "flex_flow": null,
            "grid_area": null,
            "grid_auto_columns": null,
            "grid_auto_flow": null,
            "grid_auto_rows": null,
            "grid_column": null,
            "grid_gap": null,
            "grid_row": null,
            "grid_template_areas": null,
            "grid_template_columns": null,
            "grid_template_rows": null,
            "height": null,
            "justify_content": null,
            "justify_items": null,
            "left": null,
            "margin": null,
            "max_height": null,
            "max_width": null,
            "min_height": null,
            "min_width": null,
            "object_fit": null,
            "object_position": null,
            "order": null,
            "overflow": null,
            "overflow_x": null,
            "overflow_y": null,
            "padding": null,
            "right": null,
            "top": null,
            "visibility": null,
            "width": null
          }
        },
        "2cb5c00b4d0e4fab9c5d03932185972a": {
          "model_module": "@jupyter-widgets/controls",
          "model_name": "DescriptionStyleModel",
          "model_module_version": "1.5.0",
          "state": {
            "_model_module": "@jupyter-widgets/controls",
            "_model_module_version": "1.5.0",
            "_model_name": "DescriptionStyleModel",
            "_view_count": null,
            "_view_module": "@jupyter-widgets/base",
            "_view_module_version": "1.2.0",
            "_view_name": "StyleView",
            "description_width": ""
          }
        },
        "d654fc2b64bf406ba7d4710fd73dff07": {
          "model_module": "@jupyter-widgets/controls",
          "model_name": "HBoxModel",
          "model_module_version": "1.5.0",
          "state": {
            "_dom_classes": [],
            "_model_module": "@jupyter-widgets/controls",
            "_model_module_version": "1.5.0",
            "_model_name": "HBoxModel",
            "_view_count": null,
            "_view_module": "@jupyter-widgets/controls",
            "_view_module_version": "1.5.0",
            "_view_name": "HBoxView",
            "box_style": "",
            "children": [
              "IPY_MODEL_5034d185945e4ca68991a1ef3602d281",
              "IPY_MODEL_d8bae34d1abe4dbe963d7f7bc57b9b0e",
              "IPY_MODEL_88c1d40f4eac4e30ac3878189772f657"
            ],
            "layout": "IPY_MODEL_ef3fd29852ab4909b68813b87e67f9c0"
          }
        },
        "5034d185945e4ca68991a1ef3602d281": {
          "model_module": "@jupyter-widgets/controls",
          "model_name": "HTMLModel",
          "model_module_version": "1.5.0",
          "state": {
            "_dom_classes": [],
            "_model_module": "@jupyter-widgets/controls",
            "_model_module_version": "1.5.0",
            "_model_name": "HTMLModel",
            "_view_count": null,
            "_view_module": "@jupyter-widgets/controls",
            "_view_module_version": "1.5.0",
            "_view_name": "HTMLView",
            "description": "",
            "description_tooltip": null,
            "layout": "IPY_MODEL_bffd883cb8424dc09d57ede6f23268c7",
            "placeholder": "​",
            "style": "IPY_MODEL_190c68c2f1d142188fb9a298d083e0a9",
            "value": "special_tokens_map.json: 100%"
          }
        },
        "d8bae34d1abe4dbe963d7f7bc57b9b0e": {
          "model_module": "@jupyter-widgets/controls",
          "model_name": "FloatProgressModel",
          "model_module_version": "1.5.0",
          "state": {
            "_dom_classes": [],
            "_model_module": "@jupyter-widgets/controls",
            "_model_module_version": "1.5.0",
            "_model_name": "FloatProgressModel",
            "_view_count": null,
            "_view_module": "@jupyter-widgets/controls",
            "_view_module_version": "1.5.0",
            "_view_name": "ProgressView",
            "bar_style": "success",
            "description": "",
            "description_tooltip": null,
            "layout": "IPY_MODEL_1ccb06b745ee435a895e9aeb4fd58778",
            "max": 112,
            "min": 0,
            "orientation": "horizontal",
            "style": "IPY_MODEL_3e275a2aeab34be69281cec751209090",
            "value": 112
          }
        },
        "88c1d40f4eac4e30ac3878189772f657": {
          "model_module": "@jupyter-widgets/controls",
          "model_name": "HTMLModel",
          "model_module_version": "1.5.0",
          "state": {
            "_dom_classes": [],
            "_model_module": "@jupyter-widgets/controls",
            "_model_module_version": "1.5.0",
            "_model_name": "HTMLModel",
            "_view_count": null,
            "_view_module": "@jupyter-widgets/controls",
            "_view_module_version": "1.5.0",
            "_view_name": "HTMLView",
            "description": "",
            "description_tooltip": null,
            "layout": "IPY_MODEL_a07cf92d6d7c423598a90ac8a3ed7525",
            "placeholder": "​",
            "style": "IPY_MODEL_5d24081ca7784c7790d5bdf83433f536",
            "value": " 112/112 [00:00&lt;00:00, 8.96kB/s]"
          }
        },
        "ef3fd29852ab4909b68813b87e67f9c0": {
          "model_module": "@jupyter-widgets/base",
          "model_name": "LayoutModel",
          "model_module_version": "1.2.0",
          "state": {
            "_model_module": "@jupyter-widgets/base",
            "_model_module_version": "1.2.0",
            "_model_name": "LayoutModel",
            "_view_count": null,
            "_view_module": "@jupyter-widgets/base",
            "_view_module_version": "1.2.0",
            "_view_name": "LayoutView",
            "align_content": null,
            "align_items": null,
            "align_self": null,
            "border": null,
            "bottom": null,
            "display": null,
            "flex": null,
            "flex_flow": null,
            "grid_area": null,
            "grid_auto_columns": null,
            "grid_auto_flow": null,
            "grid_auto_rows": null,
            "grid_column": null,
            "grid_gap": null,
            "grid_row": null,
            "grid_template_areas": null,
            "grid_template_columns": null,
            "grid_template_rows": null,
            "height": null,
            "justify_content": null,
            "justify_items": null,
            "left": null,
            "margin": null,
            "max_height": null,
            "max_width": null,
            "min_height": null,
            "min_width": null,
            "object_fit": null,
            "object_position": null,
            "order": null,
            "overflow": null,
            "overflow_x": null,
            "overflow_y": null,
            "padding": null,
            "right": null,
            "top": null,
            "visibility": null,
            "width": null
          }
        },
        "bffd883cb8424dc09d57ede6f23268c7": {
          "model_module": "@jupyter-widgets/base",
          "model_name": "LayoutModel",
          "model_module_version": "1.2.0",
          "state": {
            "_model_module": "@jupyter-widgets/base",
            "_model_module_version": "1.2.0",
            "_model_name": "LayoutModel",
            "_view_count": null,
            "_view_module": "@jupyter-widgets/base",
            "_view_module_version": "1.2.0",
            "_view_name": "LayoutView",
            "align_content": null,
            "align_items": null,
            "align_self": null,
            "border": null,
            "bottom": null,
            "display": null,
            "flex": null,
            "flex_flow": null,
            "grid_area": null,
            "grid_auto_columns": null,
            "grid_auto_flow": null,
            "grid_auto_rows": null,
            "grid_column": null,
            "grid_gap": null,
            "grid_row": null,
            "grid_template_areas": null,
            "grid_template_columns": null,
            "grid_template_rows": null,
            "height": null,
            "justify_content": null,
            "justify_items": null,
            "left": null,
            "margin": null,
            "max_height": null,
            "max_width": null,
            "min_height": null,
            "min_width": null,
            "object_fit": null,
            "object_position": null,
            "order": null,
            "overflow": null,
            "overflow_x": null,
            "overflow_y": null,
            "padding": null,
            "right": null,
            "top": null,
            "visibility": null,
            "width": null
          }
        },
        "190c68c2f1d142188fb9a298d083e0a9": {
          "model_module": "@jupyter-widgets/controls",
          "model_name": "DescriptionStyleModel",
          "model_module_version": "1.5.0",
          "state": {
            "_model_module": "@jupyter-widgets/controls",
            "_model_module_version": "1.5.0",
            "_model_name": "DescriptionStyleModel",
            "_view_count": null,
            "_view_module": "@jupyter-widgets/base",
            "_view_module_version": "1.2.0",
            "_view_name": "StyleView",
            "description_width": ""
          }
        },
        "1ccb06b745ee435a895e9aeb4fd58778": {
          "model_module": "@jupyter-widgets/base",
          "model_name": "LayoutModel",
          "model_module_version": "1.2.0",
          "state": {
            "_model_module": "@jupyter-widgets/base",
            "_model_module_version": "1.2.0",
            "_model_name": "LayoutModel",
            "_view_count": null,
            "_view_module": "@jupyter-widgets/base",
            "_view_module_version": "1.2.0",
            "_view_name": "LayoutView",
            "align_content": null,
            "align_items": null,
            "align_self": null,
            "border": null,
            "bottom": null,
            "display": null,
            "flex": null,
            "flex_flow": null,
            "grid_area": null,
            "grid_auto_columns": null,
            "grid_auto_flow": null,
            "grid_auto_rows": null,
            "grid_column": null,
            "grid_gap": null,
            "grid_row": null,
            "grid_template_areas": null,
            "grid_template_columns": null,
            "grid_template_rows": null,
            "height": null,
            "justify_content": null,
            "justify_items": null,
            "left": null,
            "margin": null,
            "max_height": null,
            "max_width": null,
            "min_height": null,
            "min_width": null,
            "object_fit": null,
            "object_position": null,
            "order": null,
            "overflow": null,
            "overflow_x": null,
            "overflow_y": null,
            "padding": null,
            "right": null,
            "top": null,
            "visibility": null,
            "width": null
          }
        },
        "3e275a2aeab34be69281cec751209090": {
          "model_module": "@jupyter-widgets/controls",
          "model_name": "ProgressStyleModel",
          "model_module_version": "1.5.0",
          "state": {
            "_model_module": "@jupyter-widgets/controls",
            "_model_module_version": "1.5.0",
            "_model_name": "ProgressStyleModel",
            "_view_count": null,
            "_view_module": "@jupyter-widgets/base",
            "_view_module_version": "1.2.0",
            "_view_name": "StyleView",
            "bar_color": null,
            "description_width": ""
          }
        },
        "a07cf92d6d7c423598a90ac8a3ed7525": {
          "model_module": "@jupyter-widgets/base",
          "model_name": "LayoutModel",
          "model_module_version": "1.2.0",
          "state": {
            "_model_module": "@jupyter-widgets/base",
            "_model_module_version": "1.2.0",
            "_model_name": "LayoutModel",
            "_view_count": null,
            "_view_module": "@jupyter-widgets/base",
            "_view_module_version": "1.2.0",
            "_view_name": "LayoutView",
            "align_content": null,
            "align_items": null,
            "align_self": null,
            "border": null,
            "bottom": null,
            "display": null,
            "flex": null,
            "flex_flow": null,
            "grid_area": null,
            "grid_auto_columns": null,
            "grid_auto_flow": null,
            "grid_auto_rows": null,
            "grid_column": null,
            "grid_gap": null,
            "grid_row": null,
            "grid_template_areas": null,
            "grid_template_columns": null,
            "grid_template_rows": null,
            "height": null,
            "justify_content": null,
            "justify_items": null,
            "left": null,
            "margin": null,
            "max_height": null,
            "max_width": null,
            "min_height": null,
            "min_width": null,
            "object_fit": null,
            "object_position": null,
            "order": null,
            "overflow": null,
            "overflow_x": null,
            "overflow_y": null,
            "padding": null,
            "right": null,
            "top": null,
            "visibility": null,
            "width": null
          }
        },
        "5d24081ca7784c7790d5bdf83433f536": {
          "model_module": "@jupyter-widgets/controls",
          "model_name": "DescriptionStyleModel",
          "model_module_version": "1.5.0",
          "state": {
            "_model_module": "@jupyter-widgets/controls",
            "_model_module_version": "1.5.0",
            "_model_name": "DescriptionStyleModel",
            "_view_count": null,
            "_view_module": "@jupyter-widgets/base",
            "_view_module_version": "1.2.0",
            "_view_name": "StyleView",
            "description_width": ""
          }
        },
        "af7154ad803d45e2838fbaf9a66dd6b9": {
          "model_module": "@jupyter-widgets/controls",
          "model_name": "HBoxModel",
          "model_module_version": "1.5.0",
          "state": {
            "_dom_classes": [],
            "_model_module": "@jupyter-widgets/controls",
            "_model_module_version": "1.5.0",
            "_model_name": "HBoxModel",
            "_view_count": null,
            "_view_module": "@jupyter-widgets/controls",
            "_view_module_version": "1.5.0",
            "_view_name": "HBoxView",
            "box_style": "",
            "children": [
              "IPY_MODEL_e6820a7c7f794775b0c3a17549a43eb4",
              "IPY_MODEL_811952ee49c44c11bcab2cf7da9ce410",
              "IPY_MODEL_4b387fe68ab34f1d89201f565dcb176b"
            ],
            "layout": "IPY_MODEL_ed8efcc52eac40278c8da35741c6bb17"
          }
        },
        "e6820a7c7f794775b0c3a17549a43eb4": {
          "model_module": "@jupyter-widgets/controls",
          "model_name": "HTMLModel",
          "model_module_version": "1.5.0",
          "state": {
            "_dom_classes": [],
            "_model_module": "@jupyter-widgets/controls",
            "_model_module_version": "1.5.0",
            "_model_name": "HTMLModel",
            "_view_count": null,
            "_view_module": "@jupyter-widgets/controls",
            "_view_module_version": "1.5.0",
            "_view_name": "HTMLView",
            "description": "",
            "description_tooltip": null,
            "layout": "IPY_MODEL_173dd73775394210bc22b2e18bb56b54",
            "placeholder": "​",
            "style": "IPY_MODEL_38d61294e0b346f69cda8aeaa810cf89",
            "value": "Map: 100%"
          }
        },
        "811952ee49c44c11bcab2cf7da9ce410": {
          "model_module": "@jupyter-widgets/controls",
          "model_name": "FloatProgressModel",
          "model_module_version": "1.5.0",
          "state": {
            "_dom_classes": [],
            "_model_module": "@jupyter-widgets/controls",
            "_model_module_version": "1.5.0",
            "_model_name": "FloatProgressModel",
            "_view_count": null,
            "_view_module": "@jupyter-widgets/controls",
            "_view_module_version": "1.5.0",
            "_view_name": "ProgressView",
            "bar_style": "success",
            "description": "",
            "description_tooltip": null,
            "layout": "IPY_MODEL_35faa269e77942cf9dd7b504d90562e6",
            "max": 24091,
            "min": 0,
            "orientation": "horizontal",
            "style": "IPY_MODEL_59e587eb229a4034b866f24b8d247867",
            "value": 24091
          }
        },
        "4b387fe68ab34f1d89201f565dcb176b": {
          "model_module": "@jupyter-widgets/controls",
          "model_name": "HTMLModel",
          "model_module_version": "1.5.0",
          "state": {
            "_dom_classes": [],
            "_model_module": "@jupyter-widgets/controls",
            "_model_module_version": "1.5.0",
            "_model_name": "HTMLModel",
            "_view_count": null,
            "_view_module": "@jupyter-widgets/controls",
            "_view_module_version": "1.5.0",
            "_view_name": "HTMLView",
            "description": "",
            "description_tooltip": null,
            "layout": "IPY_MODEL_de11e802214d466c882709d73b331dc1",
            "placeholder": "​",
            "style": "IPY_MODEL_32e33e7a194d4f9ea104d686de5906c4",
            "value": " 24091/24091 [00:15&lt;00:00, 1490.58 examples/s]"
          }
        },
        "ed8efcc52eac40278c8da35741c6bb17": {
          "model_module": "@jupyter-widgets/base",
          "model_name": "LayoutModel",
          "model_module_version": "1.2.0",
          "state": {
            "_model_module": "@jupyter-widgets/base",
            "_model_module_version": "1.2.0",
            "_model_name": "LayoutModel",
            "_view_count": null,
            "_view_module": "@jupyter-widgets/base",
            "_view_module_version": "1.2.0",
            "_view_name": "LayoutView",
            "align_content": null,
            "align_items": null,
            "align_self": null,
            "border": null,
            "bottom": null,
            "display": null,
            "flex": null,
            "flex_flow": null,
            "grid_area": null,
            "grid_auto_columns": null,
            "grid_auto_flow": null,
            "grid_auto_rows": null,
            "grid_column": null,
            "grid_gap": null,
            "grid_row": null,
            "grid_template_areas": null,
            "grid_template_columns": null,
            "grid_template_rows": null,
            "height": null,
            "justify_content": null,
            "justify_items": null,
            "left": null,
            "margin": null,
            "max_height": null,
            "max_width": null,
            "min_height": null,
            "min_width": null,
            "object_fit": null,
            "object_position": null,
            "order": null,
            "overflow": null,
            "overflow_x": null,
            "overflow_y": null,
            "padding": null,
            "right": null,
            "top": null,
            "visibility": null,
            "width": null
          }
        },
        "173dd73775394210bc22b2e18bb56b54": {
          "model_module": "@jupyter-widgets/base",
          "model_name": "LayoutModel",
          "model_module_version": "1.2.0",
          "state": {
            "_model_module": "@jupyter-widgets/base",
            "_model_module_version": "1.2.0",
            "_model_name": "LayoutModel",
            "_view_count": null,
            "_view_module": "@jupyter-widgets/base",
            "_view_module_version": "1.2.0",
            "_view_name": "LayoutView",
            "align_content": null,
            "align_items": null,
            "align_self": null,
            "border": null,
            "bottom": null,
            "display": null,
            "flex": null,
            "flex_flow": null,
            "grid_area": null,
            "grid_auto_columns": null,
            "grid_auto_flow": null,
            "grid_auto_rows": null,
            "grid_column": null,
            "grid_gap": null,
            "grid_row": null,
            "grid_template_areas": null,
            "grid_template_columns": null,
            "grid_template_rows": null,
            "height": null,
            "justify_content": null,
            "justify_items": null,
            "left": null,
            "margin": null,
            "max_height": null,
            "max_width": null,
            "min_height": null,
            "min_width": null,
            "object_fit": null,
            "object_position": null,
            "order": null,
            "overflow": null,
            "overflow_x": null,
            "overflow_y": null,
            "padding": null,
            "right": null,
            "top": null,
            "visibility": null,
            "width": null
          }
        },
        "38d61294e0b346f69cda8aeaa810cf89": {
          "model_module": "@jupyter-widgets/controls",
          "model_name": "DescriptionStyleModel",
          "model_module_version": "1.5.0",
          "state": {
            "_model_module": "@jupyter-widgets/controls",
            "_model_module_version": "1.5.0",
            "_model_name": "DescriptionStyleModel",
            "_view_count": null,
            "_view_module": "@jupyter-widgets/base",
            "_view_module_version": "1.2.0",
            "_view_name": "StyleView",
            "description_width": ""
          }
        },
        "35faa269e77942cf9dd7b504d90562e6": {
          "model_module": "@jupyter-widgets/base",
          "model_name": "LayoutModel",
          "model_module_version": "1.2.0",
          "state": {
            "_model_module": "@jupyter-widgets/base",
            "_model_module_version": "1.2.0",
            "_model_name": "LayoutModel",
            "_view_count": null,
            "_view_module": "@jupyter-widgets/base",
            "_view_module_version": "1.2.0",
            "_view_name": "LayoutView",
            "align_content": null,
            "align_items": null,
            "align_self": null,
            "border": null,
            "bottom": null,
            "display": null,
            "flex": null,
            "flex_flow": null,
            "grid_area": null,
            "grid_auto_columns": null,
            "grid_auto_flow": null,
            "grid_auto_rows": null,
            "grid_column": null,
            "grid_gap": null,
            "grid_row": null,
            "grid_template_areas": null,
            "grid_template_columns": null,
            "grid_template_rows": null,
            "height": null,
            "justify_content": null,
            "justify_items": null,
            "left": null,
            "margin": null,
            "max_height": null,
            "max_width": null,
            "min_height": null,
            "min_width": null,
            "object_fit": null,
            "object_position": null,
            "order": null,
            "overflow": null,
            "overflow_x": null,
            "overflow_y": null,
            "padding": null,
            "right": null,
            "top": null,
            "visibility": null,
            "width": null
          }
        },
        "59e587eb229a4034b866f24b8d247867": {
          "model_module": "@jupyter-widgets/controls",
          "model_name": "ProgressStyleModel",
          "model_module_version": "1.5.0",
          "state": {
            "_model_module": "@jupyter-widgets/controls",
            "_model_module_version": "1.5.0",
            "_model_name": "ProgressStyleModel",
            "_view_count": null,
            "_view_module": "@jupyter-widgets/base",
            "_view_module_version": "1.2.0",
            "_view_name": "StyleView",
            "bar_color": null,
            "description_width": ""
          }
        },
        "de11e802214d466c882709d73b331dc1": {
          "model_module": "@jupyter-widgets/base",
          "model_name": "LayoutModel",
          "model_module_version": "1.2.0",
          "state": {
            "_model_module": "@jupyter-widgets/base",
            "_model_module_version": "1.2.0",
            "_model_name": "LayoutModel",
            "_view_count": null,
            "_view_module": "@jupyter-widgets/base",
            "_view_module_version": "1.2.0",
            "_view_name": "LayoutView",
            "align_content": null,
            "align_items": null,
            "align_self": null,
            "border": null,
            "bottom": null,
            "display": null,
            "flex": null,
            "flex_flow": null,
            "grid_area": null,
            "grid_auto_columns": null,
            "grid_auto_flow": null,
            "grid_auto_rows": null,
            "grid_column": null,
            "grid_gap": null,
            "grid_row": null,
            "grid_template_areas": null,
            "grid_template_columns": null,
            "grid_template_rows": null,
            "height": null,
            "justify_content": null,
            "justify_items": null,
            "left": null,
            "margin": null,
            "max_height": null,
            "max_width": null,
            "min_height": null,
            "min_width": null,
            "object_fit": null,
            "object_position": null,
            "order": null,
            "overflow": null,
            "overflow_x": null,
            "overflow_y": null,
            "padding": null,
            "right": null,
            "top": null,
            "visibility": null,
            "width": null
          }
        },
        "32e33e7a194d4f9ea104d686de5906c4": {
          "model_module": "@jupyter-widgets/controls",
          "model_name": "DescriptionStyleModel",
          "model_module_version": "1.5.0",
          "state": {
            "_model_module": "@jupyter-widgets/controls",
            "_model_module_version": "1.5.0",
            "_model_name": "DescriptionStyleModel",
            "_view_count": null,
            "_view_module": "@jupyter-widgets/base",
            "_view_module_version": "1.2.0",
            "_view_name": "StyleView",
            "description_width": ""
          }
        },
        "cbc9cc16a47e4d7cbc9d2bb938033894": {
          "model_module": "@jupyter-widgets/controls",
          "model_name": "HBoxModel",
          "model_module_version": "1.5.0",
          "state": {
            "_dom_classes": [],
            "_model_module": "@jupyter-widgets/controls",
            "_model_module_version": "1.5.0",
            "_model_name": "HBoxModel",
            "_view_count": null,
            "_view_module": "@jupyter-widgets/controls",
            "_view_module_version": "1.5.0",
            "_view_name": "HBoxView",
            "box_style": "",
            "children": [
              "IPY_MODEL_def4cfa3090f401dac79134bdc169080",
              "IPY_MODEL_99a3fc97bbd84ee08f3a6b515b03f184",
              "IPY_MODEL_06b26e6d992940f6990ccd6a48954d25"
            ],
            "layout": "IPY_MODEL_07eec3b3be7145b8a9865e99a3819d39"
          }
        },
        "def4cfa3090f401dac79134bdc169080": {
          "model_module": "@jupyter-widgets/controls",
          "model_name": "HTMLModel",
          "model_module_version": "1.5.0",
          "state": {
            "_dom_classes": [],
            "_model_module": "@jupyter-widgets/controls",
            "_model_module_version": "1.5.0",
            "_model_name": "HTMLModel",
            "_view_count": null,
            "_view_module": "@jupyter-widgets/controls",
            "_view_module_version": "1.5.0",
            "_view_name": "HTMLView",
            "description": "",
            "description_tooltip": null,
            "layout": "IPY_MODEL_288b29a4998148be87ded92d42a63e37",
            "placeholder": "​",
            "style": "IPY_MODEL_86c070ce70324881ba5b07d105d4525a",
            "value": "Map: 100%"
          }
        },
        "99a3fc97bbd84ee08f3a6b515b03f184": {
          "model_module": "@jupyter-widgets/controls",
          "model_name": "FloatProgressModel",
          "model_module_version": "1.5.0",
          "state": {
            "_dom_classes": [],
            "_model_module": "@jupyter-widgets/controls",
            "_model_module_version": "1.5.0",
            "_model_name": "FloatProgressModel",
            "_view_count": null,
            "_view_module": "@jupyter-widgets/controls",
            "_view_module_version": "1.5.0",
            "_view_name": "ProgressView",
            "bar_style": "success",
            "description": "",
            "description_tooltip": null,
            "layout": "IPY_MODEL_d6e8d66d543c4743a1da40a30f244ae2",
            "max": 5909,
            "min": 0,
            "orientation": "horizontal",
            "style": "IPY_MODEL_2b0e00d3d949435d881bc9c3a13da024",
            "value": 5909
          }
        },
        "06b26e6d992940f6990ccd6a48954d25": {
          "model_module": "@jupyter-widgets/controls",
          "model_name": "HTMLModel",
          "model_module_version": "1.5.0",
          "state": {
            "_dom_classes": [],
            "_model_module": "@jupyter-widgets/controls",
            "_model_module_version": "1.5.0",
            "_model_name": "HTMLModel",
            "_view_count": null,
            "_view_module": "@jupyter-widgets/controls",
            "_view_module_version": "1.5.0",
            "_view_name": "HTMLView",
            "description": "",
            "description_tooltip": null,
            "layout": "IPY_MODEL_16f4f07d2cc54af4a6ce7cae05df163a",
            "placeholder": "​",
            "style": "IPY_MODEL_b0345db328244d8a899116f1aedefb33",
            "value": " 5909/5909 [00:03&lt;00:00, 2032.10 examples/s]"
          }
        },
        "07eec3b3be7145b8a9865e99a3819d39": {
          "model_module": "@jupyter-widgets/base",
          "model_name": "LayoutModel",
          "model_module_version": "1.2.0",
          "state": {
            "_model_module": "@jupyter-widgets/base",
            "_model_module_version": "1.2.0",
            "_model_name": "LayoutModel",
            "_view_count": null,
            "_view_module": "@jupyter-widgets/base",
            "_view_module_version": "1.2.0",
            "_view_name": "LayoutView",
            "align_content": null,
            "align_items": null,
            "align_self": null,
            "border": null,
            "bottom": null,
            "display": null,
            "flex": null,
            "flex_flow": null,
            "grid_area": null,
            "grid_auto_columns": null,
            "grid_auto_flow": null,
            "grid_auto_rows": null,
            "grid_column": null,
            "grid_gap": null,
            "grid_row": null,
            "grid_template_areas": null,
            "grid_template_columns": null,
            "grid_template_rows": null,
            "height": null,
            "justify_content": null,
            "justify_items": null,
            "left": null,
            "margin": null,
            "max_height": null,
            "max_width": null,
            "min_height": null,
            "min_width": null,
            "object_fit": null,
            "object_position": null,
            "order": null,
            "overflow": null,
            "overflow_x": null,
            "overflow_y": null,
            "padding": null,
            "right": null,
            "top": null,
            "visibility": null,
            "width": null
          }
        },
        "288b29a4998148be87ded92d42a63e37": {
          "model_module": "@jupyter-widgets/base",
          "model_name": "LayoutModel",
          "model_module_version": "1.2.0",
          "state": {
            "_model_module": "@jupyter-widgets/base",
            "_model_module_version": "1.2.0",
            "_model_name": "LayoutModel",
            "_view_count": null,
            "_view_module": "@jupyter-widgets/base",
            "_view_module_version": "1.2.0",
            "_view_name": "LayoutView",
            "align_content": null,
            "align_items": null,
            "align_self": null,
            "border": null,
            "bottom": null,
            "display": null,
            "flex": null,
            "flex_flow": null,
            "grid_area": null,
            "grid_auto_columns": null,
            "grid_auto_flow": null,
            "grid_auto_rows": null,
            "grid_column": null,
            "grid_gap": null,
            "grid_row": null,
            "grid_template_areas": null,
            "grid_template_columns": null,
            "grid_template_rows": null,
            "height": null,
            "justify_content": null,
            "justify_items": null,
            "left": null,
            "margin": null,
            "max_height": null,
            "max_width": null,
            "min_height": null,
            "min_width": null,
            "object_fit": null,
            "object_position": null,
            "order": null,
            "overflow": null,
            "overflow_x": null,
            "overflow_y": null,
            "padding": null,
            "right": null,
            "top": null,
            "visibility": null,
            "width": null
          }
        },
        "86c070ce70324881ba5b07d105d4525a": {
          "model_module": "@jupyter-widgets/controls",
          "model_name": "DescriptionStyleModel",
          "model_module_version": "1.5.0",
          "state": {
            "_model_module": "@jupyter-widgets/controls",
            "_model_module_version": "1.5.0",
            "_model_name": "DescriptionStyleModel",
            "_view_count": null,
            "_view_module": "@jupyter-widgets/base",
            "_view_module_version": "1.2.0",
            "_view_name": "StyleView",
            "description_width": ""
          }
        },
        "d6e8d66d543c4743a1da40a30f244ae2": {
          "model_module": "@jupyter-widgets/base",
          "model_name": "LayoutModel",
          "model_module_version": "1.2.0",
          "state": {
            "_model_module": "@jupyter-widgets/base",
            "_model_module_version": "1.2.0",
            "_model_name": "LayoutModel",
            "_view_count": null,
            "_view_module": "@jupyter-widgets/base",
            "_view_module_version": "1.2.0",
            "_view_name": "LayoutView",
            "align_content": null,
            "align_items": null,
            "align_self": null,
            "border": null,
            "bottom": null,
            "display": null,
            "flex": null,
            "flex_flow": null,
            "grid_area": null,
            "grid_auto_columns": null,
            "grid_auto_flow": null,
            "grid_auto_rows": null,
            "grid_column": null,
            "grid_gap": null,
            "grid_row": null,
            "grid_template_areas": null,
            "grid_template_columns": null,
            "grid_template_rows": null,
            "height": null,
            "justify_content": null,
            "justify_items": null,
            "left": null,
            "margin": null,
            "max_height": null,
            "max_width": null,
            "min_height": null,
            "min_width": null,
            "object_fit": null,
            "object_position": null,
            "order": null,
            "overflow": null,
            "overflow_x": null,
            "overflow_y": null,
            "padding": null,
            "right": null,
            "top": null,
            "visibility": null,
            "width": null
          }
        },
        "2b0e00d3d949435d881bc9c3a13da024": {
          "model_module": "@jupyter-widgets/controls",
          "model_name": "ProgressStyleModel",
          "model_module_version": "1.5.0",
          "state": {
            "_model_module": "@jupyter-widgets/controls",
            "_model_module_version": "1.5.0",
            "_model_name": "ProgressStyleModel",
            "_view_count": null,
            "_view_module": "@jupyter-widgets/base",
            "_view_module_version": "1.2.0",
            "_view_name": "StyleView",
            "bar_color": null,
            "description_width": ""
          }
        },
        "16f4f07d2cc54af4a6ce7cae05df163a": {
          "model_module": "@jupyter-widgets/base",
          "model_name": "LayoutModel",
          "model_module_version": "1.2.0",
          "state": {
            "_model_module": "@jupyter-widgets/base",
            "_model_module_version": "1.2.0",
            "_model_name": "LayoutModel",
            "_view_count": null,
            "_view_module": "@jupyter-widgets/base",
            "_view_module_version": "1.2.0",
            "_view_name": "LayoutView",
            "align_content": null,
            "align_items": null,
            "align_self": null,
            "border": null,
            "bottom": null,
            "display": null,
            "flex": null,
            "flex_flow": null,
            "grid_area": null,
            "grid_auto_columns": null,
            "grid_auto_flow": null,
            "grid_auto_rows": null,
            "grid_column": null,
            "grid_gap": null,
            "grid_row": null,
            "grid_template_areas": null,
            "grid_template_columns": null,
            "grid_template_rows": null,
            "height": null,
            "justify_content": null,
            "justify_items": null,
            "left": null,
            "margin": null,
            "max_height": null,
            "max_width": null,
            "min_height": null,
            "min_width": null,
            "object_fit": null,
            "object_position": null,
            "order": null,
            "overflow": null,
            "overflow_x": null,
            "overflow_y": null,
            "padding": null,
            "right": null,
            "top": null,
            "visibility": null,
            "width": null
          }
        },
        "b0345db328244d8a899116f1aedefb33": {
          "model_module": "@jupyter-widgets/controls",
          "model_name": "DescriptionStyleModel",
          "model_module_version": "1.5.0",
          "state": {
            "_model_module": "@jupyter-widgets/controls",
            "_model_module_version": "1.5.0",
            "_model_name": "DescriptionStyleModel",
            "_view_count": null,
            "_view_module": "@jupyter-widgets/base",
            "_view_module_version": "1.2.0",
            "_view_name": "StyleView",
            "description_width": ""
          }
        },
        "a3d65e19a7cc44909c094a6d1ea54147": {
          "model_module": "@jupyter-widgets/controls",
          "model_name": "HBoxModel",
          "model_module_version": "1.5.0",
          "state": {
            "_dom_classes": [],
            "_model_module": "@jupyter-widgets/controls",
            "_model_module_version": "1.5.0",
            "_model_name": "HBoxModel",
            "_view_count": null,
            "_view_module": "@jupyter-widgets/controls",
            "_view_module_version": "1.5.0",
            "_view_name": "HBoxView",
            "box_style": "",
            "children": [
              "IPY_MODEL_dd10f53bdd48446884d25f90dc4fb4f2",
              "IPY_MODEL_80d32e0d28654c50b36cc250eed2aa39",
              "IPY_MODEL_9cdc51292be24493afef45a17b41fc6d"
            ],
            "layout": "IPY_MODEL_8cfab57343574e70a2a53f277c4c259c"
          }
        },
        "dd10f53bdd48446884d25f90dc4fb4f2": {
          "model_module": "@jupyter-widgets/controls",
          "model_name": "HTMLModel",
          "model_module_version": "1.5.0",
          "state": {
            "_dom_classes": [],
            "_model_module": "@jupyter-widgets/controls",
            "_model_module_version": "1.5.0",
            "_model_name": "HTMLModel",
            "_view_count": null,
            "_view_module": "@jupyter-widgets/controls",
            "_view_module_version": "1.5.0",
            "_view_name": "HTMLView",
            "description": "",
            "description_tooltip": null,
            "layout": "IPY_MODEL_1841adc3c5234a7ea36904c31e072ae7",
            "placeholder": "​",
            "style": "IPY_MODEL_a9f5dfa950214a348287a3dca760a6e1",
            "value": "Map: 100%"
          }
        },
        "80d32e0d28654c50b36cc250eed2aa39": {
          "model_module": "@jupyter-widgets/controls",
          "model_name": "FloatProgressModel",
          "model_module_version": "1.5.0",
          "state": {
            "_dom_classes": [],
            "_model_module": "@jupyter-widgets/controls",
            "_model_module_version": "1.5.0",
            "_model_name": "FloatProgressModel",
            "_view_count": null,
            "_view_module": "@jupyter-widgets/controls",
            "_view_module_version": "1.5.0",
            "_view_name": "ProgressView",
            "bar_style": "success",
            "description": "",
            "description_tooltip": null,
            "layout": "IPY_MODEL_c8941d0fd66a46b9b65d7a1382edc4f5",
            "max": 2400,
            "min": 0,
            "orientation": "horizontal",
            "style": "IPY_MODEL_f12f8e1fda7e43aea392857f143cd023",
            "value": 2400
          }
        },
        "9cdc51292be24493afef45a17b41fc6d": {
          "model_module": "@jupyter-widgets/controls",
          "model_name": "HTMLModel",
          "model_module_version": "1.5.0",
          "state": {
            "_dom_classes": [],
            "_model_module": "@jupyter-widgets/controls",
            "_model_module_version": "1.5.0",
            "_model_name": "HTMLModel",
            "_view_count": null,
            "_view_module": "@jupyter-widgets/controls",
            "_view_module_version": "1.5.0",
            "_view_name": "HTMLView",
            "description": "",
            "description_tooltip": null,
            "layout": "IPY_MODEL_69203962171941048443e8f8f0e3ef7b",
            "placeholder": "​",
            "style": "IPY_MODEL_2e4e021a86044449bca1e4f58b96a1e4",
            "value": " 2400/2400 [00:01&lt;00:00, 1488.27 examples/s]"
          }
        },
        "8cfab57343574e70a2a53f277c4c259c": {
          "model_module": "@jupyter-widgets/base",
          "model_name": "LayoutModel",
          "model_module_version": "1.2.0",
          "state": {
            "_model_module": "@jupyter-widgets/base",
            "_model_module_version": "1.2.0",
            "_model_name": "LayoutModel",
            "_view_count": null,
            "_view_module": "@jupyter-widgets/base",
            "_view_module_version": "1.2.0",
            "_view_name": "LayoutView",
            "align_content": null,
            "align_items": null,
            "align_self": null,
            "border": null,
            "bottom": null,
            "display": null,
            "flex": null,
            "flex_flow": null,
            "grid_area": null,
            "grid_auto_columns": null,
            "grid_auto_flow": null,
            "grid_auto_rows": null,
            "grid_column": null,
            "grid_gap": null,
            "grid_row": null,
            "grid_template_areas": null,
            "grid_template_columns": null,
            "grid_template_rows": null,
            "height": null,
            "justify_content": null,
            "justify_items": null,
            "left": null,
            "margin": null,
            "max_height": null,
            "max_width": null,
            "min_height": null,
            "min_width": null,
            "object_fit": null,
            "object_position": null,
            "order": null,
            "overflow": null,
            "overflow_x": null,
            "overflow_y": null,
            "padding": null,
            "right": null,
            "top": null,
            "visibility": null,
            "width": null
          }
        },
        "1841adc3c5234a7ea36904c31e072ae7": {
          "model_module": "@jupyter-widgets/base",
          "model_name": "LayoutModel",
          "model_module_version": "1.2.0",
          "state": {
            "_model_module": "@jupyter-widgets/base",
            "_model_module_version": "1.2.0",
            "_model_name": "LayoutModel",
            "_view_count": null,
            "_view_module": "@jupyter-widgets/base",
            "_view_module_version": "1.2.0",
            "_view_name": "LayoutView",
            "align_content": null,
            "align_items": null,
            "align_self": null,
            "border": null,
            "bottom": null,
            "display": null,
            "flex": null,
            "flex_flow": null,
            "grid_area": null,
            "grid_auto_columns": null,
            "grid_auto_flow": null,
            "grid_auto_rows": null,
            "grid_column": null,
            "grid_gap": null,
            "grid_row": null,
            "grid_template_areas": null,
            "grid_template_columns": null,
            "grid_template_rows": null,
            "height": null,
            "justify_content": null,
            "justify_items": null,
            "left": null,
            "margin": null,
            "max_height": null,
            "max_width": null,
            "min_height": null,
            "min_width": null,
            "object_fit": null,
            "object_position": null,
            "order": null,
            "overflow": null,
            "overflow_x": null,
            "overflow_y": null,
            "padding": null,
            "right": null,
            "top": null,
            "visibility": null,
            "width": null
          }
        },
        "a9f5dfa950214a348287a3dca760a6e1": {
          "model_module": "@jupyter-widgets/controls",
          "model_name": "DescriptionStyleModel",
          "model_module_version": "1.5.0",
          "state": {
            "_model_module": "@jupyter-widgets/controls",
            "_model_module_version": "1.5.0",
            "_model_name": "DescriptionStyleModel",
            "_view_count": null,
            "_view_module": "@jupyter-widgets/base",
            "_view_module_version": "1.2.0",
            "_view_name": "StyleView",
            "description_width": ""
          }
        },
        "c8941d0fd66a46b9b65d7a1382edc4f5": {
          "model_module": "@jupyter-widgets/base",
          "model_name": "LayoutModel",
          "model_module_version": "1.2.0",
          "state": {
            "_model_module": "@jupyter-widgets/base",
            "_model_module_version": "1.2.0",
            "_model_name": "LayoutModel",
            "_view_count": null,
            "_view_module": "@jupyter-widgets/base",
            "_view_module_version": "1.2.0",
            "_view_name": "LayoutView",
            "align_content": null,
            "align_items": null,
            "align_self": null,
            "border": null,
            "bottom": null,
            "display": null,
            "flex": null,
            "flex_flow": null,
            "grid_area": null,
            "grid_auto_columns": null,
            "grid_auto_flow": null,
            "grid_auto_rows": null,
            "grid_column": null,
            "grid_gap": null,
            "grid_row": null,
            "grid_template_areas": null,
            "grid_template_columns": null,
            "grid_template_rows": null,
            "height": null,
            "justify_content": null,
            "justify_items": null,
            "left": null,
            "margin": null,
            "max_height": null,
            "max_width": null,
            "min_height": null,
            "min_width": null,
            "object_fit": null,
            "object_position": null,
            "order": null,
            "overflow": null,
            "overflow_x": null,
            "overflow_y": null,
            "padding": null,
            "right": null,
            "top": null,
            "visibility": null,
            "width": null
          }
        },
        "f12f8e1fda7e43aea392857f143cd023": {
          "model_module": "@jupyter-widgets/controls",
          "model_name": "ProgressStyleModel",
          "model_module_version": "1.5.0",
          "state": {
            "_model_module": "@jupyter-widgets/controls",
            "_model_module_version": "1.5.0",
            "_model_name": "ProgressStyleModel",
            "_view_count": null,
            "_view_module": "@jupyter-widgets/base",
            "_view_module_version": "1.2.0",
            "_view_name": "StyleView",
            "bar_color": null,
            "description_width": ""
          }
        },
        "69203962171941048443e8f8f0e3ef7b": {
          "model_module": "@jupyter-widgets/base",
          "model_name": "LayoutModel",
          "model_module_version": "1.2.0",
          "state": {
            "_model_module": "@jupyter-widgets/base",
            "_model_module_version": "1.2.0",
            "_model_name": "LayoutModel",
            "_view_count": null,
            "_view_module": "@jupyter-widgets/base",
            "_view_module_version": "1.2.0",
            "_view_name": "LayoutView",
            "align_content": null,
            "align_items": null,
            "align_self": null,
            "border": null,
            "bottom": null,
            "display": null,
            "flex": null,
            "flex_flow": null,
            "grid_area": null,
            "grid_auto_columns": null,
            "grid_auto_flow": null,
            "grid_auto_rows": null,
            "grid_column": null,
            "grid_gap": null,
            "grid_row": null,
            "grid_template_areas": null,
            "grid_template_columns": null,
            "grid_template_rows": null,
            "height": null,
            "justify_content": null,
            "justify_items": null,
            "left": null,
            "margin": null,
            "max_height": null,
            "max_width": null,
            "min_height": null,
            "min_width": null,
            "object_fit": null,
            "object_position": null,
            "order": null,
            "overflow": null,
            "overflow_x": null,
            "overflow_y": null,
            "padding": null,
            "right": null,
            "top": null,
            "visibility": null,
            "width": null
          }
        },
        "2e4e021a86044449bca1e4f58b96a1e4": {
          "model_module": "@jupyter-widgets/controls",
          "model_name": "DescriptionStyleModel",
          "model_module_version": "1.5.0",
          "state": {
            "_model_module": "@jupyter-widgets/controls",
            "_model_module_version": "1.5.0",
            "_model_name": "DescriptionStyleModel",
            "_view_count": null,
            "_view_module": "@jupyter-widgets/base",
            "_view_module_version": "1.2.0",
            "_view_name": "StyleView",
            "description_width": ""
          }
        },
        "df37545cfe244880b9cecdfaaf2bad6d": {
          "model_module": "@jupyter-widgets/controls",
          "model_name": "HBoxModel",
          "model_module_version": "1.5.0",
          "state": {
            "_dom_classes": [],
            "_model_module": "@jupyter-widgets/controls",
            "_model_module_version": "1.5.0",
            "_model_name": "HBoxModel",
            "_view_count": null,
            "_view_module": "@jupyter-widgets/controls",
            "_view_module_version": "1.5.0",
            "_view_name": "HBoxView",
            "box_style": "",
            "children": [
              "IPY_MODEL_d54251c64a82464fa4a091ac7d1bd2cb",
              "IPY_MODEL_d9378820396a4ce9b89294662ea36304",
              "IPY_MODEL_84eb16657a1a41f39f51df829b4ce4c9"
            ],
            "layout": "IPY_MODEL_966391a1cd1548b681dde5a05eaeb58f"
          }
        },
        "d54251c64a82464fa4a091ac7d1bd2cb": {
          "model_module": "@jupyter-widgets/controls",
          "model_name": "HTMLModel",
          "model_module_version": "1.5.0",
          "state": {
            "_dom_classes": [],
            "_model_module": "@jupyter-widgets/controls",
            "_model_module_version": "1.5.0",
            "_model_name": "HTMLModel",
            "_view_count": null,
            "_view_module": "@jupyter-widgets/controls",
            "_view_module_version": "1.5.0",
            "_view_name": "HTMLView",
            "description": "",
            "description_tooltip": null,
            "layout": "IPY_MODEL_2a29a5a9e9d94c7da8d7d0c4aaf7d063",
            "placeholder": "​",
            "style": "IPY_MODEL_abc7dea6563649348a184b5a5183e53b",
            "value": "pytorch_model.bin: 100%"
          }
        },
        "d9378820396a4ce9b89294662ea36304": {
          "model_module": "@jupyter-widgets/controls",
          "model_name": "FloatProgressModel",
          "model_module_version": "1.5.0",
          "state": {
            "_dom_classes": [],
            "_model_module": "@jupyter-widgets/controls",
            "_model_module_version": "1.5.0",
            "_model_name": "FloatProgressModel",
            "_view_count": null,
            "_view_module": "@jupyter-widgets/controls",
            "_view_module_version": "1.5.0",
            "_view_name": "ProgressView",
            "bar_style": "success",
            "description": "",
            "description_tooltip": null,
            "layout": "IPY_MODEL_f3840f8c00cc4fb2a39124ad6d139112",
            "max": 711988242,
            "min": 0,
            "orientation": "horizontal",
            "style": "IPY_MODEL_fd3c634c90a74f34bfdeac7cb15b5030",
            "value": 711988242
          }
        },
        "84eb16657a1a41f39f51df829b4ce4c9": {
          "model_module": "@jupyter-widgets/controls",
          "model_name": "HTMLModel",
          "model_module_version": "1.5.0",
          "state": {
            "_dom_classes": [],
            "_model_module": "@jupyter-widgets/controls",
            "_model_module_version": "1.5.0",
            "_model_name": "HTMLModel",
            "_view_count": null,
            "_view_module": "@jupyter-widgets/controls",
            "_view_module_version": "1.5.0",
            "_view_name": "HTMLView",
            "description": "",
            "description_tooltip": null,
            "layout": "IPY_MODEL_54a3f01ba03e41ada7c3cc9db6fc83d7",
            "placeholder": "​",
            "style": "IPY_MODEL_eb2721c83d7f4089ab6f927fbb4f163b",
            "value": " 712M/712M [00:30&lt;00:00, 24.0MB/s]"
          }
        },
        "966391a1cd1548b681dde5a05eaeb58f": {
          "model_module": "@jupyter-widgets/base",
          "model_name": "LayoutModel",
          "model_module_version": "1.2.0",
          "state": {
            "_model_module": "@jupyter-widgets/base",
            "_model_module_version": "1.2.0",
            "_model_name": "LayoutModel",
            "_view_count": null,
            "_view_module": "@jupyter-widgets/base",
            "_view_module_version": "1.2.0",
            "_view_name": "LayoutView",
            "align_content": null,
            "align_items": null,
            "align_self": null,
            "border": null,
            "bottom": null,
            "display": null,
            "flex": null,
            "flex_flow": null,
            "grid_area": null,
            "grid_auto_columns": null,
            "grid_auto_flow": null,
            "grid_auto_rows": null,
            "grid_column": null,
            "grid_gap": null,
            "grid_row": null,
            "grid_template_areas": null,
            "grid_template_columns": null,
            "grid_template_rows": null,
            "height": null,
            "justify_content": null,
            "justify_items": null,
            "left": null,
            "margin": null,
            "max_height": null,
            "max_width": null,
            "min_height": null,
            "min_width": null,
            "object_fit": null,
            "object_position": null,
            "order": null,
            "overflow": null,
            "overflow_x": null,
            "overflow_y": null,
            "padding": null,
            "right": null,
            "top": null,
            "visibility": null,
            "width": null
          }
        },
        "2a29a5a9e9d94c7da8d7d0c4aaf7d063": {
          "model_module": "@jupyter-widgets/base",
          "model_name": "LayoutModel",
          "model_module_version": "1.2.0",
          "state": {
            "_model_module": "@jupyter-widgets/base",
            "_model_module_version": "1.2.0",
            "_model_name": "LayoutModel",
            "_view_count": null,
            "_view_module": "@jupyter-widgets/base",
            "_view_module_version": "1.2.0",
            "_view_name": "LayoutView",
            "align_content": null,
            "align_items": null,
            "align_self": null,
            "border": null,
            "bottom": null,
            "display": null,
            "flex": null,
            "flex_flow": null,
            "grid_area": null,
            "grid_auto_columns": null,
            "grid_auto_flow": null,
            "grid_auto_rows": null,
            "grid_column": null,
            "grid_gap": null,
            "grid_row": null,
            "grid_template_areas": null,
            "grid_template_columns": null,
            "grid_template_rows": null,
            "height": null,
            "justify_content": null,
            "justify_items": null,
            "left": null,
            "margin": null,
            "max_height": null,
            "max_width": null,
            "min_height": null,
            "min_width": null,
            "object_fit": null,
            "object_position": null,
            "order": null,
            "overflow": null,
            "overflow_x": null,
            "overflow_y": null,
            "padding": null,
            "right": null,
            "top": null,
            "visibility": null,
            "width": null
          }
        },
        "abc7dea6563649348a184b5a5183e53b": {
          "model_module": "@jupyter-widgets/controls",
          "model_name": "DescriptionStyleModel",
          "model_module_version": "1.5.0",
          "state": {
            "_model_module": "@jupyter-widgets/controls",
            "_model_module_version": "1.5.0",
            "_model_name": "DescriptionStyleModel",
            "_view_count": null,
            "_view_module": "@jupyter-widgets/base",
            "_view_module_version": "1.2.0",
            "_view_name": "StyleView",
            "description_width": ""
          }
        },
        "f3840f8c00cc4fb2a39124ad6d139112": {
          "model_module": "@jupyter-widgets/base",
          "model_name": "LayoutModel",
          "model_module_version": "1.2.0",
          "state": {
            "_model_module": "@jupyter-widgets/base",
            "_model_module_version": "1.2.0",
            "_model_name": "LayoutModel",
            "_view_count": null,
            "_view_module": "@jupyter-widgets/base",
            "_view_module_version": "1.2.0",
            "_view_name": "LayoutView",
            "align_content": null,
            "align_items": null,
            "align_self": null,
            "border": null,
            "bottom": null,
            "display": null,
            "flex": null,
            "flex_flow": null,
            "grid_area": null,
            "grid_auto_columns": null,
            "grid_auto_flow": null,
            "grid_auto_rows": null,
            "grid_column": null,
            "grid_gap": null,
            "grid_row": null,
            "grid_template_areas": null,
            "grid_template_columns": null,
            "grid_template_rows": null,
            "height": null,
            "justify_content": null,
            "justify_items": null,
            "left": null,
            "margin": null,
            "max_height": null,
            "max_width": null,
            "min_height": null,
            "min_width": null,
            "object_fit": null,
            "object_position": null,
            "order": null,
            "overflow": null,
            "overflow_x": null,
            "overflow_y": null,
            "padding": null,
            "right": null,
            "top": null,
            "visibility": null,
            "width": null
          }
        },
        "fd3c634c90a74f34bfdeac7cb15b5030": {
          "model_module": "@jupyter-widgets/controls",
          "model_name": "ProgressStyleModel",
          "model_module_version": "1.5.0",
          "state": {
            "_model_module": "@jupyter-widgets/controls",
            "_model_module_version": "1.5.0",
            "_model_name": "ProgressStyleModel",
            "_view_count": null,
            "_view_module": "@jupyter-widgets/base",
            "_view_module_version": "1.2.0",
            "_view_name": "StyleView",
            "bar_color": null,
            "description_width": ""
          }
        },
        "54a3f01ba03e41ada7c3cc9db6fc83d7": {
          "model_module": "@jupyter-widgets/base",
          "model_name": "LayoutModel",
          "model_module_version": "1.2.0",
          "state": {
            "_model_module": "@jupyter-widgets/base",
            "_model_module_version": "1.2.0",
            "_model_name": "LayoutModel",
            "_view_count": null,
            "_view_module": "@jupyter-widgets/base",
            "_view_module_version": "1.2.0",
            "_view_name": "LayoutView",
            "align_content": null,
            "align_items": null,
            "align_self": null,
            "border": null,
            "bottom": null,
            "display": null,
            "flex": null,
            "flex_flow": null,
            "grid_area": null,
            "grid_auto_columns": null,
            "grid_auto_flow": null,
            "grid_auto_rows": null,
            "grid_column": null,
            "grid_gap": null,
            "grid_row": null,
            "grid_template_areas": null,
            "grid_template_columns": null,
            "grid_template_rows": null,
            "height": null,
            "justify_content": null,
            "justify_items": null,
            "left": null,
            "margin": null,
            "max_height": null,
            "max_width": null,
            "min_height": null,
            "min_width": null,
            "object_fit": null,
            "object_position": null,
            "order": null,
            "overflow": null,
            "overflow_x": null,
            "overflow_y": null,
            "padding": null,
            "right": null,
            "top": null,
            "visibility": null,
            "width": null
          }
        },
        "eb2721c83d7f4089ab6f927fbb4f163b": {
          "model_module": "@jupyter-widgets/controls",
          "model_name": "DescriptionStyleModel",
          "model_module_version": "1.5.0",
          "state": {
            "_model_module": "@jupyter-widgets/controls",
            "_model_module_version": "1.5.0",
            "_model_name": "DescriptionStyleModel",
            "_view_count": null,
            "_view_module": "@jupyter-widgets/base",
            "_view_module_version": "1.2.0",
            "_view_name": "StyleView",
            "description_width": ""
          }
        }
      }
    },
    "kaggle": {
      "accelerator": "gpu",
      "dataSources": [
        {
          "sourceId": 10243243,
          "sourceType": "datasetVersion",
          "datasetId": 6334702
        },
        {
          "sourceId": 10243425,
          "sourceType": "datasetVersion",
          "datasetId": 6334836
        },
        {
          "sourceId": 10252322,
          "sourceType": "datasetVersion",
          "datasetId": 6341579
        }
      ],
      "isInternetEnabled": true,
      "language": "python",
      "sourceType": "notebook",
      "isGpuEnabled": true
    }
  },
  "nbformat_minor": 0,
  "nbformat": 4,
  "cells": [
    {
      "cell_type": "markdown",
      "metadata": {
        "id": "view-in-github",
        "colab_type": "text"
      },
      "source": [
        "<a href=\"https://colab.research.google.com/github/dawit-melka/Amharic-Hate-speech-detection/blob/main/mBERT/Kaggle%20-%20Amharic_Hate_Speech_Detection.ipynb\" target=\"_parent\"><img src=\"https://colab.research.google.com/assets/colab-badge.svg\" alt=\"Open In Colab\"/></a>"
      ]
    },
    {
      "source": [
        "# IMPORTANT: SOME KAGGLE DATA SOURCES ARE PRIVATE\n",
        "# RUN THIS CELL IN ORDER TO IMPORT YOUR KAGGLE DATA SOURCES.\n",
        "import kagglehub\n",
        "kagglehub.login()\n"
      ],
      "metadata": {
        "id": "UEEP4PeVyP5l"
      },
      "cell_type": "code",
      "outputs": [],
      "execution_count": null
    },
    {
      "source": [
        "# IMPORTANT: RUN THIS CELL IN ORDER TO IMPORT YOUR KAGGLE DATA SOURCES,\n",
        "# THEN FEEL FREE TO DELETE THIS CELL.\n",
        "# NOTE: THIS NOTEBOOK ENVIRONMENT DIFFERS FROM KAGGLE'S PYTHON\n",
        "# ENVIRONMENT SO THERE MAY BE MISSING LIBRARIES USED BY YOUR\n",
        "# NOTEBOOK.\n",
        "\n",
        "dawitmelka_amharic_hate_speech_path = kagglehub.dataset_download('dawitmelka/amharic-hate-speech')\n",
        "dawitmelka_amharic_hate_speech_dataset2_path = kagglehub.dataset_download('dawitmelka/amharic-hate-speech-dataset2')\n",
        "dawitmelka_amharic_hate_speech_dataset_path = kagglehub.dataset_download('dawitmelka/amharic-hate-speech-dataset')\n",
        "\n",
        "print('Data source import complete.')\n"
      ],
      "metadata": {
        "id": "GwqWmHXoyP5n"
      },
      "cell_type": "code",
      "outputs": [],
      "execution_count": null
    },
    {
      "cell_type": "markdown",
      "source": [
        "<a href=\"https://colab.research.google.com/github/dawit-melka/Amharic-Hate-speech-detection/blob/main/mBERT/Amharic_Hate_Speech_detection_using_mBERT_(Trainer_API).ipynb\" target=\"_parent\"><img src=\"https://colab.research.google.com/assets/colab-badge.svg\" alt=\"Open In Colab\"/></a>"
      ],
      "metadata": {
        "id": "view-in-github"
      }
    },
    {
      "cell_type": "markdown",
      "source": [
        "## *Amharic Hate Speech Detection using fine-tuned mBERT*\n",
        "\n"
      ],
      "metadata": {
        "id": "sVlziLqR0SEP"
      }
    },
    {
      "cell_type": "markdown",
      "source": [
        "\n"
      ],
      "metadata": {
        "id": "aTzlLyQwy6bg"
      }
    },
    {
      "cell_type": "markdown",
      "source": [
        "### *Step 1: Install the necessary packages*"
      ],
      "metadata": {
        "id": "adtDHQuH8iQG"
      }
    },
    {
      "cell_type": "code",
      "source": [
        "#installing the transformers package\n",
        "!pip install transformers"
      ],
      "metadata": {
        "colab": {
          "base_uri": "https://localhost:8080/"
        },
        "id": "BNsNbBRTsfRi",
        "outputId": "108f1b88-188b-4d7c-b4b2-c86e9f2e0413",
        "trusted": true,
        "execution": {
          "iopub.status.busy": "2024-12-20T06:06:46.949352Z",
          "iopub.execute_input": "2024-12-20T06:06:46.949653Z",
          "iopub.status.idle": "2024-12-20T06:06:50.041941Z",
          "shell.execute_reply.started": "2024-12-20T06:06:46.94962Z",
          "shell.execute_reply": "2024-12-20T06:06:50.041101Z"
        }
      },
      "outputs": [
        {
          "name": "stdout",
          "text": "Requirement already satisfied: transformers in /usr/local/lib/python3.10/dist-packages (4.44.2)\nRequirement already satisfied: filelock in /usr/local/lib/python3.10/dist-packages (from transformers) (3.16.1)\nRequirement already satisfied: huggingface-hub<1.0,>=0.23.2 in /usr/local/lib/python3.10/dist-packages (from transformers) (0.24.7)\nRequirement already satisfied: numpy>=1.17 in /usr/local/lib/python3.10/dist-packages (from transformers) (1.26.4)\nRequirement already satisfied: packaging>=20.0 in /usr/local/lib/python3.10/dist-packages (from transformers) (24.1)\nRequirement already satisfied: pyyaml>=5.1 in /usr/local/lib/python3.10/dist-packages (from transformers) (6.0.2)\nRequirement already satisfied: regex!=2019.12.17 in /usr/local/lib/python3.10/dist-packages (from transformers) (2024.9.11)\nRequirement already satisfied: requests in /usr/local/lib/python3.10/dist-packages (from transformers) (2.32.3)\nRequirement already satisfied: safetensors>=0.4.1 in /usr/local/lib/python3.10/dist-packages (from transformers) (0.4.5)\nRequirement already satisfied: tokenizers<0.20,>=0.19 in /usr/local/lib/python3.10/dist-packages (from transformers) (0.19.1)\nRequirement already satisfied: tqdm>=4.27 in /usr/local/lib/python3.10/dist-packages (from transformers) (4.66.5)\nRequirement already satisfied: fsspec>=2023.5.0 in /usr/local/lib/python3.10/dist-packages (from huggingface-hub<1.0,>=0.23.2->transformers) (2024.6.1)\nRequirement already satisfied: typing-extensions>=3.7.4.3 in /usr/local/lib/python3.10/dist-packages (from huggingface-hub<1.0,>=0.23.2->transformers) (4.12.2)\nRequirement already satisfied: charset-normalizer<4,>=2 in /usr/local/lib/python3.10/dist-packages (from requests->transformers) (3.3.2)\nRequirement already satisfied: idna<4,>=2.5 in /usr/local/lib/python3.10/dist-packages (from requests->transformers) (3.10)\nRequirement already satisfied: urllib3<3,>=1.21.1 in /usr/local/lib/python3.10/dist-packages (from requests->transformers) (2.2.3)\nRequirement already satisfied: certifi>=2017.4.17 in /usr/local/lib/python3.10/dist-packages (from requests->transformers) (2024.8.30)\n",
          "output_type": "stream"
        }
      ],
      "execution_count": null
    },
    {
      "cell_type": "code",
      "source": [
        "#installing the datasets package\n",
        "!pip install datasets"
      ],
      "metadata": {
        "colab": {
          "base_uri": "https://localhost:8080/"
        },
        "id": "f2Kr3hxFH-Y2",
        "outputId": "709586f6-4af3-43a0-d5e4-de55b6663064",
        "trusted": true,
        "execution": {
          "iopub.status.busy": "2024-12-20T06:06:42.566811Z",
          "iopub.execute_input": "2024-12-20T06:06:42.567144Z",
          "iopub.status.idle": "2024-12-20T06:06:46.948325Z",
          "shell.execute_reply.started": "2024-12-20T06:06:42.567115Z",
          "shell.execute_reply": "2024-12-20T06:06:46.947443Z"
        }
      },
      "outputs": [
        {
          "name": "stdout",
          "text": "Requirement already satisfied: datasets in /usr/local/lib/python3.10/dist-packages (3.2.0)\nRequirement already satisfied: filelock in /usr/local/lib/python3.10/dist-packages (from datasets) (3.16.1)\nRequirement already satisfied: numpy>=1.17 in /usr/local/lib/python3.10/dist-packages (from datasets) (1.26.4)\nRequirement already satisfied: pyarrow>=15.0.0 in /usr/local/lib/python3.10/dist-packages (from datasets) (18.1.0)\nRequirement already satisfied: dill<0.3.9,>=0.3.0 in /usr/local/lib/python3.10/dist-packages (from datasets) (0.3.8)\nRequirement already satisfied: pandas in /usr/local/lib/python3.10/dist-packages (from datasets) (2.1.4)\nRequirement already satisfied: requests>=2.32.2 in /usr/local/lib/python3.10/dist-packages (from datasets) (2.32.3)\nRequirement already satisfied: tqdm>=4.66.3 in /usr/local/lib/python3.10/dist-packages (from datasets) (4.66.5)\nRequirement already satisfied: xxhash in /usr/local/lib/python3.10/dist-packages (from datasets) (3.5.0)\nRequirement already satisfied: multiprocess<0.70.17 in /usr/local/lib/python3.10/dist-packages (from datasets) (0.70.16)\nRequirement already satisfied: fsspec<=2024.9.0,>=2023.1.0 in /usr/local/lib/python3.10/dist-packages (from fsspec[http]<=2024.9.0,>=2023.1.0->datasets) (2024.6.1)\nRequirement already satisfied: aiohttp in /usr/local/lib/python3.10/dist-packages (from datasets) (3.10.5)\nRequirement already satisfied: huggingface-hub>=0.23.0 in /usr/local/lib/python3.10/dist-packages (from datasets) (0.24.7)\nRequirement already satisfied: packaging in /usr/local/lib/python3.10/dist-packages (from datasets) (24.1)\nRequirement already satisfied: pyyaml>=5.1 in /usr/local/lib/python3.10/dist-packages (from datasets) (6.0.2)\nRequirement already satisfied: aiohappyeyeballs>=2.3.0 in /usr/local/lib/python3.10/dist-packages (from aiohttp->datasets) (2.4.0)\nRequirement already satisfied: aiosignal>=1.1.2 in /usr/local/lib/python3.10/dist-packages (from aiohttp->datasets) (1.3.1)\nRequirement already satisfied: attrs>=17.3.0 in /usr/local/lib/python3.10/dist-packages (from aiohttp->datasets) (24.2.0)\nRequirement already satisfied: frozenlist>=1.1.1 in /usr/local/lib/python3.10/dist-packages (from aiohttp->datasets) (1.4.1)\nRequirement already satisfied: multidict<7.0,>=4.5 in /usr/local/lib/python3.10/dist-packages (from aiohttp->datasets) (6.1.0)\nRequirement already satisfied: yarl<2.0,>=1.0 in /usr/local/lib/python3.10/dist-packages (from aiohttp->datasets) (1.11.1)\nRequirement already satisfied: async-timeout<5.0,>=4.0 in /usr/local/lib/python3.10/dist-packages (from aiohttp->datasets) (4.0.3)\nRequirement already satisfied: typing-extensions>=3.7.4.3 in /usr/local/lib/python3.10/dist-packages (from huggingface-hub>=0.23.0->datasets) (4.12.2)\nRequirement already satisfied: charset-normalizer<4,>=2 in /usr/local/lib/python3.10/dist-packages (from requests>=2.32.2->datasets) (3.3.2)\nRequirement already satisfied: idna<4,>=2.5 in /usr/local/lib/python3.10/dist-packages (from requests>=2.32.2->datasets) (3.10)\nRequirement already satisfied: urllib3<3,>=1.21.1 in /usr/local/lib/python3.10/dist-packages (from requests>=2.32.2->datasets) (2.2.3)\nRequirement already satisfied: certifi>=2017.4.17 in /usr/local/lib/python3.10/dist-packages (from requests>=2.32.2->datasets) (2024.8.30)\nRequirement already satisfied: python-dateutil>=2.8.2 in /usr/local/lib/python3.10/dist-packages (from pandas->datasets) (2.8.2)\nRequirement already satisfied: pytz>=2020.1 in /usr/local/lib/python3.10/dist-packages (from pandas->datasets) (2024.2)\nRequirement already satisfied: tzdata>=2022.1 in /usr/local/lib/python3.10/dist-packages (from pandas->datasets) (2024.1)\nRequirement already satisfied: six>=1.5 in /usr/local/lib/python3.10/dist-packages (from python-dateutil>=2.8.2->pandas->datasets) (1.16.0)\n",
          "output_type": "stream"
        }
      ],
      "execution_count": null
    },
    {
      "cell_type": "code",
      "source": [
        "!pip install evaluate"
      ],
      "metadata": {
        "id": "NFuGC3HcC-Io",
        "outputId": "f0b6b43e-ca97-497a-d65c-e705626278fa",
        "colab": {
          "base_uri": "https://localhost:8080/"
        },
        "trusted": true,
        "execution": {
          "iopub.status.busy": "2024-12-20T06:06:58.827272Z",
          "iopub.execute_input": "2024-12-20T06:06:58.827594Z",
          "iopub.status.idle": "2024-12-20T06:07:02.371508Z",
          "shell.execute_reply.started": "2024-12-20T06:06:58.827568Z",
          "shell.execute_reply": "2024-12-20T06:07:02.370434Z"
        }
      },
      "outputs": [
        {
          "name": "stdout",
          "text": "Collecting evaluate\n  Downloading evaluate-0.4.3-py3-none-any.whl.metadata (9.2 kB)\nRequirement already satisfied: datasets>=2.0.0 in /usr/local/lib/python3.10/dist-packages (from evaluate) (3.2.0)\nRequirement already satisfied: numpy>=1.17 in /usr/local/lib/python3.10/dist-packages (from evaluate) (1.26.4)\nRequirement already satisfied: dill in /usr/local/lib/python3.10/dist-packages (from evaluate) (0.3.8)\nRequirement already satisfied: pandas in /usr/local/lib/python3.10/dist-packages (from evaluate) (2.1.4)\nRequirement already satisfied: requests>=2.19.0 in /usr/local/lib/python3.10/dist-packages (from evaluate) (2.32.3)\nRequirement already satisfied: tqdm>=4.62.1 in /usr/local/lib/python3.10/dist-packages (from evaluate) (4.66.5)\nRequirement already satisfied: xxhash in /usr/local/lib/python3.10/dist-packages (from evaluate) (3.5.0)\nRequirement already satisfied: multiprocess in /usr/local/lib/python3.10/dist-packages (from evaluate) (0.70.16)\nRequirement already satisfied: fsspec>=2021.05.0 in /usr/local/lib/python3.10/dist-packages (from fsspec[http]>=2021.05.0->evaluate) (2024.6.1)\nRequirement already satisfied: huggingface-hub>=0.7.0 in /usr/local/lib/python3.10/dist-packages (from evaluate) (0.24.7)\nRequirement already satisfied: packaging in /usr/local/lib/python3.10/dist-packages (from evaluate) (24.1)\nRequirement already satisfied: filelock in /usr/local/lib/python3.10/dist-packages (from datasets>=2.0.0->evaluate) (3.16.1)\nRequirement already satisfied: pyarrow>=15.0.0 in /usr/local/lib/python3.10/dist-packages (from datasets>=2.0.0->evaluate) (18.1.0)\nRequirement already satisfied: aiohttp in /usr/local/lib/python3.10/dist-packages (from datasets>=2.0.0->evaluate) (3.10.5)\nRequirement already satisfied: pyyaml>=5.1 in /usr/local/lib/python3.10/dist-packages (from datasets>=2.0.0->evaluate) (6.0.2)\nRequirement already satisfied: typing-extensions>=3.7.4.3 in /usr/local/lib/python3.10/dist-packages (from huggingface-hub>=0.7.0->evaluate) (4.12.2)\nRequirement already satisfied: charset-normalizer<4,>=2 in /usr/local/lib/python3.10/dist-packages (from requests>=2.19.0->evaluate) (3.3.2)\nRequirement already satisfied: idna<4,>=2.5 in /usr/local/lib/python3.10/dist-packages (from requests>=2.19.0->evaluate) (3.10)\nRequirement already satisfied: urllib3<3,>=1.21.1 in /usr/local/lib/python3.10/dist-packages (from requests>=2.19.0->evaluate) (2.2.3)\nRequirement already satisfied: certifi>=2017.4.17 in /usr/local/lib/python3.10/dist-packages (from requests>=2.19.0->evaluate) (2024.8.30)\nRequirement already satisfied: python-dateutil>=2.8.2 in /usr/local/lib/python3.10/dist-packages (from pandas->evaluate) (2.8.2)\nRequirement already satisfied: pytz>=2020.1 in /usr/local/lib/python3.10/dist-packages (from pandas->evaluate) (2024.2)\nRequirement already satisfied: tzdata>=2022.1 in /usr/local/lib/python3.10/dist-packages (from pandas->evaluate) (2024.1)\nRequirement already satisfied: aiohappyeyeballs>=2.3.0 in /usr/local/lib/python3.10/dist-packages (from aiohttp->datasets>=2.0.0->evaluate) (2.4.0)\nRequirement already satisfied: aiosignal>=1.1.2 in /usr/local/lib/python3.10/dist-packages (from aiohttp->datasets>=2.0.0->evaluate) (1.3.1)\nRequirement already satisfied: attrs>=17.3.0 in /usr/local/lib/python3.10/dist-packages (from aiohttp->datasets>=2.0.0->evaluate) (24.2.0)\nRequirement already satisfied: frozenlist>=1.1.1 in /usr/local/lib/python3.10/dist-packages (from aiohttp->datasets>=2.0.0->evaluate) (1.4.1)\nRequirement already satisfied: multidict<7.0,>=4.5 in /usr/local/lib/python3.10/dist-packages (from aiohttp->datasets>=2.0.0->evaluate) (6.1.0)\nRequirement already satisfied: yarl<2.0,>=1.0 in /usr/local/lib/python3.10/dist-packages (from aiohttp->datasets>=2.0.0->evaluate) (1.11.1)\nRequirement already satisfied: async-timeout<5.0,>=4.0 in /usr/local/lib/python3.10/dist-packages (from aiohttp->datasets>=2.0.0->evaluate) (4.0.3)\nRequirement already satisfied: six>=1.5 in /usr/local/lib/python3.10/dist-packages (from python-dateutil>=2.8.2->pandas->evaluate) (1.16.0)\nDownloading evaluate-0.4.3-py3-none-any.whl (84 kB)\n\u001b[2K   \u001b[90m━━━━━━━━━━━━━━━━━━━━━━━━━━━━━━━━━━━━━━━━\u001b[0m \u001b[32m84.0/84.0 kB\u001b[0m \u001b[31m2.7 MB/s\u001b[0m eta \u001b[36m0:00:00\u001b[0m\n\u001b[?25hInstalling collected packages: evaluate\nSuccessfully installed evaluate-0.4.3\n",
          "output_type": "stream"
        }
      ],
      "execution_count": null
    },
    {
      "cell_type": "code",
      "source": [
        "#install huggingface_hub package to interact with huggingface platform\n",
        "!pip install huggingface_hub"
      ],
      "metadata": {
        "colab": {
          "background_save": true
        },
        "id": "fmvb9G-tq1wb",
        "outputId": "fb423f85-5462-4fe5-e7d0-994b8aa3fab9",
        "trusted": true,
        "execution": {
          "iopub.status.busy": "2024-12-20T08:28:29.22262Z",
          "iopub.execute_input": "2024-12-20T08:28:29.22291Z",
          "iopub.status.idle": "2024-12-20T08:28:32.481073Z",
          "shell.execute_reply.started": "2024-12-20T08:28:29.222887Z",
          "shell.execute_reply": "2024-12-20T08:28:32.480041Z"
        }
      },
      "outputs": [
        {
          "name": "stderr",
          "text": "/usr/lib/python3.10/pty.py:89: RuntimeWarning: os.fork() was called. os.fork() is incompatible with multithreaded code, and JAX is multithreaded, so this will likely lead to a deadlock.\n  pid, fd = os.forkpty()\n",
          "output_type": "stream"
        },
        {
          "name": "stdout",
          "text": "Requirement already satisfied: huggingface_hub in /usr/local/lib/python3.10/dist-packages (0.24.7)\nRequirement already satisfied: filelock in /usr/local/lib/python3.10/dist-packages (from huggingface_hub) (3.16.1)\nRequirement already satisfied: fsspec>=2023.5.0 in /usr/local/lib/python3.10/dist-packages (from huggingface_hub) (2024.6.1)\nRequirement already satisfied: packaging>=20.9 in /usr/local/lib/python3.10/dist-packages (from huggingface_hub) (24.1)\nRequirement already satisfied: pyyaml>=5.1 in /usr/local/lib/python3.10/dist-packages (from huggingface_hub) (6.0.2)\nRequirement already satisfied: requests in /usr/local/lib/python3.10/dist-packages (from huggingface_hub) (2.32.3)\nRequirement already satisfied: tqdm>=4.42.1 in /usr/local/lib/python3.10/dist-packages (from huggingface_hub) (4.66.5)\nRequirement already satisfied: typing-extensions>=3.7.4.3 in /usr/local/lib/python3.10/dist-packages (from huggingface_hub) (4.12.2)\nRequirement already satisfied: charset-normalizer<4,>=2 in /usr/local/lib/python3.10/dist-packages (from requests->huggingface_hub) (3.3.2)\nRequirement already satisfied: idna<4,>=2.5 in /usr/local/lib/python3.10/dist-packages (from requests->huggingface_hub) (3.10)\nRequirement already satisfied: urllib3<3,>=1.21.1 in /usr/local/lib/python3.10/dist-packages (from requests->huggingface_hub) (2.2.3)\nRequirement already satisfied: certifi>=2017.4.17 in /usr/local/lib/python3.10/dist-packages (from requests->huggingface_hub) (2024.8.30)\n",
          "output_type": "stream"
        }
      ],
      "execution_count": null
    },
    {
      "cell_type": "code",
      "source": [
        "!pip install wandb"
      ],
      "metadata": {
        "trusted": true,
        "execution": {
          "iopub.status.busy": "2024-12-20T08:11:02.616917Z",
          "iopub.execute_input": "2024-12-20T08:11:02.617285Z",
          "iopub.status.idle": "2024-12-20T08:11:05.833728Z",
          "shell.execute_reply.started": "2024-12-20T08:11:02.617257Z",
          "shell.execute_reply": "2024-12-20T08:11:05.832912Z"
        },
        "id": "-GSD0TVcyP6d",
        "outputId": "89f740b0-ab42-4d3e-ce97-f741f92329c8"
      },
      "outputs": [
        {
          "name": "stderr",
          "text": "/usr/lib/python3.10/pty.py:89: RuntimeWarning: os.fork() was called. os.fork() is incompatible with multithreaded code, and JAX is multithreaded, so this will likely lead to a deadlock.\n  pid, fd = os.forkpty()\n",
          "output_type": "stream"
        },
        {
          "name": "stdout",
          "text": "Requirement already satisfied: wandb in /usr/local/lib/python3.10/dist-packages (0.19.1)\nRequirement already satisfied: click!=8.0.0,>=7.1 in /usr/local/lib/python3.10/dist-packages (from wandb) (8.1.7)\nRequirement already satisfied: docker-pycreds>=0.4.0 in /usr/local/lib/python3.10/dist-packages (from wandb) (0.4.0)\nRequirement already satisfied: gitpython!=3.1.29,>=1.0.0 in /usr/local/lib/python3.10/dist-packages (from wandb) (3.1.43)\nRequirement already satisfied: platformdirs in /usr/local/lib/python3.10/dist-packages (from wandb) (4.3.6)\nRequirement already satisfied: protobuf!=4.21.0,!=5.28.0,<6,>=3.19.0 in /usr/local/lib/python3.10/dist-packages (from wandb) (3.20.3)\nRequirement already satisfied: psutil>=5.0.0 in /usr/local/lib/python3.10/dist-packages (from wandb) (5.9.5)\nRequirement already satisfied: pydantic<3,>=2.6 in /usr/local/lib/python3.10/dist-packages (from wandb) (2.9.2)\nRequirement already satisfied: pyyaml in /usr/local/lib/python3.10/dist-packages (from wandb) (6.0.2)\nRequirement already satisfied: requests<3,>=2.0.0 in /usr/local/lib/python3.10/dist-packages (from wandb) (2.32.3)\nRequirement already satisfied: sentry-sdk>=2.0.0 in /usr/local/lib/python3.10/dist-packages (from wandb) (2.19.2)\nRequirement already satisfied: setproctitle in /usr/local/lib/python3.10/dist-packages (from wandb) (1.3.4)\nRequirement already satisfied: setuptools in /usr/local/lib/python3.10/dist-packages (from wandb) (71.0.4)\nRequirement already satisfied: typing-extensions<5,>=4.4 in /usr/local/lib/python3.10/dist-packages (from wandb) (4.12.2)\nRequirement already satisfied: six>=1.4.0 in /usr/local/lib/python3.10/dist-packages (from docker-pycreds>=0.4.0->wandb) (1.16.0)\nRequirement already satisfied: gitdb<5,>=4.0.1 in /usr/local/lib/python3.10/dist-packages (from gitpython!=3.1.29,>=1.0.0->wandb) (4.0.11)\nRequirement already satisfied: annotated-types>=0.6.0 in /usr/local/lib/python3.10/dist-packages (from pydantic<3,>=2.6->wandb) (0.7.0)\nRequirement already satisfied: pydantic-core==2.23.4 in /usr/local/lib/python3.10/dist-packages (from pydantic<3,>=2.6->wandb) (2.23.4)\nRequirement already satisfied: charset-normalizer<4,>=2 in /usr/local/lib/python3.10/dist-packages (from requests<3,>=2.0.0->wandb) (3.3.2)\nRequirement already satisfied: idna<4,>=2.5 in /usr/local/lib/python3.10/dist-packages (from requests<3,>=2.0.0->wandb) (3.10)\nRequirement already satisfied: urllib3<3,>=1.21.1 in /usr/local/lib/python3.10/dist-packages (from requests<3,>=2.0.0->wandb) (2.2.3)\nRequirement already satisfied: certifi>=2017.4.17 in /usr/local/lib/python3.10/dist-packages (from requests<3,>=2.0.0->wandb) (2024.8.30)\nRequirement already satisfied: smmap<6,>=3.0.1 in /usr/local/lib/python3.10/dist-packages (from gitdb<5,>=4.0.1->gitpython!=3.1.29,>=1.0.0->wandb) (5.0.1)\n",
          "output_type": "stream"
        }
      ],
      "execution_count": null
    },
    {
      "cell_type": "markdown",
      "source": [
        "### *Step 2: Import the necessay libraries from the installed packages*"
      ],
      "metadata": {
        "id": "R2U8OEAX9I9E"
      }
    },
    {
      "cell_type": "code",
      "source": [
        "from datasets import Dataset\n",
        "import datasets\n",
        "from evaluate import load"
      ],
      "metadata": {
        "id": "Bnfla8DsyBhM",
        "trusted": true,
        "execution": {
          "iopub.status.busy": "2024-12-20T06:07:10.099501Z",
          "iopub.execute_input": "2024-12-20T06:07:10.099801Z",
          "iopub.status.idle": "2024-12-20T06:07:23.954732Z",
          "shell.execute_reply.started": "2024-12-20T06:07:10.099777Z",
          "shell.execute_reply": "2024-12-20T06:07:23.953833Z"
        }
      },
      "outputs": [],
      "execution_count": null
    },
    {
      "cell_type": "code",
      "source": [
        "import numpy as np\n",
        "import pandas as pd\n",
        "from transformers import pipeline\n",
        "from transformers import AutoTokenizer"
      ],
      "metadata": {
        "id": "sfB-ohyp3pA6",
        "trusted": true,
        "execution": {
          "iopub.status.busy": "2024-12-20T06:07:23.95579Z",
          "iopub.execute_input": "2024-12-20T06:07:23.956347Z",
          "iopub.status.idle": "2024-12-20T06:07:23.959876Z",
          "shell.execute_reply.started": "2024-12-20T06:07:23.956322Z",
          "shell.execute_reply": "2024-12-20T06:07:23.959094Z"
        }
      },
      "outputs": [],
      "execution_count": null
    },
    {
      "cell_type": "code",
      "source": [
        "import torch\n",
        "from torch.utils.data import DataLoader\n",
        "from torch.optim import AdamW\n",
        "from tqdm.auto import tqdm\n",
        "from transformers import AutoModelForSequenceClassification\n",
        "from google.colab import userdata"
      ],
      "metadata": {
        "id": "E9HwjYvqBz7S",
        "trusted": true,
        "execution": {
          "iopub.status.busy": "2024-12-20T06:07:23.961199Z",
          "iopub.execute_input": "2024-12-20T06:07:23.961403Z",
          "iopub.status.idle": "2024-12-20T06:07:23.978279Z",
          "shell.execute_reply.started": "2024-12-20T06:07:23.961385Z",
          "shell.execute_reply": "2024-12-20T06:07:23.977493Z"
        }
      },
      "outputs": [],
      "execution_count": null
    },
    {
      "cell_type": "code",
      "source": [
        "from sklearn.model_selection import train_test_split"
      ],
      "metadata": {
        "id": "aECkq4Fguzfb",
        "trusted": true,
        "execution": {
          "iopub.status.busy": "2024-12-20T06:07:29.365754Z",
          "iopub.execute_input": "2024-12-20T06:07:29.366106Z",
          "iopub.status.idle": "2024-12-20T06:07:29.369536Z",
          "shell.execute_reply.started": "2024-12-20T06:07:29.366079Z",
          "shell.execute_reply": "2024-12-20T06:07:29.368649Z"
        }
      },
      "outputs": [],
      "execution_count": null
    },
    {
      "cell_type": "markdown",
      "source": [
        "### *Step 3: Import the dataset to be used for Training the model*\n"
      ],
      "metadata": {
        "id": "tkWBZpS69sBV"
      }
    },
    {
      "cell_type": "markdown",
      "source": [
        "The dataset used for this project is an Amharic dataset that was made available by Usmaelabdureman. It contains Amharic posts and comments retrieved from Facebook. It has 40,000 rows. The dataset can be accessed from [here](https://github.com/Usmaelabdureman/hate-speech-api/tree/main/data)"
      ],
      "metadata": {
        "id": "xeo3UvY392od"
      }
    },
    {
      "cell_type": "code",
      "source": [
        "#fetch the dataset from the drive\n",
        "Labels=pd.read_csv('/kaggle/input/amharic-hate-speech/labels.txt',header=None)\n",
        "Posts=pd.read_csv('/kaggle/input/amharic-hate-speech/posts.txt',header=None)"
      ],
      "metadata": {
        "id": "eXBLcBgSWl7A",
        "trusted": true,
        "execution": {
          "iopub.status.busy": "2024-12-20T06:08:10.20516Z",
          "iopub.execute_input": "2024-12-20T06:08:10.205468Z",
          "iopub.status.idle": "2024-12-20T06:08:10.398701Z",
          "shell.execute_reply.started": "2024-12-20T06:08:10.205444Z",
          "shell.execute_reply": "2024-12-20T06:08:10.39804Z"
        }
      },
      "outputs": [],
      "execution_count": null
    },
    {
      "cell_type": "code",
      "source": [
        "def read_file(file_path):\n",
        "    # Read with explicit handling of quotes and delimiters\n",
        "    df = pd.read_csv(\n",
        "        file_path,\n",
        "        quotechar='\"',\n",
        "        skipinitialspace=True,\n",
        "        on_bad_lines=\"skip\",\n",
        "        sep=\",\"\n",
        "    )\n",
        "    if len(df.columns) == 1 and \"Content,Label\" in df.columns[0]:\n",
        "        print(f\"Splitting the single column...\\n\")\n",
        "        df = df[df.columns[0]].str.split(\",\", n=1, expand=True)\n",
        "    elif len(df.columns) != 2:\n",
        "        raise ValueError(f\"Unexpected number of columns in {file_path}.\")\n",
        "    df.columns = [\"post\", \"labels\"]\n",
        "    df[\"post\"] = df[\"post\"].str.strip()\n",
        "    df[\"labels\"] = df[\"labels\"].str.strip()\n",
        "    df = df.dropna()\n",
        "    print(f\"Loaded {file_path} with shape: {df.shape}\")\n",
        "    print(f\"{df.head()}\\n\")\n",
        "    return df"
      ],
      "metadata": {
        "trusted": true,
        "execution": {
          "iopub.status.busy": "2024-12-20T07:48:28.214466Z",
          "iopub.execute_input": "2024-12-20T07:48:28.214799Z",
          "iopub.status.idle": "2024-12-20T07:48:28.221392Z",
          "shell.execute_reply.started": "2024-12-20T07:48:28.214776Z",
          "shell.execute_reply": "2024-12-20T07:48:28.220571Z"
        },
        "id": "eiK2tq8IyP6C"
      },
      "outputs": [],
      "execution_count": null
    },
    {
      "cell_type": "code",
      "source": [
        "# Paths to files\n",
        "train_path = '/kaggle/input/amharic-hate-speech-dataset/AMHSDataTrain.txt'\n",
        "test_path = '/kaggle/input/amharic-hate-speech-dataset/AMHSDataTest.txt'\n",
        "\n",
        "# Read datasets\n",
        "train_df = read_file(train_path)\n",
        "test_df = read_file(test_path)\n",
        "\n",
        "# Combine datasets\n",
        "# combined_df = pd.concat([train_df, test_df], ignore_index=True)"
      ],
      "metadata": {
        "trusted": true,
        "execution": {
          "iopub.status.busy": "2024-12-20T07:57:16.904786Z",
          "iopub.execute_input": "2024-12-20T07:57:16.905118Z",
          "iopub.status.idle": "2024-12-20T07:57:16.945788Z",
          "shell.execute_reply.started": "2024-12-20T07:57:16.905094Z",
          "shell.execute_reply": "2024-12-20T07:57:16.945063Z"
        },
        "id": "iIc62p8AyP6C",
        "outputId": "8f99c567-8568-4dd0-a317-57f01cf08962"
      },
      "outputs": [
        {
          "name": "stdout",
          "text": "Splitting the single column...\n\nLoaded /kaggle/input/amharic-hate-speech-dataset/AMHSDataTrain.txt with shape: (1594, 2)\n                                                post labels\n0  ሌቦች የአብይን ፎቶ ከጀርባህ ለጥፈህ ትለፈልፋለህ አብይ ላይ ያለንም እም...    ጥላቻ\n1                  ህዝቤ አንድ ቀን ትግሬን ይበቀላል ጊዜ ዳኛው ቶሎ ና    ጥላቻ\n2                                   ህዝብን የጨርስህ ጅብ ነህ    ጥላቻ\n3                   ህገ መንግስታችን ይከበር ምድረ ጅቦች ሰው በላ ሁላ    ጥላቻ\n4                                            ሆዳም ባንዳ    ጥላቻ\n\nSplitting the single column...\n\nLoaded /kaggle/input/amharic-hate-speech-dataset/AMHSDataTest.txt with shape: (396, 2)\n                                                post labels\n0  ዘረኛ ሰው ነው ስለሌላ ዘር ቀን ከለሊት ሲለፈልፍ የሚውለው  ዘረኛ መሆን...    ጥላቻ\n1  ዘፈኑ ጥሩ ነው አንድ ሆዳም አማራ ግን የትግራይን የሽንት ጨርቅ በረጅም ...    ጥላቻ\n2  ዛሬ ቅማላም ትግሬዎች በህዝባችን የተተፉና በገጀራ ዋጋቸውን የሚያገኙበት ...    ጥላቻ\n3  ዝባዝንኬ አንዳንድ ኤፍ ኤም ሬድዮ ጣቢያዎች ላይ የሚተላለፉ ሸርሙጣ ሸርሙ...    ጥላቻ\n4  የሀበሻ ምግብ ሂጄ ቅማላም ትግሬዎች ሲንጫጩ አበሸቁኝ እኛ በስንት ቀን አ...    ጥላቻ\n\n",
          "output_type": "stream"
        }
      ],
      "execution_count": null
    },
    {
      "cell_type": "markdown",
      "source": [
        "### *Step 4: Preprocess the Dataset*"
      ],
      "metadata": {
        "id": "uGabpHmlyLa-"
      }
    },
    {
      "cell_type": "markdown",
      "source": [
        "When the dataset was retrived, the labels and the post were in different files.\n",
        "\n",
        "\n",
        "*   Hence, the first step in this phase is merging the files into one panda's dataframe.\n",
        "*   Second step is Label encoding. Lable encoding is the process of converting the labels(classes) into numeric format to make it easier for the machine to understand it\n",
        "*   Third step is dividing the dataset into training, validation and testing categories. The division ratio is 7:1:2 respectively.\n",
        "*   Last step is to remove an unncessary columns from the main dataset and merging the all the categories into one main dataset\n",
        "\n"
      ],
      "metadata": {
        "id": "W919HMiryXg9"
      }
    },
    {
      "cell_type": "code",
      "source": [
        "train_df['labels'].unique()"
      ],
      "metadata": {
        "trusted": true,
        "execution": {
          "iopub.status.busy": "2024-12-20T08:00:17.229785Z",
          "iopub.execute_input": "2024-12-20T08:00:17.230152Z",
          "iopub.status.idle": "2024-12-20T08:00:17.237065Z",
          "shell.execute_reply.started": "2024-12-20T08:00:17.23012Z",
          "shell.execute_reply": "2024-12-20T08:00:17.236189Z"
        },
        "id": "fs2y80x6yP6D",
        "outputId": "99552be5-f293-4e12-fe93-1ab0942bb434"
      },
      "outputs": [
        {
          "execution_count": 99,
          "output_type": "execute_result",
          "data": {
            "text/plain": "array(['ጥላቻ', 'መልካም'], dtype=object)"
          },
          "metadata": {}
        }
      ],
      "execution_count": null
    },
    {
      "cell_type": "code",
      "source": [
        "#naming the columns\n",
        "Labels.column = [\"labels\"]\n",
        "Posts.columns = [\"post\"]"
      ],
      "metadata": {
        "id": "ti6Xtr1y47zj",
        "trusted": true,
        "execution": {
          "iopub.status.busy": "2024-12-20T07:56:00.916851Z",
          "iopub.execute_input": "2024-12-20T07:56:00.917343Z",
          "iopub.status.idle": "2024-12-20T07:56:00.923923Z",
          "shell.execute_reply.started": "2024-12-20T07:56:00.917309Z",
          "shell.execute_reply": "2024-12-20T07:56:00.923051Z"
        }
      },
      "outputs": [],
      "execution_count": null
    },
    {
      "cell_type": "code",
      "source": [
        "#encoding the classes into numerical data\n",
        "Labels = Labels.replace(['Free', 'Free ','Hate'],[0,0,1])"
      ],
      "metadata": {
        "id": "k4GGAdMxjxoQ",
        "trusted": true,
        "execution": {
          "iopub.status.busy": "2024-12-20T06:08:18.520575Z",
          "iopub.execute_input": "2024-12-20T06:08:18.520894Z",
          "iopub.status.idle": "2024-12-20T06:08:18.542875Z",
          "shell.execute_reply.started": "2024-12-20T06:08:18.520865Z",
          "shell.execute_reply": "2024-12-20T06:08:18.542112Z"
        }
      },
      "outputs": [],
      "execution_count": null
    },
    {
      "cell_type": "code",
      "source": [
        "train_df['labels'] = train_df['labels'].replace(['መልካም','ጥላቻ'],[0, 1])"
      ],
      "metadata": {
        "trusted": true,
        "execution": {
          "iopub.status.busy": "2024-12-20T08:00:45.317216Z",
          "iopub.execute_input": "2024-12-20T08:00:45.317523Z",
          "iopub.status.idle": "2024-12-20T08:00:45.324072Z",
          "shell.execute_reply.started": "2024-12-20T08:00:45.317499Z",
          "shell.execute_reply": "2024-12-20T08:00:45.323335Z"
        },
        "id": "lUCVUVQjyP6F"
      },
      "outputs": [],
      "execution_count": null
    },
    {
      "cell_type": "code",
      "source": [
        "unique_values = Labels['labels'].unique()\n",
        "print(unique_values)"
      ],
      "metadata": {
        "trusted": true,
        "id": "tMjDDxmTyP6F"
      },
      "outputs": [],
      "execution_count": null
    },
    {
      "cell_type": "code",
      "source": [
        "#check the encoded label data\n",
        "Labels.head(10)"
      ],
      "metadata": {
        "colab": {
          "base_uri": "https://localhost:8080/",
          "height": 677
        },
        "id": "JuIzyozFkWL4",
        "outputId": "14e63da3-596c-4957-dace-32b28c3141ab",
        "trusted": true,
        "execution": {
          "iopub.status.busy": "2024-12-19T18:53:45.382232Z",
          "iopub.execute_input": "2024-12-19T18:53:45.382599Z",
          "iopub.status.idle": "2024-12-19T18:53:45.39632Z",
          "shell.execute_reply.started": "2024-12-19T18:53:45.382574Z",
          "shell.execute_reply": "2024-12-19T18:53:45.39546Z"
        }
      },
      "outputs": [
        {
          "execution_count": 13,
          "output_type": "execute_result",
          "data": {
            "text/plain": "   labels\n0       0\n1       0\n2       0\n3       0\n4       1\n5       0\n6       0\n7       0\n8       1\n9       0",
            "text/html": "<div>\n<style scoped>\n    .dataframe tbody tr th:only-of-type {\n        vertical-align: middle;\n    }\n\n    .dataframe tbody tr th {\n        vertical-align: top;\n    }\n\n    .dataframe thead th {\n        text-align: right;\n    }\n</style>\n<table border=\"1\" class=\"dataframe\">\n  <thead>\n    <tr style=\"text-align: right;\">\n      <th></th>\n      <th>labels</th>\n    </tr>\n  </thead>\n  <tbody>\n    <tr>\n      <th>0</th>\n      <td>0</td>\n    </tr>\n    <tr>\n      <th>1</th>\n      <td>0</td>\n    </tr>\n    <tr>\n      <th>2</th>\n      <td>0</td>\n    </tr>\n    <tr>\n      <th>3</th>\n      <td>0</td>\n    </tr>\n    <tr>\n      <th>4</th>\n      <td>1</td>\n    </tr>\n    <tr>\n      <th>5</th>\n      <td>0</td>\n    </tr>\n    <tr>\n      <th>6</th>\n      <td>0</td>\n    </tr>\n    <tr>\n      <th>7</th>\n      <td>0</td>\n    </tr>\n    <tr>\n      <th>8</th>\n      <td>1</td>\n    </tr>\n    <tr>\n      <th>9</th>\n      <td>0</td>\n    </tr>\n  </tbody>\n</table>\n</div>"
          },
          "metadata": {}
        }
      ],
      "execution_count": null
    },
    {
      "cell_type": "code",
      "source": [
        "#check the Amharic data\n",
        "Posts.head(1000)"
      ],
      "metadata": {
        "colab": {
          "base_uri": "https://localhost:8080/",
          "height": 424
        },
        "id": "B1pVXp1E7WtG",
        "outputId": "aa4b3e8f-b492-4d81-b481-8c88a9895841",
        "trusted": true,
        "execution": {
          "iopub.status.busy": "2024-12-19T18:53:56.797404Z",
          "iopub.execute_input": "2024-12-19T18:53:56.797727Z",
          "iopub.status.idle": "2024-12-19T18:53:56.807887Z",
          "shell.execute_reply.started": "2024-12-19T18:53:56.797702Z",
          "shell.execute_reply": "2024-12-19T18:53:56.807222Z"
        }
      },
      "outputs": [
        {
          "execution_count": 14,
          "output_type": "execute_result",
          "data": {
            "text/plain": "                                                  post\n0    አስቀድሜ ጥያቄዬ በጨዋነት በውስጥ መስመር እንዲደርስዎ አድርጌ ፍትህን ለ...\n1     እነዚህን ወሳኝ ጉዳዮችን የሚያስፈፅም አካል እንዲቋቋምና ክትትል እንዲደ...\n2    የአማራ ህዝብ በአእምሮ ክንፉ ያልበረረበት ጥበብና ፍልስፍና ያልከፈተው የ...\n3    ከአማራ ህዝብ የሀገሪቱ ዘርፈ ብዙ እውቀት መንጭቶ የሞላበትከሙላቱም በመል...\n4    ዛሬ በየትኛውም መለኪያ ይሁን መመዘኛ ኢትዮጵያዊነት የሚንፀባረቀው በአማራ...\n..                                                 ...\n995  መፈንቅለመንግስት ከሽፏልእንዴ የየክልሉ ህዝብ ምን ይጠብቃል ሆ ብሎ ሄዶ ...\n996  ሰው በሩን እንደፈለገ መክፈት እንደፈለገ መዝጋት ይችላል  የምን አውቅልሻ...\n997                ክክክክክ የሱዳን ዜጋ ናችሁ እንዴ ባለ ነጠላ ጎጃሜ ሁላ\n998                            የምን ማለቃቀስ ነው ምድረ ፎካሪ ሁላ\n999                                       መግስት ሀልባ አገር\n\n[1000 rows x 1 columns]",
            "text/html": "<div>\n<style scoped>\n    .dataframe tbody tr th:only-of-type {\n        vertical-align: middle;\n    }\n\n    .dataframe tbody tr th {\n        vertical-align: top;\n    }\n\n    .dataframe thead th {\n        text-align: right;\n    }\n</style>\n<table border=\"1\" class=\"dataframe\">\n  <thead>\n    <tr style=\"text-align: right;\">\n      <th></th>\n      <th>post</th>\n    </tr>\n  </thead>\n  <tbody>\n    <tr>\n      <th>0</th>\n      <td>አስቀድሜ ጥያቄዬ በጨዋነት በውስጥ መስመር እንዲደርስዎ አድርጌ ፍትህን ለ...</td>\n    </tr>\n    <tr>\n      <th>1</th>\n      <td>እነዚህን ወሳኝ ጉዳዮችን የሚያስፈፅም አካል እንዲቋቋምና ክትትል እንዲደ...</td>\n    </tr>\n    <tr>\n      <th>2</th>\n      <td>የአማራ ህዝብ በአእምሮ ክንፉ ያልበረረበት ጥበብና ፍልስፍና ያልከፈተው የ...</td>\n    </tr>\n    <tr>\n      <th>3</th>\n      <td>ከአማራ ህዝብ የሀገሪቱ ዘርፈ ብዙ እውቀት መንጭቶ የሞላበትከሙላቱም በመል...</td>\n    </tr>\n    <tr>\n      <th>4</th>\n      <td>ዛሬ በየትኛውም መለኪያ ይሁን መመዘኛ ኢትዮጵያዊነት የሚንፀባረቀው በአማራ...</td>\n    </tr>\n    <tr>\n      <th>...</th>\n      <td>...</td>\n    </tr>\n    <tr>\n      <th>995</th>\n      <td>መፈንቅለመንግስት ከሽፏልእንዴ የየክልሉ ህዝብ ምን ይጠብቃል ሆ ብሎ ሄዶ ...</td>\n    </tr>\n    <tr>\n      <th>996</th>\n      <td>ሰው በሩን እንደፈለገ መክፈት እንደፈለገ መዝጋት ይችላል  የምን አውቅልሻ...</td>\n    </tr>\n    <tr>\n      <th>997</th>\n      <td>ክክክክክ የሱዳን ዜጋ ናችሁ እንዴ ባለ ነጠላ ጎጃሜ ሁላ</td>\n    </tr>\n    <tr>\n      <th>998</th>\n      <td>የምን ማለቃቀስ ነው ምድረ ፎካሪ ሁላ</td>\n    </tr>\n    <tr>\n      <th>999</th>\n      <td>መግስት ሀልባ አገር</td>\n    </tr>\n  </tbody>\n</table>\n<p>1000 rows × 1 columns</p>\n</div>"
          },
          "metadata": {}
        }
      ],
      "execution_count": null
    },
    {
      "cell_type": "code",
      "source": [
        "#merge the datasets\n",
        "Frames = [Labels, Posts]\n",
        "Merged = pd.concat(Frames, axis=1)\n"
      ],
      "metadata": {
        "id": "hh3MnC_O6E-4",
        "trusted": true,
        "execution": {
          "iopub.status.busy": "2024-12-20T06:08:28.630502Z",
          "iopub.execute_input": "2024-12-20T06:08:28.630801Z",
          "iopub.status.idle": "2024-12-20T06:08:28.636467Z",
          "shell.execute_reply.started": "2024-12-20T06:08:28.630778Z",
          "shell.execute_reply": "2024-12-20T06:08:28.635714Z"
        }
      },
      "outputs": [],
      "execution_count": null
    },
    {
      "cell_type": "code",
      "source": [
        "Merged = train_df"
      ],
      "metadata": {
        "trusted": true,
        "execution": {
          "iopub.status.busy": "2024-12-20T08:01:36.234447Z",
          "iopub.execute_input": "2024-12-20T08:01:36.234754Z",
          "iopub.status.idle": "2024-12-20T08:01:36.244878Z",
          "shell.execute_reply.started": "2024-12-20T08:01:36.23473Z",
          "shell.execute_reply": "2024-12-20T08:01:36.243954Z"
        },
        "id": "XuiQ3HyzyP6H"
      },
      "outputs": [],
      "execution_count": null
    },
    {
      "cell_type": "code",
      "source": [
        "#preview of merged data\n",
        "Merged"
      ],
      "metadata": {
        "colab": {
          "base_uri": "https://localhost:8080/",
          "height": 424
        },
        "id": "rmeOZhfb2REM",
        "outputId": "3a83718c-c9e3-42b2-de72-6d99c957576c",
        "trusted": true,
        "execution": {
          "iopub.status.busy": "2024-12-20T08:01:42.862627Z",
          "iopub.execute_input": "2024-12-20T08:01:42.863002Z",
          "iopub.status.idle": "2024-12-20T08:01:42.872864Z",
          "shell.execute_reply.started": "2024-12-20T08:01:42.86294Z",
          "shell.execute_reply": "2024-12-20T08:01:42.872057Z"
        }
      },
      "outputs": [
        {
          "execution_count": 102,
          "output_type": "execute_result",
          "data": {
            "text/plain": "                                                   post  labels\n0     ሌቦች የአብይን ፎቶ ከጀርባህ ለጥፈህ ትለፈልፋለህ አብይ ላይ ያለንም እም...       1\n1                     ህዝቤ አንድ ቀን ትግሬን ይበቀላል ጊዜ ዳኛው ቶሎ ና       1\n2                                      ህዝብን የጨርስህ ጅብ ነህ       1\n3                      ህገ መንግስታችን ይከበር ምድረ ጅቦች ሰው በላ ሁላ       1\n4                                               ሆዳም ባንዳ       1\n...                                                 ...     ...\n1595         አዳራሹ ሰፊ አጀንዳው ቁሞቀር በጠባብ ቤት ሆነን ብንሰፋ ምን ነበር       0\n1596  አገሪቷን የሚበዘብዙት የትግራይ ሚሊሻ  ጀነራል ብሎ እራሳቸውን ሹሞ አገር...       0\n1597       አገሬ ኢትዮጵያ የማንም መጫወቻ ሆና ትቅር ያሳዝናል ሰው ለከቱን ሲያጣ       0\n1598  አማራ በክልል ብቻ ታጥሮ ጠቦ የሚኖር ማህበረሰብ አይደለም እንደሌሎች ጠብ...       0\n1599  እስኪ እንዲሁ ጀግናችሁ ህዝቡን ከሚያርዱትና ከሚያፈናቅሉት እኩይ ቡድኖች ...       0\n\n[1594 rows x 2 columns]",
            "text/html": "<div>\n<style scoped>\n    .dataframe tbody tr th:only-of-type {\n        vertical-align: middle;\n    }\n\n    .dataframe tbody tr th {\n        vertical-align: top;\n    }\n\n    .dataframe thead th {\n        text-align: right;\n    }\n</style>\n<table border=\"1\" class=\"dataframe\">\n  <thead>\n    <tr style=\"text-align: right;\">\n      <th></th>\n      <th>post</th>\n      <th>labels</th>\n    </tr>\n  </thead>\n  <tbody>\n    <tr>\n      <th>0</th>\n      <td>ሌቦች የአብይን ፎቶ ከጀርባህ ለጥፈህ ትለፈልፋለህ አብይ ላይ ያለንም እም...</td>\n      <td>1</td>\n    </tr>\n    <tr>\n      <th>1</th>\n      <td>ህዝቤ አንድ ቀን ትግሬን ይበቀላል ጊዜ ዳኛው ቶሎ ና</td>\n      <td>1</td>\n    </tr>\n    <tr>\n      <th>2</th>\n      <td>ህዝብን የጨርስህ ጅብ ነህ</td>\n      <td>1</td>\n    </tr>\n    <tr>\n      <th>3</th>\n      <td>ህገ መንግስታችን ይከበር ምድረ ጅቦች ሰው በላ ሁላ</td>\n      <td>1</td>\n    </tr>\n    <tr>\n      <th>4</th>\n      <td>ሆዳም ባንዳ</td>\n      <td>1</td>\n    </tr>\n    <tr>\n      <th>...</th>\n      <td>...</td>\n      <td>...</td>\n    </tr>\n    <tr>\n      <th>1595</th>\n      <td>አዳራሹ ሰፊ አጀንዳው ቁሞቀር በጠባብ ቤት ሆነን ብንሰፋ ምን ነበር</td>\n      <td>0</td>\n    </tr>\n    <tr>\n      <th>1596</th>\n      <td>አገሪቷን የሚበዘብዙት የትግራይ ሚሊሻ  ጀነራል ብሎ እራሳቸውን ሹሞ አገር...</td>\n      <td>0</td>\n    </tr>\n    <tr>\n      <th>1597</th>\n      <td>አገሬ ኢትዮጵያ የማንም መጫወቻ ሆና ትቅር ያሳዝናል ሰው ለከቱን ሲያጣ</td>\n      <td>0</td>\n    </tr>\n    <tr>\n      <th>1598</th>\n      <td>አማራ በክልል ብቻ ታጥሮ ጠቦ የሚኖር ማህበረሰብ አይደለም እንደሌሎች ጠብ...</td>\n      <td>0</td>\n    </tr>\n    <tr>\n      <th>1599</th>\n      <td>እስኪ እንዲሁ ጀግናችሁ ህዝቡን ከሚያርዱትና ከሚያፈናቅሉት እኩይ ቡድኖች ...</td>\n      <td>0</td>\n    </tr>\n  </tbody>\n</table>\n<p>1594 rows × 2 columns</p>\n</div>"
          },
          "metadata": {}
        }
      ],
      "execution_count": null
    },
    {
      "cell_type": "code",
      "source": [
        "# train_val_df, test_dataset = train_test_split(Merged, test_size=0.20, random_state=42)\n",
        "# train_dataset, evaluation_dataset = train_test_split(train_val_df, test_size=0.10, random_state=42)\n",
        "test_dataset = test_df\n",
        "train_dataset, evaluation_dataset = train_test_split(Merged, test_size=0.10, random_state=42)\n",
        "print('Training dataset shape: ', train_dataset.shape)\n",
        "print('Validation dataset shape: ', evaluation_dataset.shape)\n",
        "print('Testing dataset shape: ', test_dataset.shape)"
      ],
      "metadata": {
        "colab": {
          "base_uri": "https://localhost:8080/"
        },
        "id": "Zf4paAEe1eYX",
        "outputId": "717810be-df75-4ccf-a4c4-bd3b52a70cd9",
        "trusted": true,
        "execution": {
          "iopub.status.busy": "2024-12-20T08:04:42.668867Z",
          "iopub.execute_input": "2024-12-20T08:04:42.669247Z",
          "iopub.status.idle": "2024-12-20T08:04:42.682167Z",
          "shell.execute_reply.started": "2024-12-20T08:04:42.669218Z",
          "shell.execute_reply": "2024-12-20T08:04:42.68108Z"
        }
      },
      "outputs": [
        {
          "name": "stdout",
          "text": "Training dataset shape:  (1434, 2)\nValidation dataset shape:  (160, 2)\nTesting dataset shape:  (396, 2)\n",
          "output_type": "stream"
        }
      ],
      "execution_count": null
    },
    {
      "cell_type": "code",
      "source": [
        "#Divide the dataset into train and test categories\n",
        "msk = np.random.rand(len(Merged)) < 0.8\n",
        "train_dataset = Merged[msk]\n",
        "test_dataset = Merged[~msk]"
      ],
      "metadata": {
        "id": "ZVfzGbMLJqq4",
        "trusted": true,
        "execution": {
          "iopub.status.busy": "2024-12-20T06:08:38.497813Z",
          "iopub.execute_input": "2024-12-20T06:08:38.498136Z",
          "iopub.status.idle": "2024-12-20T06:08:38.507365Z",
          "shell.execute_reply.started": "2024-12-20T06:08:38.498111Z",
          "shell.execute_reply": "2024-12-20T06:08:38.506685Z"
        }
      },
      "outputs": [],
      "execution_count": null
    },
    {
      "cell_type": "code",
      "source": [
        "#convert format of the dataset to HuggingFace Dataset from Pandas DataFrame\n",
        "test_dataset=Dataset.from_pandas(test_dataset)"
      ],
      "metadata": {
        "id": "oFPHgSEM1Dk7",
        "trusted": true,
        "execution": {
          "iopub.status.busy": "2024-12-20T08:05:48.486484Z",
          "iopub.execute_input": "2024-12-20T08:05:48.486851Z",
          "iopub.status.idle": "2024-12-20T08:05:48.500033Z",
          "shell.execute_reply.started": "2024-12-20T08:05:48.486819Z",
          "shell.execute_reply": "2024-12-20T08:05:48.499392Z"
        }
      },
      "outputs": [],
      "execution_count": null
    },
    {
      "cell_type": "code",
      "source": [
        "#convert the format of the dataset to HuggingFace Dataset from Pandas DataFrame\n",
        "train_dataset=Dataset.from_pandas(train_dataset)"
      ],
      "metadata": {
        "id": "8AjJWpMzNY5O",
        "trusted": true,
        "execution": {
          "iopub.status.busy": "2024-12-20T08:05:53.363649Z",
          "iopub.execute_input": "2024-12-20T08:05:53.363997Z",
          "iopub.status.idle": "2024-12-20T08:05:53.378045Z",
          "shell.execute_reply.started": "2024-12-20T08:05:53.36394Z",
          "shell.execute_reply": "2024-12-20T08:05:53.37731Z"
        }
      },
      "outputs": [],
      "execution_count": null
    },
    {
      "cell_type": "code",
      "source": [
        "#convert the format of the dataset to HuggingFace Dataset from Pandas DataFrame\n",
        "evaluation_dataset=Dataset.from_pandas(evaluation_dataset)"
      ],
      "metadata": {
        "id": "BKcbCLrb6_Fb",
        "trusted": true,
        "execution": {
          "iopub.status.busy": "2024-12-20T08:05:56.035241Z",
          "iopub.execute_input": "2024-12-20T08:05:56.035559Z",
          "iopub.status.idle": "2024-12-20T08:05:56.046755Z",
          "shell.execute_reply.started": "2024-12-20T08:05:56.035526Z",
          "shell.execute_reply": "2024-12-20T08:05:56.046053Z"
        }
      },
      "outputs": [],
      "execution_count": null
    },
    {
      "cell_type": "code",
      "source": [
        "#preview of the dataset after conversion\n",
        "(test_dataset)"
      ],
      "metadata": {
        "colab": {
          "base_uri": "https://localhost:8080/"
        },
        "id": "5tjTu_uTMbH2",
        "outputId": "773b9036-3315-401d-d6a8-e9d40b6d0c3f",
        "trusted": true,
        "execution": {
          "iopub.status.busy": "2024-12-19T18:57:49.989615Z",
          "iopub.execute_input": "2024-12-19T18:57:49.989922Z",
          "iopub.status.idle": "2024-12-19T18:57:49.994951Z",
          "shell.execute_reply.started": "2024-12-19T18:57:49.989896Z",
          "shell.execute_reply": "2024-12-19T18:57:49.994028Z"
        }
      },
      "outputs": [
        {
          "execution_count": 24,
          "output_type": "execute_result",
          "data": {
            "text/plain": "Dataset({\n    features: ['labels', 'post', '__index_level_0__'],\n    num_rows: 9090\n})"
          },
          "metadata": {}
        }
      ],
      "execution_count": null
    },
    {
      "cell_type": "code",
      "source": [
        "#remove unnecessary column\n",
        "test_dataset=test_dataset.remove_columns(\"__index_level_0__\")\n",
        "train_dataset=train_dataset.remove_columns(\"__index_level_0__\")\n",
        "evaluation_dataset=evaluation_dataset.remove_columns(\"__index_level_0__\")"
      ],
      "metadata": {
        "id": "8lmUdwFjkEvS",
        "trusted": true,
        "execution": {
          "iopub.status.busy": "2024-12-20T08:06:10.49507Z",
          "iopub.execute_input": "2024-12-20T08:06:10.495375Z",
          "iopub.status.idle": "2024-12-20T08:06:10.503299Z",
          "shell.execute_reply.started": "2024-12-20T08:06:10.495351Z",
          "shell.execute_reply": "2024-12-20T08:06:10.502572Z"
        }
      },
      "outputs": [],
      "execution_count": null
    },
    {
      "cell_type": "code",
      "source": [
        "#combine the train and test dataset into one datset\n",
        "main_dataset= datasets.DatasetDict({\n",
        "    'train': train_dataset,\n",
        "    'test': test_dataset,\n",
        "    'evaluate': evaluation_dataset\n",
        "})"
      ],
      "metadata": {
        "id": "xMd8ZWLwOacB",
        "trusted": true,
        "execution": {
          "iopub.status.busy": "2024-12-20T08:06:14.852341Z",
          "iopub.execute_input": "2024-12-20T08:06:14.852646Z",
          "iopub.status.idle": "2024-12-20T08:06:14.857697Z",
          "shell.execute_reply.started": "2024-12-20T08:06:14.852623Z",
          "shell.execute_reply": "2024-12-20T08:06:14.857041Z"
        }
      },
      "outputs": [],
      "execution_count": null
    },
    {
      "cell_type": "code",
      "source": [
        "#preview of the dataset after merging\n",
        "main_dataset"
      ],
      "metadata": {
        "colab": {
          "base_uri": "https://localhost:8080/"
        },
        "id": "FQphi9G4Qnca",
        "outputId": "09fadb46-c004-4ac4-9e7e-c5dfd1c27043",
        "trusted": true,
        "execution": {
          "iopub.status.busy": "2024-12-20T08:06:18.843409Z",
          "iopub.execute_input": "2024-12-20T08:06:18.843705Z",
          "iopub.status.idle": "2024-12-20T08:06:18.849577Z",
          "shell.execute_reply.started": "2024-12-20T08:06:18.843681Z",
          "shell.execute_reply": "2024-12-20T08:06:18.848795Z"
        }
      },
      "outputs": [
        {
          "execution_count": 109,
          "output_type": "execute_result",
          "data": {
            "text/plain": "DatasetDict({\n    train: Dataset({\n        features: ['post', 'labels'],\n        num_rows: 1434\n    })\n    test: Dataset({\n        features: ['post', 'labels'],\n        num_rows: 396\n    })\n    evaluate: Dataset({\n        features: ['post', 'labels'],\n        num_rows: 160\n    })\n})"
          },
          "metadata": {}
        }
      ],
      "execution_count": null
    },
    {
      "cell_type": "code",
      "source": [
        "# training and testing data size\n",
        "training_data_size = main_dataset['train'].num_rows\n",
        "testing_data_size = main_dataset['test'].num_rows\n",
        "evaluation_data_size = main_dataset['evaluate'].num_rows"
      ],
      "metadata": {
        "id": "nid9zbCnJ-M5",
        "trusted": true,
        "execution": {
          "iopub.status.busy": "2024-12-20T08:06:25.872461Z",
          "iopub.execute_input": "2024-12-20T08:06:25.872775Z",
          "iopub.status.idle": "2024-12-20T08:06:25.87753Z",
          "shell.execute_reply.started": "2024-12-20T08:06:25.872748Z",
          "shell.execute_reply": "2024-12-20T08:06:25.87666Z"
        }
      },
      "outputs": [],
      "execution_count": null
    },
    {
      "cell_type": "markdown",
      "source": [
        "### *Step 5: Tokenizing Dataset*"
      ],
      "metadata": {
        "id": "giodioN63Udc"
      }
    },
    {
      "cell_type": "markdown",
      "source": [
        "A Tokenizer is used to translate text into data that can be processed by the model. Models can only process numbers, so tokenizers need to convert our text inputs to numerical data.\n",
        "\n",
        "In this case, the tokenizer used is an AutoTokenizer from the fine-tuned mBERT model made available by Hugging face [here](https://huggingface.co/Davlan/bert-base-multilingual-cased-finetuned-amharic)\n"
      ],
      "metadata": {
        "id": "yn_t_kj61y5g"
      }
    },
    {
      "cell_type": "markdown",
      "source": [
        "In this phase, we have the following tasks:\n",
        "* Load the tokenizer\n",
        "* Create a tokenizer function that takes the dataset in batches and tokenize them using the tokenizer loaded from the model\n",
        "* Call the tokenizer function on the whole dataset"
      ],
      "metadata": {
        "id": "89DUH3zn2cao"
      }
    },
    {
      "cell_type": "code",
      "source": [
        "#loading a tokenizer from the pretrained model\n",
        "tokenizer = AutoTokenizer.from_pretrained(\"DawitMelka/amharic-hate-speech\")"
      ],
      "metadata": {
        "colab": {
          "base_uri": "https://localhost:8080/",
          "height": 249,
          "referenced_widgets": [
            "fec7b5d2bb564a7ebf09e04bea82cfc8",
            "84f36bbc18e2416ca1142115dc5caa7d",
            "49c4f54a284d493bbb6ea82e1136e571",
            "9ed7ce4564014aedbaf801f9c1f210e3",
            "bd998dca8e3d433fb2d3d7a437202b18",
            "7f7bea9cbd9a46d685b44702dc7e12f2",
            "56d59a6e5ffb422eaccabe110ebb91d5",
            "776e50bd2351469a8baa9c5dee61e47a",
            "f372b1c21f974e0981a0ab190aa1a644",
            "7d70f3625b7044ffadb191008cc0d837",
            "a0fa196ecdf843a5ba319435af497502",
            "d30d3316faa54b06a78e25b5856ed250",
            "9c41cb73bbff4cfbaa29d97bca9b457c",
            "ee47fab1288a4659a2de0b64437c4ea4",
            "09b36004af78407ea37e55d849738ef1",
            "70ee63d880874d4cac14ba589fd57eb9",
            "79e037f9708645299bbc677603433e4f",
            "67f48572b44542978c30788a3f8a838c",
            "602c3639f9a14f77abd92ba7bed3972e",
            "155c4acf56c94c53b6af01d98fee06f9",
            "6572f48d2b824b97ae5b6436773eb091",
            "73a2d6a2cdf04c878397851325868a83",
            "6c50b8c218fe4c25a6ce5791d77b0f0b",
            "591dbaac37a2494b9b3beb74c911c479",
            "a960ab6bd3ed4201a48c7787f82a1837",
            "37eaf59be6df428885795ccd09dae1c0",
            "c40469878f8f45f9b96fd9ea8bf3de74",
            "377f2777de9040d5b89fde273a45f5f4",
            "ad3ecd284d6248808282ceefa4325d4e",
            "94ba0cdcab7a40998b79a22afd07a126",
            "abfc467650bd4f6dac4c280c2b6536be",
            "918e316222fd48bd8f289c006795b7a4",
            "2cb5c00b4d0e4fab9c5d03932185972a",
            "d654fc2b64bf406ba7d4710fd73dff07",
            "5034d185945e4ca68991a1ef3602d281",
            "d8bae34d1abe4dbe963d7f7bc57b9b0e",
            "88c1d40f4eac4e30ac3878189772f657",
            "ef3fd29852ab4909b68813b87e67f9c0",
            "bffd883cb8424dc09d57ede6f23268c7",
            "190c68c2f1d142188fb9a298d083e0a9",
            "1ccb06b745ee435a895e9aeb4fd58778",
            "3e275a2aeab34be69281cec751209090",
            "a07cf92d6d7c423598a90ac8a3ed7525",
            "5d24081ca7784c7790d5bdf83433f536",
            "540896dae3c741b8887fa9eab15c7aec",
            "09c37c0d53de4b19bf5f53fcc08c72d9",
            "efb6177118534c7898559023b443ff0c",
            "cdc87d705a0c4d2d85b8aea1d911e92f"
          ]
        },
        "id": "g-arFaACbefl",
        "outputId": "27283955-7bf8-403a-af16-031ee06a69b6",
        "trusted": true,
        "execution": {
          "iopub.status.busy": "2024-12-20T08:07:11.598467Z",
          "iopub.execute_input": "2024-12-20T08:07:11.598766Z",
          "iopub.status.idle": "2024-12-20T08:07:14.63795Z",
          "shell.execute_reply.started": "2024-12-20T08:07:11.598742Z",
          "shell.execute_reply": "2024-12-20T08:07:14.637015Z"
        }
      },
      "outputs": [
        {
          "output_type": "display_data",
          "data": {
            "text/plain": "tokenizer_config.json:   0%|          | 0.00/1.24k [00:00<?, ?B/s]",
            "application/vnd.jupyter.widget-view+json": {
              "version_major": 2,
              "version_minor": 0,
              "model_id": "540896dae3c741b8887fa9eab15c7aec"
            }
          },
          "metadata": {}
        },
        {
          "output_type": "display_data",
          "data": {
            "text/plain": "vocab.txt:   0%|          | 0.00/1.55M [00:00<?, ?B/s]",
            "application/vnd.jupyter.widget-view+json": {
              "version_major": 2,
              "version_minor": 0,
              "model_id": "09c37c0d53de4b19bf5f53fcc08c72d9"
            }
          },
          "metadata": {}
        },
        {
          "output_type": "display_data",
          "data": {
            "text/plain": "tokenizer.json:   0%|          | 0.00/3.48M [00:00<?, ?B/s]",
            "application/vnd.jupyter.widget-view+json": {
              "version_major": 2,
              "version_minor": 0,
              "model_id": "efb6177118534c7898559023b443ff0c"
            }
          },
          "metadata": {}
        },
        {
          "output_type": "display_data",
          "data": {
            "text/plain": "special_tokens_map.json:   0%|          | 0.00/125 [00:00<?, ?B/s]",
            "application/vnd.jupyter.widget-view+json": {
              "version_major": 2,
              "version_minor": 0,
              "model_id": "cdc87d705a0c4d2d85b8aea1d911e92f"
            }
          },
          "metadata": {}
        }
      ],
      "execution_count": null
    },
    {
      "cell_type": "code",
      "source": [
        "#Have a tokenizer function that uses the tokenizer\n",
        "def tokenize_function(data):\n",
        "    return tokenizer(data[\"post\"], padding=\"max_length\", truncation=True)"
      ],
      "metadata": {
        "id": "ceAd2-Svu-Kb",
        "trusted": true,
        "execution": {
          "iopub.status.busy": "2024-12-20T08:07:21.752667Z",
          "iopub.execute_input": "2024-12-20T08:07:21.753062Z",
          "iopub.status.idle": "2024-12-20T08:07:21.757945Z",
          "shell.execute_reply.started": "2024-12-20T08:07:21.753031Z",
          "shell.execute_reply": "2024-12-20T08:07:21.757083Z"
        }
      },
      "outputs": [],
      "execution_count": null
    },
    {
      "cell_type": "code",
      "source": [
        "#Tokenize all the data using the mapping functionality\n",
        "tokenized_datasets = main_dataset.map(tokenize_function)\n"
      ],
      "metadata": {
        "colab": {
          "base_uri": "https://localhost:8080/",
          "height": 113,
          "referenced_widgets": [
            "af7154ad803d45e2838fbaf9a66dd6b9",
            "e6820a7c7f794775b0c3a17549a43eb4",
            "811952ee49c44c11bcab2cf7da9ce410",
            "4b387fe68ab34f1d89201f565dcb176b",
            "ed8efcc52eac40278c8da35741c6bb17",
            "173dd73775394210bc22b2e18bb56b54",
            "38d61294e0b346f69cda8aeaa810cf89",
            "35faa269e77942cf9dd7b504d90562e6",
            "59e587eb229a4034b866f24b8d247867",
            "de11e802214d466c882709d73b331dc1",
            "32e33e7a194d4f9ea104d686de5906c4",
            "cbc9cc16a47e4d7cbc9d2bb938033894",
            "def4cfa3090f401dac79134bdc169080",
            "99a3fc97bbd84ee08f3a6b515b03f184",
            "06b26e6d992940f6990ccd6a48954d25",
            "07eec3b3be7145b8a9865e99a3819d39",
            "288b29a4998148be87ded92d42a63e37",
            "86c070ce70324881ba5b07d105d4525a",
            "d6e8d66d543c4743a1da40a30f244ae2",
            "2b0e00d3d949435d881bc9c3a13da024",
            "16f4f07d2cc54af4a6ce7cae05df163a",
            "b0345db328244d8a899116f1aedefb33",
            "a3d65e19a7cc44909c094a6d1ea54147",
            "dd10f53bdd48446884d25f90dc4fb4f2",
            "80d32e0d28654c50b36cc250eed2aa39",
            "9cdc51292be24493afef45a17b41fc6d",
            "8cfab57343574e70a2a53f277c4c259c",
            "1841adc3c5234a7ea36904c31e072ae7",
            "a9f5dfa950214a348287a3dca760a6e1",
            "c8941d0fd66a46b9b65d7a1382edc4f5",
            "f12f8e1fda7e43aea392857f143cd023",
            "69203962171941048443e8f8f0e3ef7b",
            "2e4e021a86044449bca1e4f58b96a1e4",
            "4d3c9759bef04c4fae8df62ab11df5d4",
            "89edb25c7f9c42e4bc74b94299285fa2",
            "cc2bc651f2a246839744ddf09386d647"
          ]
        },
        "id": "Lwb78oGCRkeG",
        "outputId": "b706e234-b3f4-4f97-8ea6-728e2ca3e953",
        "trusted": true,
        "execution": {
          "iopub.status.busy": "2024-12-20T08:07:25.557069Z",
          "iopub.execute_input": "2024-12-20T08:07:25.557646Z",
          "iopub.status.idle": "2024-12-20T08:07:26.748246Z",
          "shell.execute_reply.started": "2024-12-20T08:07:25.557614Z",
          "shell.execute_reply": "2024-12-20T08:07:26.747333Z"
        }
      },
      "outputs": [
        {
          "output_type": "display_data",
          "data": {
            "text/plain": "Map:   0%|          | 0/1434 [00:00<?, ? examples/s]",
            "application/vnd.jupyter.widget-view+json": {
              "version_major": 2,
              "version_minor": 0,
              "model_id": "4d3c9759bef04c4fae8df62ab11df5d4"
            }
          },
          "metadata": {}
        },
        {
          "output_type": "display_data",
          "data": {
            "text/plain": "Map:   0%|          | 0/396 [00:00<?, ? examples/s]",
            "application/vnd.jupyter.widget-view+json": {
              "version_major": 2,
              "version_minor": 0,
              "model_id": "89edb25c7f9c42e4bc74b94299285fa2"
            }
          },
          "metadata": {}
        },
        {
          "output_type": "display_data",
          "data": {
            "text/plain": "Map:   0%|          | 0/160 [00:00<?, ? examples/s]",
            "application/vnd.jupyter.widget-view+json": {
              "version_major": 2,
              "version_minor": 0,
              "model_id": "cc2bc651f2a246839744ddf09386d647"
            }
          },
          "metadata": {}
        }
      ],
      "execution_count": null
    },
    {
      "cell_type": "code",
      "source": [
        "#empty cache\n",
        "torch.cuda.empty_cache()"
      ],
      "metadata": {
        "id": "2-JJ9yRaOVGC",
        "trusted": true,
        "execution": {
          "iopub.status.busy": "2024-12-20T08:07:31.166902Z",
          "iopub.execute_input": "2024-12-20T08:07:31.167234Z",
          "iopub.status.idle": "2024-12-20T08:07:31.241109Z",
          "shell.execute_reply.started": "2024-12-20T08:07:31.167209Z",
          "shell.execute_reply": "2024-12-20T08:07:31.240267Z"
        }
      },
      "outputs": [],
      "execution_count": null
    },
    {
      "cell_type": "markdown",
      "source": [
        "### *Step 6: Prepare the tokenized Dataset*"
      ],
      "metadata": {
        "id": "bM0mYmMq3Dsn"
      }
    },
    {
      "cell_type": "markdown",
      "source": [
        "In this phase, we do the following tasks:\n",
        "\n",
        "* Remove unnecessary columns such as the \"posts\" column from the tokenized dataset as we no longer need them\n",
        "* Change the format of the tokenized dataset into pytorch since we are using pytorch\n",
        "* Load the dataset using DataLoader with the proper batch size\n",
        "* Preview the features of the dataset to make sure everything is okay"
      ],
      "metadata": {
        "id": "M9dIIouL3L63"
      }
    },
    {
      "cell_type": "code",
      "source": [
        "#remove the posts column as it is no longer needed\n",
        "tokenized_datasets = tokenized_datasets.remove_columns([\"post\"])"
      ],
      "metadata": {
        "id": "kbrulB12Oycv",
        "trusted": true,
        "execution": {
          "iopub.status.busy": "2024-12-20T08:07:35.575501Z",
          "iopub.execute_input": "2024-12-20T08:07:35.575816Z",
          "iopub.status.idle": "2024-12-20T08:07:35.584004Z",
          "shell.execute_reply.started": "2024-12-20T08:07:35.57579Z",
          "shell.execute_reply": "2024-12-20T08:07:35.583348Z"
        }
      },
      "outputs": [],
      "execution_count": null
    },
    {
      "cell_type": "code",
      "source": [
        "#changing the format of the tokenized dataset to torch\n",
        "tokenized_datasets.set_format(\"torch\")"
      ],
      "metadata": {
        "id": "zHQL4mR3PDXD",
        "trusted": true,
        "execution": {
          "iopub.status.busy": "2024-12-20T08:07:38.68483Z",
          "iopub.execute_input": "2024-12-20T08:07:38.685159Z",
          "iopub.status.idle": "2024-12-20T08:07:38.690822Z",
          "shell.execute_reply.started": "2024-12-20T08:07:38.685132Z",
          "shell.execute_reply": "2024-12-20T08:07:38.689918Z"
        }
      },
      "outputs": [],
      "execution_count": null
    },
    {
      "cell_type": "code",
      "source": [
        "#shuffeling and selecting the needed size of dataset for training and evaluating the model\n",
        "small_train_dataset = tokenized_datasets[\"train\"].shuffle(seed=42).select(range(training_data_size))\n",
        "small_test_dataset = tokenized_datasets[\"test\"].shuffle(seed=42).select(range(testing_data_size))\n",
        "small_eval_dataset = tokenized_datasets[\"evaluate\"].shuffle(seed=42).select(range(evaluation_data_size))"
      ],
      "metadata": {
        "id": "AAtKn5fMPJX4",
        "trusted": true,
        "execution": {
          "iopub.status.busy": "2024-12-20T08:07:47.787502Z",
          "iopub.execute_input": "2024-12-20T08:07:47.787839Z",
          "iopub.status.idle": "2024-12-20T08:07:47.808338Z",
          "shell.execute_reply.started": "2024-12-20T08:07:47.787811Z",
          "shell.execute_reply": "2024-12-20T08:07:47.807478Z"
        }
      },
      "outputs": [],
      "execution_count": null
    },
    {
      "cell_type": "code",
      "source": [
        "# preview of the shuffeled and selected evaluation dataset\n",
        "small_eval_dataset"
      ],
      "metadata": {
        "colab": {
          "base_uri": "https://localhost:8080/"
        },
        "id": "iiiKJ7QNR8gd",
        "outputId": "0c90e645-c966-4a2b-c8a6-6e5816b6e65a",
        "trusted": true,
        "execution": {
          "iopub.status.busy": "2024-12-20T08:07:52.816072Z",
          "iopub.execute_input": "2024-12-20T08:07:52.81638Z",
          "iopub.status.idle": "2024-12-20T08:07:52.822609Z",
          "shell.execute_reply.started": "2024-12-20T08:07:52.816356Z",
          "shell.execute_reply": "2024-12-20T08:07:52.821857Z"
        }
      },
      "outputs": [
        {
          "execution_count": 118,
          "output_type": "execute_result",
          "data": {
            "text/plain": "Dataset({\n    features: ['labels', 'input_ids', 'token_type_ids', 'attention_mask'],\n    num_rows: 160\n})"
          },
          "metadata": {}
        }
      ],
      "execution_count": null
    },
    {
      "cell_type": "code",
      "source": [
        "# preview of the shuffeled and selected training dataset\n",
        "small_train_dataset"
      ],
      "metadata": {
        "colab": {
          "base_uri": "https://localhost:8080/"
        },
        "id": "Iw2fYFD1SFe_",
        "outputId": "99ee1b6a-a688-41a6-ce5d-34b33a0e5653",
        "trusted": true,
        "execution": {
          "iopub.status.busy": "2024-12-20T08:08:00.385433Z",
          "iopub.execute_input": "2024-12-20T08:08:00.385748Z",
          "iopub.status.idle": "2024-12-20T08:08:00.39138Z",
          "shell.execute_reply.started": "2024-12-20T08:08:00.385722Z",
          "shell.execute_reply": "2024-12-20T08:08:00.390716Z"
        }
      },
      "outputs": [
        {
          "execution_count": 119,
          "output_type": "execute_result",
          "data": {
            "text/plain": "Dataset({\n    features: ['labels', 'input_ids', 'token_type_ids', 'attention_mask'],\n    num_rows: 1434\n})"
          },
          "metadata": {}
        }
      ],
      "execution_count": null
    },
    {
      "cell_type": "code",
      "source": [
        "# preview of the shuffeled and selected testing dataset\n",
        "small_test_dataset"
      ],
      "metadata": {
        "colab": {
          "base_uri": "https://localhost:8080/"
        },
        "id": "JzrnrKZq77Wk",
        "outputId": "6d89f4a9-69b8-4c83-f489-ef3713a4021b",
        "trusted": true,
        "execution": {
          "iopub.status.busy": "2024-12-20T08:08:03.12022Z",
          "iopub.execute_input": "2024-12-20T08:08:03.120516Z",
          "iopub.status.idle": "2024-12-20T08:08:03.126596Z",
          "shell.execute_reply.started": "2024-12-20T08:08:03.120493Z",
          "shell.execute_reply": "2024-12-20T08:08:03.125875Z"
        }
      },
      "outputs": [
        {
          "execution_count": 120,
          "output_type": "execute_result",
          "data": {
            "text/plain": "Dataset({\n    features: ['labels', 'input_ids', 'token_type_ids', 'attention_mask'],\n    num_rows: 396\n})"
          },
          "metadata": {}
        }
      ],
      "execution_count": null
    },
    {
      "cell_type": "code",
      "source": [
        "#load the dataset using DataLoader\n",
        "train_dataloader = DataLoader(small_train_dataset, shuffle=True, batch_size=4)\n",
        "eval_dataloader = DataLoader(small_eval_dataset, batch_size=4)\n",
        "test_dataloader = DataLoader(small_test_dataset, batch_size=4)"
      ],
      "metadata": {
        "id": "Qs3RA2VkRcNL",
        "trusted": true,
        "execution": {
          "iopub.status.busy": "2024-12-20T08:08:07.001082Z",
          "iopub.execute_input": "2024-12-20T08:08:07.001376Z",
          "iopub.status.idle": "2024-12-20T08:08:07.006615Z",
          "shell.execute_reply.started": "2024-12-20T08:08:07.001352Z",
          "shell.execute_reply": "2024-12-20T08:08:07.005795Z"
        }
      },
      "outputs": [],
      "execution_count": null
    },
    {
      "cell_type": "markdown",
      "source": [
        "### *Step 7: Fine-tune the model*"
      ],
      "metadata": {
        "id": "5WbBDNx04wD7"
      }
    },
    {
      "cell_type": "markdown",
      "source": [
        "This phase has the following steps:\n",
        "* Load the model\n",
        "* Specify the computing metric\n",
        "* Specify the Training/fine-tuning arguments\n",
        "* Load the Trainer class\n",
        "* Fine-tune the model"
      ],
      "metadata": {
        "id": "svV79SsK49f5"
      }
    },
    {
      "cell_type": "markdown",
      "source": [
        "**7.1 Load the model**<br>\n",
        "We load the fine-tuned mBERT mode in this step"
      ],
      "metadata": {
        "id": "eoZCgreV7-Bo"
      }
    },
    {
      "cell_type": "code",
      "source": [
        "\n",
        "# model = AutoModelForSequenceClassification.from_pretrained(\"indominyus/amharic-hate-speech-detection-mBERT\", num_labels=2)\n",
        "# model = AutoModelForSequenceClassification.from_pretrained(\"Davlan/\", num_labels=2)\n",
        "# model = AutoModelForSequenceClassification.from_pretrained(\"/kaggle/working/hate_speech_training_with_callbacks\")\n",
        "# tokenizer = AutoTokenizer.from_pretrained(\"/kaggle/working/training_with_callbacks\")\n",
        "\n",
        "model = AutoModelForSequenceClassification.from_pretrained(\"DawitMelka/amharic-hate-speech\")\n",
        "tokenizer = AutoTokenizer.from_pretrained(\"DawitMelka/amharic-hate-speech\")"
      ],
      "metadata": {
        "colab": {
          "base_uri": "https://localhost:8080/",
          "height": 104,
          "referenced_widgets": [
            "df37545cfe244880b9cecdfaaf2bad6d",
            "d54251c64a82464fa4a091ac7d1bd2cb",
            "d9378820396a4ce9b89294662ea36304",
            "84eb16657a1a41f39f51df829b4ce4c9",
            "966391a1cd1548b681dde5a05eaeb58f",
            "2a29a5a9e9d94c7da8d7d0c4aaf7d063",
            "abc7dea6563649348a184b5a5183e53b",
            "f3840f8c00cc4fb2a39124ad6d139112",
            "fd3c634c90a74f34bfdeac7cb15b5030",
            "54a3f01ba03e41ada7c3cc9db6fc83d7",
            "eb2721c83d7f4089ab6f927fbb4f163b",
            "7bde0dcc04d7486d826f886dc36d14ea",
            "cb787cac046246bd866122832db755c8"
          ]
        },
        "id": "UiIYAeKoRlid",
        "outputId": "79ad41ae-8bd4-4252-8a9b-f2861942b829",
        "trusted": true,
        "execution": {
          "iopub.status.busy": "2024-12-20T08:09:32.298176Z",
          "iopub.execute_input": "2024-12-20T08:09:32.298504Z",
          "iopub.status.idle": "2024-12-20T08:09:53.20812Z",
          "shell.execute_reply.started": "2024-12-20T08:09:32.298481Z",
          "shell.execute_reply": "2024-12-20T08:09:53.207223Z"
        }
      },
      "outputs": [
        {
          "output_type": "display_data",
          "data": {
            "text/plain": "config.json:   0%|          | 0.00/948 [00:00<?, ?B/s]",
            "application/vnd.jupyter.widget-view+json": {
              "version_major": 2,
              "version_minor": 0,
              "model_id": "7bde0dcc04d7486d826f886dc36d14ea"
            }
          },
          "metadata": {}
        },
        {
          "output_type": "display_data",
          "data": {
            "text/plain": "model.safetensors:   0%|          | 0.00/711M [00:00<?, ?B/s]",
            "application/vnd.jupyter.widget-view+json": {
              "version_major": 2,
              "version_minor": 0,
              "model_id": "cb787cac046246bd866122832db755c8"
            }
          },
          "metadata": {}
        }
      ],
      "execution_count": null
    },
    {
      "cell_type": "markdown",
      "source": [
        "**7.2 Computing Metrics** <br>\n",
        "In this stage, we load the computing metrics. The computing metrics used in this phase are the f1-score and the accuracy. These computing metrics are used during the validation and testing phase  "
      ],
      "metadata": {
        "id": "E2M6UT3p8SCG"
      }
    },
    {
      "cell_type": "code",
      "source": [
        "import numpy as np\n",
        "\n",
        "metric = load(\"f1\",\"accuracy\")"
      ],
      "metadata": {
        "id": "hHOIwoGTnKnu",
        "trusted": true,
        "execution": {
          "iopub.status.busy": "2024-12-20T08:10:09.820004Z",
          "iopub.execute_input": "2024-12-20T08:10:09.820321Z",
          "iopub.status.idle": "2024-12-20T08:10:10.866121Z",
          "shell.execute_reply.started": "2024-12-20T08:10:09.820291Z",
          "shell.execute_reply": "2024-12-20T08:10:10.864982Z"
        }
      },
      "outputs": [],
      "execution_count": null
    },
    {
      "cell_type": "code",
      "source": [
        "def compute_metrics(eval_pred):\n",
        "    logits, labels = eval_pred\n",
        "    predictions = np.argmax(logits, axis=-1)\n",
        "    return metric.compute(predictions=predictions, references=labels)"
      ],
      "metadata": {
        "id": "sRyD2M95nRuB",
        "trusted": true,
        "execution": {
          "iopub.status.busy": "2024-12-20T08:10:16.414003Z",
          "iopub.execute_input": "2024-12-20T08:10:16.41431Z",
          "iopub.status.idle": "2024-12-20T08:10:16.419249Z",
          "shell.execute_reply.started": "2024-12-20T08:10:16.414287Z",
          "shell.execute_reply": "2024-12-20T08:10:16.418389Z"
        }
      },
      "outputs": [],
      "execution_count": null
    },
    {
      "cell_type": "markdown",
      "source": [
        "**7.3 Specify the training arguments** <br>\n",
        "This phase includes loading the training parameters and hyperparameters.\n",
        "It also specifies the validation interval during the fine-tuning process."
      ],
      "metadata": {
        "id": "z2YmCHO99Is2"
      }
    },
    {
      "cell_type": "code",
      "source": [
        "# #load an optimizer\n",
        "# optimizer = AdamW(model.parameters(), lr=5e-5)\n",
        "from transformers import TrainingArguments\n",
        "\n",
        "training_args = TrainingArguments(output_dir=\"test_trainer\")"
      ],
      "metadata": {
        "id": "mRY3ntTtCSJf",
        "trusted": true,
        "execution": {
          "iopub.status.busy": "2024-12-20T08:10:26.934559Z",
          "iopub.execute_input": "2024-12-20T08:10:26.934926Z",
          "iopub.status.idle": "2024-12-20T08:10:26.969609Z",
          "shell.execute_reply.started": "2024-12-20T08:10:26.934895Z",
          "shell.execute_reply": "2024-12-20T08:10:26.96875Z"
        }
      },
      "outputs": [],
      "execution_count": null
    },
    {
      "cell_type": "code",
      "source": [
        "from transformers import TrainingArguments, Trainer"
      ],
      "metadata": {
        "id": "piRD3_5-n2_O",
        "trusted": true,
        "execution": {
          "iopub.status.busy": "2024-12-20T08:10:31.057828Z",
          "iopub.execute_input": "2024-12-20T08:10:31.058213Z",
          "iopub.status.idle": "2024-12-20T08:10:31.062905Z",
          "shell.execute_reply.started": "2024-12-20T08:10:31.058181Z",
          "shell.execute_reply": "2024-12-20T08:10:31.062069Z"
        }
      },
      "outputs": [],
      "execution_count": null
    },
    {
      "cell_type": "code",
      "source": [
        "from transformers import EarlyStoppingCallback, IntervalStrategy"
      ],
      "metadata": {
        "id": "pUBDrhFBdsSB",
        "trusted": true,
        "execution": {
          "iopub.status.busy": "2024-12-20T08:10:34.018007Z",
          "iopub.execute_input": "2024-12-20T08:10:34.018294Z",
          "iopub.status.idle": "2024-12-20T08:10:34.0226Z",
          "shell.execute_reply.started": "2024-12-20T08:10:34.01827Z",
          "shell.execute_reply": "2024-12-20T08:10:34.021741Z"
        }
      },
      "outputs": [],
      "execution_count": null
    },
    {
      "cell_type": "code",
      "source": [
        "training_args = TrainingArguments(\n",
        "   f\"hate_speech_training_with_callbacks\",\n",
        "   eval_strategy = IntervalStrategy.STEPS,\n",
        "   warmup_steps=500,\n",
        "   save_steps=2000,\n",
        "   eval_steps = 2000,\n",
        "   save_total_limit = 3,\n",
        "   learning_rate=1e-5,\n",
        "   per_device_train_batch_size=4,\n",
        "   per_device_eval_batch_size=4,\n",
        "   num_train_epochs=10,\n",
        "   weight_decay=0.01,\n",
        "   push_to_hub=False,\n",
        "   metric_for_best_model = 'f1',\n",
        "   load_best_model_at_end=True\n",
        "   # resume_from_checkpoint=True\n",
        ")"
      ],
      "metadata": {
        "id": "W9DEZ5Vxc4qn",
        "trusted": true,
        "execution": {
          "iopub.status.busy": "2024-12-20T08:10:47.418581Z",
          "iopub.execute_input": "2024-12-20T08:10:47.418884Z",
          "iopub.status.idle": "2024-12-20T08:10:47.44824Z",
          "shell.execute_reply.started": "2024-12-20T08:10:47.418863Z",
          "shell.execute_reply": "2024-12-20T08:10:47.447525Z"
        }
      },
      "outputs": [],
      "execution_count": null
    },
    {
      "cell_type": "markdown",
      "source": [
        "**7.4 Load the Trainer class**<br>\n",
        "In the trainer class, early stopping strategy is called. Early Stopping is a an optimization technique used to reduce overfitting without compromising on model accuracy. It allows to specify an arbitrary large number of training epochs and stop training once the model performance stops improving on a hold out validation dataset. For this model, the early stopping patience used is 10 epoches."
      ],
      "metadata": {
        "id": "Ar5jaQ1y-ie-"
      }
    },
    {
      "cell_type": "code",
      "source": [
        "trainer = Trainer(\n",
        "    model=model,\n",
        "    args=training_args,\n",
        "    train_dataset=small_train_dataset,\n",
        "    eval_dataset=small_eval_dataset,\n",
        "    compute_metrics=compute_metrics,\n",
        "    callbacks = [EarlyStoppingCallback(early_stopping_patience=10)],\n",
        ")"
      ],
      "metadata": {
        "id": "2bFFRWbLn99O",
        "trusted": true,
        "execution": {
          "iopub.status.busy": "2024-12-20T08:10:57.204654Z",
          "iopub.execute_input": "2024-12-20T08:10:57.205007Z",
          "iopub.status.idle": "2024-12-20T08:10:57.478978Z",
          "shell.execute_reply.started": "2024-12-20T08:10:57.204978Z",
          "shell.execute_reply": "2024-12-20T08:10:57.478348Z"
        }
      },
      "outputs": [],
      "execution_count": null
    },
    {
      "cell_type": "markdown",
      "source": [
        "**7.5 Fine-tune the model** <br>\n",
        "Fine-tuning process embbeds the validation within itself. After every 2000 steps of finetuning, the model is validated on the loaded computing metrics to modify the hyperparameters to make the model perform well"
      ],
      "metadata": {
        "id": "N9CgMIfb_d-F"
      }
    },
    {
      "cell_type": "code",
      "source": [
        "import wandb\n",
        "from kaggle_secrets import UserSecretsClient\n",
        "user_secrets = UserSecretsClient()\n",
        "key = user_secrets.get_secret(\"wandb_key\")\n",
        "\n",
        "!wandb login $key\n",
        "#wandb.init(project='amharic-hate-speech-detection', settings=wandb.Settings(init_timeout=120))"
      ],
      "metadata": {
        "trusted": true,
        "execution": {
          "iopub.status.busy": "2024-12-20T08:11:08.46638Z",
          "iopub.execute_input": "2024-12-20T08:11:08.466955Z",
          "iopub.status.idle": "2024-12-20T08:11:09.917545Z",
          "shell.execute_reply.started": "2024-12-20T08:11:08.466913Z",
          "shell.execute_reply": "2024-12-20T08:11:09.916518Z"
        },
        "id": "wGpnzA8myP6d",
        "outputId": "b3cd056d-f139-489f-dbe6-745fac23d8b2"
      },
      "outputs": [
        {
          "name": "stdout",
          "text": "\u001b[34m\u001b[1mwandb\u001b[0m: \u001b[33mWARNING\u001b[0m If you're specifying your api key in code, ensure this code is not shared publicly.\n\u001b[34m\u001b[1mwandb\u001b[0m: \u001b[33mWARNING\u001b[0m Consider setting the WANDB_API_KEY environment variable, or running `wandb login` from the command line.\n\u001b[34m\u001b[1mwandb\u001b[0m: Appending key for api.wandb.ai to your netrc file: /root/.netrc\n",
          "output_type": "stream"
        }
      ],
      "execution_count": null
    },
    {
      "cell_type": "code",
      "source": [
        "wandb.init(project='amh-hate-speech-detection', settings=wandb.Settings(init_timeout=420))"
      ],
      "metadata": {
        "trusted": true,
        "execution": {
          "iopub.status.busy": "2024-12-20T08:11:17.591693Z",
          "iopub.execute_input": "2024-12-20T08:11:17.592077Z",
          "iopub.status.idle": "2024-12-20T08:11:17.616747Z",
          "shell.execute_reply.started": "2024-12-20T08:11:17.592046Z",
          "shell.execute_reply": "2024-12-20T08:11:17.61603Z"
        },
        "id": "J1YpahUQyP6d",
        "outputId": "8cdbcc64-9d13-40b8-91f6-fa39c4c99fe9"
      },
      "outputs": [
        {
          "execution_count": 132,
          "output_type": "execute_result",
          "data": {
            "text/html": "<button onClick=\"this.nextSibling.style.display='block';this.style.display='none';\">Display W&B run</button><iframe src='https://wandb.ai/davebadeg-singularitynet/amh-hate-speech-detection/runs/ewqnn721?jupyter=true' style='border:none;width:100%;height:420px;display:none;'></iframe>",
            "text/plain": "<wandb.sdk.wandb_run.Run at 0x7c08ae3c8400>"
          },
          "metadata": {}
        }
      ],
      "execution_count": null
    },
    {
      "cell_type": "code",
      "source": [
        "# trainer.train(resume_from_checkpoint=True)\n",
        "trainer.train()"
      ],
      "metadata": {
        "colab": {
          "background_save": true,
          "base_uri": "https://localhost:8080/",
          "height": 404
        },
        "id": "h4n7RGgUoB13",
        "outputId": "4571397d-022a-48fe-8e90-235985acc3f0",
        "trusted": true,
        "execution": {
          "iopub.status.busy": "2024-12-20T08:11:56.891052Z",
          "iopub.execute_input": "2024-12-20T08:11:56.891388Z",
          "iopub.status.idle": "2024-12-20T08:27:18.256633Z",
          "shell.execute_reply.started": "2024-12-20T08:11:56.891365Z",
          "shell.execute_reply": "2024-12-20T08:27:18.255866Z"
        }
      },
      "outputs": [
        {
          "output_type": "display_data",
          "data": {
            "text/plain": "<IPython.core.display.HTML object>",
            "text/html": "\n    <div>\n      \n      <progress value='3590' max='3590' style='width:300px; height:20px; vertical-align: middle;'></progress>\n      [3590/3590 15:20, Epoch 10/10]\n    </div>\n    <table border=\"1\" class=\"dataframe\">\n  <thead>\n <tr style=\"text-align: left;\">\n      <th>Step</th>\n      <th>Training Loss</th>\n      <th>Validation Loss</th>\n      <th>F1</th>\n    </tr>\n  </thead>\n  <tbody>\n    <tr>\n      <td>2000</td>\n      <td>0.042300</td>\n      <td>0.982505</td>\n      <td>0.895028</td>\n    </tr>\n  </tbody>\n</table><p>"
          },
          "metadata": {}
        },
        {
          "execution_count": 133,
          "output_type": "execute_result",
          "data": {
            "text/plain": "TrainOutput(global_step=3590, training_loss=0.17444899002489606, metrics={'train_runtime': 920.8193, 'train_samples_per_second': 15.573, 'train_steps_per_second': 3.899, 'total_flos': 3773012533862400.0, 'train_loss': 0.17444899002489606, 'epoch': 10.0})"
          },
          "metadata": {}
        }
      ],
      "execution_count": null
    },
    {
      "cell_type": "markdown",
      "source": [
        "### *Step 8: Test the model*"
      ],
      "metadata": {
        "id": "qxeQt3ntAjgM"
      }
    },
    {
      "cell_type": "markdown",
      "source": [
        "In this stage the model is tested on the testing dataset. This dataset isn't seen by the model during the finetuning process."
      ],
      "metadata": {
        "id": "-jt2JhsSAqWm"
      }
    },
    {
      "cell_type": "code",
      "source": [
        "trainer.evaluate(small_test_dataset)"
      ],
      "metadata": {
        "id": "4uK2afSroMcn",
        "colab": {
          "base_uri": "https://localhost:8080/",
          "height": 37
        },
        "outputId": "eadd462f-5ea5-49ca-b7fe-3292543d0eff",
        "trusted": true,
        "execution": {
          "iopub.status.busy": "2024-12-20T08:27:35.27004Z",
          "iopub.execute_input": "2024-12-20T08:27:35.270392Z",
          "iopub.status.idle": "2024-12-20T08:27:41.35811Z",
          "shell.execute_reply.started": "2024-12-20T08:27:35.270365Z",
          "shell.execute_reply": "2024-12-20T08:27:41.357437Z"
        }
      },
      "outputs": [
        {
          "output_type": "display_data",
          "data": {
            "text/plain": "<IPython.core.display.HTML object>",
            "text/html": "\n    <div>\n      \n      <progress value='99' max='99' style='width:300px; height:20px; vertical-align: middle;'></progress>\n      [99/99 00:06]\n    </div>\n    "
          },
          "metadata": {}
        },
        {
          "name": "stderr",
          "text": "early stopping required metric_for_best_model, but did not find eval_f1 so early stopping is disabled\n",
          "output_type": "stream"
        },
        {
          "execution_count": 134,
          "output_type": "execute_result",
          "data": {
            "text/plain": "{'eval_runtime': 6.0758,\n 'eval_samples_per_second': 65.177,\n 'eval_steps_per_second': 16.294,\n 'epoch': 10.0}"
          },
          "metadata": {}
        }
      ],
      "execution_count": null
    },
    {
      "cell_type": "markdown",
      "source": [
        "### *Step 9: Push the model to Huggingface Hub*"
      ],
      "metadata": {
        "id": "hotgvaDVA2AX"
      }
    },
    {
      "cell_type": "markdown",
      "source": [
        "One of the aims of this research/project is to contribute to the IT community in the sector of NLP tasks on low-resourced languages. Hence, the final model was pushed and made publicly available on Huggingface. You can find the model on huggingface [here](https://huggingface.co/amengemeda/improved-amharic-hate-speech-detection-mBERT)\n"
      ],
      "metadata": {
        "id": "rFDVDG6hA8Xl"
      }
    },
    {
      "cell_type": "code",
      "source": [
        "from huggingface_hub import notebook_login, login"
      ],
      "metadata": {
        "id": "vYz3n9rlMu7Q",
        "trusted": true,
        "execution": {
          "iopub.status.busy": "2024-12-20T08:30:25.425779Z",
          "iopub.execute_input": "2024-12-20T08:30:25.426205Z",
          "iopub.status.idle": "2024-12-20T08:30:25.432098Z",
          "shell.execute_reply.started": "2024-12-20T08:30:25.426169Z",
          "shell.execute_reply": "2024-12-20T08:30:25.431223Z"
        }
      },
      "outputs": [],
      "execution_count": null
    },
    {
      "cell_type": "code",
      "source": [
        "notebook_login()"
      ],
      "metadata": {
        "id": "K3tx48fLq5BX",
        "colab": {
          "base_uri": "https://localhost:8080/",
          "height": 331,
          "referenced_widgets": [
            "9bce1f7370fd4790850d7727207eb334",
            "63f40be1b8c0418e82ba302a5f22cb36",
            "1cc463575aee4549884458edbe49e1f4",
            "917a6c1cc0b2473bb92547b64213b901",
            "6bbe45d6c08f4a2e81f88367ca65d05a",
            "02fc02628b4c4fa899a810dd3e5239aa",
            "3e8305e73dea44db9bb4b555242f9b03",
            "c04e9851447a4f2092d920a32067339c",
            "ba9a6349f2d9414195103dd1b164594e",
            "ae572d6d518d4b2085ca987062a207b0",
            "5611628cd27e41b4a7c58f983a0fe97e",
            "01d1ee171dd245cfb1bb8cd52a084915",
            "dfd61cff5f104898baa3ebcb199ea3bd",
            "0e4dbba6c175477d94572b75de1cb27c",
            "eb1b0813dbb243ae9ab99fb9ca04f51f",
            "36f9d970ba5741d0941db47597324d95",
            "b13694e633f04f8ea9b397a812d88fd4",
            "ee86fa3ec0204d68a701d8a9cf7431ab"
          ]
        },
        "outputId": "2a71ffcd-662e-405c-d1a3-157dbad24079",
        "trusted": true,
        "execution": {
          "iopub.status.busy": "2024-12-20T08:28:39.329336Z",
          "iopub.execute_input": "2024-12-20T08:28:39.329648Z",
          "iopub.status.idle": "2024-12-20T08:28:39.349773Z",
          "shell.execute_reply.started": "2024-12-20T08:28:39.329623Z",
          "shell.execute_reply": "2024-12-20T08:28:39.348881Z"
        }
      },
      "outputs": [
        {
          "output_type": "display_data",
          "data": {
            "text/plain": "VBox(children=(HTML(value='<center> <img\\nsrc=https://huggingface.co/front/assets/huggingface_logo-noborder.sv…",
            "application/vnd.jupyter.widget-view+json": {
              "version_major": 2,
              "version_minor": 0,
              "model_id": "ee86fa3ec0204d68a701d8a9cf7431ab"
            }
          },
          "metadata": {}
        }
      ],
      "execution_count": null
    },
    {
      "cell_type": "code",
      "source": [
        "tokenizer = AutoTokenizer.from_pretrained(\"Davlan/bert-base-multilingual-cased-finetuned-amharic\")"
      ],
      "metadata": {
        "colab": {
          "base_uri": "https://localhost:8080/",
          "height": 145,
          "referenced_widgets": [
            "56346ee2666e4596bc7b45c2c72b5233",
            "a02a7657549e498d97b04d542b27124b",
            "32435fbc9a07462bbb95994130921e74",
            "babb965cb4e24d989f22ad41ee3f6731",
            "b782becffa954c1c961565671b7316f1",
            "8350178c611449ed85f846d741d28f05",
            "cd2a6f4a0997486b9e40546d441759b5",
            "7c13afe2543b489d8d983a0e9eee61a5",
            "844f94d61a5f4726aad6d5496e73ce33",
            "22b2fa7175c7420eaf5fde7c28f95828",
            "761455b006e748549496e1dd6e66a02d",
            "e1db0815256344b49d83ef813b698b1d",
            "b65a8e7ab41145f1ba4d456e4e55bf04",
            "fd2b2aaa82c4401bb941de7f4433aa8a",
            "d5a482d6eb604b6e932af725b3d30729",
            "588f3b07c1c148068249db9e835996a5",
            "475cf1368162485d9851bc6ab54b7006",
            "96a970f23f334a8cb994a9d991aaa4a3",
            "e96ae23433c747ff8e0aa3a5bf0de09c",
            "4ea4a14465734e5791b3ec21976d9c1b",
            "fedc15b2ef9d452b95aa601f25293962",
            "7306c00419ce4ea4b618d141f6d930e5",
            "3d9adeae36db4ba2a6a6896307020da4",
            "8742835e675c4904883940a785a7dcf0",
            "f2fcff40d89f4781a0a38d15956ce7ff",
            "983f0f2b1cea4ecca5e9db19fa65c74d",
            "073eccea008c4b0ea164d930d2f86b4e",
            "a3d6717f2b834e27875d07468a5f33d7",
            "fd434947dbb9411b8ab6b532c72b574d",
            "60029155fff74334852fbd239ff58441",
            "dca7c4a042384ff8983eedd242d9d86d",
            "3260c199050142af8f0467138acceea8",
            "9f935017a48f40c7801afc917e23fe3f",
            "91841de6a11f486bbe87b780a642a52a",
            "d7efe103797c4c7c908d71b82bee6bc9",
            "026f5705e9924a3aa0a3dfe0b1d787b2",
            "0ec248e223a64c0da4afb929c1c1501c",
            "5f4ea39444b94484a037afd36d8606f8",
            "2fe8aabb634e458dae32a3e777d0a3a2",
            "2115e20450944569921835068396c96d",
            "29490f210b9a43a4b9c67f2ce2523235",
            "a6ae0253de634c54917ec98d5443ea11",
            "c0f55360987447a795a4bdda989b9831",
            "ede2c445980a4f7bb1b09eef306634fb"
          ]
        },
        "id": "IlL26zF6tI-7",
        "outputId": "24c09b79-a295-4d72-dc58-d9ee6b5318ca",
        "trusted": true,
        "execution": {
          "iopub.status.busy": "2024-12-20T07:00:55.772075Z",
          "iopub.execute_input": "2024-12-20T07:00:55.772421Z",
          "iopub.status.idle": "2024-12-20T07:00:56.64892Z",
          "shell.execute_reply.started": "2024-12-20T07:00:55.772392Z",
          "shell.execute_reply": "2024-12-20T07:00:56.648075Z"
        }
      },
      "outputs": [
        {
          "name": "stderr",
          "text": "/usr/local/lib/python3.10/dist-packages/transformers/tokenization_utils_base.py:1601: FutureWarning: `clean_up_tokenization_spaces` was not set. It will be set to `True` by default. This behavior will be depracted in transformers v4.45, and will be then set to `False` by default. For more details check this issue: https://github.com/huggingface/transformers/issues/31884\n  warnings.warn(\n",
          "output_type": "stream"
        }
      ],
      "execution_count": null
    },
    {
      "cell_type": "code",
      "source": [
        "from transformers import AutoModelForSequenceClassification"
      ],
      "metadata": {
        "id": "M2pNNx-rtuy9",
        "trusted": true,
        "execution": {
          "iopub.status.busy": "2024-12-20T08:29:24.208933Z",
          "iopub.execute_input": "2024-12-20T08:29:24.209286Z",
          "iopub.status.idle": "2024-12-20T08:29:24.213795Z",
          "shell.execute_reply.started": "2024-12-20T08:29:24.209262Z",
          "shell.execute_reply": "2024-12-20T08:29:24.213063Z"
        }
      },
      "outputs": [],
      "execution_count": null
    },
    {
      "cell_type": "code",
      "source": [
        "model_name = \"dawitmelka/amharic-hate-speech\"\n",
        "model.save_pretrained(\"/kaggle/working/hate_speech_training_with_callbacks\", save_config=True)\n",
        "tokenizer.save_pretrained(\"/kaggle/working/hate_speech_training_with_callbacks\")\n",
        "\n",
        "!ls /kaggle/working/hate_speech_training_with_callbacks\n",
        "\n",
        "fine_tuned_model = AutoModelForSequenceClassification.from_pretrained(\"/kaggle/working/hate_speech_training_with_callbacks\")\n",
        "fine_tuned_tokenizer = AutoTokenizer.from_pretrained(\"/kaggle/working/hate_speech_training_with_callbacks\")"
      ],
      "metadata": {
        "id": "yIK9Xb74s44F",
        "trusted": true,
        "execution": {
          "iopub.status.busy": "2024-12-20T08:29:51.398945Z",
          "iopub.execute_input": "2024-12-20T08:29:51.399312Z",
          "iopub.status.idle": "2024-12-20T08:29:54.022279Z",
          "shell.execute_reply.started": "2024-12-20T08:29:51.39928Z",
          "shell.execute_reply": "2024-12-20T08:29:54.021464Z"
        },
        "outputId": "b6b2bf5f-f532-4661-f0da-8de019aefc95"
      },
      "outputs": [
        {
          "name": "stderr",
          "text": "/usr/local/lib/python3.10/dist-packages/transformers/modeling_utils.py:2535: UserWarning: `save_config` is deprecated and will be removed in v5 of Transformers. Use `is_main_process` instead.\n  warnings.warn(\n",
          "output_type": "stream"
        },
        {
          "name": "stdout",
          "text": "checkpoint-2000   config.json\t     special_tokens_map.json  vocab.txt\ncheckpoint-90000  model.safetensors  tokenizer_config.json\ncheckpoint-90010  runs\t\t     tokenizer.json\n",
          "output_type": "stream"
        },
        {
          "name": "stderr",
          "text": "/usr/lib/python3.10/pty.py:89: RuntimeWarning: os.fork() was called. os.fork() is incompatible with multithreaded code, and JAX is multithreaded, so this will likely lead to a deadlock.\n  pid, fd = os.forkpty()\n",
          "output_type": "stream"
        }
      ],
      "execution_count": null
    },
    {
      "cell_type": "code",
      "source": [
        "model_name = \"DawitMelka/amharic-hate-speech\"\n",
        "\n",
        "login(token=userdata.get('HF_KEY'))\n",
        "\n",
        "# # Push to HuggingFace Hub\n",
        "model.push_to_hub(model_name)\n",
        "tokenizer.push_to_hub(model_name)"
      ],
      "metadata": {
        "trusted": true,
        "execution": {
          "iopub.status.busy": "2024-12-20T08:30:39.293138Z",
          "iopub.execute_input": "2024-12-20T08:30:39.293445Z",
          "iopub.status.idle": "2024-12-20T08:31:21.376896Z",
          "shell.execute_reply.started": "2024-12-20T08:30:39.293422Z",
          "shell.execute_reply": "2024-12-20T08:31:21.376215Z"
        },
        "colab": {
          "referenced_widgets": [
            "0ee7a06f9b0248608e96eeeef6627f3f"
          ]
        },
        "id": "7hE89Vx-yP6h",
        "outputId": "64dc8192-57dd-49eb-c414-4ffe5a662f27"
      },
      "outputs": [
        {
          "name": "stdout",
          "text": "The token has not been saved to the git credentials helper. Pass `add_to_git_credential=True` in this function directly or `--add-to-git-credential` if using via `huggingface-cli` if you want to set the git credential as well.\nToken is valid (permission: write).\nYour token has been saved to /root/.cache/huggingface/token\nLogin successful\n",
          "output_type": "stream"
        },
        {
          "output_type": "display_data",
          "data": {
            "text/plain": "model.safetensors:   0%|          | 0.00/711M [00:00<?, ?B/s]",
            "application/vnd.jupyter.widget-view+json": {
              "version_major": 2,
              "version_minor": 0,
              "model_id": "0ee7a06f9b0248608e96eeeef6627f3f"
            }
          },
          "metadata": {}
        },
        {
          "execution_count": 142,
          "output_type": "execute_result",
          "data": {
            "text/plain": "CommitInfo(commit_url='https://huggingface.co/DawitMelka/amharic-hate-speech/commit/f3e461d03634b41d7f6cbfe377e68fcc3dc78b4f', commit_message='Upload tokenizer', commit_description='', oid='f3e461d03634b41d7f6cbfe377e68fcc3dc78b4f', pr_url=None, pr_revision=None, pr_num=None)"
          },
          "metadata": {}
        }
      ],
      "execution_count": null
    },
    {
      "cell_type": "markdown",
      "source": [
        "## **Test the model with different dataset**"
      ],
      "metadata": {
        "id": "5Ew6tB9vI4Xn"
      }
    },
    {
      "cell_type": "code",
      "source": [
        "def read_file(file_path):\n",
        "    # Read with explicit handling of quotes and delimiters\n",
        "    df = pd.read_csv(\n",
        "        file_path,\n",
        "        quotechar='\"',\n",
        "        skipinitialspace=True,\n",
        "        on_bad_lines=\"skip\",\n",
        "        sep=\",\"\n",
        "    )\n",
        "    # Check the structure of the loaded DataFrame\n",
        "    print(f\"First few rows:\\n{df.head()}\\n\")\n",
        "    print(f\"Loaded {file_path} with shape: {df.shape}\\n\")\n",
        "    print(f\"Columns: {df.columns}\\n\\n\")\n",
        "    # Split the single column if needed\n",
        "    if len(df.columns) == 1 and \"Content,Label\" in df.columns[0]:\n",
        "        print(f\"Splitting the single column...\\n\")\n",
        "        df = df[df.columns[0]].str.split(\",\", n=1, expand=True)\n",
        "        df.columns = [\"Content\", \"Label\"]\n",
        "        print(f\"After splitting:\\n{df.head()}\\n\")\n",
        "        print(f\"Loaded {file_path} with shape: {df.shape}\")\n",
        "    elif len(df.columns) != 2:\n",
        "        raise ValueError(f\"Unexpected number of columns in {file_path}.\")\n",
        "    return df\n"
      ],
      "metadata": {
        "id": "Vj4_JkKWJS7f",
        "trusted": true,
        "execution": {
          "iopub.status.busy": "2024-12-19T09:27:17.261473Z",
          "iopub.execute_input": "2024-12-19T09:27:17.261764Z",
          "iopub.status.idle": "2024-12-19T09:27:17.267415Z",
          "shell.execute_reply.started": "2024-12-19T09:27:17.26174Z",
          "shell.execute_reply": "2024-12-19T09:27:17.266566Z"
        }
      },
      "outputs": [],
      "execution_count": null
    },
    {
      "cell_type": "code",
      "source": [
        "# Truncate or split long texts\n",
        "def process_text(text, tokenizer, max_length=512):\n",
        "    # Tokenize and check length\n",
        "    tokens = tokenizer.encode(text, add_special_tokens=True)\n",
        "\n",
        "    # If tokens are too long, truncate\n",
        "    if len(tokens) > max_length:\n",
        "        tokens = tokens[:max_length]\n",
        "        text = tokenizer.decode(tokens)\n",
        "\n",
        "    return text"
      ],
      "metadata": {
        "id": "FDiGspY7V9zo",
        "trusted": true
      },
      "outputs": [],
      "execution_count": null
    },
    {
      "cell_type": "code",
      "source": [
        "# Paths to files\n",
        "train_path = '/content/drive/MyDrive/Hate speech dataset/AMHSDataTrain.csv'\n",
        "test_path = '/content/drive/MyDrive/Hate speech dataset/AMHSDataTest.csv'\n",
        "\n",
        "# Read datasets\n",
        "train_df = read_file(train_path)\n",
        "test_df = read_file(test_path)\n",
        "\n",
        "# Combine datasets\n",
        "combined_df = pd.concat([train_df, test_df], ignore_index=True)"
      ],
      "metadata": {
        "id": "ZcA32D8zMIf2",
        "trusted": true
      },
      "outputs": [],
      "execution_count": null
    },
    {
      "cell_type": "code",
      "source": [
        "print(combined_df.head())\n",
        "combined_df.shape"
      ],
      "metadata": {
        "id": "-tKMwdpDS6tz",
        "trusted": true
      },
      "outputs": [],
      "execution_count": null
    },
    {
      "cell_type": "code",
      "source": [
        "# Load model and tokenizer\n",
        "# model_name = \"amengemeda/amharic-hate-speech-detection-mBERT\"\n",
        "model_name = \"shuaibam/amharic-hate-speech-detection-mBERT\"\n",
        "tokenizer = AutoTokenizer.from_pretrained(model_name)\n",
        "model = AutoModelForSequenceClassification.from_pretrained(model_name)"
      ],
      "metadata": {
        "id": "OJdblIeATgrj",
        "trusted": true
      },
      "outputs": [],
      "execution_count": null
    },
    {
      "cell_type": "code",
      "source": [
        "# Create classification pipeline\n",
        "classifier = pipeline(\"text-classification\", model=model, tokenizer=tokenizer)\n"
      ],
      "metadata": {
        "id": "lITHGJRWUnRM",
        "trusted": true
      },
      "outputs": [],
      "execution_count": null
    },
    {
      "cell_type": "code",
      "source": [
        "# Manual prediction function\n",
        "def predict_hate_speech(texts, model, tokenizer, max_length=512):\n",
        "    model.eval()\n",
        "    predictions = []\n",
        "\n",
        "    for text in texts:\n",
        "        # Tokenize with truncation\n",
        "        inputs = tokenizer(\n",
        "            text,\n",
        "            return_tensors=\"pt\",\n",
        "            truncation=True,\n",
        "            max_length=max_length,\n",
        "            padding=True\n",
        "        )\n",
        "\n",
        "        # Predict\n",
        "        with torch.no_grad():\n",
        "            outputs = model(**inputs)\n",
        "            pred = torch.softmax(outputs.logits, dim=1)\n",
        "            pred_label = torch.argmax(pred, dim=1).item()\n",
        "            predictions.append('hate' if pred_label == 1 else 'free')\n",
        "\n",
        "    return predictions"
      ],
      "metadata": {
        "id": "h_VUlkW8X4jF",
        "trusted": true
      },
      "outputs": [],
      "execution_count": null
    },
    {
      "cell_type": "code",
      "source": [
        "# Predict\n",
        "combined_df['Predicted_Label'] = predict_hate_speech(combined_df['Content'], model, tokenizer)"
      ],
      "metadata": {
        "id": "WpdAN3beX7XM",
        "trusted": true
      },
      "outputs": [],
      "execution_count": null
    },
    {
      "cell_type": "code",
      "source": [
        "# Analyze predictions\n",
        "total_samples = len(combined_df)\n",
        "correct_predictions = (combined_df['Label'] == combined_df['Predicted_Label']).sum()\n",
        "accuracy = correct_predictions / total_samples * 100\n",
        "\n",
        "# Confusion matrix\n",
        "confusion = pd.crosstab(combined_df['Label'], combined_df['Predicted_Label'])\n",
        "\n",
        "# False Positives and False Negatives\n",
        "TP = confusion.loc['መልካም', 'መልካም']\n",
        "FN = confusion.loc['መልካም', 'ጥላቻ']\n",
        "FP = confusion.loc['ጥላቻ', 'መልካም']\n",
        "TN = confusion.loc['ጥላቻ', 'ጥላቻ']\n",
        "precision = TP / (TP + FP)\n",
        "recall = TP / (TP + FN)\n",
        "f1_score = 2 * (precision * recall) / (precision + recall)"
      ],
      "metadata": {
        "id": "TfVUQWRmYW_5",
        "trusted": true
      },
      "outputs": [],
      "execution_count": null
    },
    {
      "cell_type": "code",
      "source": [
        "# Detailed results\n",
        "print(\"Total Samples:\", total_samples)\n",
        "print(\"Accuracy: {:.2f}%\".format(accuracy))\n",
        "print(\"Precision: {:.2f}%\".format(precision))\n",
        "print(\"Recall: {:.2f}%\".format(recall))\n",
        "print(\"F1 Score: {:.2f}%\".format(f1_score))\n",
        "\n",
        "print(f\"\\nTrue Positives (TP): {TP}\")\n",
        "print(f\"False Negatives (FN): {FN}\")\n",
        "print(f\"False Positives (FP): {FP}\")\n",
        "print(f\"True Negatives (TN): {TN}\\n\")\n",
        "\n",
        "print(\"\\nConfusion Matrix:\")\n",
        "print(confusion)"
      ],
      "metadata": {
        "id": "ogM6zF4xmVNi",
        "trusted": true
      },
      "outputs": [],
      "execution_count": null
    },
    {
      "cell_type": "code",
      "source": [
        "# False Positives and False Negatives\n",
        "false_positives = combined_df[(combined_df['Label'] == 'መልካም') & (combined_df['Predicted_Label'] == 'ጥላቻ')]\n",
        "false_negatives = combined_df[(combined_df['Label'] == 'ጥላቻ') & (combined_df['Predicted_Label'] == 'መልካም')]\n",
        "\n",
        "# Save results\n",
        "\n",
        "false_positives.to_csv('/content/drive/MyDrive/Hate speech dataset/false_positives_full.csv', index=False)\n",
        "false_negatives.to_csv('/content/drive/MyDrive/Hate speech dataset/false_negatives_full.csv', index=False)\n"
      ],
      "metadata": {
        "id": "DM-Q-mXAYh-z",
        "trusted": true
      },
      "outputs": [],
      "execution_count": null
    }
  ]
}